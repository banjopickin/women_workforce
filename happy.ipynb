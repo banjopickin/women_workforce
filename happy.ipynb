{
 "cells": [
  {
   "cell_type": "markdown",
   "metadata": {},
   "source": [
    "In this file, I will visualize the relationship among happiness, employment status and family status."
   ]
  },
  {
   "cell_type": "code",
   "execution_count": 9,
   "metadata": {
    "collapsed": false
   },
   "outputs": [],
   "source": [
    "from __future__ import division\n",
    "import pandas as pd\n",
    "import numpy as np\n",
    "import matplotlib.pylab as plt\n",
    "\n",
    "from code.organize import *\n",
    "%matplotlib inline\n"
   ]
  },
  {
   "cell_type": "code",
   "execution_count": 6,
   "metadata": {
    "collapsed": false
   },
   "outputs": [],
   "source": [
    "df= pd.read_pickle('data/employ.pkl')"
   ]
  },
  {
   "cell_type": "code",
   "execution_count": 7,
   "metadata": {
    "collapsed": false
   },
   "outputs": [
    {
     "data": {
      "text/html": [
       "<div>\n",
       "<table border=\"1\" class=\"dataframe\">\n",
       "  <thead>\n",
       "    <tr style=\"text-align: right;\">\n",
       "      <th></th>\n",
       "      <th>year</th>\n",
       "      <th>id_</th>\n",
       "      <th>wrkstat</th>\n",
       "      <th>marital</th>\n",
       "      <th>sex</th>\n",
       "      <th>happy</th>\n",
       "      <th>whrs</th>\n",
       "      <th>married</th>\n",
       "      <th>has_babies</th>\n",
       "      <th>has_preteen</th>\n",
       "      <th>has_teens</th>\n",
       "    </tr>\n",
       "  </thead>\n",
       "  <tbody>\n",
       "    <tr>\n",
       "      <th>0</th>\n",
       "      <td>1994</td>\n",
       "      <td>2</td>\n",
       "      <td>Working fulltime</td>\n",
       "      <td>Married</td>\n",
       "      <td>Male</td>\n",
       "      <td>Very happy</td>\n",
       "      <td>40</td>\n",
       "      <td>True</td>\n",
       "      <td>False</td>\n",
       "      <td>False</td>\n",
       "      <td>False</td>\n",
       "    </tr>\n",
       "    <tr>\n",
       "      <th>1</th>\n",
       "      <td>1994</td>\n",
       "      <td>5</td>\n",
       "      <td>Working parttime</td>\n",
       "      <td>Never married</td>\n",
       "      <td>Female</td>\n",
       "      <td>Not too happy</td>\n",
       "      <td>20</td>\n",
       "      <td>False</td>\n",
       "      <td>False</td>\n",
       "      <td>True</td>\n",
       "      <td>True</td>\n",
       "    </tr>\n",
       "    <tr>\n",
       "      <th>2</th>\n",
       "      <td>1994</td>\n",
       "      <td>11</td>\n",
       "      <td>Working fulltime</td>\n",
       "      <td>Never married</td>\n",
       "      <td>Female</td>\n",
       "      <td>Pretty happy</td>\n",
       "      <td>40</td>\n",
       "      <td>False</td>\n",
       "      <td>False</td>\n",
       "      <td>False</td>\n",
       "      <td>False</td>\n",
       "    </tr>\n",
       "  </tbody>\n",
       "</table>\n",
       "</div>"
      ],
      "text/plain": [
       "   year id_           wrkstat        marital     sex          happy  whrs  \\\n",
       "0  1994   2  Working fulltime        Married    Male     Very happy    40   \n",
       "1  1994   5  Working parttime  Never married  Female  Not too happy    20   \n",
       "2  1994  11  Working fulltime  Never married  Female   Pretty happy    40   \n",
       "\n",
       "  married has_babies has_preteen has_teens  \n",
       "0    True      False       False     False  \n",
       "1   False      False        True      True  \n",
       "2   False      False       False     False  "
      ]
     },
     "execution_count": 7,
     "metadata": {},
     "output_type": "execute_result"
    }
   ],
   "source": [
    "df.head(3)"
   ]
  },
  {
   "cell_type": "code",
   "execution_count": 10,
   "metadata": {
    "collapsed": true
   },
   "outputs": [],
   "source": [
    "dict = extr_val_labels('data/employment/GSS.sps')"
   ]
  },
  {
   "cell_type": "code",
   "execution_count": 13,
   "metadata": {
    "collapsed": false
   },
   "outputs": [],
   "source": [
    "df.happy = df.happy.apply(lambda x:dict['happy'][x])"
   ]
  },
  {
   "cell_type": "code",
   "execution_count": 50,
   "metadata": {
    "collapsed": false
   },
   "outputs": [
    {
     "data": {
      "text/plain": [
       "Index([u'year', u'id_', u'wrkstat', u'marital', u'sex', u'happy', u'whrs',\n",
       "       u'married', u'has_babies', u'has_preteen', u'has_teens'],\n",
       "      dtype='object')"
      ]
     },
     "execution_count": 50,
     "metadata": {},
     "output_type": "execute_result"
    }
   ],
   "source": [
    "df.columns"
   ]
  },
  {
   "cell_type": "code",
   "execution_count": 26,
   "metadata": {
    "collapsed": false
   },
   "outputs": [
    {
     "data": {
      "text/plain": [
       "<matplotlib.axes._subplots.AxesSubplot at 0x109e89690>"
      ]
     },
     "execution_count": 26,
     "metadata": {},
     "output_type": "execute_result"
    },
    {
     "data": {
      "image/png": "[encoded data removed]",
      "text/plain": [
       "<matplotlib.figure.Figure at 0x10a3cca10>"
      ]
     },
     "metadata": {},
     "output_type": "display_data"
    }
   ],
   "source": [
    "ax = df[df.sex =='Male'].plot(x = 'whrs',y = 'happy', kind = 'scatter', label = 'Male', c = 'blue',alpha = 0.3)\n",
    "df[df.sex ==\"Female\"].plot(x = 'whrs',y = 'happy', kind = 'scatter', label = 'Female', c = 'r',ax = ax, alpha = 0.3)"
   ]
  },
  {
   "cell_type": "code",
   "execution_count": 79,
   "metadata": {
    "collapsed": false
   },
   "outputs": [],
   "source": [
    "t1994 = df[df.year == 1994].groupby(['has_babies','sex'])['whrs','happy'].agg([np.mean])\n",
    "t1996 = df[df.year == 1996].groupby(['has_babies','sex'])['whrs','happy'].agg([np.mean])\n",
    "t1998 = df[df.year == 1998].groupby(['has_babies','sex'])['whrs','happy'].agg([np.mean])\n",
    "s = df.groupby(['has_preteen','sex'])['whrs','happy'].mean()"
   ]
  },
  {
   "cell_type": "code",
   "execution_count": 81,
   "metadata": {
    "collapsed": false
   },
   "outputs": [
    {
     "data": {
      "text/plain": [
       "<matplotlib.axes._subplots.AxesSubplot at 0x109d234d0>"
      ]
     },
     "execution_count": 81,
     "metadata": {},
     "output_type": "execute_result"
    },
    {
     "data": {
      "image/png": "[encoded data removed]",
      "text/plain": [
       "<matplotlib.figure.Figure at 0x10a3cc090>"
      ]
     },
     "metadata": {},
     "output_type": "display_data"
    }
   ],
   "source": [
    "ax = t1994.plot(x = 'whrs',y='happy', kind = 'scatter')\n",
    "t1996.plot(x = 'whrs', y = 'happy', kind = 'scatter', c = 'r', ax = ax)\n",
    "t1998.plot(x = 'whrs', y = 'happy', kind = 'scatter', c = 'g', ax = ax)"
   ]
  },
  {
   "cell_type": "code",
   "execution_count": null,
   "metadata": {
    "collapsed": true
   },
   "outputs": [],
   "source": []
  }
 ],
 "metadata": {
  "kernelspec": {
   "display_name": "Python 2",
   "language": "python",
   "name": "python2"
  },
  "language_info": {
   "codemirror_mode": {
    "name": "ipython",
    "version": 2
   },
   "file_extension": ".py",
   "mimetype": "text/x-python",
   "name": "python",
   "nbconvert_exporter": "python",
   "pygments_lexer": "ipython2",
   "version": "2.7.10"
  }
 },
 "nbformat": 4,
 "nbformat_minor": 0
}
