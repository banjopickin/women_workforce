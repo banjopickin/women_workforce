{
 "cells": [
  {
   "cell_type": "markdown",
   "metadata": {},
   "source": [
    "In this file, I will visualize the relationship among happiness, employment status and family status."
   ]
  },
  {
   "cell_type": "code",
   "execution_count": 1,
   "metadata": {
    "collapsed": true
   },
   "outputs": [],
   "source": [
    "from __future__ import division\n",
    "import pandas as pd\n",
    "import numpy as np\n",
    "import matplotlib.pylab as plt\n",
    "%matplotlib inline\n"
   ]
  },
  {
   "cell_type": "code",
   "execution_count": 4,
   "metadata": {
    "collapsed": false
   },
   "outputs": [],
   "source": [
    "df= pd.read_excel('data/employment/GSS.xls')"
   ]
  },
  {
   "cell_type": "code",
   "execution_count": 5,
   "metadata": {
    "collapsed": false
   },
   "outputs": [
    {
     "data": {
      "text/html": [
       "<div>\n",
       "<table border=\"1\" class=\"dataframe\">\n",
       "  <thead>\n",
       "    <tr style=\"text-align: right;\">\n",
       "      <th></th>\n",
       "      <th>Gss year for this respondent</th>\n",
       "      <th>Respondent id number</th>\n",
       "      <th>Labor force status</th>\n",
       "      <th>Number of hours worked last week</th>\n",
       "      <th>Number of hours usually work a week</th>\n",
       "      <th>Marital status</th>\n",
       "      <th>Respondents sex</th>\n",
       "      <th>Household members less than 6 yrs old</th>\n",
       "      <th>Household members 6 thru 12 yrs old</th>\n",
       "      <th>Household members 13 thru 17 yrs old</th>\n",
       "      <th>Household members 18 yrs and older</th>\n",
       "      <th>General happiness</th>\n",
       "    </tr>\n",
       "  </thead>\n",
       "  <tbody>\n",
       "    <tr>\n",
       "      <th>0</th>\n",
       "      <td>1994</td>\n",
       "      <td>2</td>\n",
       "      <td>Working fulltime</td>\n",
       "      <td>40</td>\n",
       "      <td>Not applicable</td>\n",
       "      <td>Married</td>\n",
       "      <td>Male</td>\n",
       "      <td>0</td>\n",
       "      <td>0</td>\n",
       "      <td>0</td>\n",
       "      <td>2</td>\n",
       "      <td>Very happy</td>\n",
       "    </tr>\n",
       "    <tr>\n",
       "      <th>1</th>\n",
       "      <td>1994</td>\n",
       "      <td>5</td>\n",
       "      <td>Working parttime</td>\n",
       "      <td>20</td>\n",
       "      <td>Not applicable</td>\n",
       "      <td>Never married</td>\n",
       "      <td>Female</td>\n",
       "      <td>0</td>\n",
       "      <td>1</td>\n",
       "      <td>1</td>\n",
       "      <td>3</td>\n",
       "      <td>Not too happy</td>\n",
       "    </tr>\n",
       "    <tr>\n",
       "      <th>2</th>\n",
       "      <td>1994</td>\n",
       "      <td>11</td>\n",
       "      <td>Working fulltime</td>\n",
       "      <td>40</td>\n",
       "      <td>Not applicable</td>\n",
       "      <td>Never married</td>\n",
       "      <td>Female</td>\n",
       "      <td>0</td>\n",
       "      <td>0</td>\n",
       "      <td>0</td>\n",
       "      <td>1</td>\n",
       "      <td>Pretty happy</td>\n",
       "    </tr>\n",
       "  </tbody>\n",
       "</table>\n",
       "</div>"
      ],
      "text/plain": [
       "  Gss year for this respondent                        Respondent id number  \\\n",
       "0                                               1994                     2   \n",
       "1                                               1994                     5   \n",
       "2                                               1994                    11   \n",
       "\n",
       "  Labor force status Number of hours worked last week  \\\n",
       "0   Working fulltime                               40   \n",
       "1   Working parttime                               20   \n",
       "2   Working fulltime                               40   \n",
       "\n",
       "  Number of hours usually work a week Marital status Respondents sex  \\\n",
       "0                      Not applicable        Married            Male   \n",
       "1                      Not applicable  Never married          Female   \n",
       "2                      Not applicable  Never married          Female   \n",
       "\n",
       "  Household members less than 6 yrs old Household members 6 thru 12 yrs old  \\\n",
       "0                                     0                                   0   \n",
       "1                                     0                                   1   \n",
       "2                                     0                                   0   \n",
       "\n",
       "  Household members 13 thru 17 yrs old Household members 18 yrs and older  \\\n",
       "0                                    0                                  2   \n",
       "1                                    1                                  3   \n",
       "2                                    0                                  1   \n",
       "\n",
       "  General happiness  \n",
       "0        Very happy  \n",
       "1     Not too happy  \n",
       "2      Pretty happy  "
      ]
     },
     "execution_count": 5,
     "metadata": {},
     "output_type": "execute_result"
    }
   ],
   "source": [
    "df.head(3)"
   ]
  },
  {
   "cell_type": "code",
   "execution_count": null,
   "metadata": {
    "collapsed": true
   },
   "outputs": [],
   "source": []
  }
 ],
 "metadata": {
  "kernelspec": {
   "display_name": "Python 2",
   "language": "python",
   "name": "python2"
  },
  "language_info": {
   "codemirror_mode": {
    "name": "ipython",
    "version": 2
   },
   "file_extension": ".py",
   "mimetype": "text/x-python",
   "name": "python",
   "nbconvert_exporter": "python",
   "pygments_lexer": "ipython2",
   "version": "2.7.10"
  }
 },
 "nbformat": 4,
 "nbformat_minor": 0
}
