{
 "cells": [
  {
   "cell_type": "code",
   "execution_count": 1,
   "metadata": {
    "collapsed": false
   },
   "outputs": [],
   "source": [
    "from __future__ import division\n",
    "from code.organize import *\n",
    "from code.roughEDA import *\n",
    "from code.survey_processor_full import *\n",
    "\n",
    "import pandas as pd\n",
    "import numpy as np\n",
    "%load_ext autoreload\n",
    "%autoreload 2\n",
    "%matplotlib inline"
   ]
  },
  {
   "cell_type": "markdown",
   "metadata": {},
   "source": [
    "This document shows the idea behind survey procossor. survey is a class function to process survey data on GSS and saved as survey_processor_full.py under data directory."
   ]
  },
  {
   "cell_type": "markdown",
   "metadata": {},
   "source": [
    "## Pass data to the survey class"
   ]
  },
  {
   "cell_type": "code",
   "execution_count": 2,
   "metadata": {
    "collapsed": false
   },
   "outputs": [],
   "source": [
    "sv = survey('data/survey2/')"
   ]
  },
  {
   "cell_type": "markdown",
   "metadata": {
    "collapsed": false
   },
   "source": [
    "### 1. Raw data is loaded and called raw_data"
   ]
  },
  {
   "cell_type": "code",
   "execution_count": 3,
   "metadata": {
    "collapsed": false
   },
   "outputs": [
    {
     "data": {
      "text/html": [
       "<div>\n",
       "<table border=\"1\" class=\"dataframe\">\n",
       "  <thead>\n",
       "    <tr style=\"text-align: right;\">\n",
       "      <th></th>\n",
       "      <th>Labor force status</th>\n",
       "      <th>Marital status</th>\n",
       "      <th>Ever been divorced or separated</th>\n",
       "      <th>Number of hrs spouse worked last week</th>\n",
       "      <th>Age of respondent</th>\n",
       "      <th>R's age when 1st child born</th>\n",
       "      <th>Highest year school completed, father</th>\n",
       "      <th>Highest year school completed, mother</th>\n",
       "      <th>Highest year school completed, spouse</th>\n",
       "      <th>Rs highest degree</th>\n",
       "      <th>...</th>\n",
       "      <th>Should govt aid blacks?</th>\n",
       "      <th>Rich - poor</th>\n",
       "      <th>Hard working - lazy</th>\n",
       "      <th>Whites hurt by aff. action</th>\n",
       "      <th>Standard of living of r will improve</th>\n",
       "      <th>Men hurt family when focus on work too much</th>\n",
       "      <th>Family income in constant dollars</th>\n",
       "      <th>Type of structure</th>\n",
       "      <th>Does r own or rent home?</th>\n",
       "      <th>Expect u.s. in world war in 10 years</th>\n",
       "    </tr>\n",
       "  </thead>\n",
       "  <tbody>\n",
       "    <tr>\n",
       "      <th>0</th>\n",
       "      <td>Working parttime</td>\n",
       "      <td>Never married</td>\n",
       "      <td>Not applicable</td>\n",
       "      <td>Not applicable</td>\n",
       "      <td>21</td>\n",
       "      <td>Not applicable</td>\n",
       "      <td>Not applicable</td>\n",
       "      <td>12</td>\n",
       "      <td>Not applicable</td>\n",
       "      <td>High school</td>\n",
       "      <td>...</td>\n",
       "      <td>Agree with both</td>\n",
       "      <td>Not applicable</td>\n",
       "      <td>Not applicable</td>\n",
       "      <td>Not applicable</td>\n",
       "      <td>Not applicable</td>\n",
       "      <td>Neither agree nor disagree</td>\n",
       "      <td>16137</td>\n",
       "      <td>Apartment-4 stories</td>\n",
       "      <td>Not applicable</td>\n",
       "      <td>Not applicable</td>\n",
       "    </tr>\n",
       "    <tr>\n",
       "      <th>1</th>\n",
       "      <td>Working fulltime</td>\n",
       "      <td>Never married</td>\n",
       "      <td>Not applicable</td>\n",
       "      <td>Not applicable</td>\n",
       "      <td>52</td>\n",
       "      <td>Not applicable</td>\n",
       "      <td>Not applicable</td>\n",
       "      <td>20</td>\n",
       "      <td>Not applicable</td>\n",
       "      <td>Lt high school</td>\n",
       "      <td>...</td>\n",
       "      <td>4</td>\n",
       "      <td>4</td>\n",
       "      <td>5</td>\n",
       "      <td>Not applicable</td>\n",
       "      <td>Agree</td>\n",
       "      <td>Not applicable</td>\n",
       "      <td>0</td>\n",
       "      <td>Apartment-4 stories</td>\n",
       "      <td>Own or is buying</td>\n",
       "      <td>No</td>\n",
       "    </tr>\n",
       "    <tr>\n",
       "      <th>2</th>\n",
       "      <td>Keeping house</td>\n",
       "      <td>Never married</td>\n",
       "      <td>Not applicable</td>\n",
       "      <td>Not applicable</td>\n",
       "      <td>44</td>\n",
       "      <td>14</td>\n",
       "      <td>7</td>\n",
       "      <td>0</td>\n",
       "      <td>Not applicable</td>\n",
       "      <td>Lt high school</td>\n",
       "      <td>...</td>\n",
       "      <td>Govt help blks</td>\n",
       "      <td>Not applicable</td>\n",
       "      <td>Not applicable</td>\n",
       "      <td>Not applicable</td>\n",
       "      <td>Neither</td>\n",
       "      <td>Not applicable</td>\n",
       "      <td>4107</td>\n",
       "      <td>Apartment-4 stories</td>\n",
       "      <td>Pays rent</td>\n",
       "      <td>Don't know</td>\n",
       "    </tr>\n",
       "  </tbody>\n",
       "</table>\n",
       "<p>3 rows × 124 columns</p>\n",
       "</div>"
      ],
      "text/plain": [
       "  Labor force status Marital status Ever been divorced or separated  \\\n",
       "0   Working parttime  Never married                  Not applicable   \n",
       "1   Working fulltime  Never married                  Not applicable   \n",
       "2      Keeping house  Never married                  Not applicable   \n",
       "\n",
       "  Number of hrs spouse worked last week Age of respondent  \\\n",
       "0                        Not applicable                21   \n",
       "1                        Not applicable                52   \n",
       "2                        Not applicable                44   \n",
       "\n",
       "  R's age when 1st child born Highest year school completed, father  \\\n",
       "0              Not applicable                        Not applicable   \n",
       "1              Not applicable                        Not applicable   \n",
       "2                          14                                     7   \n",
       "\n",
       "  Highest year school completed, mother Highest year school completed, spouse  \\\n",
       "0                                    12                        Not applicable   \n",
       "1                                    20                        Not applicable   \n",
       "2                                     0                        Not applicable   \n",
       "\n",
       "  Rs highest degree                 ...                   \\\n",
       "0       High school                 ...                    \n",
       "1    Lt high school                 ...                    \n",
       "2    Lt high school                 ...                    \n",
       "\n",
       "  Should govt aid blacks?     Rich - poor Hard working - lazy  \\\n",
       "0         Agree with both  Not applicable      Not applicable   \n",
       "1                       4               4                   5   \n",
       "2          Govt help blks  Not applicable      Not applicable   \n",
       "\n",
       "  Whites hurt by aff. action Standard of living of r will improve  \\\n",
       "0             Not applicable                       Not applicable   \n",
       "1             Not applicable                                Agree   \n",
       "2             Not applicable                              Neither   \n",
       "\n",
       "  Men hurt family when focus on work too much  \\\n",
       "0                  Neither agree nor disagree   \n",
       "1                              Not applicable   \n",
       "2                              Not applicable   \n",
       "\n",
       "  Family income in constant dollars    Type of structure  \\\n",
       "0                             16137  Apartment-4 stories   \n",
       "1                                 0  Apartment-4 stories   \n",
       "2                              4107  Apartment-4 stories   \n",
       "\n",
       "  Does r own or rent home? Expect u.s. in world war in 10 years  \n",
       "0           Not applicable                       Not applicable  \n",
       "1         Own or is buying                                   No  \n",
       "2                Pays rent                           Don't know  \n",
       "\n",
       "[3 rows x 124 columns]"
      ]
     },
     "execution_count": 3,
     "metadata": {},
     "output_type": "execute_result"
    }
   ],
   "source": [
    "sv.raw_data.head(3)"
   ]
  },
  {
   "cell_type": "code",
   "execution_count": 4,
   "metadata": {
    "collapsed": false
   },
   "outputs": [
    {
     "data": {
      "text/plain": [
       "(13826, 124)"
      ]
     },
     "execution_count": 4,
     "metadata": {},
     "output_type": "execute_result"
    }
   ],
   "source": [
    "sv.raw_data.shape"
   ]
  },
  {
   "cell_type": "markdown",
   "metadata": {
    "collapsed": false
   },
   "source": [
    "### 2. num_processor will process this raw data frame by conducting following operations:\n",
    "  * Convert column names from survey questions to short names.\n",
    "  * Subset female respondents with children under 13 years old.\n",
    "  * Create a new column indicating whether the respondent is employed.\n",
    "  * Impute some missing values in numerical variables with median. \n",
    "  * Flag \"Not applicable\", \"No answer\" or string answers in nemerical variables.\n",
    "  * Convert categorical dat to numerical using GSS.sps file under data directory.\n",
    "  * Create a new column, combine maeduc, paeduc, speduc, and take average."
   ]
  },
  {
   "cell_type": "code",
   "execution_count": 5,
   "metadata": {
    "collapsed": true
   },
   "outputs": [],
   "source": [
    "sv.num_processor()"
   ]
  },
  {
   "cell_type": "markdown",
   "metadata": {
    "collapsed": false
   },
   "source": [
    "### 3. fin_data is the processed data frame that can be used for modeling."
   ]
  },
  {
   "cell_type": "code",
   "execution_count": 6,
   "metadata": {
    "collapsed": false
   },
   "outputs": [
    {
     "data": {
      "text/html": [
       "<div>\n",
       "<table border=\"1\" class=\"dataframe\">\n",
       "  <thead>\n",
       "    <tr style=\"text-align: right;\">\n",
       "      <th></th>\n",
       "      <th>marital</th>\n",
       "      <th>divorce</th>\n",
       "      <th>sphrs1</th>\n",
       "      <th>age</th>\n",
       "      <th>agekdbrn</th>\n",
       "      <th>degree</th>\n",
       "      <th>res16</th>\n",
       "      <th>mobile16</th>\n",
       "      <th>mawrkgrw</th>\n",
       "      <th>incom16</th>\n",
       "      <th>...</th>\n",
       "      <th>agekdbrn_Dk,na</th>\n",
       "      <th>agekdbrn_As many as want</th>\n",
       "      <th>agekdbrn_Seven+</th>\n",
       "      <th>chldidel_Not applicable</th>\n",
       "      <th>chldidel_Don't know</th>\n",
       "      <th>chldidel_No answer</th>\n",
       "      <th>chldidel_Dk,na</th>\n",
       "      <th>chldidel_As many as want</th>\n",
       "      <th>chldidel_Seven+</th>\n",
       "      <th>educom</th>\n",
       "    </tr>\n",
       "  </thead>\n",
       "  <tbody>\n",
       "    <tr>\n",
       "      <th>0</th>\n",
       "      <td>5</td>\n",
       "      <td>0</td>\n",
       "      <td>98</td>\n",
       "      <td>21</td>\n",
       "      <td>98</td>\n",
       "      <td>1</td>\n",
       "      <td>6</td>\n",
       "      <td>1</td>\n",
       "      <td>2</td>\n",
       "      <td>1</td>\n",
       "      <td>...</td>\n",
       "      <td>False</td>\n",
       "      <td>False</td>\n",
       "      <td>False</td>\n",
       "      <td>True</td>\n",
       "      <td>False</td>\n",
       "      <td>False</td>\n",
       "      <td>False</td>\n",
       "      <td>False</td>\n",
       "      <td>False</td>\n",
       "      <td>12.333333</td>\n",
       "    </tr>\n",
       "    <tr>\n",
       "      <th>3</th>\n",
       "      <td>1</td>\n",
       "      <td>2</td>\n",
       "      <td>50</td>\n",
       "      <td>30</td>\n",
       "      <td>27</td>\n",
       "      <td>3</td>\n",
       "      <td>6</td>\n",
       "      <td>2</td>\n",
       "      <td>2</td>\n",
       "      <td>-1</td>\n",
       "      <td>...</td>\n",
       "      <td>False</td>\n",
       "      <td>False</td>\n",
       "      <td>False</td>\n",
       "      <td>False</td>\n",
       "      <td>False</td>\n",
       "      <td>False</td>\n",
       "      <td>False</td>\n",
       "      <td>False</td>\n",
       "      <td>False</td>\n",
       "      <td>13.666667</td>\n",
       "    </tr>\n",
       "    <tr>\n",
       "      <th>4</th>\n",
       "      <td>1</td>\n",
       "      <td>2</td>\n",
       "      <td>80</td>\n",
       "      <td>41</td>\n",
       "      <td>38</td>\n",
       "      <td>3</td>\n",
       "      <td>6</td>\n",
       "      <td>1</td>\n",
       "      <td>1</td>\n",
       "      <td>-1</td>\n",
       "      <td>...</td>\n",
       "      <td>False</td>\n",
       "      <td>False</td>\n",
       "      <td>False</td>\n",
       "      <td>False</td>\n",
       "      <td>False</td>\n",
       "      <td>False</td>\n",
       "      <td>False</td>\n",
       "      <td>False</td>\n",
       "      <td>False</td>\n",
       "      <td>15.000000</td>\n",
       "    </tr>\n",
       "  </tbody>\n",
       "</table>\n",
       "<p>3 rows × 144 columns</p>\n",
       "</div>"
      ],
      "text/plain": [
       "   marital  divorce  sphrs1  age  agekdbrn  degree  res16  mobile16  mawrkgrw  \\\n",
       "0        5        0      98   21        98       1      6         1         2   \n",
       "3        1        2      50   30        27       3      6         2         2   \n",
       "4        1        2      80   41        38       3      6         1         1   \n",
       "\n",
       "   incom16    ...      agekdbrn_Dk,na  agekdbrn_As many as want  \\\n",
       "0        1    ...               False                     False   \n",
       "3       -1    ...               False                     False   \n",
       "4       -1    ...               False                     False   \n",
       "\n",
       "   agekdbrn_Seven+  chldidel_Not applicable  chldidel_Don't know  \\\n",
       "0            False                     True                False   \n",
       "3            False                    False                False   \n",
       "4            False                    False                False   \n",
       "\n",
       "   chldidel_No answer  chldidel_Dk,na  chldidel_As many as want  \\\n",
       "0               False           False                     False   \n",
       "3               False           False                     False   \n",
       "4               False           False                     False   \n",
       "\n",
       "   chldidel_Seven+     educom  \n",
       "0            False  12.333333  \n",
       "3            False  13.666667  \n",
       "4            False  15.000000  \n",
       "\n",
       "[3 rows x 144 columns]"
      ]
     },
     "execution_count": 6,
     "metadata": {},
     "output_type": "execute_result"
    }
   ],
   "source": [
    "sv.fin_data.head(3)"
   ]
  },
  {
   "cell_type": "markdown",
   "metadata": {
    "collapsed": false
   },
   "source": [
    "### 4. num_cols is a list containing numeric column names."
   ]
  },
  {
   "cell_type": "code",
   "execution_count": 7,
   "metadata": {
    "collapsed": false
   },
   "outputs": [
    {
     "data": {
      "text/plain": [
       "['sphrs1', 'age', 'agekdbrn', 'chldidel', 'coninc', 'educom']"
      ]
     },
     "execution_count": 7,
     "metadata": {},
     "output_type": "execute_result"
    }
   ],
   "source": [
    "sv.num_cols"
   ]
  },
  {
   "cell_type": "markdown",
   "metadata": {
    "collapsed": false
   },
   "source": [
    "### 5. sv_cols contains all the categorical columns names"
   ]
  },
  {
   "cell_type": "code",
   "execution_count": 8,
   "metadata": {
    "collapsed": false
   },
   "outputs": [
    {
     "data": {
      "text/plain": [
       "113"
      ]
     },
     "execution_count": 8,
     "metadata": {},
     "output_type": "execute_result"
    }
   ],
   "source": [
    "len(sv.sv_cols)"
   ]
  },
  {
   "cell_type": "markdown",
   "metadata": {
    "collapsed": false
   },
   "source": [
    "### 6. sv.bs is the list of imputed strings and sv.bs_flag contains the numbers to impute the strings."
   ]
  },
  {
   "cell_type": "code",
   "execution_count": 9,
   "metadata": {
    "collapsed": false
   },
   "outputs": [
    {
     "data": {
      "text/plain": [
       "['Not applicable',\n",
       " \"Don't know\",\n",
       " 'No answer',\n",
       " 'Dk,na',\n",
       " 'As many as want',\n",
       " 'Seven+']"
      ]
     },
     "execution_count": 9,
     "metadata": {},
     "output_type": "execute_result"
    }
   ],
   "source": [
    "sv.bs"
   ]
  },
  {
   "cell_type": "code",
   "execution_count": 10,
   "metadata": {
    "collapsed": false
   },
   "outputs": [
    {
     "data": {
      "text/plain": [
       "[98, 97, 96, 9, 8, 7]"
      ]
     },
     "execution_count": 10,
     "metadata": {},
     "output_type": "execute_result"
    }
   ],
   "source": [
    "sv.bs_flag"
   ]
  },
  {
   "cell_type": "markdown",
   "metadata": {
    "collapsed": true
   },
   "source": [
    "### 7. sv.data is a half-processed data frame which keeps all the string answers. It will be used to interprete feature contribution matrix."
   ]
  },
  {
   "cell_type": "code",
   "execution_count": 11,
   "metadata": {
    "collapsed": false
   },
   "outputs": [
    {
     "data": {
      "text/html": [
       "<div>\n",
       "<table border=\"1\" class=\"dataframe\">\n",
       "  <thead>\n",
       "    <tr style=\"text-align: right;\">\n",
       "      <th></th>\n",
       "      <th>marital</th>\n",
       "      <th>divorce</th>\n",
       "      <th>sphrs1</th>\n",
       "      <th>age</th>\n",
       "      <th>agekdbrn</th>\n",
       "      <th>paeduc</th>\n",
       "      <th>maeduc</th>\n",
       "      <th>speduc</th>\n",
       "      <th>degree</th>\n",
       "      <th>res16</th>\n",
       "      <th>...</th>\n",
       "      <th>wlthblks</th>\n",
       "      <th>workblks</th>\n",
       "      <th>discaff</th>\n",
       "      <th>goodlife</th>\n",
       "      <th>meovrwrk</th>\n",
       "      <th>coninc</th>\n",
       "      <th>dwelling</th>\n",
       "      <th>dwelown</th>\n",
       "      <th>uswary</th>\n",
       "      <th>employed</th>\n",
       "    </tr>\n",
       "  </thead>\n",
       "  <tbody>\n",
       "    <tr>\n",
       "      <th>0</th>\n",
       "      <td>Never married</td>\n",
       "      <td>Not applicable</td>\n",
       "      <td>Not applicable</td>\n",
       "      <td>21</td>\n",
       "      <td>Not applicable</td>\n",
       "      <td>Not applicable</td>\n",
       "      <td>12</td>\n",
       "      <td>Not applicable</td>\n",
       "      <td>High school</td>\n",
       "      <td>City gt 250000</td>\n",
       "      <td>...</td>\n",
       "      <td>Not applicable</td>\n",
       "      <td>Not applicable</td>\n",
       "      <td>Not applicable</td>\n",
       "      <td>Not applicable</td>\n",
       "      <td>Neither agree nor disagree</td>\n",
       "      <td>16137</td>\n",
       "      <td>Apartment-4 stories</td>\n",
       "      <td>Not applicable</td>\n",
       "      <td>Not applicable</td>\n",
       "      <td>True</td>\n",
       "    </tr>\n",
       "    <tr>\n",
       "      <th>3</th>\n",
       "      <td>Married</td>\n",
       "      <td>No</td>\n",
       "      <td>50</td>\n",
       "      <td>30</td>\n",
       "      <td>27</td>\n",
       "      <td>Not applicable</td>\n",
       "      <td>13</td>\n",
       "      <td>16</td>\n",
       "      <td>Bachelor</td>\n",
       "      <td>City gt 250000</td>\n",
       "      <td>...</td>\n",
       "      <td>6</td>\n",
       "      <td>3</td>\n",
       "      <td>Not very likely</td>\n",
       "      <td>Not applicable</td>\n",
       "      <td>Not applicable</td>\n",
       "      <td>121553</td>\n",
       "      <td>Apartment-4 stories</td>\n",
       "      <td>Pays rent</td>\n",
       "      <td>No</td>\n",
       "      <td>False</td>\n",
       "    </tr>\n",
       "    <tr>\n",
       "      <th>4</th>\n",
       "      <td>Married</td>\n",
       "      <td>No</td>\n",
       "      <td>80</td>\n",
       "      <td>41</td>\n",
       "      <td>38</td>\n",
       "      <td>Not applicable</td>\n",
       "      <td>17</td>\n",
       "      <td>16</td>\n",
       "      <td>Bachelor</td>\n",
       "      <td>City gt 250000</td>\n",
       "      <td>...</td>\n",
       "      <td>6</td>\n",
       "      <td>5</td>\n",
       "      <td>Not very likely</td>\n",
       "      <td>Agree</td>\n",
       "      <td>Not applicable</td>\n",
       "      <td>121553</td>\n",
       "      <td>Row house</td>\n",
       "      <td>Own or is buying</td>\n",
       "      <td>No</td>\n",
       "      <td>False</td>\n",
       "    </tr>\n",
       "  </tbody>\n",
       "</table>\n",
       "<p>3 rows × 122 columns</p>\n",
       "</div>"
      ],
      "text/plain": [
       "         marital         divorce          sphrs1 age        agekdbrn  \\\n",
       "0  Never married  Not applicable  Not applicable  21  Not applicable   \n",
       "3        Married              No              50  30              27   \n",
       "4        Married              No              80  41              38   \n",
       "\n",
       "           paeduc maeduc          speduc       degree           res16  \\\n",
       "0  Not applicable     12  Not applicable  High school  City gt 250000   \n",
       "3  Not applicable     13              16     Bachelor  City gt 250000   \n",
       "4  Not applicable     17              16     Bachelor  City gt 250000   \n",
       "\n",
       "    ...           wlthblks        workblks          discaff        goodlife  \\\n",
       "0   ...     Not applicable  Not applicable   Not applicable  Not applicable   \n",
       "3   ...                  6               3  Not very likely  Not applicable   \n",
       "4   ...                  6               5  Not very likely           Agree   \n",
       "\n",
       "                     meovrwrk  coninc             dwelling           dwelown  \\\n",
       "0  Neither agree nor disagree   16137  Apartment-4 stories    Not applicable   \n",
       "3              Not applicable  121553  Apartment-4 stories         Pays rent   \n",
       "4              Not applicable  121553            Row house  Own or is buying   \n",
       "\n",
       "           uswary employed  \n",
       "0  Not applicable     True  \n",
       "3              No    False  \n",
       "4              No    False  \n",
       "\n",
       "[3 rows x 122 columns]"
      ]
     },
     "execution_count": 11,
     "metadata": {},
     "output_type": "execute_result"
    }
   ],
   "source": [
    "sv.data.head(3)"
   ]
  },
  {
   "cell_type": "code",
   "execution_count": null,
   "metadata": {
    "collapsed": true
   },
   "outputs": [],
   "source": []
  }
 ],
 "metadata": {
  "kernelspec": {
   "display_name": "Python 2",
   "language": "python",
   "name": "python2"
  },
  "language_info": {
   "codemirror_mode": {
    "name": "ipython",
    "version": 2
   },
   "file_extension": ".py",
   "mimetype": "text/x-python",
   "name": "python",
   "nbconvert_exporter": "python",
   "pygments_lexer": "ipython2",
   "version": "2.7.10"
  }
 },
 "nbformat": 4,
 "nbformat_minor": 0
}
