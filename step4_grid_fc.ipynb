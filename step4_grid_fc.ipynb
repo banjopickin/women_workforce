{
 "cells": [
  {
   "cell_type": "markdown",
   "metadata": {},
   "source": [
    "# Grid and Feature Contribution version 2\n",
    "\n",
    "This document shows the procedure of grid search and feature contribution investigation."
   ]
  },
  {
   "cell_type": "code",
   "execution_count": 1,
   "metadata": {
    "collapsed": false
   },
   "outputs": [],
   "source": [
    "from __future__ import division\n",
    "import pandas as pd\n",
    "import numpy as np \n",
    "import matplotlib.pylab as plt\n",
    "from code.organize import *\n",
    "from code.roughEDA import *\n",
    "from code.survey_processor_full import *\n",
    "from code.model_vis import *\n",
    "\n",
    "from sklearn.cross_validation import train_test_split\n",
    "from sklearn.ensemble import RandomForestClassifier, GradientBoostingClassifier\n",
    "from sklearn.metrics import roc_auc_score, confusion_matrix,roc_curve\n",
    "from sklearn.grid_search import GridSearchCV\n",
    "from sklearn.cross_validation import cross_val_score\n",
    "from sklearn.metrics import silhouette_samples, silhouette_score\n",
    "from sklearn.decomposition import PCA\n",
    "\n",
    "from treeinterpreter import treeinterpreter as ti\n",
    "import matplotlib.cm as cm\n",
    "import cPickle as pickle\n",
    "%matplotlib inline\n",
    "%load_ext autoreload\n",
    "%autoreload 2"
   ]
  },
  {
   "cell_type": "code",
   "execution_count": 2,
   "metadata": {
    "collapsed": true
   },
   "outputs": [],
   "source": [
    "sv = survey('data/survey2/')"
   ]
  },
  {
   "cell_type": "code",
   "execution_count": 3,
   "metadata": {
    "collapsed": false
   },
   "outputs": [],
   "source": [
    "sv.num_processor()"
   ]
  },
  {
   "cell_type": "code",
   "execution_count": 4,
   "metadata": {
    "collapsed": true
   },
   "outputs": [],
   "source": [
    "df = sv.fin_data"
   ]
  },
  {
   "cell_type": "code",
   "execution_count": 5,
   "metadata": {
    "collapsed": false
   },
   "outputs": [],
   "source": [
    "dfc = df.copy()\n",
    "\n",
    "y = dfc.pop('employed').values\n",
    "X = dfc.values\n",
    "X_train, X_test, y_train, y_test = train_test_split(X, y, test_size=0.3, random_state=90)"
   ]
  },
  {
   "cell_type": "markdown",
   "metadata": {},
   "source": [
    "### 1. Fit random forest model"
   ]
  },
  {
   "cell_type": "code",
   "execution_count": 6,
   "metadata": {
    "collapsed": false
   },
   "outputs": [
    {
     "data": {
      "text/plain": [
       "RandomForestClassifier(bootstrap=True, class_weight=None, criterion='gini',\n",
       "            max_depth=None, max_features='auto', max_leaf_nodes=None,\n",
       "            min_samples_leaf=1, min_samples_split=2,\n",
       "            min_weight_fraction_leaf=0.0, n_estimators=10, n_jobs=-1,\n",
       "            oob_score=False, random_state=0, verbose=0, warm_start=False)"
      ]
     },
     "execution_count": 6,
     "metadata": {},
     "output_type": "execute_result"
    }
   ],
   "source": [
    "rf = RandomForestClassifier(n_jobs=-1,random_state=0)\n",
    "rf.fit(X_train,y_train)"
   ]
  },
  {
   "cell_type": "code",
   "execution_count": 7,
   "metadata": {
    "collapsed": false
   },
   "outputs": [
    {
     "data": {
      "text/plain": [
       "<matplotlib.text.Text at 0x10bcbf210>"
      ]
     },
     "execution_count": 7,
     "metadata": {},
     "output_type": "execute_result"
    },
    {
     "data": {
      "image/png": "[encoded data removed]",
      "text/plain": [
       "<matplotlib.figure.Figure at 0x104637c10>"
      ]
     },
     "metadata": {},
     "output_type": "display_data"
    }
   ],
   "source": [
    "plt.figure(figsize=(7,5))\n",
    "plot_importance(rf,dfc,10)\n",
    "plt.title('Top 10 Important Variables')"
   ]
  },
  {
   "cell_type": "markdown",
   "metadata": {},
   "source": [
    "#### Take first 40 important features to model"
   ]
  },
  {
   "cell_type": "code",
   "execution_count": 8,
   "metadata": {
    "collapsed": true
   },
   "outputs": [],
   "source": [
    "f40 = rf.feature_importances_.argsort()[::-1][:40]\n",
    "\n",
    "slct=dfc.columns[f40]   #select top 40 features\n",
    "X = dfc[slct].values\n",
    "X_train, X_test, y_train, y_test = train_test_split(X, y, test_size=0.3, random_state=90)"
   ]
  },
  {
   "cell_type": "code",
   "execution_count": 9,
   "metadata": {
    "collapsed": false
   },
   "outputs": [
    {
     "data": {
      "text/plain": [
       "RandomForestClassifier(bootstrap=True, class_weight=None, criterion='gini',\n",
       "            max_depth=None, max_features='auto', max_leaf_nodes=None,\n",
       "            min_samples_leaf=1, min_samples_split=2,\n",
       "            min_weight_fraction_leaf=0.0, n_estimators=10, n_jobs=-1,\n",
       "            oob_score=False, random_state=0, verbose=0, warm_start=False)"
      ]
     },
     "execution_count": 9,
     "metadata": {},
     "output_type": "execute_result"
    }
   ],
   "source": [
    "rf_redu = RandomForestClassifier(n_jobs=-1,random_state=0)\n",
    "rf_redu.fit(X_train,y_train)"
   ]
  },
  {
   "cell_type": "markdown",
   "metadata": {},
   "source": [
    "## 2. Grid search"
   ]
  },
  {
   "cell_type": "code",
   "execution_count": 10,
   "metadata": {
    "collapsed": false
   },
   "outputs": [],
   "source": [
    "#1st round\n",
    "# rf_grid = {'max_depth': [3, None], \n",
    "#                       'max_features': ['sqrt', 'log2', None],\n",
    "#                       'min_samples_split': [1, 2, 4],\n",
    "#                       'min_samples_leaf': [1, 2, 4],\n",
    "#                       'bootstrap': [True, False],\n",
    "#                       'n_estimators': [10, 20, 40],\n",
    "#                       'random_state': [1]}\n",
    "\n",
    "# #2nd\n",
    "# rf_grid = {'max_depth': [None], \n",
    "#            'criterion':['gini','entropy'],\n",
    "#                       'max_features': ['log2', None],\n",
    "#                       'min_samples_split': [1],\n",
    "#                       'min_samples_leaf': [2],\n",
    "#                       'bootstrap': [True, False],\n",
    "#                       'n_estimators': [30, 40,80],\n",
    "#                       'random_state': [1]}\n",
    "\n",
    "# #3rd \n",
    "# rf_grid = {'max_depth': [None], \n",
    "#            'criterion':['entropy'],\n",
    "#                       'max_features': ['log2',None],\n",
    "#                       'min_samples_split': [1],\n",
    "#                       'min_samples_leaf': [2],\n",
    "#                       'bootstrap': [False],\n",
    "#                       'n_estimators': [60,80,100],\n",
    "#                       'random_state': [1]}\n",
    "# #last round\n",
    "rf_grid = {'max_depth': [None], \n",
    "           'criterion':['entropy'],\n",
    "                      'max_features': ['log2',None,],\n",
    "                      'min_samples_split': [1],\n",
    "                      'min_samples_leaf': [2],\n",
    "                      'bootstrap': [False],\n",
    "                      'n_estimators': [230,250,300],\n",
    "                      'random_state': [1]}"
   ]
  },
  {
   "cell_type": "code",
   "execution_count": 11,
   "metadata": {
    "collapsed": false
   },
   "outputs": [],
   "source": [
    "rf_gridsearch = GridSearchCV(RandomForestClassifier(),\n",
    "                             rf_grid,\n",
    "                             n_jobs=-1,\n",
    "                             verbose=True,\n",
    "                             scoring='roc_auc')"
   ]
  },
  {
   "cell_type": "code",
   "execution_count": 12,
   "metadata": {
    "collapsed": false
   },
   "outputs": [
    {
     "name": "stdout",
     "output_type": "stream",
     "text": [
      "Fitting 3 folds for each of 6 candidates, totalling 18 fits\n"
     ]
    },
    {
     "name": "stderr",
     "output_type": "stream",
     "text": [
      "[Parallel(n_jobs=-1)]: Done  18 out of  18 | elapsed:   31.2s finished\n"
     ]
    },
    {
     "data": {
      "text/plain": [
       "GridSearchCV(cv=None, error_score='raise',\n",
       "       estimator=RandomForestClassifier(bootstrap=True, class_weight=None, criterion='gini',\n",
       "            max_depth=None, max_features='auto', max_leaf_nodes=None,\n",
       "            min_samples_leaf=1, min_samples_split=2,\n",
       "            min_weight_fraction_leaf=0.0, n_estimators=10, n_jobs=1,\n",
       "            oob_score=False, random_state=None, verbose=0,\n",
       "            warm_start=False),\n",
       "       fit_params={}, iid=True, n_jobs=-1,\n",
       "       param_grid={'n_estimators': [230, 250, 300], 'min_samples_split': [1], 'random_state': [1], 'criterion': ['entropy'], 'max_features': ['log2', None], 'bootstrap': [False], 'max_depth': [None], 'min_samples_leaf': [2]},\n",
       "       pre_dispatch='2*n_jobs', refit=True, scoring='roc_auc',\n",
       "       verbose=True)"
      ]
     },
     "execution_count": 12,
     "metadata": {},
     "output_type": "execute_result"
    }
   ],
   "source": [
    "rf_gridsearch.fit(X_train,y_train)"
   ]
  },
  {
   "cell_type": "code",
   "execution_count": 13,
   "metadata": {
    "collapsed": false
   },
   "outputs": [
    {
     "data": {
      "text/plain": [
       "{'bootstrap': False,\n",
       " 'criterion': 'entropy',\n",
       " 'max_depth': None,\n",
       " 'max_features': 'log2',\n",
       " 'min_samples_leaf': 2,\n",
       " 'min_samples_split': 1,\n",
       " 'n_estimators': 300,\n",
       " 'random_state': 1}"
      ]
     },
     "execution_count": 13,
     "metadata": {},
     "output_type": "execute_result"
    }
   ],
   "source": [
    "rf_gridsearch.best_params_"
   ]
  },
  {
   "cell_type": "code",
   "execution_count": 14,
   "metadata": {
    "collapsed": false
   },
   "outputs": [],
   "source": [
    "best_rf = rf_gridsearch.best_estimator_"
   ]
  },
  {
   "cell_type": "markdown",
   "metadata": {},
   "source": [
    "Make a roc curve."
   ]
  },
  {
   "cell_type": "code",
   "execution_count": 16,
   "metadata": {
    "collapsed": false
   },
   "outputs": [
    {
     "name": "stdout",
     "output_type": "stream",
     "text": [
      "roc_auc_score : 0.811187131244\n"
     ]
    },
    {
     "data": {
      "image/png": "[encoded data removed]",
      "text/plain": [
       "<matplotlib.figure.Figure at 0x10a563d50>"
      ]
     },
     "metadata": {},
     "output_type": "display_data"
    }
   ],
   "source": [
    "plt.figure(figsize=(7,5))\n",
    "plt.title('Figure 5 roc plot of survey data')\n",
    "plot_roc(best_rf,X_test,y_test)\n",
    "\n",
    "plt.savefig('imgs/readme_figs/roc_curve')"
   ]
  },
  {
   "cell_type": "markdown",
   "metadata": {},
   "source": [
    "### 3.  Tree Interpreter and Feature Contribution"
   ]
  },
  {
   "cell_type": "markdown",
   "metadata": {},
   "source": [
    "In order to know the influence of each variable on the model, feature contribution algorithm is applied. "
   ]
  },
  {
   "cell_type": "code",
   "execution_count": 27,
   "metadata": {
    "collapsed": false
   },
   "outputs": [],
   "source": [
    "prediction, bias, contributions = ti.predict(best_rf, X)"
   ]
  },
  {
   "cell_type": "markdown",
   "metadata": {},
   "source": [
    "## 4. make feature contribution data frame"
   ]
  },
  {
   "cell_type": "code",
   "execution_count": 28,
   "metadata": {
    "collapsed": false
   },
   "outputs": [],
   "source": [
    "fc_df = pd.DataFrame(contributions[:,:,1], columns=slct)"
   ]
  },
  {
   "cell_type": "code",
   "execution_count": 29,
   "metadata": {
    "collapsed": false
   },
   "outputs": [],
   "source": [
    "fc_df['predict'] = best_rf.predict(X)    # predicted result"
   ]
  },
  {
   "cell_type": "code",
   "execution_count": 30,
   "metadata": {
    "collapsed": true
   },
   "outputs": [],
   "source": [
    "fc_df['employed'] = y                   # true result"
   ]
  },
  {
   "cell_type": "code",
   "execution_count": 31,
   "metadata": {
    "collapsed": false
   },
   "outputs": [],
   "source": [
    "fc_df['correct'] = fc_df.predict == fc_df.employed      # check if the prediction is correct"
   ]
  },
  {
   "cell_type": "code",
   "execution_count": 32,
   "metadata": {
    "collapsed": false
   },
   "outputs": [],
   "source": [
    "fc_df.drop('predict',axis =1, inplace=True)               #subset correct instances"
   ]
  },
  {
   "cell_type": "markdown",
   "metadata": {},
   "source": [
    "Running tree interpreter takes a long time. So pickle it and move on to the next step. "
   ]
  },
  {
   "cell_type": "code",
   "execution_count": 36,
   "metadata": {
    "collapsed": true
   },
   "outputs": [],
   "source": [
    "with open('data/fc_df2.pkl','w') as f:\n",
    "    pickle.dump(fc_df,f)"
   ]
  },
  {
   "cell_type": "code",
   "execution_count": 46,
   "metadata": {
    "collapsed": false
   },
   "outputs": [
    {
     "data": {
      "text/html": [
       "<div>\n",
       "<table border=\"1\" class=\"dataframe\">\n",
       "  <thead>\n",
       "    <tr style=\"text-align: right;\">\n",
       "      <th></th>\n",
       "      <th>coninc</th>\n",
       "      <th>age</th>\n",
       "      <th>educom</th>\n",
       "      <th>degree</th>\n",
       "      <th>sphrs1</th>\n",
       "      <th>partyid</th>\n",
       "      <th>agekdbrn</th>\n",
       "      <th>class_</th>\n",
       "      <th>dwelling</th>\n",
       "      <th>polviews</th>\n",
       "      <th>...</th>\n",
       "      <th>mobile16</th>\n",
       "      <th>natfare</th>\n",
       "      <th>marital</th>\n",
       "      <th>divlaw</th>\n",
       "      <th>affrmact</th>\n",
       "      <th>helpnot</th>\n",
       "      <th>life</th>\n",
       "      <th>spanking</th>\n",
       "      <th>employed</th>\n",
       "      <th>correct</th>\n",
       "    </tr>\n",
       "  </thead>\n",
       "  <tbody>\n",
       "    <tr>\n",
       "      <th>0</th>\n",
       "      <td>-0.024180</td>\n",
       "      <td>0.012212</td>\n",
       "      <td>0.004822</td>\n",
       "      <td>0.025785</td>\n",
       "      <td>0.003010</td>\n",
       "      <td>0.005950</td>\n",
       "      <td>0.023872</td>\n",
       "      <td>-0.082842</td>\n",
       "      <td>-0.039021</td>\n",
       "      <td>-0.005935</td>\n",
       "      <td>...</td>\n",
       "      <td>-0.006342</td>\n",
       "      <td>0.023788</td>\n",
       "      <td>0.004271</td>\n",
       "      <td>0.003521</td>\n",
       "      <td>0.000336</td>\n",
       "      <td>-0.004642</td>\n",
       "      <td>0.000422</td>\n",
       "      <td>0.000950</td>\n",
       "      <td>True</td>\n",
       "      <td>True</td>\n",
       "    </tr>\n",
       "    <tr>\n",
       "      <th>1</th>\n",
       "      <td>0.002730</td>\n",
       "      <td>-0.004376</td>\n",
       "      <td>0.008302</td>\n",
       "      <td>0.014275</td>\n",
       "      <td>-0.018376</td>\n",
       "      <td>-0.000277</td>\n",
       "      <td>0.007874</td>\n",
       "      <td>-0.041408</td>\n",
       "      <td>0.012293</td>\n",
       "      <td>0.000421</td>\n",
       "      <td>...</td>\n",
       "      <td>-0.002230</td>\n",
       "      <td>0.007787</td>\n",
       "      <td>-0.008250</td>\n",
       "      <td>0.001585</td>\n",
       "      <td>-0.000391</td>\n",
       "      <td>0.003435</td>\n",
       "      <td>0.006826</td>\n",
       "      <td>0.008383</td>\n",
       "      <td>False</td>\n",
       "      <td>False</td>\n",
       "    </tr>\n",
       "    <tr>\n",
       "      <th>2</th>\n",
       "      <td>-0.008768</td>\n",
       "      <td>0.027119</td>\n",
       "      <td>-0.038023</td>\n",
       "      <td>0.013832</td>\n",
       "      <td>-0.044665</td>\n",
       "      <td>-0.012495</td>\n",
       "      <td>-0.019889</td>\n",
       "      <td>-0.049807</td>\n",
       "      <td>-0.004495</td>\n",
       "      <td>-0.002228</td>\n",
       "      <td>...</td>\n",
       "      <td>0.000816</td>\n",
       "      <td>-0.010834</td>\n",
       "      <td>-0.012121</td>\n",
       "      <td>-0.003478</td>\n",
       "      <td>-0.004329</td>\n",
       "      <td>-0.025902</td>\n",
       "      <td>-0.008582</td>\n",
       "      <td>-0.011836</td>\n",
       "      <td>False</td>\n",
       "      <td>True</td>\n",
       "    </tr>\n",
       "    <tr>\n",
       "      <th>3</th>\n",
       "      <td>0.007878</td>\n",
       "      <td>-0.046130</td>\n",
       "      <td>-0.012555</td>\n",
       "      <td>-0.001003</td>\n",
       "      <td>0.012358</td>\n",
       "      <td>-0.033311</td>\n",
       "      <td>-0.032281</td>\n",
       "      <td>-0.047386</td>\n",
       "      <td>-0.012148</td>\n",
       "      <td>-0.015564</td>\n",
       "      <td>...</td>\n",
       "      <td>-0.015081</td>\n",
       "      <td>0.006761</td>\n",
       "      <td>0.002884</td>\n",
       "      <td>-0.021230</td>\n",
       "      <td>-0.013306</td>\n",
       "      <td>-0.001434</td>\n",
       "      <td>-0.002780</td>\n",
       "      <td>-0.005327</td>\n",
       "      <td>False</td>\n",
       "      <td>True</td>\n",
       "    </tr>\n",
       "    <tr>\n",
       "      <th>4</th>\n",
       "      <td>-0.113355</td>\n",
       "      <td>-0.023602</td>\n",
       "      <td>-0.129956</td>\n",
       "      <td>0.013399</td>\n",
       "      <td>-0.004473</td>\n",
       "      <td>-0.002051</td>\n",
       "      <td>-0.034877</td>\n",
       "      <td>-0.017012</td>\n",
       "      <td>-0.046539</td>\n",
       "      <td>-0.016746</td>\n",
       "      <td>...</td>\n",
       "      <td>-0.032639</td>\n",
       "      <td>-0.004402</td>\n",
       "      <td>0.010967</td>\n",
       "      <td>0.009405</td>\n",
       "      <td>-0.028089</td>\n",
       "      <td>0.003807</td>\n",
       "      <td>-0.001978</td>\n",
       "      <td>-0.006098</td>\n",
       "      <td>False</td>\n",
       "      <td>True</td>\n",
       "    </tr>\n",
       "  </tbody>\n",
       "</table>\n",
       "<p>5 rows × 42 columns</p>\n",
       "</div>"
      ],
      "text/plain": [
       "     coninc       age    educom    degree    sphrs1   partyid  agekdbrn  \\\n",
       "0 -0.024180  0.012212  0.004822  0.025785  0.003010  0.005950  0.023872   \n",
       "1  0.002730 -0.004376  0.008302  0.014275 -0.018376 -0.000277  0.007874   \n",
       "2 -0.008768  0.027119 -0.038023  0.013832 -0.044665 -0.012495 -0.019889   \n",
       "3  0.007878 -0.046130 -0.012555 -0.001003  0.012358 -0.033311 -0.032281   \n",
       "4 -0.113355 -0.023602 -0.129956  0.013399 -0.004473 -0.002051 -0.034877   \n",
       "\n",
       "     class_  dwelling  polviews   ...     mobile16   natfare   marital  \\\n",
       "0 -0.082842 -0.039021 -0.005935   ...    -0.006342  0.023788  0.004271   \n",
       "1 -0.041408  0.012293  0.000421   ...    -0.002230  0.007787 -0.008250   \n",
       "2 -0.049807 -0.004495 -0.002228   ...     0.000816 -0.010834 -0.012121   \n",
       "3 -0.047386 -0.012148 -0.015564   ...    -0.015081  0.006761  0.002884   \n",
       "4 -0.017012 -0.046539 -0.016746   ...    -0.032639 -0.004402  0.010967   \n",
       "\n",
       "     divlaw  affrmact   helpnot      life  spanking  employed  correct  \n",
       "0  0.003521  0.000336 -0.004642  0.000422  0.000950      True     True  \n",
       "1  0.001585 -0.000391  0.003435  0.006826  0.008383     False    False  \n",
       "2 -0.003478 -0.004329 -0.025902 -0.008582 -0.011836     False     True  \n",
       "3 -0.021230 -0.013306 -0.001434 -0.002780 -0.005327     False     True  \n",
       "4  0.009405 -0.028089  0.003807 -0.001978 -0.006098     False     True  \n",
       "\n",
       "[5 rows x 42 columns]"
      ]
     },
     "execution_count": 46,
     "metadata": {},
     "output_type": "execute_result"
    }
   ],
   "source": [
    "a = pd.read_pickle('data/fc_df2.pkl')\n",
    "a.head()"
   ]
  },
  {
   "cell_type": "code",
   "execution_count": null,
   "metadata": {
    "collapsed": true
   },
   "outputs": [],
   "source": []
  }
 ],
 "metadata": {
  "kernelspec": {
   "display_name": "Python 2",
   "language": "python",
   "name": "python2"
  },
  "language_info": {
   "codemirror_mode": {
    "name": "ipython",
    "version": 2
   },
   "file_extension": ".py",
   "mimetype": "text/x-python",
   "name": "python",
   "nbconvert_exporter": "python",
   "pygments_lexer": "ipython2",
   "version": "2.7.10"
  }
 },
 "nbformat": 4,
 "nbformat_minor": 0
}
