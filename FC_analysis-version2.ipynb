{
 "cells": [
  {
   "cell_type": "code",
   "execution_count": 371,
   "metadata": {
    "collapsed": false
   },
   "outputs": [
    {
     "name": "stdout",
     "output_type": "stream",
     "text": [
      "The autoreload extension is already loaded. To reload it, use:\n",
      "  %reload_ext autoreload\n"
     ]
    }
   ],
   "source": [
    "from __future__ import division\n",
    "import pandas as pd\n",
    "import numpy as np \n",
    "import matplotlib.pylab as plt\n",
    "import seaborn as sns\n",
    "\n",
    "from code.organize import *\n",
    "from code.roughEDA import *\n",
    "from code.survey_processor_full import *\n",
    "from code.model_vis import *\n",
    "from code.fc import *\n",
    "from code.fc_cluster import *\n",
    "from collections import Counter,defaultdict,OrderedDict\n",
    "\n",
    "from sklearn.cross_validation import train_test_split\n",
    "from sklearn.ensemble import RandomForestClassifier, GradientBoostingClassifier\n",
    "from sklearn.metrics import roc_auc_score, confusion_matrix,roc_curve\n",
    "from sklearn.grid_search import GridSearchCV\n",
    "from sklearn.cross_validation import cross_val_score\n",
    "from sklearn.metrics import silhouette_samples, silhouette_score\n",
    "from sklearn.decomposition import PCA\n",
    "from sklearn.neighbors import NearestNeighbors\n",
    "\n",
    "from treeinterpreter import treeinterpreter as ti\n",
    "import matplotlib.cm as cm\n",
    "import cPickle as pickle\n",
    "%matplotlib inline\n",
    "%load_ext autoreload\n",
    "%autoreload 2"
   ]
  },
  {
   "cell_type": "markdown",
   "metadata": {},
   "source": [
    "# Feature Contribution Analysis\n",
    "\n",
    "In this session, how does each feature contribute to random forest decision making will be analysed. \n",
    "## 1. Load feature contribution matrix and group by cluster id"
   ]
  },
  {
   "cell_type": "code",
   "execution_count": 2,
   "metadata": {
    "collapsed": false
   },
   "outputs": [],
   "source": [
    "fc = FeatureContribution('data/fc_df2.pkl')\n",
    "fc_df = fc.cluster_processor(3,6)"
   ]
  },
  {
   "cell_type": "code",
   "execution_count": 3,
   "metadata": {
    "collapsed": false
   },
   "outputs": [
    {
     "data": {
      "text/html": [
       "<div>\n",
       "<table border=\"1\" class=\"dataframe\">\n",
       "  <thead>\n",
       "    <tr style=\"text-align: right;\">\n",
       "      <th></th>\n",
       "      <th>employment_rate</th>\n",
       "      <th>sample_size</th>\n",
       "    </tr>\n",
       "    <tr>\n",
       "      <th>cluster</th>\n",
       "      <th></th>\n",
       "      <th></th>\n",
       "    </tr>\n",
       "  </thead>\n",
       "  <tbody>\n",
       "    <tr>\n",
       "      <th>0</th>\n",
       "      <td>0.924484</td>\n",
       "      <td>2132</td>\n",
       "    </tr>\n",
       "    <tr>\n",
       "      <th>1</th>\n",
       "      <td>0.082192</td>\n",
       "      <td>365</td>\n",
       "    </tr>\n",
       "    <tr>\n",
       "      <th>2</th>\n",
       "      <td>0.040498</td>\n",
       "      <td>642</td>\n",
       "    </tr>\n",
       "    <tr>\n",
       "      <th>3</th>\n",
       "      <td>0.900459</td>\n",
       "      <td>653</td>\n",
       "    </tr>\n",
       "    <tr>\n",
       "      <th>4</th>\n",
       "      <td>0.895753</td>\n",
       "      <td>259</td>\n",
       "    </tr>\n",
       "    <tr>\n",
       "      <th>5</th>\n",
       "      <td>0.059809</td>\n",
       "      <td>418</td>\n",
       "    </tr>\n",
       "  </tbody>\n",
       "</table>\n",
       "</div>"
      ],
      "text/plain": [
       "         employment_rate  sample_size\n",
       "cluster                              \n",
       "0               0.924484         2132\n",
       "1               0.082192          365\n",
       "2               0.040498          642\n",
       "3               0.900459          653\n",
       "4               0.895753          259\n",
       "5               0.059809          418"
      ]
     },
     "execution_count": 3,
     "metadata": {},
     "output_type": "execute_result"
    }
   ],
   "source": [
    "summary = fc_df.groupby('cluster')['employed'].agg([np.mean,np.size])\n",
    "summary.columns = ['employment_rate','sample_size']\n",
    "summary"
   ]
  },
  {
   "cell_type": "markdown",
   "metadata": {},
   "source": [
    "**Cluster 1,2,5** are unemployed groups. **Cluster 0,3,4** are employed groups. \n"
   ]
  },
  {
   "cell_type": "markdown",
   "metadata": {},
   "source": [
    "## 2.  Load original survey data"
   ]
  },
  {
   "cell_type": "code",
   "execution_count": 4,
   "metadata": {
    "collapsed": true
   },
   "outputs": [],
   "source": [
    "sv = survey('data/survey2')\n",
    "sv.num_processor()"
   ]
  },
  {
   "cell_type": "code",
   "execution_count": 6,
   "metadata": {
    "collapsed": false
   },
   "outputs": [],
   "source": [
    "df = pd.concat([sv.fin_data[sv.num_cols],sv.data[sv.sv_cols],sv.fin_data.employed],axis =1)\n",
    "\n",
    "f40 = fc_df.columns[:41]\n",
    "df40= df[f40]\n",
    "l = list(df40.columns)\n",
    "l.append('cluster')\n",
    "\n",
    "new = np.column_stack((df40.values,fc_df.cluster))\n",
    "df = pd.DataFrame(new,columns=l)"
   ]
  },
  {
   "cell_type": "markdown",
   "metadata": {},
   "source": [
    "### Group by cluster. Take medians for numeric variables. Take mode for categorical variables.\n",
    "\n",
    "**Numeric variables**"
   ]
  },
  {
   "cell_type": "code",
   "execution_count": 7,
   "metadata": {
    "collapsed": false
   },
   "outputs": [],
   "source": [
    "df[sv.num_cols] = df[sv.num_cols].astype('float')"
   ]
  },
  {
   "cell_type": "code",
   "execution_count": 8,
   "metadata": {
    "collapsed": false
   },
   "outputs": [],
   "source": [
    "df_num = df.groupby('cluster')[sv.num_cols].agg([np.median])"
   ]
  },
  {
   "cell_type": "code",
   "execution_count": 9,
   "metadata": {
    "collapsed": false
   },
   "outputs": [
    {
     "data": {
      "text/html": [
       "<div>\n",
       "<table border=\"1\" class=\"dataframe\">\n",
       "  <thead>\n",
       "    <tr>\n",
       "      <th></th>\n",
       "      <th>sphrs1</th>\n",
       "      <th>age</th>\n",
       "      <th>agekdbrn</th>\n",
       "      <th>chldidel</th>\n",
       "      <th>coninc</th>\n",
       "      <th>educom</th>\n",
       "    </tr>\n",
       "    <tr>\n",
       "      <th></th>\n",
       "      <th>median</th>\n",
       "      <th>median</th>\n",
       "      <th>median</th>\n",
       "      <th>median</th>\n",
       "      <th>median</th>\n",
       "      <th>median</th>\n",
       "    </tr>\n",
       "    <tr>\n",
       "      <th>cluster</th>\n",
       "      <th></th>\n",
       "      <th></th>\n",
       "      <th></th>\n",
       "      <th></th>\n",
       "      <th></th>\n",
       "      <th></th>\n",
       "    </tr>\n",
       "  </thead>\n",
       "  <tbody>\n",
       "    <tr>\n",
       "      <th>0</th>\n",
       "      <td>60.0</td>\n",
       "      <td>36</td>\n",
       "      <td>25</td>\n",
       "      <td>4.0</td>\n",
       "      <td>49882.50</td>\n",
       "      <td>12.333333</td>\n",
       "    </tr>\n",
       "    <tr>\n",
       "      <th>1</th>\n",
       "      <td>98.0</td>\n",
       "      <td>31</td>\n",
       "      <td>19</td>\n",
       "      <td>5.0</td>\n",
       "      <td>8617.50</td>\n",
       "      <td>12.000000</td>\n",
       "    </tr>\n",
       "    <tr>\n",
       "      <th>2</th>\n",
       "      <td>54.5</td>\n",
       "      <td>35</td>\n",
       "      <td>25</td>\n",
       "      <td>8.0</td>\n",
       "      <td>52811.00</td>\n",
       "      <td>12.666667</td>\n",
       "    </tr>\n",
       "    <tr>\n",
       "      <th>3</th>\n",
       "      <td>98.0</td>\n",
       "      <td>33</td>\n",
       "      <td>21</td>\n",
       "      <td>4.0</td>\n",
       "      <td>9033.75</td>\n",
       "      <td>12.333333</td>\n",
       "    </tr>\n",
       "    <tr>\n",
       "      <th>4</th>\n",
       "      <td>98.0</td>\n",
       "      <td>34</td>\n",
       "      <td>19</td>\n",
       "      <td>4.0</td>\n",
       "      <td>18745.00</td>\n",
       "      <td>11.666667</td>\n",
       "    </tr>\n",
       "    <tr>\n",
       "      <th>5</th>\n",
       "      <td>98.0</td>\n",
       "      <td>34</td>\n",
       "      <td>22</td>\n",
       "      <td>6.5</td>\n",
       "      <td>7124.00</td>\n",
       "      <td>12.333333</td>\n",
       "    </tr>\n",
       "  </tbody>\n",
       "</table>\n",
       "</div>"
      ],
      "text/plain": [
       "        sphrs1    age agekdbrn chldidel    coninc     educom\n",
       "        median median   median   median    median     median\n",
       "cluster                                                     \n",
       "0         60.0     36       25      4.0  49882.50  12.333333\n",
       "1         98.0     31       19      5.0   8617.50  12.000000\n",
       "2         54.5     35       25      8.0  52811.00  12.666667\n",
       "3         98.0     33       21      4.0   9033.75  12.333333\n",
       "4         98.0     34       19      4.0  18745.00  11.666667\n",
       "5         98.0     34       22      6.5   7124.00  12.333333"
      ]
     },
     "execution_count": 9,
     "metadata": {},
     "output_type": "execute_result"
    }
   ],
   "source": [
    "df_num"
   ]
  },
  {
   "cell_type": "code",
   "execution_count": 10,
   "metadata": {
    "collapsed": true
   },
   "outputs": [
    {
     "name": "stdout",
     "output_type": "stream",
     "text": [
      "BS ratio: 0.50123070038\n",
      "BS number: 2240\n"
     ]
    },
    {
     "data": {
      "image/png": "[encoded data removed]",
      "text/plain": [
       "<matplotlib.figure.Figure at 0x1039bdd10>"
      ]
     },
     "metadata": {},
     "output_type": "display_data"
    }
   ],
   "source": [
    "check_bs(df.sphrs1,sv.bs_flag)"
   ]
  },
  {
   "cell_type": "code",
   "execution_count": 11,
   "metadata": {
    "collapsed": true
   },
   "outputs": [
    {
     "name": "stdout",
     "output_type": "stream",
     "text": [
      "BS ratio: 0.479973148355\n",
      "BS number: 2145\n"
     ]
    },
    {
     "data": {
      "image/png": "[encoded data removed]",
      "text/plain": [
       "<matplotlib.figure.Figure at 0x10a90bc90>"
      ]
     },
     "metadata": {},
     "output_type": "display_data"
    }
   ],
   "source": [
    "check_bs(df.chldidel,sv.bs_flag)"
   ]
  },
  {
   "cell_type": "markdown",
   "metadata": {
    "collapsed": false
   },
   "source": [
    "About half respondents did not answer spouse working hours or ideal number of kids. It's not accurate to take mean or median without removing the flag. Thereby, I'll remove respondents who didn't answer these two questions, then take median values. \n",
    "\n",
    "Age, agekdbrn and coninc maintain the median values. Educom uses mean because it further split the clusters. "
   ]
  },
  {
   "cell_type": "code",
   "execution_count": 193,
   "metadata": {
    "collapsed": false
   },
   "outputs": [],
   "source": [
    "df_n = df_num(df)"
   ]
  },
  {
   "cell_type": "code",
   "execution_count": 194,
   "metadata": {
    "collapsed": false
   },
   "outputs": [
    {
     "data": {
      "text/html": [
       "<div>\n",
       "<table border=\"1\" class=\"dataframe\">\n",
       "  <thead>\n",
       "    <tr style=\"text-align: right;\">\n",
       "      <th></th>\n",
       "      <th>sphrs1</th>\n",
       "      <th>chldidel</th>\n",
       "      <th>age</th>\n",
       "      <th>agekdbrn</th>\n",
       "      <th>coninc</th>\n",
       "      <th>educom</th>\n",
       "    </tr>\n",
       "    <tr>\n",
       "      <th>cluster</th>\n",
       "      <th></th>\n",
       "      <th></th>\n",
       "      <th></th>\n",
       "      <th></th>\n",
       "      <th></th>\n",
       "      <th></th>\n",
       "    </tr>\n",
       "  </thead>\n",
       "  <tbody>\n",
       "    <tr>\n",
       "      <th>0</th>\n",
       "      <td>42</td>\n",
       "      <td>2.0</td>\n",
       "      <td>36</td>\n",
       "      <td>25</td>\n",
       "      <td>49882.50</td>\n",
       "      <td>12.62</td>\n",
       "    </tr>\n",
       "    <tr>\n",
       "      <th>1</th>\n",
       "      <td>40</td>\n",
       "      <td>3.0</td>\n",
       "      <td>31</td>\n",
       "      <td>19</td>\n",
       "      <td>8617.50</td>\n",
       "      <td>10.80</td>\n",
       "    </tr>\n",
       "    <tr>\n",
       "      <th>2</th>\n",
       "      <td>50</td>\n",
       "      <td>2.5</td>\n",
       "      <td>35</td>\n",
       "      <td>25</td>\n",
       "      <td>52811.00</td>\n",
       "      <td>12.94</td>\n",
       "    </tr>\n",
       "    <tr>\n",
       "      <th>3</th>\n",
       "      <td>40</td>\n",
       "      <td>2.0</td>\n",
       "      <td>33</td>\n",
       "      <td>21</td>\n",
       "      <td>9033.75</td>\n",
       "      <td>12.28</td>\n",
       "    </tr>\n",
       "    <tr>\n",
       "      <th>4</th>\n",
       "      <td>40</td>\n",
       "      <td>3.0</td>\n",
       "      <td>34</td>\n",
       "      <td>19</td>\n",
       "      <td>18745.00</td>\n",
       "      <td>10.44</td>\n",
       "    </tr>\n",
       "    <tr>\n",
       "      <th>5</th>\n",
       "      <td>40</td>\n",
       "      <td>3.0</td>\n",
       "      <td>34</td>\n",
       "      <td>22</td>\n",
       "      <td>7124.00</td>\n",
       "      <td>12.08</td>\n",
       "    </tr>\n",
       "  </tbody>\n",
       "</table>\n",
       "</div>"
      ],
      "text/plain": [
       "         sphrs1  chldidel  age  agekdbrn    coninc  educom\n",
       "cluster                                                   \n",
       "0            42       2.0   36        25  49882.50   12.62\n",
       "1            40       3.0   31        19   8617.50   10.80\n",
       "2            50       2.5   35        25  52811.00   12.94\n",
       "3            40       2.0   33        21   9033.75   12.28\n",
       "4            40       3.0   34        19  18745.00   10.44\n",
       "5            40       3.0   34        22   7124.00   12.08"
      ]
     },
     "execution_count": 194,
     "metadata": {},
     "output_type": "execute_result"
    }
   ],
   "source": [
    "df_n"
   ]
  },
  {
   "cell_type": "markdown",
   "metadata": {},
   "source": [
    "**Categorical variables**"
   ]
  },
  {
   "cell_type": "code",
   "execution_count": 170,
   "metadata": {
    "collapsed": false
   },
   "outputs": [],
   "source": [
    "cat_cols = list(set(df.columns) - set(sv.num_cols) - set(['cluster']))"
   ]
  },
  {
   "cell_type": "markdown",
   "metadata": {},
   "source": [
    "Lots of \"Not applicable\" in mode answers. Use secondary mode answer instead if \"not applicable\" shows up."
   ]
  },
  {
   "cell_type": "code",
   "execution_count": 199,
   "metadata": {
    "collapsed": false
   },
   "outputs": [],
   "source": [
    "df_cat = df.groupby('cluster')[cat_cols].agg([mode_answer,percent])"
   ]
  },
  {
   "cell_type": "code",
   "execution_count": 203,
   "metadata": {
    "collapsed": false
   },
   "outputs": [],
   "source": [
    "df_cat_a = df_cat.iloc[:,0::2]\n",
    "df_cat_a.columns = cat_cols"
   ]
  },
  {
   "cell_type": "code",
   "execution_count": 204,
   "metadata": {
    "collapsed": false
   },
   "outputs": [],
   "source": [
    "df_summary = pd.concat([df_n,df_cat_a],axis =1)"
   ]
  },
  {
   "cell_type": "code",
   "execution_count": 207,
   "metadata": {
    "collapsed": true
   },
   "outputs": [
    {
     "name": "stderr",
     "output_type": "stream",
     "text": [
      "/Users/yleng/anaconda/lib/python2.7/site-packages/ipykernel/__main__.py:1: FutureWarning: sort(columns=....) is deprecated, use sort_values(by=.....)\n",
      "  if __name__ == '__main__':\n"
     ]
    },
    {
     "data": {
      "text/html": [
       "<div>\n",
       "<table border=\"1\" class=\"dataframe\">\n",
       "  <thead>\n",
       "    <tr style=\"text-align: right;\">\n",
       "      <th>cluster</th>\n",
       "      <th>1</th>\n",
       "      <th>2</th>\n",
       "      <th>5</th>\n",
       "      <th>0</th>\n",
       "      <th>3</th>\n",
       "      <th>4</th>\n",
       "    </tr>\n",
       "  </thead>\n",
       "  <tbody>\n",
       "    <tr>\n",
       "      <th>sphrs1</th>\n",
       "      <td>40</td>\n",
       "      <td>50</td>\n",
       "      <td>40</td>\n",
       "      <td>42</td>\n",
       "      <td>40</td>\n",
       "      <td>40</td>\n",
       "    </tr>\n",
       "    <tr>\n",
       "      <th>chldidel</th>\n",
       "      <td>3</td>\n",
       "      <td>2.5</td>\n",
       "      <td>3</td>\n",
       "      <td>2</td>\n",
       "      <td>2</td>\n",
       "      <td>3</td>\n",
       "    </tr>\n",
       "    <tr>\n",
       "      <th>age</th>\n",
       "      <td>31</td>\n",
       "      <td>35</td>\n",
       "      <td>34</td>\n",
       "      <td>36</td>\n",
       "      <td>33</td>\n",
       "      <td>34</td>\n",
       "    </tr>\n",
       "    <tr>\n",
       "      <th>agekdbrn</th>\n",
       "      <td>19</td>\n",
       "      <td>25</td>\n",
       "      <td>22</td>\n",
       "      <td>25</td>\n",
       "      <td>21</td>\n",
       "      <td>19</td>\n",
       "    </tr>\n",
       "    <tr>\n",
       "      <th>coninc</th>\n",
       "      <td>8617.5</td>\n",
       "      <td>52811</td>\n",
       "      <td>7124</td>\n",
       "      <td>49882.5</td>\n",
       "      <td>9033.75</td>\n",
       "      <td>18745</td>\n",
       "    </tr>\n",
       "    <tr>\n",
       "      <th>educom</th>\n",
       "      <td>10.8</td>\n",
       "      <td>12.94</td>\n",
       "      <td>12.08</td>\n",
       "      <td>12.62</td>\n",
       "      <td>12.28</td>\n",
       "      <td>10.44</td>\n",
       "    </tr>\n",
       "    <tr>\n",
       "      <th>affrmact</th>\n",
       "      <td>Oppose pref</td>\n",
       "      <td>Strongly oppose pref</td>\n",
       "      <td>Strongly oppose pref</td>\n",
       "      <td>Strongly oppose pref</td>\n",
       "      <td>Strongly oppose pref</td>\n",
       "      <td>Strongly oppose pref</td>\n",
       "    </tr>\n",
       "    <tr>\n",
       "      <th>fechld</th>\n",
       "      <td>Agree</td>\n",
       "      <td>Agree</td>\n",
       "      <td>Agree</td>\n",
       "      <td>Strongly agree</td>\n",
       "      <td>Agree</td>\n",
       "      <td>Strongly agree</td>\n",
       "    </tr>\n",
       "    <tr>\n",
       "      <th>helpnot</th>\n",
       "      <td>Agree with both</td>\n",
       "      <td>Agree with both</td>\n",
       "      <td>Agree with both</td>\n",
       "      <td>Agree with both</td>\n",
       "      <td>Agree with both</td>\n",
       "      <td>Agree with both</td>\n",
       "    </tr>\n",
       "    <tr>\n",
       "      <th>spanking</th>\n",
       "      <td>Agree</td>\n",
       "      <td>Agree</td>\n",
       "      <td>Agree</td>\n",
       "      <td>Agree</td>\n",
       "      <td>Agree</td>\n",
       "      <td>Agree</td>\n",
       "    </tr>\n",
       "    <tr>\n",
       "      <th>mobile16</th>\n",
       "      <td>Same city</td>\n",
       "      <td>Different state</td>\n",
       "      <td>Same city</td>\n",
       "      <td>Same city</td>\n",
       "      <td>Same city</td>\n",
       "      <td>Same city</td>\n",
       "    </tr>\n",
       "    <tr>\n",
       "      <th>natrace</th>\n",
       "      <td>Too little</td>\n",
       "      <td>About right</td>\n",
       "      <td>Too little</td>\n",
       "      <td>About right</td>\n",
       "      <td>About right</td>\n",
       "      <td>About right</td>\n",
       "    </tr>\n",
       "    <tr>\n",
       "      <th>natspac</th>\n",
       "      <td>About right</td>\n",
       "      <td>About right</td>\n",
       "      <td>Too much</td>\n",
       "      <td>About right</td>\n",
       "      <td>Too much</td>\n",
       "      <td>Too much</td>\n",
       "    </tr>\n",
       "    <tr>\n",
       "      <th>dwelling</th>\n",
       "      <td>Detached 1-fam house</td>\n",
       "      <td>Detached 1-fam house</td>\n",
       "      <td>Detached 1-fam house</td>\n",
       "      <td>Detached 1-fam house</td>\n",
       "      <td>Detached 1-fam house</td>\n",
       "      <td>Detached 1-fam house</td>\n",
       "    </tr>\n",
       "    <tr>\n",
       "      <th>reliten</th>\n",
       "      <td>Not very strong</td>\n",
       "      <td>Strong</td>\n",
       "      <td>Not very strong</td>\n",
       "      <td>Not very strong</td>\n",
       "      <td>Strong</td>\n",
       "      <td>Not very strong</td>\n",
       "    </tr>\n",
       "    <tr>\n",
       "      <th>res16</th>\n",
       "      <td>Town lt 50000</td>\n",
       "      <td>Town lt 50000</td>\n",
       "      <td>Town lt 50000</td>\n",
       "      <td>Town lt 50000</td>\n",
       "      <td>Town lt 50000</td>\n",
       "      <td>Town lt 50000</td>\n",
       "    </tr>\n",
       "    <tr>\n",
       "      <th>natfare</th>\n",
       "      <td>Too little</td>\n",
       "      <td>Too much</td>\n",
       "      <td>Too little</td>\n",
       "      <td>Too much</td>\n",
       "      <td>Too much</td>\n",
       "      <td>About right</td>\n",
       "    </tr>\n",
       "    <tr>\n",
       "      <th>divorce</th>\n",
       "      <td>No</td>\n",
       "      <td>No</td>\n",
       "      <td>No</td>\n",
       "      <td>No</td>\n",
       "      <td>No</td>\n",
       "      <td>No</td>\n",
       "    </tr>\n",
       "    <tr>\n",
       "      <th>divlaw</th>\n",
       "      <td>Easier</td>\n",
       "      <td>More difficult</td>\n",
       "      <td>Easier</td>\n",
       "      <td>More difficult</td>\n",
       "      <td>More difficult</td>\n",
       "      <td>Easier</td>\n",
       "    </tr>\n",
       "    <tr>\n",
       "      <th>fefam</th>\n",
       "      <td>Disagree</td>\n",
       "      <td>Disagree</td>\n",
       "      <td>Disagree</td>\n",
       "      <td>Disagree</td>\n",
       "      <td>Disagree</td>\n",
       "      <td>Disagree</td>\n",
       "    </tr>\n",
       "    <tr>\n",
       "      <th>socbar</th>\n",
       "      <td>Never</td>\n",
       "      <td>Never</td>\n",
       "      <td>Never</td>\n",
       "      <td>Never</td>\n",
       "      <td>Never</td>\n",
       "      <td>Never</td>\n",
       "    </tr>\n",
       "    <tr>\n",
       "      <th>partyid</th>\n",
       "      <td>Independent</td>\n",
       "      <td>Not str republican</td>\n",
       "      <td>Independent</td>\n",
       "      <td>Not str democrat</td>\n",
       "      <td>Independent</td>\n",
       "      <td>Independent</td>\n",
       "    </tr>\n",
       "    <tr>\n",
       "      <th>employed</th>\n",
       "      <td>False</td>\n",
       "      <td>False</td>\n",
       "      <td>False</td>\n",
       "      <td>True</td>\n",
       "      <td>True</td>\n",
       "      <td>True</td>\n",
       "    </tr>\n",
       "    <tr>\n",
       "      <th>finrela</th>\n",
       "      <td>Below average</td>\n",
       "      <td>Average</td>\n",
       "      <td>Below average</td>\n",
       "      <td>Average</td>\n",
       "      <td>Average</td>\n",
       "      <td>Average</td>\n",
       "    </tr>\n",
       "    <tr>\n",
       "      <th>meovrwrk</th>\n",
       "      <td>Agree</td>\n",
       "      <td>Agree</td>\n",
       "      <td>Agree</td>\n",
       "      <td>Agree</td>\n",
       "      <td>Agree</td>\n",
       "      <td>Agree</td>\n",
       "    </tr>\n",
       "    <tr>\n",
       "      <th>helpoth</th>\n",
       "      <td>3rd important</td>\n",
       "      <td>3rd important</td>\n",
       "      <td>3rd important</td>\n",
       "      <td>3rd important</td>\n",
       "      <td>3rd important</td>\n",
       "      <td>3rd important</td>\n",
       "    </tr>\n",
       "    <tr>\n",
       "      <th>life</th>\n",
       "      <td>Routine</td>\n",
       "      <td>Routine</td>\n",
       "      <td>Routine</td>\n",
       "      <td>Routine</td>\n",
       "      <td>Routine</td>\n",
       "      <td>Routine</td>\n",
       "    </tr>\n",
       "    <tr>\n",
       "      <th>degree</th>\n",
       "      <td>Lt high school</td>\n",
       "      <td>High school</td>\n",
       "      <td>High school</td>\n",
       "      <td>High school</td>\n",
       "      <td>High school</td>\n",
       "      <td>Lt high school</td>\n",
       "    </tr>\n",
       "    <tr>\n",
       "      <th>socfrend</th>\n",
       "      <td>Never</td>\n",
       "      <td>Once a month</td>\n",
       "      <td>Sev times a week</td>\n",
       "      <td>Once a month</td>\n",
       "      <td>Sev times a week</td>\n",
       "      <td>Once a month</td>\n",
       "    </tr>\n",
       "    <tr>\n",
       "      <th>fund</th>\n",
       "      <td>Moderate</td>\n",
       "      <td>Moderate</td>\n",
       "      <td>Fundamentalist</td>\n",
       "      <td>Moderate</td>\n",
       "      <td>Moderate</td>\n",
       "      <td>Moderate</td>\n",
       "    </tr>\n",
       "    <tr>\n",
       "      <th>courts</th>\n",
       "      <td>Not harsh enough</td>\n",
       "      <td>Not harsh enough</td>\n",
       "      <td>Not harsh enough</td>\n",
       "      <td>Not harsh enough</td>\n",
       "      <td>Not harsh enough</td>\n",
       "      <td>Not harsh enough</td>\n",
       "    </tr>\n",
       "    <tr>\n",
       "      <th>workhard</th>\n",
       "      <td>2nd important</td>\n",
       "      <td>2nd important</td>\n",
       "      <td>2nd important</td>\n",
       "      <td>2nd important</td>\n",
       "      <td>2nd important</td>\n",
       "      <td>3rd important</td>\n",
       "    </tr>\n",
       "    <tr>\n",
       "      <th>marital</th>\n",
       "      <td>Never married</td>\n",
       "      <td>Married</td>\n",
       "      <td>Married</td>\n",
       "      <td>Married</td>\n",
       "      <td>Never married</td>\n",
       "      <td>Married</td>\n",
       "    </tr>\n",
       "    <tr>\n",
       "      <th>kidssol</th>\n",
       "      <td>Much better</td>\n",
       "      <td>Somewhat better</td>\n",
       "      <td>Much better</td>\n",
       "      <td>Somewhat better</td>\n",
       "      <td>Much better</td>\n",
       "      <td>Much better</td>\n",
       "    </tr>\n",
       "    <tr>\n",
       "      <th>incom16</th>\n",
       "      <td>Average</td>\n",
       "      <td>Average</td>\n",
       "      <td>Average</td>\n",
       "      <td>Average</td>\n",
       "      <td>Average</td>\n",
       "      <td>Average</td>\n",
       "    </tr>\n",
       "    <tr>\n",
       "      <th>natsoc</th>\n",
       "      <td>Too little</td>\n",
       "      <td>Too little</td>\n",
       "      <td>Too little</td>\n",
       "      <td>Too little</td>\n",
       "      <td>Too little</td>\n",
       "      <td>Too little</td>\n",
       "    </tr>\n",
       "    <tr>\n",
       "      <th>class_</th>\n",
       "      <td>Working class</td>\n",
       "      <td>Middle class</td>\n",
       "      <td>Working class</td>\n",
       "      <td>Working class</td>\n",
       "      <td>Working class</td>\n",
       "      <td>Working class</td>\n",
       "    </tr>\n",
       "    <tr>\n",
       "      <th>natroad</th>\n",
       "      <td>About right</td>\n",
       "      <td>About right</td>\n",
       "      <td>About right</td>\n",
       "      <td>About right</td>\n",
       "      <td>About right</td>\n",
       "      <td>About right</td>\n",
       "    </tr>\n",
       "    <tr>\n",
       "      <th>polviews</th>\n",
       "      <td>Moderate</td>\n",
       "      <td>Moderate</td>\n",
       "      <td>Moderate</td>\n",
       "      <td>Moderate</td>\n",
       "      <td>Moderate</td>\n",
       "      <td>Moderate</td>\n",
       "    </tr>\n",
       "    <tr>\n",
       "      <th>parsol</th>\n",
       "      <td>Somewhat better</td>\n",
       "      <td>Somewhat better</td>\n",
       "      <td>Somewhat better</td>\n",
       "      <td>Much better</td>\n",
       "      <td>Somewhat better</td>\n",
       "      <td>Much better</td>\n",
       "    </tr>\n",
       "    <tr>\n",
       "      <th>mawrkgrw</th>\n",
       "      <td>Yes</td>\n",
       "      <td>Yes</td>\n",
       "      <td>Yes</td>\n",
       "      <td>Yes</td>\n",
       "      <td>Yes</td>\n",
       "      <td>Yes</td>\n",
       "    </tr>\n",
       "  </tbody>\n",
       "</table>\n",
       "</div>"
      ],
      "text/plain": [
       "cluster                      1                     2                     5  \\\n",
       "sphrs1                      40                    50                    40   \n",
       "chldidel                     3                   2.5                     3   \n",
       "age                         31                    35                    34   \n",
       "agekdbrn                    19                    25                    22   \n",
       "coninc                  8617.5                 52811                  7124   \n",
       "educom                    10.8                 12.94                 12.08   \n",
       "affrmact           Oppose pref  Strongly oppose pref  Strongly oppose pref   \n",
       "fechld                   Agree                 Agree                 Agree   \n",
       "helpnot        Agree with both       Agree with both       Agree with both   \n",
       "spanking                 Agree                 Agree                 Agree   \n",
       "mobile16             Same city       Different state             Same city   \n",
       "natrace             Too little           About right            Too little   \n",
       "natspac            About right           About right              Too much   \n",
       "dwelling  Detached 1-fam house  Detached 1-fam house  Detached 1-fam house   \n",
       "reliten        Not very strong                Strong       Not very strong   \n",
       "res16            Town lt 50000         Town lt 50000         Town lt 50000   \n",
       "natfare             Too little              Too much            Too little   \n",
       "divorce                     No                    No                    No   \n",
       "divlaw                  Easier        More difficult                Easier   \n",
       "fefam                 Disagree              Disagree              Disagree   \n",
       "socbar                   Never                 Never                 Never   \n",
       "partyid            Independent    Not str republican           Independent   \n",
       "employed                 False                 False                 False   \n",
       "finrela          Below average               Average         Below average   \n",
       "meovrwrk                 Agree                 Agree                 Agree   \n",
       "helpoth          3rd important         3rd important         3rd important   \n",
       "life                   Routine               Routine               Routine   \n",
       "degree          Lt high school           High school           High school   \n",
       "socfrend                 Never          Once a month      Sev times a week   \n",
       "fund                  Moderate              Moderate        Fundamentalist   \n",
       "courts        Not harsh enough      Not harsh enough      Not harsh enough   \n",
       "workhard         2nd important         2nd important         2nd important   \n",
       "marital          Never married               Married               Married   \n",
       "kidssol            Much better       Somewhat better           Much better   \n",
       "incom16                Average               Average               Average   \n",
       "natsoc              Too little            Too little            Too little   \n",
       "class_           Working class          Middle class         Working class   \n",
       "natroad            About right           About right           About right   \n",
       "polviews              Moderate              Moderate              Moderate   \n",
       "parsol         Somewhat better       Somewhat better       Somewhat better   \n",
       "mawrkgrw                   Yes                   Yes                   Yes   \n",
       "\n",
       "cluster                      0                     3                     4  \n",
       "sphrs1                      42                    40                    40  \n",
       "chldidel                     2                     2                     3  \n",
       "age                         36                    33                    34  \n",
       "agekdbrn                    25                    21                    19  \n",
       "coninc                 49882.5               9033.75                 18745  \n",
       "educom                   12.62                 12.28                 10.44  \n",
       "affrmact  Strongly oppose pref  Strongly oppose pref  Strongly oppose pref  \n",
       "fechld          Strongly agree                 Agree        Strongly agree  \n",
       "helpnot        Agree with both       Agree with both       Agree with both  \n",
       "spanking                 Agree                 Agree                 Agree  \n",
       "mobile16             Same city             Same city             Same city  \n",
       "natrace            About right           About right           About right  \n",
       "natspac            About right              Too much              Too much  \n",
       "dwelling  Detached 1-fam house  Detached 1-fam house  Detached 1-fam house  \n",
       "reliten        Not very strong                Strong       Not very strong  \n",
       "res16            Town lt 50000         Town lt 50000         Town lt 50000  \n",
       "natfare               Too much              Too much           About right  \n",
       "divorce                     No                    No                    No  \n",
       "divlaw          More difficult        More difficult                Easier  \n",
       "fefam                 Disagree              Disagree              Disagree  \n",
       "socbar                   Never                 Never                 Never  \n",
       "partyid       Not str democrat           Independent           Independent  \n",
       "employed                  True                  True                  True  \n",
       "finrela                Average               Average               Average  \n",
       "meovrwrk                 Agree                 Agree                 Agree  \n",
       "helpoth          3rd important         3rd important         3rd important  \n",
       "life                   Routine               Routine               Routine  \n",
       "degree             High school           High school        Lt high school  \n",
       "socfrend          Once a month      Sev times a week          Once a month  \n",
       "fund                  Moderate              Moderate              Moderate  \n",
       "courts        Not harsh enough      Not harsh enough      Not harsh enough  \n",
       "workhard         2nd important         2nd important         3rd important  \n",
       "marital                Married         Never married               Married  \n",
       "kidssol        Somewhat better           Much better           Much better  \n",
       "incom16                Average               Average               Average  \n",
       "natsoc              Too little            Too little            Too little  \n",
       "class_           Working class         Working class         Working class  \n",
       "natroad            About right           About right           About right  \n",
       "polviews              Moderate              Moderate              Moderate  \n",
       "parsol             Much better       Somewhat better           Much better  \n",
       "mawrkgrw                   Yes                   Yes                   Yes  "
      ]
     },
     "execution_count": 207,
     "metadata": {},
     "output_type": "execute_result"
    }
   ],
   "source": [
    "df_summary.sort('employed').T"
   ]
  },
  {
   "cell_type": "markdown",
   "metadata": {},
   "source": [
    "### Generate a heatmap"
   ]
  },
  {
   "cell_type": "code",
   "execution_count": 268,
   "metadata": {
    "collapsed": false
   },
   "outputs": [],
   "source": [
    "heat_df = pd.concat([sv.fin_data[sv.num_cols],sv.fin_data[sv.sv_cols],sv.fin_data.employed],axis =1)\n",
    "\n",
    "f40 = fc_df.columns[:41]\n",
    "heat_df40= heat_df[f40]\n",
    "l = list(heat_df40.columns)\n",
    "l.append('cluster')\n",
    "\n",
    "new = np.column_stack((heat_df40.values,fc_df.cluster))\n",
    "heat_df = pd.DataFrame(new,columns=l)"
   ]
  },
  {
   "cell_type": "code",
   "execution_count": 269,
   "metadata": {
    "collapsed": false
   },
   "outputs": [],
   "source": [
    "heat_df_n = df_num(heat_df)\n",
    "heat_df_cat = heat_df.groupby('cluster')[cat_cols].agg([mode_answer])\n",
    "heat_df_cat.columns = cat_cols\n",
    "heat_df_sum = pd.concat([heat_df_n,heat_df_cat],axis =1)"
   ]
  },
  {
   "cell_type": "code",
   "execution_count": 274,
   "metadata": {
    "collapsed": false
   },
   "outputs": [
    {
     "name": "stderr",
     "output_type": "stream",
     "text": [
      "/Users/yleng/anaconda/lib/python2.7/site-packages/ipykernel/__main__.py:4: FutureWarning: sort(columns=....) is deprecated, use sort_values(by=.....)\n"
     ]
    }
   ],
   "source": [
    "from sklearn.preprocessing import scale\n",
    "heat_df_sum[cat_cols] = heat_df_sum[cat_cols].apply(lambda x: x.astype('int'))\n",
    "heat_df_sum[sv.num_cols] = scale(heat_df_sum[sv.num_cols])\n",
    "heat_df_sum.sort('employed',inplace=True)"
   ]
  },
  {
   "cell_type": "code",
   "execution_count": 291,
   "metadata": {
    "collapsed": false
   },
   "outputs": [
    {
     "data": {
      "text/plain": [
       "<matplotlib.axes._subplots.AxesSubplot at 0x11ab22a10>"
      ]
     },
     "execution_count": 291,
     "metadata": {},
     "output_type": "execute_result"
    },
    {
     "data": {
      "image/png": "[encoded data removed]",
      "text/plain": [
       "<matplotlib.figure.Figure at 0x11ab228d0>"
      ]
     },
     "metadata": {},
     "output_type": "display_data"
    }
   ],
   "source": [
    "plt.figure(figsize=(10,10))\n",
    "sns.heatmap(heat_df_sum.T,annot=True)"
   ]
  },
  {
   "cell_type": "markdown",
   "metadata": {},
   "source": [
    "To distinguish clusters, we need to drop the features have the same values across clusters. "
   ]
  },
  {
   "cell_type": "code",
   "execution_count": 333,
   "metadata": {
    "collapsed": false
   },
   "outputs": [],
   "source": [
    "redu_heat_df = drop_feature(heat_df_sum).T\n",
    "redu_heat_df = redu_heat_df.reindex(['sphrs1','chldidel','age','agekdbrn','coninc','educom','affrmact',\n",
    "                                     'fechld','mobile16','natrace','natspac', 'reliten', 'natfare','divlaw',\n",
    "                                      'partyid', 'finrela', 'helpoth', 'degree','socfrend', 'fund', 'workhard',\n",
    "                                     'marital', 'kidssol', 'class_', 'parsol','employed'])"
   ]
  },
  {
   "cell_type": "code",
   "execution_count": 334,
   "metadata": {
    "collapsed": false
   },
   "outputs": [
    {
     "data": {
      "text/plain": [
       "<matplotlib.axes._subplots.AxesSubplot at 0x11e79f050>"
      ]
     },
     "execution_count": 334,
     "metadata": {},
     "output_type": "execute_result"
    },
    {
     "data": {
      "image/png": "[encoded data removed]",
      "text/plain": [
       "<matplotlib.figure.Figure at 0x11e79f110>"
      ]
     },
     "metadata": {},
     "output_type": "display_data"
    }
   ],
   "source": [
    "plt.figure(figsize=(10,10))\n",
    "sns.heatmap(redu_heat_df,annot=True)"
   ]
  },
  {
   "cell_type": "markdown",
   "metadata": {},
   "source": [
    "Now it is easier to check. \n",
    "## to do :check cose similiarities. "
   ]
  },
  {
   "cell_type": "code",
   "execution_count": null,
   "metadata": {
    "collapsed": true
   },
   "outputs": [],
   "source": []
  },
  {
   "cell_type": "code",
   "execution_count": null,
   "metadata": {
    "collapsed": true
   },
   "outputs": [],
   "source": []
  },
  {
   "cell_type": "code",
   "execution_count": null,
   "metadata": {
    "collapsed": true
   },
   "outputs": [],
   "source": []
  },
  {
   "cell_type": "markdown",
   "metadata": {},
   "source": [
    "## 3. Unemployed Clusters"
   ]
  },
  {
   "cell_type": "code",
   "execution_count": 390,
   "metadata": {
    "collapsed": false
   },
   "outputs": [
    {
     "data": {
      "text/plain": [
       "<matplotlib.axes._subplots.AxesSubplot at 0x11f779bd0>"
      ]
     },
     "execution_count": 390,
     "metadata": {},
     "output_type": "execute_result"
    },
    {
     "data": {
      "image/png": "[encoded data removed]",
      "text/plain": [
       "<matplotlib.figure.Figure at 0x11f779890>"
      ]
     },
     "metadata": {},
     "output_type": "display_data"
    }
   ],
   "source": [
    "plt.figure(figsize=(8,8))\n",
    "sns.heatmap(redu_heat_df[redu_heat_df.columns[:3]],annot=True)"
   ]
  },
  {
   "cell_type": "markdown",
   "metadata": {},
   "source": [
    "### Cluster 1"
   ]
  },
  {
   "cell_type": "code",
   "execution_count": 397,
   "metadata": {
    "collapsed": false
   },
   "outputs": [],
   "source": [
    "c1 = fc_df[fc_df.cluster == 1]"
   ]
  },
  {
   "cell_type": "markdown",
   "metadata": {},
   "source": [
    "These features are the top 10 features driving the decision."
   ]
  },
  {
   "cell_type": "code",
   "execution_count": 398,
   "metadata": {
    "collapsed": false
   },
   "outputs": [
    {
     "data": {
      "text/plain": [
       "[(-0.12551662685679615, 'degree'),\n",
       " (-0.063086126768045356, 'coninc'),\n",
       " (-0.021723891743851996, 'age'),\n",
       " (-0.017084660320522339, 'agekdbrn'),\n",
       " (-0.016895788647500305, 'educom'),\n",
       " (-0.014650047797046557, 'class_'),\n",
       " (-0.011659304310631145, 'polviews'),\n",
       " (-0.010897973232229251, 'incom16'),\n",
       " (-0.010461340957816267, 'dwelling'),\n",
       " (-0.0095513131604080034, 'socfrend')]"
      ]
     },
     "execution_count": 398,
     "metadata": {},
     "output_type": "execute_result"
    }
   ],
   "source": [
    "sort_feature_means(c1,10)"
   ]
  },
  {
   "cell_type": "markdown",
   "metadata": {},
   "source": [
    "#### Details in their answers"
   ]
  },
  {
   "cell_type": "code",
   "execution_count": 392,
   "metadata": {
    "collapsed": false,
    "scrolled": true
   },
   "outputs": [],
   "source": [
    "df_c0 = df[df.cluster ==0]"
   ]
  },
  {
   "cell_type": "code",
   "execution_count": 396,
   "metadata": {
    "collapsed": false
   },
   "outputs": [
    {
     "data": {
      "text/plain": [
       "sphrs1                        42\n",
       "chldidel                       2\n",
       "age                           36\n",
       "agekdbrn                      25\n",
       "coninc                   49882.5\n",
       "educom                     12.62\n",
       "affrmact    Strongly oppose pref\n",
       "fechld            Strongly agree\n",
       "mobile16               Same city\n",
       "natrace              About right\n",
       "natspac              About right\n",
       "reliten          Not very strong\n",
       "natfare                 Too much\n",
       "divlaw            More difficult\n",
       "partyid         Not str democrat\n",
       "finrela                  Average\n",
       "helpoth            3rd important\n",
       "degree               High school\n",
       "socfrend            Once a month\n",
       "fund                    Moderate\n",
       "workhard           2nd important\n",
       "marital                  Married\n",
       "kidssol          Somewhat better\n",
       "class_             Working class\n",
       "parsol               Much better\n",
       "employed                    True\n",
       "Name: 0, dtype: object"
      ]
     },
     "execution_count": 396,
     "metadata": {},
     "output_type": "execute_result"
    }
   ],
   "source": [
    "df_summary[redu_heat_df.index].ix[0]"
   ]
  },
  {
   "cell_type": "code",
   "execution_count": 115,
   "metadata": {
    "collapsed": true
   },
   "outputs": [
    {
     "data": {
      "text/html": [
       "<div>\n",
       "<table border=\"1\" class=\"dataframe\">\n",
       "  <thead>\n",
       "    <tr style=\"text-align: right;\">\n",
       "      <th></th>\n",
       "      <th>rank_first_v</th>\n",
       "      <th>rank_first_p</th>\n",
       "      <th>rank_second_v</th>\n",
       "      <th>rank_second_p</th>\n",
       "    </tr>\n",
       "  </thead>\n",
       "  <tbody>\n",
       "    <tr>\n",
       "      <th>affrmact</th>\n",
       "      <td>Not applicable</td>\n",
       "      <td>0.43</td>\n",
       "      <td>Strongly oppose pref</td>\n",
       "      <td>0.31</td>\n",
       "    </tr>\n",
       "    <tr>\n",
       "      <th>fechld</th>\n",
       "      <td>Not applicable</td>\n",
       "      <td>0.39</td>\n",
       "      <td>Strongly agree</td>\n",
       "      <td>0.25</td>\n",
       "    </tr>\n",
       "    <tr>\n",
       "      <th>helpnot</th>\n",
       "      <td>Not applicable</td>\n",
       "      <td>0.44</td>\n",
       "      <td>Agree with both</td>\n",
       "      <td>0.25</td>\n",
       "    </tr>\n",
       "    <tr>\n",
       "      <th>spanking</th>\n",
       "      <td>Not applicable</td>\n",
       "      <td>0.40</td>\n",
       "      <td>Agree</td>\n",
       "      <td>0.26</td>\n",
       "    </tr>\n",
       "    <tr>\n",
       "      <th>mobile16</th>\n",
       "      <td>Same city</td>\n",
       "      <td>0.38</td>\n",
       "      <td>Different state</td>\n",
       "      <td>0.31</td>\n",
       "    </tr>\n",
       "    <tr>\n",
       "      <th>natrace</th>\n",
       "      <td>Not applicable</td>\n",
       "      <td>0.53</td>\n",
       "      <td>About right</td>\n",
       "      <td>0.17</td>\n",
       "    </tr>\n",
       "    <tr>\n",
       "      <th>natspac</th>\n",
       "      <td>Not applicable</td>\n",
       "      <td>0.53</td>\n",
       "      <td>About right</td>\n",
       "      <td>0.2</td>\n",
       "    </tr>\n",
       "    <tr>\n",
       "      <th>dwelling</th>\n",
       "      <td>Detached 1-fam house</td>\n",
       "      <td>0.67</td>\n",
       "      <td>Apartment house</td>\n",
       "      <td>0.1</td>\n",
       "    </tr>\n",
       "    <tr>\n",
       "      <th>reliten</th>\n",
       "      <td>Not very strong</td>\n",
       "      <td>0.38</td>\n",
       "      <td>Strong</td>\n",
       "      <td>0.37</td>\n",
       "    </tr>\n",
       "    <tr>\n",
       "      <th>res16</th>\n",
       "      <td>Town lt 50000</td>\n",
       "      <td>0.28</td>\n",
       "      <td>50000 to 250000</td>\n",
       "      <td>0.2</td>\n",
       "    </tr>\n",
       "    <tr>\n",
       "      <th>natfare</th>\n",
       "      <td>Not applicable</td>\n",
       "      <td>0.53</td>\n",
       "      <td>Too much</td>\n",
       "      <td>0.23</td>\n",
       "    </tr>\n",
       "    <tr>\n",
       "      <th>divorce</th>\n",
       "      <td>No</td>\n",
       "      <td>0.52</td>\n",
       "      <td>Not applicable</td>\n",
       "      <td>0.33</td>\n",
       "    </tr>\n",
       "    <tr>\n",
       "      <th>divlaw</th>\n",
       "      <td>Not applicable</td>\n",
       "      <td>0.40</td>\n",
       "      <td>More difficult</td>\n",
       "      <td>0.28</td>\n",
       "    </tr>\n",
       "    <tr>\n",
       "      <th>fefam</th>\n",
       "      <td>Not applicable</td>\n",
       "      <td>0.39</td>\n",
       "      <td>Disagree</td>\n",
       "      <td>0.29</td>\n",
       "    </tr>\n",
       "    <tr>\n",
       "      <th>socbar</th>\n",
       "      <td>Not applicable</td>\n",
       "      <td>0.40</td>\n",
       "      <td>Never</td>\n",
       "      <td>0.23</td>\n",
       "    </tr>\n",
       "    <tr>\n",
       "      <th>partyid</th>\n",
       "      <td>Not str democrat</td>\n",
       "      <td>0.21</td>\n",
       "      <td>Independent</td>\n",
       "      <td>0.17</td>\n",
       "    </tr>\n",
       "    <tr>\n",
       "      <th>employed</th>\n",
       "      <td>True</td>\n",
       "      <td>0.92</td>\n",
       "      <td>False</td>\n",
       "      <td>0.08</td>\n",
       "    </tr>\n",
       "    <tr>\n",
       "      <th>finrela</th>\n",
       "      <td>Average</td>\n",
       "      <td>0.49</td>\n",
       "      <td>Below average</td>\n",
       "      <td>0.18</td>\n",
       "    </tr>\n",
       "    <tr>\n",
       "      <th>meovrwrk</th>\n",
       "      <td>Not applicable</td>\n",
       "      <td>0.53</td>\n",
       "      <td>Agree</td>\n",
       "      <td>0.18</td>\n",
       "    </tr>\n",
       "    <tr>\n",
       "      <th>helpoth</th>\n",
       "      <td>Not applicable</td>\n",
       "      <td>0.47</td>\n",
       "      <td>3rd important</td>\n",
       "      <td>0.19</td>\n",
       "    </tr>\n",
       "    <tr>\n",
       "      <th>life</th>\n",
       "      <td>Not applicable</td>\n",
       "      <td>0.42</td>\n",
       "      <td>Routine</td>\n",
       "      <td>0.28</td>\n",
       "    </tr>\n",
       "    <tr>\n",
       "      <th>degree</th>\n",
       "      <td>High school</td>\n",
       "      <td>0.56</td>\n",
       "      <td>Bachelor</td>\n",
       "      <td>0.21</td>\n",
       "    </tr>\n",
       "    <tr>\n",
       "      <th>socfrend</th>\n",
       "      <td>Not applicable</td>\n",
       "      <td>0.40</td>\n",
       "      <td>Once a month</td>\n",
       "      <td>0.17</td>\n",
       "    </tr>\n",
       "    <tr>\n",
       "      <th>fund</th>\n",
       "      <td>Moderate</td>\n",
       "      <td>0.41</td>\n",
       "      <td>Fundamentalist</td>\n",
       "      <td>0.31</td>\n",
       "    </tr>\n",
       "    <tr>\n",
       "      <th>courts</th>\n",
       "      <td>Not harsh enough</td>\n",
       "      <td>0.66</td>\n",
       "      <td>Not applicable</td>\n",
       "      <td>0.14</td>\n",
       "    </tr>\n",
       "    <tr>\n",
       "      <th>workhard</th>\n",
       "      <td>Not applicable</td>\n",
       "      <td>0.47</td>\n",
       "      <td>2nd important</td>\n",
       "      <td>0.19</td>\n",
       "    </tr>\n",
       "    <tr>\n",
       "      <th>marital</th>\n",
       "      <td>Married</td>\n",
       "      <td>0.66</td>\n",
       "      <td>Divorced</td>\n",
       "      <td>0.14</td>\n",
       "    </tr>\n",
       "    <tr>\n",
       "      <th>kidssol</th>\n",
       "      <td>Not applicable</td>\n",
       "      <td>0.47</td>\n",
       "      <td>Somewhat better</td>\n",
       "      <td>0.18</td>\n",
       "    </tr>\n",
       "    <tr>\n",
       "      <th>incom16</th>\n",
       "      <td>Not applicable</td>\n",
       "      <td>0.44</td>\n",
       "      <td>Average</td>\n",
       "      <td>0.28</td>\n",
       "    </tr>\n",
       "    <tr>\n",
       "      <th>natsoc</th>\n",
       "      <td>Too little</td>\n",
       "      <td>0.61</td>\n",
       "      <td>About right</td>\n",
       "      <td>0.25</td>\n",
       "    </tr>\n",
       "    <tr>\n",
       "      <th>class_</th>\n",
       "      <td>Working class</td>\n",
       "      <td>0.50</td>\n",
       "      <td>Middle class</td>\n",
       "      <td>0.42</td>\n",
       "    </tr>\n",
       "    <tr>\n",
       "      <th>natroad</th>\n",
       "      <td>About right</td>\n",
       "      <td>0.54</td>\n",
       "      <td>Too little</td>\n",
       "      <td>0.28</td>\n",
       "    </tr>\n",
       "    <tr>\n",
       "      <th>polviews</th>\n",
       "      <td>Moderate</td>\n",
       "      <td>0.36</td>\n",
       "      <td>Slghtly conservative</td>\n",
       "      <td>0.13</td>\n",
       "    </tr>\n",
       "    <tr>\n",
       "      <th>parsol</th>\n",
       "      <td>Not applicable</td>\n",
       "      <td>0.47</td>\n",
       "      <td>Much better</td>\n",
       "      <td>0.17</td>\n",
       "    </tr>\n",
       "    <tr>\n",
       "      <th>mawrkgrw</th>\n",
       "      <td>Yes</td>\n",
       "      <td>0.71</td>\n",
       "      <td>No</td>\n",
       "      <td>0.21</td>\n",
       "    </tr>\n",
       "    <tr>\n",
       "      <th>cluster</th>\n",
       "      <td>0</td>\n",
       "      <td>1.00</td>\n",
       "      <td>n</td>\n",
       "      <td>o</td>\n",
       "    </tr>\n",
       "  </tbody>\n",
       "</table>\n",
       "</div>"
      ],
      "text/plain": [
       "                  rank_first_v  rank_first_p         rank_second_v  \\\n",
       "affrmact        Not applicable          0.43  Strongly oppose pref   \n",
       "fechld          Not applicable          0.39        Strongly agree   \n",
       "helpnot         Not applicable          0.44       Agree with both   \n",
       "spanking        Not applicable          0.40                 Agree   \n",
       "mobile16             Same city          0.38       Different state   \n",
       "natrace         Not applicable          0.53           About right   \n",
       "natspac         Not applicable          0.53           About right   \n",
       "dwelling  Detached 1-fam house          0.67       Apartment house   \n",
       "reliten        Not very strong          0.38                Strong   \n",
       "res16            Town lt 50000          0.28       50000 to 250000   \n",
       "natfare         Not applicable          0.53              Too much   \n",
       "divorce                     No          0.52        Not applicable   \n",
       "divlaw          Not applicable          0.40        More difficult   \n",
       "fefam           Not applicable          0.39              Disagree   \n",
       "socbar          Not applicable          0.40                 Never   \n",
       "partyid       Not str democrat          0.21           Independent   \n",
       "employed                  True          0.92                 False   \n",
       "finrela                Average          0.49         Below average   \n",
       "meovrwrk        Not applicable          0.53                 Agree   \n",
       "helpoth         Not applicable          0.47         3rd important   \n",
       "life            Not applicable          0.42               Routine   \n",
       "degree             High school          0.56              Bachelor   \n",
       "socfrend        Not applicable          0.40          Once a month   \n",
       "fund                  Moderate          0.41        Fundamentalist   \n",
       "courts        Not harsh enough          0.66        Not applicable   \n",
       "workhard        Not applicable          0.47         2nd important   \n",
       "marital                Married          0.66              Divorced   \n",
       "kidssol         Not applicable          0.47       Somewhat better   \n",
       "incom16         Not applicable          0.44               Average   \n",
       "natsoc              Too little          0.61           About right   \n",
       "class_           Working class          0.50          Middle class   \n",
       "natroad            About right          0.54            Too little   \n",
       "polviews              Moderate          0.36  Slghtly conservative   \n",
       "parsol          Not applicable          0.47           Much better   \n",
       "mawrkgrw                   Yes          0.71                    No   \n",
       "cluster                      0          1.00                     n   \n",
       "\n",
       "         rank_second_p  \n",
       "affrmact          0.31  \n",
       "fechld            0.25  \n",
       "helpnot           0.25  \n",
       "spanking          0.26  \n",
       "mobile16          0.31  \n",
       "natrace           0.17  \n",
       "natspac            0.2  \n",
       "dwelling           0.1  \n",
       "reliten           0.37  \n",
       "res16              0.2  \n",
       "natfare           0.23  \n",
       "divorce           0.33  \n",
       "divlaw            0.28  \n",
       "fefam             0.29  \n",
       "socbar            0.23  \n",
       "partyid           0.17  \n",
       "employed          0.08  \n",
       "finrela           0.18  \n",
       "meovrwrk          0.18  \n",
       "helpoth           0.19  \n",
       "life              0.28  \n",
       "degree            0.21  \n",
       "socfrend          0.17  \n",
       "fund              0.31  \n",
       "courts            0.14  \n",
       "workhard          0.19  \n",
       "marital           0.14  \n",
       "kidssol           0.18  \n",
       "incom16           0.28  \n",
       "natsoc            0.25  \n",
       "class_            0.42  \n",
       "natroad           0.28  \n",
       "polviews          0.13  \n",
       "parsol            0.17  \n",
       "mawrkgrw          0.21  \n",
       "cluster              o  "
      ]
     },
     "execution_count": 115,
     "metadata": {},
     "output_type": "execute_result"
    }
   ],
   "source": [
    "cluster_summary(df_c0,cat_cols)"
   ]
  },
  {
   "cell_type": "markdown",
   "metadata": {},
   "source": [
    "## Women in cluster 0 have following characteristics:\n",
    "  * They are from poor family. Their median family income are below that in population median.\n",
    "  * They consider themselves are in working class or lower class. They think their family income is below average. \n",
    "  * They and their family don't have higher education. About high school degree. \n",
    "  * They are fundamentalist. \n",
    "  * Their political views are moderate or slightly conservative."
   ]
  },
  {
   "cell_type": "markdown",
   "metadata": {},
   "source": [
    "### Cluster 1"
   ]
  },
  {
   "cell_type": "code",
   "execution_count": 19,
   "metadata": {
    "collapsed": false
   },
   "outputs": [],
   "source": [
    "c1 = fc_df[fc_df.cluster ==1]"
   ]
  },
  {
   "cell_type": "markdown",
   "metadata": {},
   "source": [
    "Top 10 driving features"
   ]
  },
  {
   "cell_type": "code",
   "execution_count": 20,
   "metadata": {
    "collapsed": false
   },
   "outputs": [
    {
     "data": {
      "text/plain": [
       "[(-0.037288764073244045, 'age'),\n",
       " (-0.035791882617825718, 'educom'),\n",
       " (-0.03210500848705275, 'sphrs1'),\n",
       " (-0.024466323673248431, 'agekdbrn'),\n",
       " (-0.021262571466462623, 'divorce'),\n",
       " (-0.019488294487885846, 'partyid'),\n",
       " (-0.016983742743410898, 'polviews'),\n",
       " (-0.016794016402045482, 'res16'),\n",
       " (-0.016444082678220302, 'incom16'),\n",
       " (-0.013788524842692908, 'reliten')]"
      ]
     },
     "execution_count": 20,
     "metadata": {},
     "output_type": "execute_result"
    }
   ],
   "source": [
    "sort_feature_means(c1,10)"
   ]
  },
  {
   "cell_type": "code",
   "execution_count": 21,
   "metadata": {
    "collapsed": true
   },
   "outputs": [],
   "source": [
    "df_c1 = df[df.cluster ==1]"
   ]
  },
  {
   "cell_type": "code",
   "execution_count": 22,
   "metadata": {
    "collapsed": false
   },
   "outputs": [
    {
     "data": {
      "text/plain": [
       "sphrs1    median                 51\n",
       "age       median                 35\n",
       "agekdbrn  median                 25\n",
       "chldidel  median    As many as want\n",
       "coninc    median              51705\n",
       "educom    median            12.6667\n",
       "Name: 1, dtype: object"
      ]
     },
     "execution_count": 22,
     "metadata": {},
     "output_type": "execute_result"
    }
   ],
   "source": [
    "df_summary.ix[1][:6]"
   ]
  },
  {
   "cell_type": "code",
   "execution_count": 23,
   "metadata": {
    "collapsed": false
   },
   "outputs": [
    {
     "data": {
      "text/html": [
       "<div>\n",
       "<table border=\"1\" class=\"dataframe\">\n",
       "  <thead>\n",
       "    <tr style=\"text-align: right;\">\n",
       "      <th></th>\n",
       "      <th>rank_first</th>\n",
       "      <th>rank_second</th>\n",
       "    </tr>\n",
       "  </thead>\n",
       "  <tbody>\n",
       "    <tr>\n",
       "      <th>fechld</th>\n",
       "      <td>(Not applicable, 0.43)</td>\n",
       "      <td>(Agree, 0.25)</td>\n",
       "    </tr>\n",
       "    <tr>\n",
       "      <th>natrace</th>\n",
       "      <td>(Not applicable, 0.54)</td>\n",
       "      <td>(About right, 0.2)</td>\n",
       "    </tr>\n",
       "    <tr>\n",
       "      <th>socfrend</th>\n",
       "      <td>(Not applicable, 0.44)</td>\n",
       "      <td>(Once a month, 0.14)</td>\n",
       "    </tr>\n",
       "    <tr>\n",
       "      <th>reliten</th>\n",
       "      <td>(Strong, 0.45)</td>\n",
       "      <td>(Not very strong, 0.31)</td>\n",
       "    </tr>\n",
       "    <tr>\n",
       "      <th>res16</th>\n",
       "      <td>(Town lt 50000, 0.29)</td>\n",
       "      <td>(50000 to 250000, 0.21)</td>\n",
       "    </tr>\n",
       "    <tr>\n",
       "      <th>divorce</th>\n",
       "      <td>(No, 0.73)</td>\n",
       "      <td>(Not applicable, 0.14)</td>\n",
       "    </tr>\n",
       "    <tr>\n",
       "      <th>polviews</th>\n",
       "      <td>(Moderate, 0.34)</td>\n",
       "      <td>(Conservative, 0.14)</td>\n",
       "    </tr>\n",
       "    <tr>\n",
       "      <th>fefam</th>\n",
       "      <td>(Not applicable, 0.43)</td>\n",
       "      <td>(Disagree, 0.25)</td>\n",
       "    </tr>\n",
       "    <tr>\n",
       "      <th>socbar</th>\n",
       "      <td>(Not applicable, 0.44)</td>\n",
       "      <td>(Never, 0.29)</td>\n",
       "    </tr>\n",
       "    <tr>\n",
       "      <th>partyid</th>\n",
       "      <td>(Not str democrat, 0.19)</td>\n",
       "      <td>(Not str republican, 0.18)</td>\n",
       "    </tr>\n",
       "    <tr>\n",
       "      <th>employed</th>\n",
       "      <td>(False, 0.94)</td>\n",
       "      <td>(True, 0.06)</td>\n",
       "    </tr>\n",
       "    <tr>\n",
       "      <th>finrela</th>\n",
       "      <td>(Average, 0.41)</td>\n",
       "      <td>(Above average, 0.18)</td>\n",
       "    </tr>\n",
       "    <tr>\n",
       "      <th>meovrwrk</th>\n",
       "      <td>(Not applicable, 0.53)</td>\n",
       "      <td>(Agree, 0.21)</td>\n",
       "    </tr>\n",
       "    <tr>\n",
       "      <th>helpoth</th>\n",
       "      <td>(Not applicable, 0.46)</td>\n",
       "      <td>(3rd important, 0.2)</td>\n",
       "    </tr>\n",
       "    <tr>\n",
       "      <th>degree</th>\n",
       "      <td>(High school, 0.58)</td>\n",
       "      <td>(Bachelor, 0.24)</td>\n",
       "    </tr>\n",
       "    <tr>\n",
       "      <th>class_</th>\n",
       "      <td>(Middle class, 0.47)</td>\n",
       "      <td>(Working class, 0.38)</td>\n",
       "    </tr>\n",
       "    <tr>\n",
       "      <th>courts</th>\n",
       "      <td>(Not harsh enough, 0.57)</td>\n",
       "      <td>(Not applicable, 0.18)</td>\n",
       "    </tr>\n",
       "    <tr>\n",
       "      <th>workhard</th>\n",
       "      <td>(Not applicable, 0.46)</td>\n",
       "      <td>(2nd important, 0.2)</td>\n",
       "    </tr>\n",
       "    <tr>\n",
       "      <th>incom16</th>\n",
       "      <td>(Not applicable, 0.49)</td>\n",
       "      <td>(Average, 0.25)</td>\n",
       "    </tr>\n",
       "    <tr>\n",
       "      <th>dwelling</th>\n",
       "      <td>(Detached 1-fam house, 0.72)</td>\n",
       "      <td>(Apartment house, 0.06)</td>\n",
       "    </tr>\n",
       "    <tr>\n",
       "      <th>natsoc</th>\n",
       "      <td>(Too little, 0.53)</td>\n",
       "      <td>(About right, 0.28)</td>\n",
       "    </tr>\n",
       "    <tr>\n",
       "      <th>fund</th>\n",
       "      <td>(Moderate, 0.43)</td>\n",
       "      <td>(Fundamentalist, 0.29)</td>\n",
       "    </tr>\n",
       "    <tr>\n",
       "      <th>natroad</th>\n",
       "      <td>(About right, 0.52)</td>\n",
       "      <td>(Too little, 0.27)</td>\n",
       "    </tr>\n",
       "    <tr>\n",
       "      <th>parsol</th>\n",
       "      <td>(Not applicable, 0.45)</td>\n",
       "      <td>(Somewhat better, 0.18)</td>\n",
       "    </tr>\n",
       "    <tr>\n",
       "      <th>mawrkgrw</th>\n",
       "      <td>(Yes, 0.64)</td>\n",
       "      <td>(No, 0.26)</td>\n",
       "    </tr>\n",
       "  </tbody>\n",
       "</table>\n",
       "</div>"
      ],
      "text/plain": [
       "                            rank_first                 rank_second\n",
       "fechld          (Not applicable, 0.43)               (Agree, 0.25)\n",
       "natrace         (Not applicable, 0.54)          (About right, 0.2)\n",
       "socfrend        (Not applicable, 0.44)        (Once a month, 0.14)\n",
       "reliten                 (Strong, 0.45)     (Not very strong, 0.31)\n",
       "res16            (Town lt 50000, 0.29)     (50000 to 250000, 0.21)\n",
       "divorce                     (No, 0.73)      (Not applicable, 0.14)\n",
       "polviews              (Moderate, 0.34)        (Conservative, 0.14)\n",
       "fefam           (Not applicable, 0.43)            (Disagree, 0.25)\n",
       "socbar          (Not applicable, 0.44)               (Never, 0.29)\n",
       "partyid       (Not str democrat, 0.19)  (Not str republican, 0.18)\n",
       "employed                 (False, 0.94)                (True, 0.06)\n",
       "finrela                (Average, 0.41)       (Above average, 0.18)\n",
       "meovrwrk        (Not applicable, 0.53)               (Agree, 0.21)\n",
       "helpoth         (Not applicable, 0.46)        (3rd important, 0.2)\n",
       "degree             (High school, 0.58)            (Bachelor, 0.24)\n",
       "class_            (Middle class, 0.47)       (Working class, 0.38)\n",
       "courts        (Not harsh enough, 0.57)      (Not applicable, 0.18)\n",
       "workhard        (Not applicable, 0.46)        (2nd important, 0.2)\n",
       "incom16         (Not applicable, 0.49)             (Average, 0.25)\n",
       "dwelling  (Detached 1-fam house, 0.72)     (Apartment house, 0.06)\n",
       "natsoc              (Too little, 0.53)         (About right, 0.28)\n",
       "fund                  (Moderate, 0.43)      (Fundamentalist, 0.29)\n",
       "natroad            (About right, 0.52)          (Too little, 0.27)\n",
       "parsol          (Not applicable, 0.45)     (Somewhat better, 0.18)\n",
       "mawrkgrw                   (Yes, 0.64)                  (No, 0.26)"
      ]
     },
     "execution_count": 23,
     "metadata": {},
     "output_type": "execute_result"
    }
   ],
   "source": [
    "cluster_summary(df_c1,cat_cols)"
   ]
  },
  {
   "cell_type": "markdown",
   "metadata": {},
   "source": [
    "### Women in cluster 1 have flowing characteristics:\n",
    "  * Their husbands work full time.\n",
    "  * Their median family incomes are higher than population.\n",
    "  * They consider they are in middle class\n",
    "  * They have high shool or college degrees\n",
    "  * They are religious and moderate to conservatve political views\n",
    "  * Their ideal number of children is as many as possible\n",
    "  * Majority of them live in a house"
   ]
  },
  {
   "cell_type": "markdown",
   "metadata": {},
   "source": [
    "## Cluster 3"
   ]
  },
  {
   "cell_type": "code",
   "execution_count": 24,
   "metadata": {
    "collapsed": true
   },
   "outputs": [],
   "source": [
    "c3 = fc_df[fc_df.cluster ==3]"
   ]
  },
  {
   "cell_type": "code",
   "execution_count": 25,
   "metadata": {
    "collapsed": false
   },
   "outputs": [
    {
     "data": {
      "text/plain": [
       "[(-0.12603459366189285, 'degree'),\n",
       " (-0.070144543585678884, 'coninc'),\n",
       " (-0.023950349809438023, 'age'),\n",
       " (-0.019658434958345537, 'agekdbrn'),\n",
       " (-0.018318692565157935, 'educom'),\n",
       " (-0.014832189604645, 'class_'),\n",
       " (-0.012873632435843718, 'polviews'),\n",
       " (-0.01259424547771343, 'incom16'),\n",
       " (-0.011545633902283959, 'dwelling'),\n",
       " (-0.01122178542760326, 'socfrend')]"
      ]
     },
     "execution_count": 25,
     "metadata": {},
     "output_type": "execute_result"
    }
   ],
   "source": [
    "sort_feature_means(c3,10)"
   ]
  },
  {
   "cell_type": "code",
   "execution_count": 26,
   "metadata": {
    "collapsed": true
   },
   "outputs": [],
   "source": [
    "df_c3 = df[df.cluster ==3]"
   ]
  },
  {
   "cell_type": "code",
   "execution_count": 27,
   "metadata": {
    "collapsed": false
   },
   "outputs": [
    {
     "data": {
      "text/plain": [
       "sphrs1    median    Not applicable\n",
       "age       median                31\n",
       "agekdbrn  median                19\n",
       "chldidel  median                 5\n",
       "coninc    median           8313.75\n",
       "educom    median                12\n",
       "Name: 3, dtype: object"
      ]
     },
     "execution_count": 27,
     "metadata": {},
     "output_type": "execute_result"
    }
   ],
   "source": [
    "df_summary.ix[3][:6]"
   ]
  },
  {
   "cell_type": "code",
   "execution_count": 28,
   "metadata": {
    "collapsed": false
   },
   "outputs": [
    {
     "data": {
      "text/html": [
       "<div>\n",
       "<table border=\"1\" class=\"dataframe\">\n",
       "  <thead>\n",
       "    <tr style=\"text-align: right;\">\n",
       "      <th></th>\n",
       "      <th>rank_first</th>\n",
       "      <th>rank_second</th>\n",
       "    </tr>\n",
       "  </thead>\n",
       "  <tbody>\n",
       "    <tr>\n",
       "      <th>fechld</th>\n",
       "      <td>(Not applicable, 0.41)</td>\n",
       "      <td>(Agree, 0.23)</td>\n",
       "    </tr>\n",
       "    <tr>\n",
       "      <th>natrace</th>\n",
       "      <td>(Not applicable, 0.54)</td>\n",
       "      <td>(Too little, 0.17)</td>\n",
       "    </tr>\n",
       "    <tr>\n",
       "      <th>socfrend</th>\n",
       "      <td>(Not applicable, 0.42)</td>\n",
       "      <td>(Never, 0.15)</td>\n",
       "    </tr>\n",
       "    <tr>\n",
       "      <th>reliten</th>\n",
       "      <td>(Not very strong, 0.42)</td>\n",
       "      <td>(Strong, 0.26)</td>\n",
       "    </tr>\n",
       "    <tr>\n",
       "      <th>res16</th>\n",
       "      <td>(Town lt 50000, 0.34)</td>\n",
       "      <td>(City gt 250000, 0.21)</td>\n",
       "    </tr>\n",
       "    <tr>\n",
       "      <th>divorce</th>\n",
       "      <td>(Not applicable, 0.62)</td>\n",
       "      <td>(No, 0.3)</td>\n",
       "    </tr>\n",
       "    <tr>\n",
       "      <th>polviews</th>\n",
       "      <td>(Moderate, 0.35)</td>\n",
       "      <td>(Don't know, 0.13)</td>\n",
       "    </tr>\n",
       "    <tr>\n",
       "      <th>fefam</th>\n",
       "      <td>(Not applicable, 0.41)</td>\n",
       "      <td>(Disagree, 0.21)</td>\n",
       "    </tr>\n",
       "    <tr>\n",
       "      <th>socbar</th>\n",
       "      <td>(Not applicable, 0.42)</td>\n",
       "      <td>(Never, 0.38)</td>\n",
       "    </tr>\n",
       "    <tr>\n",
       "      <th>partyid</th>\n",
       "      <td>(Independent, 0.39)</td>\n",
       "      <td>(Not str democrat, 0.16)</td>\n",
       "    </tr>\n",
       "    <tr>\n",
       "      <th>employed</th>\n",
       "      <td>(False, 0.92)</td>\n",
       "      <td>(True, 0.08)</td>\n",
       "    </tr>\n",
       "    <tr>\n",
       "      <th>finrela</th>\n",
       "      <td>(Below average, 0.37)</td>\n",
       "      <td>(Average, 0.31)</td>\n",
       "    </tr>\n",
       "    <tr>\n",
       "      <th>meovrwrk</th>\n",
       "      <td>(Not applicable, 0.52)</td>\n",
       "      <td>(Agree, 0.17)</td>\n",
       "    </tr>\n",
       "    <tr>\n",
       "      <th>helpoth</th>\n",
       "      <td>(Not applicable, 0.41)</td>\n",
       "      <td>(3rd important, 0.2)</td>\n",
       "    </tr>\n",
       "    <tr>\n",
       "      <th>degree</th>\n",
       "      <td>(Lt high school, 0.99)</td>\n",
       "      <td>(Bachelor, 0.01)</td>\n",
       "    </tr>\n",
       "    <tr>\n",
       "      <th>class_</th>\n",
       "      <td>(Working class, 0.44)</td>\n",
       "      <td>(Middle class, 0.26)</td>\n",
       "    </tr>\n",
       "    <tr>\n",
       "      <th>courts</th>\n",
       "      <td>(Not harsh enough, 0.53)</td>\n",
       "      <td>(Too harsh, 0.19)</td>\n",
       "    </tr>\n",
       "    <tr>\n",
       "      <th>workhard</th>\n",
       "      <td>(Not applicable, 0.41)</td>\n",
       "      <td>(2nd important, 0.18)</td>\n",
       "    </tr>\n",
       "    <tr>\n",
       "      <th>incom16</th>\n",
       "      <td>(Not applicable, 0.47)</td>\n",
       "      <td>(Average, 0.18)</td>\n",
       "    </tr>\n",
       "    <tr>\n",
       "      <th>dwelling</th>\n",
       "      <td>(Detached 1-fam house, 0.36)</td>\n",
       "      <td>(Apartment house, 0.18)</td>\n",
       "    </tr>\n",
       "    <tr>\n",
       "      <th>natsoc</th>\n",
       "      <td>(Too little, 0.54)</td>\n",
       "      <td>(About right, 0.3)</td>\n",
       "    </tr>\n",
       "    <tr>\n",
       "      <th>fund</th>\n",
       "      <td>(Moderate, 0.44)</td>\n",
       "      <td>(Fundamentalist, 0.31)</td>\n",
       "    </tr>\n",
       "    <tr>\n",
       "      <th>natroad</th>\n",
       "      <td>(About right, 0.43)</td>\n",
       "      <td>(Too little, 0.24)</td>\n",
       "    </tr>\n",
       "    <tr>\n",
       "      <th>parsol</th>\n",
       "      <td>(Not applicable, 0.39)</td>\n",
       "      <td>(Somewhat better, 0.23)</td>\n",
       "    </tr>\n",
       "    <tr>\n",
       "      <th>mawrkgrw</th>\n",
       "      <td>(Yes, 0.56)</td>\n",
       "      <td>(No, 0.27)</td>\n",
       "    </tr>\n",
       "  </tbody>\n",
       "</table>\n",
       "</div>"
      ],
      "text/plain": [
       "                            rank_first               rank_second\n",
       "fechld          (Not applicable, 0.41)             (Agree, 0.23)\n",
       "natrace         (Not applicable, 0.54)        (Too little, 0.17)\n",
       "socfrend        (Not applicable, 0.42)             (Never, 0.15)\n",
       "reliten        (Not very strong, 0.42)            (Strong, 0.26)\n",
       "res16            (Town lt 50000, 0.34)    (City gt 250000, 0.21)\n",
       "divorce         (Not applicable, 0.62)                 (No, 0.3)\n",
       "polviews              (Moderate, 0.35)        (Don't know, 0.13)\n",
       "fefam           (Not applicable, 0.41)          (Disagree, 0.21)\n",
       "socbar          (Not applicable, 0.42)             (Never, 0.38)\n",
       "partyid            (Independent, 0.39)  (Not str democrat, 0.16)\n",
       "employed                 (False, 0.92)              (True, 0.08)\n",
       "finrela          (Below average, 0.37)           (Average, 0.31)\n",
       "meovrwrk        (Not applicable, 0.52)             (Agree, 0.17)\n",
       "helpoth         (Not applicable, 0.41)      (3rd important, 0.2)\n",
       "degree          (Lt high school, 0.99)          (Bachelor, 0.01)\n",
       "class_           (Working class, 0.44)      (Middle class, 0.26)\n",
       "courts        (Not harsh enough, 0.53)         (Too harsh, 0.19)\n",
       "workhard        (Not applicable, 0.41)     (2nd important, 0.18)\n",
       "incom16         (Not applicable, 0.47)           (Average, 0.18)\n",
       "dwelling  (Detached 1-fam house, 0.36)   (Apartment house, 0.18)\n",
       "natsoc              (Too little, 0.54)        (About right, 0.3)\n",
       "fund                  (Moderate, 0.44)    (Fundamentalist, 0.31)\n",
       "natroad            (About right, 0.43)        (Too little, 0.24)\n",
       "parsol          (Not applicable, 0.39)   (Somewhat better, 0.23)\n",
       "mawrkgrw                   (Yes, 0.56)                (No, 0.27)"
      ]
     },
     "execution_count": 28,
     "metadata": {},
     "output_type": "execute_result"
    }
   ],
   "source": [
    "cluster_summary(df_c3,cat_cols)"
   ]
  },
  {
   "cell_type": "markdown",
   "metadata": {},
   "source": [
    "### Women in cluster 3 have flowing characteristics:\n",
    "  * They don't have high degree. 99% of them have less than high school degree. \n",
    "  * Their median age of giving birth to their first child is 19, way lower than the entire population (23)\n",
    "  * They are not religous and have moderate political views\n",
    "  * They are either from small towns or from big cities\n",
    "  * Their median family income is below population median and they consider their finanicial situations are below average.\n",
    "  * Interestingly, 56% of the women in this cluster respond 'yes' to the question \"Mothers employment when r was 16\". 10% lower than the entire population."
   ]
  },
  {
   "cell_type": "markdown",
   "metadata": {},
   "source": [
    "## 4. Employed Class\n",
    "\n",
    "### Cluster 2"
   ]
  },
  {
   "cell_type": "code",
   "execution_count": 29,
   "metadata": {
    "collapsed": false
   },
   "outputs": [],
   "source": [
    "c2 = fc_df[fc_df.cluster ==2]"
   ]
  },
  {
   "cell_type": "code",
   "execution_count": 30,
   "metadata": {
    "collapsed": false
   },
   "outputs": [
    {
     "data": {
      "text/plain": [
       "[(0.045328848585600608, 'coninc'),\n",
       " (0.02123034015335842, 'degree'),\n",
       " (0.015127970950966903, 'age'),\n",
       " (0.011355628720333138, 'educom'),\n",
       " (0.010236085512343585, 'agekdbrn'),\n",
       " (0.0080189575014816203, 'sphrs1'),\n",
       " (0.0074831555803240154, 'polviews'),\n",
       " (0.0069228323390354389, 'partyid'),\n",
       " (0.0067388232864081842, 'class_'),\n",
       " (0.0065550122755228708, 'finrela')]"
      ]
     },
     "execution_count": 30,
     "metadata": {},
     "output_type": "execute_result"
    }
   ],
   "source": [
    "sort_feature_means(c2,10)"
   ]
  },
  {
   "cell_type": "code",
   "execution_count": 31,
   "metadata": {
    "collapsed": true
   },
   "outputs": [],
   "source": [
    "df_c2 = df[df.cluster==2]"
   ]
  },
  {
   "cell_type": "code",
   "execution_count": 32,
   "metadata": {
    "collapsed": false
   },
   "outputs": [
    {
     "data": {
      "text/plain": [
       "sphrs1    median         60\n",
       "age       median         36\n",
       "agekdbrn  median         25\n",
       "chldidel  median          4\n",
       "coninc    median    49882.5\n",
       "educom    median    12.3333\n",
       "Name: 2, dtype: object"
      ]
     },
     "execution_count": 32,
     "metadata": {},
     "output_type": "execute_result"
    }
   ],
   "source": [
    "df_summary.ix[2][:6]"
   ]
  },
  {
   "cell_type": "code",
   "execution_count": 33,
   "metadata": {
    "collapsed": false
   },
   "outputs": [
    {
     "data": {
      "text/html": [
       "<div>\n",
       "<table border=\"1\" class=\"dataframe\">\n",
       "  <thead>\n",
       "    <tr style=\"text-align: right;\">\n",
       "      <th></th>\n",
       "      <th>rank_first</th>\n",
       "      <th>rank_second</th>\n",
       "    </tr>\n",
       "  </thead>\n",
       "  <tbody>\n",
       "    <tr>\n",
       "      <th>fechld</th>\n",
       "      <td>(Not applicable, 0.39)</td>\n",
       "      <td>(Strongly agree, 0.25)</td>\n",
       "    </tr>\n",
       "    <tr>\n",
       "      <th>natrace</th>\n",
       "      <td>(Not applicable, 0.53)</td>\n",
       "      <td>(About right, 0.17)</td>\n",
       "    </tr>\n",
       "    <tr>\n",
       "      <th>socfrend</th>\n",
       "      <td>(Not applicable, 0.4)</td>\n",
       "      <td>(Once a month, 0.17)</td>\n",
       "    </tr>\n",
       "    <tr>\n",
       "      <th>reliten</th>\n",
       "      <td>(Not very strong, 0.38)</td>\n",
       "      <td>(Strong, 0.37)</td>\n",
       "    </tr>\n",
       "    <tr>\n",
       "      <th>res16</th>\n",
       "      <td>(Town lt 50000, 0.28)</td>\n",
       "      <td>(50000 to 250000, 0.21)</td>\n",
       "    </tr>\n",
       "    <tr>\n",
       "      <th>divorce</th>\n",
       "      <td>(No, 0.52)</td>\n",
       "      <td>(Not applicable, 0.33)</td>\n",
       "    </tr>\n",
       "    <tr>\n",
       "      <th>polviews</th>\n",
       "      <td>(Moderate, 0.36)</td>\n",
       "      <td>(Slghtly conservative, 0.13)</td>\n",
       "    </tr>\n",
       "    <tr>\n",
       "      <th>fefam</th>\n",
       "      <td>(Not applicable, 0.39)</td>\n",
       "      <td>(Disagree, 0.3)</td>\n",
       "    </tr>\n",
       "    <tr>\n",
       "      <th>socbar</th>\n",
       "      <td>(Not applicable, 0.4)</td>\n",
       "      <td>(Never, 0.23)</td>\n",
       "    </tr>\n",
       "    <tr>\n",
       "      <th>partyid</th>\n",
       "      <td>(Not str democrat, 0.22)</td>\n",
       "      <td>(Independent, 0.18)</td>\n",
       "    </tr>\n",
       "    <tr>\n",
       "      <th>employed</th>\n",
       "      <td>(True, 0.93)</td>\n",
       "      <td>(False, 0.07)</td>\n",
       "    </tr>\n",
       "    <tr>\n",
       "      <th>finrela</th>\n",
       "      <td>(Average, 0.5)</td>\n",
       "      <td>(Below average, 0.18)</td>\n",
       "    </tr>\n",
       "    <tr>\n",
       "      <th>meovrwrk</th>\n",
       "      <td>(Not applicable, 0.53)</td>\n",
       "      <td>(Agree, 0.18)</td>\n",
       "    </tr>\n",
       "    <tr>\n",
       "      <th>helpoth</th>\n",
       "      <td>(Not applicable, 0.47)</td>\n",
       "      <td>(3rd important, 0.19)</td>\n",
       "    </tr>\n",
       "    <tr>\n",
       "      <th>degree</th>\n",
       "      <td>(High school, 0.57)</td>\n",
       "      <td>(Bachelor, 0.22)</td>\n",
       "    </tr>\n",
       "    <tr>\n",
       "      <th>class_</th>\n",
       "      <td>(Working class, 0.51)</td>\n",
       "      <td>(Middle class, 0.41)</td>\n",
       "    </tr>\n",
       "    <tr>\n",
       "      <th>courts</th>\n",
       "      <td>(Not harsh enough, 0.66)</td>\n",
       "      <td>(Not applicable, 0.14)</td>\n",
       "    </tr>\n",
       "    <tr>\n",
       "      <th>workhard</th>\n",
       "      <td>(Not applicable, 0.47)</td>\n",
       "      <td>(2nd important, 0.19)</td>\n",
       "    </tr>\n",
       "    <tr>\n",
       "      <th>incom16</th>\n",
       "      <td>(Not applicable, 0.44)</td>\n",
       "      <td>(Average, 0.28)</td>\n",
       "    </tr>\n",
       "    <tr>\n",
       "      <th>dwelling</th>\n",
       "      <td>(Detached 1-fam house, 0.66)</td>\n",
       "      <td>(Apartment house, 0.1)</td>\n",
       "    </tr>\n",
       "    <tr>\n",
       "      <th>natsoc</th>\n",
       "      <td>(Too little, 0.62)</td>\n",
       "      <td>(About right, 0.25)</td>\n",
       "    </tr>\n",
       "    <tr>\n",
       "      <th>fund</th>\n",
       "      <td>(Moderate, 0.41)</td>\n",
       "      <td>(Fundamentalist, 0.31)</td>\n",
       "    </tr>\n",
       "    <tr>\n",
       "      <th>natroad</th>\n",
       "      <td>(About right, 0.53)</td>\n",
       "      <td>(Too little, 0.28)</td>\n",
       "    </tr>\n",
       "    <tr>\n",
       "      <th>parsol</th>\n",
       "      <td>(Not applicable, 0.47)</td>\n",
       "      <td>(Much better, 0.16)</td>\n",
       "    </tr>\n",
       "    <tr>\n",
       "      <th>mawrkgrw</th>\n",
       "      <td>(Yes, 0.71)</td>\n",
       "      <td>(No, 0.2)</td>\n",
       "    </tr>\n",
       "  </tbody>\n",
       "</table>\n",
       "</div>"
      ],
      "text/plain": [
       "                            rank_first                   rank_second\n",
       "fechld          (Not applicable, 0.39)        (Strongly agree, 0.25)\n",
       "natrace         (Not applicable, 0.53)           (About right, 0.17)\n",
       "socfrend         (Not applicable, 0.4)          (Once a month, 0.17)\n",
       "reliten        (Not very strong, 0.38)                (Strong, 0.37)\n",
       "res16            (Town lt 50000, 0.28)       (50000 to 250000, 0.21)\n",
       "divorce                     (No, 0.52)        (Not applicable, 0.33)\n",
       "polviews              (Moderate, 0.36)  (Slghtly conservative, 0.13)\n",
       "fefam           (Not applicable, 0.39)               (Disagree, 0.3)\n",
       "socbar           (Not applicable, 0.4)                 (Never, 0.23)\n",
       "partyid       (Not str democrat, 0.22)           (Independent, 0.18)\n",
       "employed                  (True, 0.93)                 (False, 0.07)\n",
       "finrela                 (Average, 0.5)         (Below average, 0.18)\n",
       "meovrwrk        (Not applicable, 0.53)                 (Agree, 0.18)\n",
       "helpoth         (Not applicable, 0.47)         (3rd important, 0.19)\n",
       "degree             (High school, 0.57)              (Bachelor, 0.22)\n",
       "class_           (Working class, 0.51)          (Middle class, 0.41)\n",
       "courts        (Not harsh enough, 0.66)        (Not applicable, 0.14)\n",
       "workhard        (Not applicable, 0.47)         (2nd important, 0.19)\n",
       "incom16         (Not applicable, 0.44)               (Average, 0.28)\n",
       "dwelling  (Detached 1-fam house, 0.66)        (Apartment house, 0.1)\n",
       "natsoc              (Too little, 0.62)           (About right, 0.25)\n",
       "fund                  (Moderate, 0.41)        (Fundamentalist, 0.31)\n",
       "natroad            (About right, 0.53)            (Too little, 0.28)\n",
       "parsol          (Not applicable, 0.47)           (Much better, 0.16)\n",
       "mawrkgrw                   (Yes, 0.71)                     (No, 0.2)"
      ]
     },
     "execution_count": 33,
     "metadata": {},
     "output_type": "execute_result"
    }
   ],
   "source": [
    "cluster_summary(df_c2,cat_cols)"
   ]
  },
  {
   "cell_type": "markdown",
   "metadata": {},
   "source": [
    "## Women in cluster 2 have the following characteratics:\n",
    "\n",
    "  * Their husbands work full time. \n",
    "  * Median family incomes are about the population median\n",
    "  * They have high degrees (at least high school)\n",
    "  * They don't have strong affiliation to religions.\n",
    "  * Their median age of having first children is later than the population. \n",
    "  * They consider themselves working or middle class"
   ]
  },
  {
   "cell_type": "markdown",
   "metadata": {
    "collapsed": false
   },
   "source": [
    "## Cluster 4"
   ]
  },
  {
   "cell_type": "code",
   "execution_count": 38,
   "metadata": {
    "collapsed": false
   },
   "outputs": [],
   "source": [
    "c4 = fc_df[fc_df.cluster ==4]"
   ]
  },
  {
   "cell_type": "code",
   "execution_count": 39,
   "metadata": {
    "collapsed": false
   },
   "outputs": [
    {
     "data": {
      "text/plain": [
       "[(-0.046555906341039413, 'coninc'),\n",
       " (0.031598383557659884, 'degree'),\n",
       " (0.014469135696382071, 'age'),\n",
       " (0.013723895470837433, 'educom'),\n",
       " (0.011948090729284537, 'agekdbrn'),\n",
       " (0.01071230571848787, 'divorce'),\n",
       " (0.0097911880638121233, 'partyid'),\n",
       " (0.0085700286430870371, 'polviews'),\n",
       " (0.0083710358978435762, 'sphrs1'),\n",
       " (0.008002701860419523, 'dwelling')]"
      ]
     },
     "execution_count": 39,
     "metadata": {},
     "output_type": "execute_result"
    }
   ],
   "source": [
    "sort_feature_means(c4,10)"
   ]
  },
  {
   "cell_type": "code",
   "execution_count": 40,
   "metadata": {
    "collapsed": false
   },
   "outputs": [],
   "source": [
    "df_c4 = df[df.cluster==4]"
   ]
  },
  {
   "cell_type": "code",
   "execution_count": 42,
   "metadata": {
    "collapsed": false
   },
   "outputs": [
    {
     "data": {
      "text/plain": [
       "sphrs1    median    Not applicable\n",
       "age       median                33\n",
       "agekdbrn  median                22\n",
       "chldidel  median                 4\n",
       "coninc    median           9486.56\n",
       "educom    median           12.3333\n",
       "Name: 4, dtype: object"
      ]
     },
     "execution_count": 42,
     "metadata": {},
     "output_type": "execute_result"
    }
   ],
   "source": [
    "df_summary.ix[4][:6]"
   ]
  },
  {
   "cell_type": "code",
   "execution_count": 43,
   "metadata": {
    "collapsed": false
   },
   "outputs": [
    {
     "data": {
      "text/html": [
       "<div>\n",
       "<table border=\"1\" class=\"dataframe\">\n",
       "  <thead>\n",
       "    <tr style=\"text-align: right;\">\n",
       "      <th></th>\n",
       "      <th>rank_first</th>\n",
       "      <th>rank_second</th>\n",
       "    </tr>\n",
       "  </thead>\n",
       "  <tbody>\n",
       "    <tr>\n",
       "      <th>fechld</th>\n",
       "      <td>(Not applicable, 0.38)</td>\n",
       "      <td>(Agree, 0.25)</td>\n",
       "    </tr>\n",
       "    <tr>\n",
       "      <th>natrace</th>\n",
       "      <td>(Not applicable, 0.55)</td>\n",
       "      <td>(About right, 0.18)</td>\n",
       "    </tr>\n",
       "    <tr>\n",
       "      <th>socfrend</th>\n",
       "      <td>(Not applicable, 0.4)</td>\n",
       "      <td>(Sev times a week, 0.15)</td>\n",
       "    </tr>\n",
       "    <tr>\n",
       "      <th>reliten</th>\n",
       "      <td>(Strong, 0.37)</td>\n",
       "      <td>(Not very strong, 0.34)</td>\n",
       "    </tr>\n",
       "    <tr>\n",
       "      <th>res16</th>\n",
       "      <td>(Town lt 50000, 0.29)</td>\n",
       "      <td>(50000 to 250000, 0.21)</td>\n",
       "    </tr>\n",
       "    <tr>\n",
       "      <th>divorce</th>\n",
       "      <td>(Not applicable, 0.65)</td>\n",
       "      <td>(No, 0.29)</td>\n",
       "    </tr>\n",
       "    <tr>\n",
       "      <th>polviews</th>\n",
       "      <td>(Moderate, 0.37)</td>\n",
       "      <td>(Conservative, 0.12)</td>\n",
       "    </tr>\n",
       "    <tr>\n",
       "      <th>fefam</th>\n",
       "      <td>(Not applicable, 0.38)</td>\n",
       "      <td>(Disagree, 0.3)</td>\n",
       "    </tr>\n",
       "    <tr>\n",
       "      <th>socbar</th>\n",
       "      <td>(Not applicable, 0.4)</td>\n",
       "      <td>(Never, 0.26)</td>\n",
       "    </tr>\n",
       "    <tr>\n",
       "      <th>partyid</th>\n",
       "      <td>(Independent, 0.28)</td>\n",
       "      <td>(Not str democrat, 0.2)</td>\n",
       "    </tr>\n",
       "    <tr>\n",
       "      <th>employed</th>\n",
       "      <td>(True, 0.9)</td>\n",
       "      <td>(False, 0.1)</td>\n",
       "    </tr>\n",
       "    <tr>\n",
       "      <th>finrela</th>\n",
       "      <td>(Average, 0.36)</td>\n",
       "      <td>(Below average, 0.31)</td>\n",
       "    </tr>\n",
       "    <tr>\n",
       "      <th>meovrwrk</th>\n",
       "      <td>(Not applicable, 0.49)</td>\n",
       "      <td>(Agree, 0.21)</td>\n",
       "    </tr>\n",
       "    <tr>\n",
       "      <th>helpoth</th>\n",
       "      <td>(Not applicable, 0.42)</td>\n",
       "      <td>(3rd important, 0.19)</td>\n",
       "    </tr>\n",
       "    <tr>\n",
       "      <th>degree</th>\n",
       "      <td>(High school, 0.73)</td>\n",
       "      <td>(Junior college, 0.11)</td>\n",
       "    </tr>\n",
       "    <tr>\n",
       "      <th>class_</th>\n",
       "      <td>(Working class, 0.57)</td>\n",
       "      <td>(Middle class, 0.28)</td>\n",
       "    </tr>\n",
       "    <tr>\n",
       "      <th>courts</th>\n",
       "      <td>(Not harsh enough, 0.65)</td>\n",
       "      <td>(Not applicable, 0.12)</td>\n",
       "    </tr>\n",
       "    <tr>\n",
       "      <th>workhard</th>\n",
       "      <td>(Not applicable, 0.42)</td>\n",
       "      <td>(2nd important, 0.2)</td>\n",
       "    </tr>\n",
       "    <tr>\n",
       "      <th>incom16</th>\n",
       "      <td>(Not applicable, 0.46)</td>\n",
       "      <td>(Average, 0.24)</td>\n",
       "    </tr>\n",
       "    <tr>\n",
       "      <th>dwelling</th>\n",
       "      <td>(Detached 1-fam house, 0.48)</td>\n",
       "      <td>(Apartment house, 0.19)</td>\n",
       "    </tr>\n",
       "    <tr>\n",
       "      <th>natsoc</th>\n",
       "      <td>(Too little, 0.61)</td>\n",
       "      <td>(About right, 0.24)</td>\n",
       "    </tr>\n",
       "    <tr>\n",
       "      <th>fund</th>\n",
       "      <td>(Moderate, 0.38)</td>\n",
       "      <td>(Fundamentalist, 0.34)</td>\n",
       "    </tr>\n",
       "    <tr>\n",
       "      <th>natroad</th>\n",
       "      <td>(About right, 0.45)</td>\n",
       "      <td>(Too little, 0.28)</td>\n",
       "    </tr>\n",
       "    <tr>\n",
       "      <th>parsol</th>\n",
       "      <td>(Not applicable, 0.43)</td>\n",
       "      <td>(Somewhat better, 0.17)</td>\n",
       "    </tr>\n",
       "    <tr>\n",
       "      <th>mawrkgrw</th>\n",
       "      <td>(Yes, 0.67)</td>\n",
       "      <td>(No, 0.23)</td>\n",
       "    </tr>\n",
       "  </tbody>\n",
       "</table>\n",
       "</div>"
      ],
      "text/plain": [
       "                            rank_first               rank_second\n",
       "fechld          (Not applicable, 0.38)             (Agree, 0.25)\n",
       "natrace         (Not applicable, 0.55)       (About right, 0.18)\n",
       "socfrend         (Not applicable, 0.4)  (Sev times a week, 0.15)\n",
       "reliten                 (Strong, 0.37)   (Not very strong, 0.34)\n",
       "res16            (Town lt 50000, 0.29)   (50000 to 250000, 0.21)\n",
       "divorce         (Not applicable, 0.65)                (No, 0.29)\n",
       "polviews              (Moderate, 0.37)      (Conservative, 0.12)\n",
       "fefam           (Not applicable, 0.38)           (Disagree, 0.3)\n",
       "socbar           (Not applicable, 0.4)             (Never, 0.26)\n",
       "partyid            (Independent, 0.28)   (Not str democrat, 0.2)\n",
       "employed                   (True, 0.9)              (False, 0.1)\n",
       "finrela                (Average, 0.36)     (Below average, 0.31)\n",
       "meovrwrk        (Not applicable, 0.49)             (Agree, 0.21)\n",
       "helpoth         (Not applicable, 0.42)     (3rd important, 0.19)\n",
       "degree             (High school, 0.73)    (Junior college, 0.11)\n",
       "class_           (Working class, 0.57)      (Middle class, 0.28)\n",
       "courts        (Not harsh enough, 0.65)    (Not applicable, 0.12)\n",
       "workhard        (Not applicable, 0.42)      (2nd important, 0.2)\n",
       "incom16         (Not applicable, 0.46)           (Average, 0.24)\n",
       "dwelling  (Detached 1-fam house, 0.48)   (Apartment house, 0.19)\n",
       "natsoc              (Too little, 0.61)       (About right, 0.24)\n",
       "fund                  (Moderate, 0.38)    (Fundamentalist, 0.34)\n",
       "natroad            (About right, 0.45)        (Too little, 0.28)\n",
       "parsol          (Not applicable, 0.43)   (Somewhat better, 0.17)\n",
       "mawrkgrw                   (Yes, 0.67)                (No, 0.23)"
      ]
     },
     "execution_count": 43,
     "metadata": {},
     "output_type": "execute_result"
    }
   ],
   "source": [
    "cluster_summary(df_c4,cat_cols)"
   ]
  },
  {
   "cell_type": "markdown",
   "metadata": {},
   "source": [
    "### Women in cluster 4 have following characteristics:\n",
    "  * Family income way below population. They consider their finicial situation below average.\n",
    "  * Most of them have high school degree.\n",
    "  * Moderate to conservative political views and strong affiliation to religions.\n",
    "  "
   ]
  },
  {
   "cell_type": "markdown",
   "metadata": {},
   "source": [
    "## Cluster 5"
   ]
  },
  {
   "cell_type": "code",
   "execution_count": 66,
   "metadata": {
    "collapsed": false
   },
   "outputs": [],
   "source": [
    "c5 = fc_df[fc_df.cluster ==5]"
   ]
  },
  {
   "cell_type": "code",
   "execution_count": 67,
   "metadata": {
    "collapsed": false
   },
   "outputs": [
    {
     "data": {
      "text/plain": [
       "[(-0.1144973666920574, 'degree'),\n",
       " (0.026214238389409044, 'coninc'),\n",
       " (0.021713399025873707, 'age'),\n",
       " (0.014009055043008447, 'educom'),\n",
       " (0.012271820797929588, 'dwelling'),\n",
       " (0.011188517920528756, 'polviews'),\n",
       " (0.010674997286590897, 'incom16'),\n",
       " (0.010567705081197122, 'partyid'),\n",
       " (0.010493756015453701, 'res16'),\n",
       " (0.010427712477677207, 'sphrs1')]"
      ]
     },
     "execution_count": 67,
     "metadata": {},
     "output_type": "execute_result"
    }
   ],
   "source": [
    "sort_feature_means(c5,10)"
   ]
  },
  {
   "cell_type": "code",
   "execution_count": 68,
   "metadata": {
    "collapsed": false
   },
   "outputs": [],
   "source": [
    "df_c5 = df[df.cluster ==5]"
   ]
  },
  {
   "cell_type": "code",
   "execution_count": 70,
   "metadata": {
    "collapsed": false
   },
   "outputs": [
    {
     "data": {
      "text/plain": [
       "sphrs1    median    Not applicable\n",
       "age       median                34\n",
       "agekdbrn  median                19\n",
       "chldidel  median                 4\n",
       "coninc    median             18745\n",
       "educom    median           11.6667\n",
       "Name: 5, dtype: object"
      ]
     },
     "execution_count": 70,
     "metadata": {},
     "output_type": "execute_result"
    }
   ],
   "source": [
    "df_summary.ix[5][:6]"
   ]
  },
  {
   "cell_type": "code",
   "execution_count": 84,
   "metadata": {
    "collapsed": false
   },
   "outputs": [
    {
     "data": {
      "text/html": [
       "<div>\n",
       "<table border=\"1\" class=\"dataframe\">\n",
       "  <thead>\n",
       "    <tr style=\"text-align: right;\">\n",
       "      <th></th>\n",
       "      <th>rank_first</th>\n",
       "      <th>rank_second</th>\n",
       "    </tr>\n",
       "  </thead>\n",
       "  <tbody>\n",
       "    <tr>\n",
       "      <th>fechld</th>\n",
       "      <td>(Not applicable, 0.43)</td>\n",
       "      <td>(Strongly agree, 0.21)</td>\n",
       "    </tr>\n",
       "    <tr>\n",
       "      <th>natrace</th>\n",
       "      <td>(Not applicable, 0.61)</td>\n",
       "      <td>(About right, 0.14)</td>\n",
       "    </tr>\n",
       "    <tr>\n",
       "      <th>socfrend</th>\n",
       "      <td>(Not applicable, 0.45)</td>\n",
       "      <td>(Once a month, 0.12)</td>\n",
       "    </tr>\n",
       "    <tr>\n",
       "      <th>reliten</th>\n",
       "      <td>(Not very strong, 0.44)</td>\n",
       "      <td>(Strong, 0.26)</td>\n",
       "    </tr>\n",
       "    <tr>\n",
       "      <th>res16</th>\n",
       "      <td>(Town lt 50000, 0.33)</td>\n",
       "      <td>(City gt 250000, 0.19)</td>\n",
       "    </tr>\n",
       "    <tr>\n",
       "      <th>divorce</th>\n",
       "      <td>(Not applicable, 0.56)</td>\n",
       "      <td>(No, 0.32)</td>\n",
       "    </tr>\n",
       "    <tr>\n",
       "      <th>polviews</th>\n",
       "      <td>(Moderate, 0.34)</td>\n",
       "      <td>(Don't know, 0.12)</td>\n",
       "    </tr>\n",
       "    <tr>\n",
       "      <th>fefam</th>\n",
       "      <td>(Not applicable, 0.43)</td>\n",
       "      <td>(Disagree, 0.23)</td>\n",
       "    </tr>\n",
       "    <tr>\n",
       "      <th>socbar</th>\n",
       "      <td>(Not applicable, 0.45)</td>\n",
       "      <td>(Never, 0.31)</td>\n",
       "    </tr>\n",
       "    <tr>\n",
       "      <th>partyid</th>\n",
       "      <td>(Independent, 0.37)</td>\n",
       "      <td>(Not str democrat, 0.18)</td>\n",
       "    </tr>\n",
       "    <tr>\n",
       "      <th>employed</th>\n",
       "      <td>(True, 0.89)</td>\n",
       "      <td>(False, 0.11)</td>\n",
       "    </tr>\n",
       "    <tr>\n",
       "      <th>finrela</th>\n",
       "      <td>(Average, 0.39)</td>\n",
       "      <td>(Below average, 0.33)</td>\n",
       "    </tr>\n",
       "    <tr>\n",
       "      <th>meovrwrk</th>\n",
       "      <td>(Not applicable, 0.5)</td>\n",
       "      <td>(Agree, 0.2)</td>\n",
       "    </tr>\n",
       "    <tr>\n",
       "      <th>helpoth</th>\n",
       "      <td>(Not applicable, 0.44)</td>\n",
       "      <td>(3rd important, 0.15)</td>\n",
       "    </tr>\n",
       "    <tr>\n",
       "      <th>degree</th>\n",
       "      <td>(Lt high school, 1.0)</td>\n",
       "      <td>not apply</td>\n",
       "    </tr>\n",
       "    <tr>\n",
       "      <th>class_</th>\n",
       "      <td>(Working class, 0.6)</td>\n",
       "      <td>(Middle class, 0.23)</td>\n",
       "    </tr>\n",
       "    <tr>\n",
       "      <th>courts</th>\n",
       "      <td>(Not harsh enough, 0.58)</td>\n",
       "      <td>(Not applicable, 0.15)</td>\n",
       "    </tr>\n",
       "    <tr>\n",
       "      <th>workhard</th>\n",
       "      <td>(Not applicable, 0.44)</td>\n",
       "      <td>(3rd important, 0.16)</td>\n",
       "    </tr>\n",
       "    <tr>\n",
       "      <th>incom16</th>\n",
       "      <td>(Not applicable, 0.42)</td>\n",
       "      <td>(Average, 0.23)</td>\n",
       "    </tr>\n",
       "    <tr>\n",
       "      <th>dwelling</th>\n",
       "      <td>(Detached 1-fam house, 0.45)</td>\n",
       "      <td>(Apartment house, 0.16)</td>\n",
       "    </tr>\n",
       "    <tr>\n",
       "      <th>natsoc</th>\n",
       "      <td>(Too little, 0.6)</td>\n",
       "      <td>(About right, 0.24)</td>\n",
       "    </tr>\n",
       "    <tr>\n",
       "      <th>fund</th>\n",
       "      <td>(Moderate, 0.38)</td>\n",
       "      <td>(Fundamentalist, 0.34)</td>\n",
       "    </tr>\n",
       "    <tr>\n",
       "      <th>natroad</th>\n",
       "      <td>(About right, 0.49)</td>\n",
       "      <td>(Too little, 0.27)</td>\n",
       "    </tr>\n",
       "    <tr>\n",
       "      <th>parsol</th>\n",
       "      <td>(Not applicable, 0.4)</td>\n",
       "      <td>(Much better, 0.22)</td>\n",
       "    </tr>\n",
       "    <tr>\n",
       "      <th>mawrkgrw</th>\n",
       "      <td>(Yes, 0.52)</td>\n",
       "      <td>(No, 0.31)</td>\n",
       "    </tr>\n",
       "  </tbody>\n",
       "</table>\n",
       "</div>"
      ],
      "text/plain": [
       "                            rank_first               rank_second\n",
       "fechld          (Not applicable, 0.43)    (Strongly agree, 0.21)\n",
       "natrace         (Not applicable, 0.61)       (About right, 0.14)\n",
       "socfrend        (Not applicable, 0.45)      (Once a month, 0.12)\n",
       "reliten        (Not very strong, 0.44)            (Strong, 0.26)\n",
       "res16            (Town lt 50000, 0.33)    (City gt 250000, 0.19)\n",
       "divorce         (Not applicable, 0.56)                (No, 0.32)\n",
       "polviews              (Moderate, 0.34)        (Don't know, 0.12)\n",
       "fefam           (Not applicable, 0.43)          (Disagree, 0.23)\n",
       "socbar          (Not applicable, 0.45)             (Never, 0.31)\n",
       "partyid            (Independent, 0.37)  (Not str democrat, 0.18)\n",
       "employed                  (True, 0.89)             (False, 0.11)\n",
       "finrela                (Average, 0.39)     (Below average, 0.33)\n",
       "meovrwrk         (Not applicable, 0.5)              (Agree, 0.2)\n",
       "helpoth         (Not applicable, 0.44)     (3rd important, 0.15)\n",
       "degree           (Lt high school, 1.0)                 not apply\n",
       "class_            (Working class, 0.6)      (Middle class, 0.23)\n",
       "courts        (Not harsh enough, 0.58)    (Not applicable, 0.15)\n",
       "workhard        (Not applicable, 0.44)     (3rd important, 0.16)\n",
       "incom16         (Not applicable, 0.42)           (Average, 0.23)\n",
       "dwelling  (Detached 1-fam house, 0.45)   (Apartment house, 0.16)\n",
       "natsoc               (Too little, 0.6)       (About right, 0.24)\n",
       "fund                  (Moderate, 0.38)    (Fundamentalist, 0.34)\n",
       "natroad            (About right, 0.49)        (Too little, 0.27)\n",
       "parsol           (Not applicable, 0.4)       (Much better, 0.22)\n",
       "mawrkgrw                   (Yes, 0.52)                (No, 0.31)"
      ]
     },
     "execution_count": 84,
     "metadata": {},
     "output_type": "execute_result"
    }
   ],
   "source": [
    "cluster_summary(df_c5,cat_cols)"
   ]
  },
  {
   "cell_type": "markdown",
   "metadata": {},
   "source": [
    "## Women in cluster 5 have following characterastics:\n",
    "  * Have first kid early\n",
    "  * Family has less eudcation than generage population\n",
    "  * Either grow up in small towns or big cities\n",
    "  * Don't have strong affiliation to religions\n",
    "  * Moderate or have no interest in political views.\n",
    "  * Less than high school degree\n",
    "  * Low family income and consider their family income is below avereage"
   ]
  },
  {
   "cell_type": "code",
   "execution_count": 98,
   "metadata": {
    "collapsed": false
   },
   "outputs": [
    {
     "data": {
      "text/html": [
       "<div>\n",
       "<table border=\"1\" class=\"dataframe\">\n",
       "  <thead>\n",
       "    <tr style=\"text-align: right;\">\n",
       "      <th></th>\n",
       "      <th>rank_first</th>\n",
       "      <th>rank_second</th>\n",
       "      <th>rank_first</th>\n",
       "      <th>rank_second</th>\n",
       "    </tr>\n",
       "  </thead>\n",
       "  <tbody>\n",
       "    <tr>\n",
       "      <th>fechld</th>\n",
       "      <td>(Not applicable, 0.41)</td>\n",
       "      <td>(Agree, 0.23)</td>\n",
       "      <td>(Not applicable, 0.43)</td>\n",
       "      <td>(Strongly agree, 0.21)</td>\n",
       "    </tr>\n",
       "    <tr>\n",
       "      <th>natrace</th>\n",
       "      <td>(Not applicable, 0.54)</td>\n",
       "      <td>(Too little, 0.17)</td>\n",
       "      <td>(Not applicable, 0.61)</td>\n",
       "      <td>(About right, 0.14)</td>\n",
       "    </tr>\n",
       "    <tr>\n",
       "      <th>socfrend</th>\n",
       "      <td>(Not applicable, 0.42)</td>\n",
       "      <td>(Never, 0.15)</td>\n",
       "      <td>(Not applicable, 0.45)</td>\n",
       "      <td>(Once a month, 0.12)</td>\n",
       "    </tr>\n",
       "    <tr>\n",
       "      <th>reliten</th>\n",
       "      <td>(Not very strong, 0.42)</td>\n",
       "      <td>(Strong, 0.26)</td>\n",
       "      <td>(Not very strong, 0.44)</td>\n",
       "      <td>(Strong, 0.26)</td>\n",
       "    </tr>\n",
       "    <tr>\n",
       "      <th>res16</th>\n",
       "      <td>(Town lt 50000, 0.34)</td>\n",
       "      <td>(City gt 250000, 0.21)</td>\n",
       "      <td>(Town lt 50000, 0.33)</td>\n",
       "      <td>(City gt 250000, 0.19)</td>\n",
       "    </tr>\n",
       "    <tr>\n",
       "      <th>divorce</th>\n",
       "      <td>(Not applicable, 0.62)</td>\n",
       "      <td>(No, 0.3)</td>\n",
       "      <td>(Not applicable, 0.56)</td>\n",
       "      <td>(No, 0.32)</td>\n",
       "    </tr>\n",
       "    <tr>\n",
       "      <th>polviews</th>\n",
       "      <td>(Moderate, 0.35)</td>\n",
       "      <td>(Don't know, 0.13)</td>\n",
       "      <td>(Moderate, 0.34)</td>\n",
       "      <td>(Don't know, 0.12)</td>\n",
       "    </tr>\n",
       "    <tr>\n",
       "      <th>fefam</th>\n",
       "      <td>(Not applicable, 0.41)</td>\n",
       "      <td>(Disagree, 0.21)</td>\n",
       "      <td>(Not applicable, 0.43)</td>\n",
       "      <td>(Disagree, 0.23)</td>\n",
       "    </tr>\n",
       "    <tr>\n",
       "      <th>socbar</th>\n",
       "      <td>(Not applicable, 0.42)</td>\n",
       "      <td>(Never, 0.38)</td>\n",
       "      <td>(Not applicable, 0.45)</td>\n",
       "      <td>(Never, 0.31)</td>\n",
       "    </tr>\n",
       "    <tr>\n",
       "      <th>partyid</th>\n",
       "      <td>(Independent, 0.39)</td>\n",
       "      <td>(Not str democrat, 0.16)</td>\n",
       "      <td>(Independent, 0.37)</td>\n",
       "      <td>(Not str democrat, 0.18)</td>\n",
       "    </tr>\n",
       "    <tr>\n",
       "      <th>employed</th>\n",
       "      <td>(False, 0.92)</td>\n",
       "      <td>(True, 0.08)</td>\n",
       "      <td>(True, 0.89)</td>\n",
       "      <td>(False, 0.11)</td>\n",
       "    </tr>\n",
       "    <tr>\n",
       "      <th>finrela</th>\n",
       "      <td>(Below average, 0.37)</td>\n",
       "      <td>(Average, 0.31)</td>\n",
       "      <td>(Average, 0.39)</td>\n",
       "      <td>(Below average, 0.33)</td>\n",
       "    </tr>\n",
       "    <tr>\n",
       "      <th>meovrwrk</th>\n",
       "      <td>(Not applicable, 0.52)</td>\n",
       "      <td>(Agree, 0.17)</td>\n",
       "      <td>(Not applicable, 0.5)</td>\n",
       "      <td>(Agree, 0.2)</td>\n",
       "    </tr>\n",
       "    <tr>\n",
       "      <th>helpoth</th>\n",
       "      <td>(Not applicable, 0.41)</td>\n",
       "      <td>(3rd important, 0.2)</td>\n",
       "      <td>(Not applicable, 0.44)</td>\n",
       "      <td>(3rd important, 0.15)</td>\n",
       "    </tr>\n",
       "    <tr>\n",
       "      <th>degree</th>\n",
       "      <td>(Lt high school, 0.99)</td>\n",
       "      <td>(Bachelor, 0.01)</td>\n",
       "      <td>(Lt high school, 1.0)</td>\n",
       "      <td>not apply</td>\n",
       "    </tr>\n",
       "    <tr>\n",
       "      <th>class_</th>\n",
       "      <td>(Working class, 0.44)</td>\n",
       "      <td>(Middle class, 0.26)</td>\n",
       "      <td>(Working class, 0.6)</td>\n",
       "      <td>(Middle class, 0.23)</td>\n",
       "    </tr>\n",
       "    <tr>\n",
       "      <th>courts</th>\n",
       "      <td>(Not harsh enough, 0.53)</td>\n",
       "      <td>(Too harsh, 0.19)</td>\n",
       "      <td>(Not harsh enough, 0.58)</td>\n",
       "      <td>(Not applicable, 0.15)</td>\n",
       "    </tr>\n",
       "    <tr>\n",
       "      <th>workhard</th>\n",
       "      <td>(Not applicable, 0.41)</td>\n",
       "      <td>(2nd important, 0.18)</td>\n",
       "      <td>(Not applicable, 0.44)</td>\n",
       "      <td>(3rd important, 0.16)</td>\n",
       "    </tr>\n",
       "    <tr>\n",
       "      <th>incom16</th>\n",
       "      <td>(Not applicable, 0.47)</td>\n",
       "      <td>(Average, 0.18)</td>\n",
       "      <td>(Not applicable, 0.42)</td>\n",
       "      <td>(Average, 0.23)</td>\n",
       "    </tr>\n",
       "    <tr>\n",
       "      <th>dwelling</th>\n",
       "      <td>(Detached 1-fam house, 0.36)</td>\n",
       "      <td>(Apartment house, 0.18)</td>\n",
       "      <td>(Detached 1-fam house, 0.45)</td>\n",
       "      <td>(Apartment house, 0.16)</td>\n",
       "    </tr>\n",
       "    <tr>\n",
       "      <th>natsoc</th>\n",
       "      <td>(Too little, 0.54)</td>\n",
       "      <td>(About right, 0.3)</td>\n",
       "      <td>(Too little, 0.6)</td>\n",
       "      <td>(About right, 0.24)</td>\n",
       "    </tr>\n",
       "    <tr>\n",
       "      <th>fund</th>\n",
       "      <td>(Moderate, 0.44)</td>\n",
       "      <td>(Fundamentalist, 0.31)</td>\n",
       "      <td>(Moderate, 0.38)</td>\n",
       "      <td>(Fundamentalist, 0.34)</td>\n",
       "    </tr>\n",
       "    <tr>\n",
       "      <th>natroad</th>\n",
       "      <td>(About right, 0.43)</td>\n",
       "      <td>(Too little, 0.24)</td>\n",
       "      <td>(About right, 0.49)</td>\n",
       "      <td>(Too little, 0.27)</td>\n",
       "    </tr>\n",
       "    <tr>\n",
       "      <th>parsol</th>\n",
       "      <td>(Not applicable, 0.39)</td>\n",
       "      <td>(Somewhat better, 0.23)</td>\n",
       "      <td>(Not applicable, 0.4)</td>\n",
       "      <td>(Much better, 0.22)</td>\n",
       "    </tr>\n",
       "    <tr>\n",
       "      <th>mawrkgrw</th>\n",
       "      <td>(Yes, 0.56)</td>\n",
       "      <td>(No, 0.27)</td>\n",
       "      <td>(Yes, 0.52)</td>\n",
       "      <td>(No, 0.31)</td>\n",
       "    </tr>\n",
       "  </tbody>\n",
       "</table>\n",
       "</div>"
      ],
      "text/plain": [
       "                            rank_first               rank_second  \\\n",
       "fechld          (Not applicable, 0.41)             (Agree, 0.23)   \n",
       "natrace         (Not applicable, 0.54)        (Too little, 0.17)   \n",
       "socfrend        (Not applicable, 0.42)             (Never, 0.15)   \n",
       "reliten        (Not very strong, 0.42)            (Strong, 0.26)   \n",
       "res16            (Town lt 50000, 0.34)    (City gt 250000, 0.21)   \n",
       "divorce         (Not applicable, 0.62)                 (No, 0.3)   \n",
       "polviews              (Moderate, 0.35)        (Don't know, 0.13)   \n",
       "fefam           (Not applicable, 0.41)          (Disagree, 0.21)   \n",
       "socbar          (Not applicable, 0.42)             (Never, 0.38)   \n",
       "partyid            (Independent, 0.39)  (Not str democrat, 0.16)   \n",
       "employed                 (False, 0.92)              (True, 0.08)   \n",
       "finrela          (Below average, 0.37)           (Average, 0.31)   \n",
       "meovrwrk        (Not applicable, 0.52)             (Agree, 0.17)   \n",
       "helpoth         (Not applicable, 0.41)      (3rd important, 0.2)   \n",
       "degree          (Lt high school, 0.99)          (Bachelor, 0.01)   \n",
       "class_           (Working class, 0.44)      (Middle class, 0.26)   \n",
       "courts        (Not harsh enough, 0.53)         (Too harsh, 0.19)   \n",
       "workhard        (Not applicable, 0.41)     (2nd important, 0.18)   \n",
       "incom16         (Not applicable, 0.47)           (Average, 0.18)   \n",
       "dwelling  (Detached 1-fam house, 0.36)   (Apartment house, 0.18)   \n",
       "natsoc              (Too little, 0.54)        (About right, 0.3)   \n",
       "fund                  (Moderate, 0.44)    (Fundamentalist, 0.31)   \n",
       "natroad            (About right, 0.43)        (Too little, 0.24)   \n",
       "parsol          (Not applicable, 0.39)   (Somewhat better, 0.23)   \n",
       "mawrkgrw                   (Yes, 0.56)                (No, 0.27)   \n",
       "\n",
       "                            rank_first               rank_second  \n",
       "fechld          (Not applicable, 0.43)    (Strongly agree, 0.21)  \n",
       "natrace         (Not applicable, 0.61)       (About right, 0.14)  \n",
       "socfrend        (Not applicable, 0.45)      (Once a month, 0.12)  \n",
       "reliten        (Not very strong, 0.44)            (Strong, 0.26)  \n",
       "res16            (Town lt 50000, 0.33)    (City gt 250000, 0.19)  \n",
       "divorce         (Not applicable, 0.56)                (No, 0.32)  \n",
       "polviews              (Moderate, 0.34)        (Don't know, 0.12)  \n",
       "fefam           (Not applicable, 0.43)          (Disagree, 0.23)  \n",
       "socbar          (Not applicable, 0.45)             (Never, 0.31)  \n",
       "partyid            (Independent, 0.37)  (Not str democrat, 0.18)  \n",
       "employed                  (True, 0.89)             (False, 0.11)  \n",
       "finrela                (Average, 0.39)     (Below average, 0.33)  \n",
       "meovrwrk         (Not applicable, 0.5)              (Agree, 0.2)  \n",
       "helpoth         (Not applicable, 0.44)     (3rd important, 0.15)  \n",
       "degree           (Lt high school, 1.0)                 not apply  \n",
       "class_            (Working class, 0.6)      (Middle class, 0.23)  \n",
       "courts        (Not harsh enough, 0.58)    (Not applicable, 0.15)  \n",
       "workhard        (Not applicable, 0.44)     (3rd important, 0.16)  \n",
       "incom16         (Not applicable, 0.42)           (Average, 0.23)  \n",
       "dwelling  (Detached 1-fam house, 0.45)   (Apartment house, 0.16)  \n",
       "natsoc               (Too little, 0.6)       (About right, 0.24)  \n",
       "fund                  (Moderate, 0.38)    (Fundamentalist, 0.34)  \n",
       "natroad            (About right, 0.49)        (Too little, 0.27)  \n",
       "parsol           (Not applicable, 0.4)       (Much better, 0.22)  \n",
       "mawrkgrw                   (Yes, 0.52)                (No, 0.31)  "
      ]
     },
     "execution_count": 98,
     "metadata": {},
     "output_type": "execute_result"
    }
   ],
   "source": [
    "pd.concat([cluster_summary(df_c3,cat_cols),cluster_summary(df_c5,cat_cols)],axis =1)"
   ]
  },
  {
   "cell_type": "code",
   "execution_count": null,
   "metadata": {
    "collapsed": true
   },
   "outputs": [],
   "source": []
  }
 ],
 "metadata": {
  "kernelspec": {
   "display_name": "Python 2",
   "language": "python",
   "name": "python2"
  },
  "language_info": {
   "codemirror_mode": {
    "name": "ipython",
    "version": 2
   },
   "file_extension": ".py",
   "mimetype": "text/x-python",
   "name": "python",
   "nbconvert_exporter": "python",
   "pygments_lexer": "ipython2",
   "version": "2.7.10"
  }
 },
 "nbformat": 4,
 "nbformat_minor": 0
}
