{
 "cells": [
  {
   "cell_type": "code",
   "execution_count": 1,
   "metadata": {
    "collapsed": false
   },
   "outputs": [
    {
     "name": "stdout",
     "output_type": "stream",
     "text": [
      "The autoreload extension is already loaded. To reload it, use:\n",
      "  %reload_ext autoreload\n"
     ]
    }
   ],
   "source": [
    "from __future__ import division\n",
    "import pandas as pd\n",
    "import numpy as np \n",
    "import matplotlib.pylab as plt\n",
    "from code.organize import *\n",
    "from code.roughEDA import *\n",
    "from code.survey_processor_full import *\n",
    "from code.model_vis import *\n",
    "from code.fc_cluster import *\n",
    "\n",
    "from sklearn.cross_validation import train_test_split\n",
    "from sklearn.ensemble import RandomForestClassifier, GradientBoostingClassifier\n",
    "from sklearn.metrics import roc_auc_score, confusion_matrix,roc_curve\n",
    "from sklearn.grid_search import GridSearchCV\n",
    "from sklearn.cross_validation import cross_val_score\n",
    "from sklearn.metrics import silhouette_samples, silhouette_score\n",
    "from sklearn.decomposition import PCA\n",
    "\n",
    "from treeinterpreter import treeinterpreter as ti\n",
    "import matplotlib.cm as cm\n",
    "import cPickle as pickle\n",
    "%matplotlib inline\n",
    "%load_ext autoreload\n",
    "%autoreload 2"
   ]
  },
  {
   "cell_type": "markdown",
   "metadata": {},
   "source": [
    "## Clustering Feature Contribution Matrix\n",
    "\n",
    "* pca\n",
    "* kmeans on principle components"
   ]
  },
  {
   "cell_type": "markdown",
   "metadata": {},
   "source": [
    "To further classify employed and unemployed women, more studies are needed on feature contribution matrix. To see how random forest classified samples, we need to find out common contribution paths among samples. Using Kmeans to cluster feature contribution matrix is a reasonable approach. However, the matrix has 40 columns, so before clustering, PCA is necessary for dimension reduction.  "
   ]
  },
  {
   "cell_type": "code",
   "execution_count": 2,
   "metadata": {
    "collapsed": true
   },
   "outputs": [],
   "source": [
    "fc_df = pd.read_pickle('data/fc_df2.pkl')"
   ]
  },
  {
   "cell_type": "markdown",
   "metadata": {},
   "source": [
    "## 1.  PCA"
   ]
  },
  {
   "cell_type": "code",
   "execution_count": 3,
   "metadata": {
    "collapsed": false
   },
   "outputs": [
    {
     "data": {
      "text/plain": [
       "PCA(copy=True, n_components=10, whiten=False)"
      ]
     },
     "execution_count": 3,
     "metadata": {},
     "output_type": "execute_result"
    }
   ],
   "source": [
    "fc_f_pca = fc_df.drop(['employed','correct'],axis =1)       #only pass feature columns to pca\n",
    "\n",
    "pca = PCA(n_components = 10)\n",
    "pca.fit(fc_f_pca.values)"
   ]
  },
  {
   "cell_type": "code",
   "execution_count": 4,
   "metadata": {
    "collapsed": false
   },
   "outputs": [
    {
     "data": {
      "text/plain": [
       "(array([ 0.27067104,  0.40572749,  0.50527836,  0.56708616,  0.61551024,\n",
       "         0.65216206,  0.68350593,  0.70979973,  0.73464959,  0.75635671]),\n",
       " array([ 0.27067104,  0.13505645,  0.09955087,  0.0618078 ,  0.04842407,\n",
       "         0.03665183,  0.03134387,  0.0262938 ,  0.02484986,  0.02170712]))"
      ]
     },
     "execution_count": 4,
     "metadata": {},
     "output_type": "execute_result"
    }
   ],
   "source": [
    "np.cumsum(pca.explained_variance_ratio_),pca.explained_variance_ratio_  # accumulated variance in principle componets."
   ]
  },
  {
   "cell_type": "code",
   "execution_count": 5,
   "metadata": {
    "collapsed": false
   },
   "outputs": [
    {
     "data": {
      "image/png": "[encoded data removed]",
      "text/plain": [
       "<matplotlib.figure.Figure at 0x7f53271cb0d0>"
      ]
     },
     "metadata": {},
     "output_type": "display_data"
    }
   ],
   "source": [
    "plt.figure(figsize=(7,5))\n",
    "plt.plot(range(1,11),pca.explained_variance_ratio_)\n",
    "plt.xlabel('principle components')\n",
    "plt.ylabel('expained variance ratio')\n",
    "plt.title('Figure 6 PCA on Feature Contribution Matrix')\n",
    "plt.savefig('imgs/figure6_pca')"
   ]
  },
  {
   "cell_type": "markdown",
   "metadata": {},
   "source": [
    "** Three principle components will be fine **"
   ]
  },
  {
   "cell_type": "code",
   "execution_count": 6,
   "metadata": {
    "collapsed": false
   },
   "outputs": [],
   "source": [
    "pca = PCA(n_components=3)\n",
    "fc_pca = pca.fit_transform(fc_f_pca.values)"
   ]
  },
  {
   "cell_type": "markdown",
   "metadata": {},
   "source": [
    "### Kmeans\n",
    "\n",
    "To determine which k for kmeans. I wrote a function to check kmeans cluster performance. \n",
    "\n",
    "1. Take a range of Ks and make a for loop\n",
    "\n",
    "2. In each loop：\n",
    "  * Generate k clusters using kmeans. concatenate cluster id to 'employed' and 'correct' columns to make a new data frame.\n",
    "  * Group data frame by cluster id, calcuate employed rate and correct rate by taking means\n",
    "  * If the employed rate is higher than 0.7 or lower than 0.3, then we can say this cluster successfully group employed or unemployed population, so this cluster yields pure population of interest.\n",
    "  * If the correct rate is higher than 0.7, we can say this cluter has accuracy.\n",
    "  * The clusters with pure population and meantime with high accuracy are ones we want. \n",
    "  * Therefore, the percentage of good clusters is calculated.\n",
    "  * Print employed and correct rate of each good cluster, as well as the good cluster ratio.\n",
    "  \n",
    "3. plot total number of k against good cluster ratio"
   ]
  },
  {
   "cell_type": "code",
   "execution_count": 25,
   "metadata": {
    "collapsed": false,
    "scrolled": false
   },
   "outputs": [
    {
     "name": "stdout",
     "output_type": "stream",
     "text": [
      "4 clusters\n",
      "         employed   correct\n",
      "cluster                    \n",
      "0        0.023209  0.982846\n",
      "1        0.923353  0.923353\n",
      "2        0.348921  0.910072\n",
      "3        0.861071  0.878437\n",
      "---\n",
      "4 out of 4 clusters split the target ideally. Good cluster rate: 1.0\n",
      "********************\n",
      "5 clusters\n",
      "         employed   correct\n",
      "cluster                    \n",
      "0        0.921053  0.920591\n",
      "1        0.022222  0.983838\n",
      "2        0.081744  0.929155\n",
      "3        0.863173  0.880640\n",
      "4        0.895753  0.899614\n",
      "---\n",
      "5 out of 5 clusters split the target ideally. Good cluster rate: 1.0\n",
      "********************\n",
      "6 clusters\n",
      "         employed   correct\n",
      "cluster                    \n",
      "0        0.924484  0.924484\n",
      "1        0.082192  0.928767\n",
      "2        0.040498  0.975078\n",
      "3        0.900459  0.901991\n",
      "4        0.895753  0.899614\n",
      "5        0.059809  0.930622\n",
      "---\n",
      "6 out of 6 clusters split the target ideally. Good cluster rate: 1.0\n",
      "********************\n",
      "7 clusters\n",
      "         employed   correct\n",
      "cluster                    \n",
      "0        0.919614  0.919614\n",
      "1        0.986326  0.986326\n",
      "2        0.004983  0.993355\n",
      "3        0.895753  0.899614\n",
      "4        0.082192  0.928767\n",
      "5        0.062053  0.930788\n",
      "---\n",
      "6 out of 7 clusters split the target ideally. Good cluster rate: 0.857142857143\n",
      "********************\n",
      "8 clusters\n",
      "         employed   correct\n",
      "cluster                    \n",
      "1        0.986391  0.986391\n",
      "2        0.919614  0.919614\n",
      "3        0.043478  0.956522\n",
      "4        0.870504  0.870504\n",
      "5        0.062350  0.930456\n",
      "6        0.887324  0.866197\n",
      "7        0.004983  0.993355\n",
      "---\n",
      "7 out of 8 clusters split the target ideally. Good cluster rate: 0.875\n",
      "********************\n",
      "9 clusters\n",
      "         employed   correct\n",
      "cluster                    \n",
      "0        0.883721  0.899225\n",
      "1        0.919614  0.919614\n",
      "2        0.005000  0.993333\n",
      "3        0.986391  0.986391\n",
      "4        0.055351  0.948339\n",
      "5        0.062350  0.930456\n",
      "7        0.100000  0.911111\n",
      "8        0.898551  0.876812\n",
      "---\n",
      "8 out of 9 clusters split the target ideally. Good cluster rate: 0.888888888889\n",
      "********************\n"
     ]
    },
    {
     "data": {
      "image/png": "[encoded data removed]",
      "text/plain": [
       "<matplotlib.figure.Figure at 0x7f532323e090>"
      ]
     },
     "metadata": {},
     "output_type": "display_data"
    }
   ],
   "source": [
    "plt.figure(figsize=(7,5))\n",
    "km_emp_mean(fc_pca,10,fc_df.employed,fc_df.correct)\n",
    "plt.title('Figure 7 Good Cluster Rate')\n",
    "plt.savefig('imgs/figure7_good_rate')"
   ]
  },
  {
   "cell_type": "markdown",
   "metadata": {},
   "source": [
    "### Check average silhouette"
   ]
  },
  {
   "cell_type": "code",
   "execution_count": 27,
   "metadata": {
    "collapsed": false
   },
   "outputs": [
    {
     "data": {
      "image/png": "[encoded data removed]",
      "text/plain": [
       "<matplotlib.figure.Figure at 0x7f53230d1750>"
      ]
     },
     "metadata": {},
     "output_type": "display_data"
    }
   ],
   "source": [
    "plot_silhouette(fc_pca,10)\n",
    "plt.title('figure 8 Silhouette Score vs K')\n",
    "plt.savefig('imgs/figure8_sil_K')"
   ]
  },
  {
   "cell_type": "markdown",
   "metadata": {},
   "source": [
    "### Check each cluster's silhoutte score when K is 6."
   ]
  },
  {
   "cell_type": "code",
   "execution_count": 31,
   "metadata": {
    "collapsed": false,
    "scrolled": true
   },
   "outputs": [
    {
     "name": "stdout",
     "output_type": "stream",
     "text": [
      "('For n_clusters =', 6, 'The average silhouette_score is :', 0.52546132160754577)\n"
     ]
    },
    {
     "data": {
      "image/png": "[encoded data removed]",
      "text/plain": [
       "<matplotlib.figure.Figure at 0x7f5323713910>"
      ]
     },
     "metadata": {},
     "output_type": "display_data"
    }
   ],
   "source": [
    "cluster_plot(fc_pca,6)\n",
    "plt.savefig('imgs/figure9')"
   ]
  },
  {
   "cell_type": "markdown",
   "metadata": {},
   "source": [
    "According to the results, all the Kmeans cluster showed high good cluster ratios. When the number of cluster for kmeans is six, it has 100% good cluster ratio, 3 employed, 3 unemployed. Moreover, it exhibited very high silhouette score. Thus, n_cluster will be set to 6."
   ]
  },
  {
   "cell_type": "code",
   "execution_count": 10,
   "metadata": {
    "collapsed": true
   },
   "outputs": [],
   "source": [
    "km = KMeans(n_clusters=6,random_state=0)\n",
    "km.fit(fc_pca)\n",
    "fc_df['cluster'] = km.labels_"
   ]
  },
  {
   "cell_type": "code",
   "execution_count": 11,
   "metadata": {
    "collapsed": false
   },
   "outputs": [
    {
     "data": {
      "text/html": [
       "<div>\n",
       "<table border=\"1\" class=\"dataframe\">\n",
       "  <thead>\n",
       "    <tr style=\"text-align: right;\">\n",
       "      <th></th>\n",
       "      <th>mean</th>\n",
       "      <th>size</th>\n",
       "    </tr>\n",
       "    <tr>\n",
       "      <th>cluster</th>\n",
       "      <th></th>\n",
       "      <th></th>\n",
       "    </tr>\n",
       "  </thead>\n",
       "  <tbody>\n",
       "    <tr>\n",
       "      <th>0</th>\n",
       "      <td>0.924484</td>\n",
       "      <td>2132</td>\n",
       "    </tr>\n",
       "    <tr>\n",
       "      <th>1</th>\n",
       "      <td>0.082192</td>\n",
       "      <td>365</td>\n",
       "    </tr>\n",
       "    <tr>\n",
       "      <th>2</th>\n",
       "      <td>0.040498</td>\n",
       "      <td>642</td>\n",
       "    </tr>\n",
       "    <tr>\n",
       "      <th>3</th>\n",
       "      <td>0.900459</td>\n",
       "      <td>653</td>\n",
       "    </tr>\n",
       "    <tr>\n",
       "      <th>4</th>\n",
       "      <td>0.895753</td>\n",
       "      <td>259</td>\n",
       "    </tr>\n",
       "    <tr>\n",
       "      <th>5</th>\n",
       "      <td>0.059809</td>\n",
       "      <td>418</td>\n",
       "    </tr>\n",
       "  </tbody>\n",
       "</table>\n",
       "</div>"
      ],
      "text/plain": [
       "             mean  size\n",
       "cluster                \n",
       "0        0.924484  2132\n",
       "1        0.082192   365\n",
       "2        0.040498   642\n",
       "3        0.900459   653\n",
       "4        0.895753   259\n",
       "5        0.059809   418"
      ]
     },
     "execution_count": 11,
     "metadata": {},
     "output_type": "execute_result"
    }
   ],
   "source": [
    "fc_df.groupby('cluster')['employed'].agg([np.mean,np.size])"
   ]
  },
  {
   "cell_type": "markdown",
   "metadata": {},
   "source": [
    "**To make this process replicable, a class function, FeatureContribution is written and saved as fc_cluster.py under data diretory. Now let's give it a shot.**"
   ]
  },
  {
   "cell_type": "code",
   "execution_count": 12,
   "metadata": {
    "collapsed": true
   },
   "outputs": [],
   "source": [
    "fc = FeatureContribution('data/fc_df2.pkl')"
   ]
  },
  {
   "cell_type": "markdown",
   "metadata": {},
   "source": [
    "cluster_processor is the main function. The first argument is the **n_components** for pca and the second argument is the **n_cluster** for Kmeans. It returns a data frame which is orginal feature contribution data frame with an additional cluster id column generated from Kmeans."
   ]
  },
  {
   "cell_type": "code",
   "execution_count": 13,
   "metadata": {
    "collapsed": true
   },
   "outputs": [],
   "source": [
    "fc_df = fc.cluster_processor(3,6)"
   ]
  },
  {
   "cell_type": "code",
   "execution_count": 14,
   "metadata": {
    "collapsed": false
   },
   "outputs": [
    {
     "data": {
      "text/plain": [
       "(4469, 43)"
      ]
     },
     "execution_count": 14,
     "metadata": {},
     "output_type": "execute_result"
    }
   ],
   "source": [
    "fc_df.shape"
   ]
  },
  {
   "cell_type": "code",
   "execution_count": 15,
   "metadata": {
    "collapsed": false
   },
   "outputs": [
    {
     "data": {
      "text/html": [
       "<div>\n",
       "<table border=\"1\" class=\"dataframe\">\n",
       "  <thead>\n",
       "    <tr style=\"text-align: right;\">\n",
       "      <th></th>\n",
       "      <th>coninc</th>\n",
       "      <th>age</th>\n",
       "      <th>educom</th>\n",
       "      <th>degree</th>\n",
       "      <th>sphrs1</th>\n",
       "      <th>partyid</th>\n",
       "      <th>agekdbrn</th>\n",
       "      <th>class_</th>\n",
       "      <th>dwelling</th>\n",
       "      <th>polviews</th>\n",
       "      <th>...</th>\n",
       "      <th>natfare</th>\n",
       "      <th>marital</th>\n",
       "      <th>divlaw</th>\n",
       "      <th>affrmact</th>\n",
       "      <th>helpnot</th>\n",
       "      <th>life</th>\n",
       "      <th>spanking</th>\n",
       "      <th>employed</th>\n",
       "      <th>correct</th>\n",
       "      <th>cluster</th>\n",
       "    </tr>\n",
       "  </thead>\n",
       "  <tbody>\n",
       "    <tr>\n",
       "      <th>0</th>\n",
       "      <td>-0.024180</td>\n",
       "      <td>0.012212</td>\n",
       "      <td>0.004822</td>\n",
       "      <td>0.025785</td>\n",
       "      <td>0.003010</td>\n",
       "      <td>0.005950</td>\n",
       "      <td>0.023872</td>\n",
       "      <td>-0.082842</td>\n",
       "      <td>-0.039021</td>\n",
       "      <td>-0.005935</td>\n",
       "      <td>...</td>\n",
       "      <td>0.023788</td>\n",
       "      <td>0.004271</td>\n",
       "      <td>0.003521</td>\n",
       "      <td>0.000336</td>\n",
       "      <td>-0.004642</td>\n",
       "      <td>0.000422</td>\n",
       "      <td>0.000950</td>\n",
       "      <td>True</td>\n",
       "      <td>True</td>\n",
       "      <td>3</td>\n",
       "    </tr>\n",
       "    <tr>\n",
       "      <th>1</th>\n",
       "      <td>0.002730</td>\n",
       "      <td>-0.004376</td>\n",
       "      <td>0.008302</td>\n",
       "      <td>0.014275</td>\n",
       "      <td>-0.018376</td>\n",
       "      <td>-0.000277</td>\n",
       "      <td>0.007874</td>\n",
       "      <td>-0.041408</td>\n",
       "      <td>0.012293</td>\n",
       "      <td>0.000421</td>\n",
       "      <td>...</td>\n",
       "      <td>0.007787</td>\n",
       "      <td>-0.008250</td>\n",
       "      <td>0.001585</td>\n",
       "      <td>-0.000391</td>\n",
       "      <td>0.003435</td>\n",
       "      <td>0.006826</td>\n",
       "      <td>0.008383</td>\n",
       "      <td>False</td>\n",
       "      <td>False</td>\n",
       "      <td>0</td>\n",
       "    </tr>\n",
       "    <tr>\n",
       "      <th>2</th>\n",
       "      <td>-0.008768</td>\n",
       "      <td>0.027119</td>\n",
       "      <td>-0.038023</td>\n",
       "      <td>0.013832</td>\n",
       "      <td>-0.044665</td>\n",
       "      <td>-0.012495</td>\n",
       "      <td>-0.019889</td>\n",
       "      <td>-0.049807</td>\n",
       "      <td>-0.004495</td>\n",
       "      <td>-0.002228</td>\n",
       "      <td>...</td>\n",
       "      <td>-0.010834</td>\n",
       "      <td>-0.012121</td>\n",
       "      <td>-0.003478</td>\n",
       "      <td>-0.004329</td>\n",
       "      <td>-0.025902</td>\n",
       "      <td>-0.008582</td>\n",
       "      <td>-0.011836</td>\n",
       "      <td>False</td>\n",
       "      <td>True</td>\n",
       "      <td>2</td>\n",
       "    </tr>\n",
       "    <tr>\n",
       "      <th>3</th>\n",
       "      <td>0.007878</td>\n",
       "      <td>-0.046130</td>\n",
       "      <td>-0.012555</td>\n",
       "      <td>-0.001003</td>\n",
       "      <td>0.012358</td>\n",
       "      <td>-0.033311</td>\n",
       "      <td>-0.032281</td>\n",
       "      <td>-0.047386</td>\n",
       "      <td>-0.012148</td>\n",
       "      <td>-0.015564</td>\n",
       "      <td>...</td>\n",
       "      <td>0.006761</td>\n",
       "      <td>0.002884</td>\n",
       "      <td>-0.021230</td>\n",
       "      <td>-0.013306</td>\n",
       "      <td>-0.001434</td>\n",
       "      <td>-0.002780</td>\n",
       "      <td>-0.005327</td>\n",
       "      <td>False</td>\n",
       "      <td>True</td>\n",
       "      <td>2</td>\n",
       "    </tr>\n",
       "    <tr>\n",
       "      <th>4</th>\n",
       "      <td>-0.113355</td>\n",
       "      <td>-0.023602</td>\n",
       "      <td>-0.129956</td>\n",
       "      <td>0.013399</td>\n",
       "      <td>-0.004473</td>\n",
       "      <td>-0.002051</td>\n",
       "      <td>-0.034877</td>\n",
       "      <td>-0.017012</td>\n",
       "      <td>-0.046539</td>\n",
       "      <td>-0.016746</td>\n",
       "      <td>...</td>\n",
       "      <td>-0.004402</td>\n",
       "      <td>0.010967</td>\n",
       "      <td>0.009405</td>\n",
       "      <td>-0.028089</td>\n",
       "      <td>0.003807</td>\n",
       "      <td>-0.001978</td>\n",
       "      <td>-0.006098</td>\n",
       "      <td>False</td>\n",
       "      <td>True</td>\n",
       "      <td>5</td>\n",
       "    </tr>\n",
       "  </tbody>\n",
       "</table>\n",
       "<p>5 rows × 43 columns</p>\n",
       "</div>"
      ],
      "text/plain": [
       "     coninc       age    educom    degree    sphrs1   partyid  agekdbrn  \\\n",
       "0 -0.024180  0.012212  0.004822  0.025785  0.003010  0.005950  0.023872   \n",
       "1  0.002730 -0.004376  0.008302  0.014275 -0.018376 -0.000277  0.007874   \n",
       "2 -0.008768  0.027119 -0.038023  0.013832 -0.044665 -0.012495 -0.019889   \n",
       "3  0.007878 -0.046130 -0.012555 -0.001003  0.012358 -0.033311 -0.032281   \n",
       "4 -0.113355 -0.023602 -0.129956  0.013399 -0.004473 -0.002051 -0.034877   \n",
       "\n",
       "     class_  dwelling  polviews   ...      natfare   marital    divlaw  \\\n",
       "0 -0.082842 -0.039021 -0.005935   ...     0.023788  0.004271  0.003521   \n",
       "1 -0.041408  0.012293  0.000421   ...     0.007787 -0.008250  0.001585   \n",
       "2 -0.049807 -0.004495 -0.002228   ...    -0.010834 -0.012121 -0.003478   \n",
       "3 -0.047386 -0.012148 -0.015564   ...     0.006761  0.002884 -0.021230   \n",
       "4 -0.017012 -0.046539 -0.016746   ...    -0.004402  0.010967  0.009405   \n",
       "\n",
       "   affrmact   helpnot      life  spanking  employed  correct  cluster  \n",
       "0  0.000336 -0.004642  0.000422  0.000950      True     True        3  \n",
       "1 -0.000391  0.003435  0.006826  0.008383     False    False        0  \n",
       "2 -0.004329 -0.025902 -0.008582 -0.011836     False     True        2  \n",
       "3 -0.013306 -0.001434 -0.002780 -0.005327     False     True        2  \n",
       "4 -0.028089  0.003807 -0.001978 -0.006098     False     True        5  \n",
       "\n",
       "[5 rows x 43 columns]"
      ]
     },
     "execution_count": 15,
     "metadata": {},
     "output_type": "execute_result"
    }
   ],
   "source": [
    "fc_df.head()"
   ]
  },
  {
   "cell_type": "code",
   "execution_count": 16,
   "metadata": {
    "collapsed": false
   },
   "outputs": [
    {
     "data": {
      "text/html": [
       "<div>\n",
       "<table border=\"1\" class=\"dataframe\">\n",
       "  <thead>\n",
       "    <tr style=\"text-align: right;\">\n",
       "      <th></th>\n",
       "      <th>mean</th>\n",
       "      <th>size</th>\n",
       "    </tr>\n",
       "    <tr>\n",
       "      <th>cluster</th>\n",
       "      <th></th>\n",
       "      <th></th>\n",
       "    </tr>\n",
       "  </thead>\n",
       "  <tbody>\n",
       "    <tr>\n",
       "      <th>0</th>\n",
       "      <td>0.924484</td>\n",
       "      <td>2132</td>\n",
       "    </tr>\n",
       "    <tr>\n",
       "      <th>1</th>\n",
       "      <td>0.082192</td>\n",
       "      <td>365</td>\n",
       "    </tr>\n",
       "    <tr>\n",
       "      <th>2</th>\n",
       "      <td>0.040498</td>\n",
       "      <td>642</td>\n",
       "    </tr>\n",
       "    <tr>\n",
       "      <th>3</th>\n",
       "      <td>0.900459</td>\n",
       "      <td>653</td>\n",
       "    </tr>\n",
       "    <tr>\n",
       "      <th>4</th>\n",
       "      <td>0.895753</td>\n",
       "      <td>259</td>\n",
       "    </tr>\n",
       "    <tr>\n",
       "      <th>5</th>\n",
       "      <td>0.059809</td>\n",
       "      <td>418</td>\n",
       "    </tr>\n",
       "  </tbody>\n",
       "</table>\n",
       "</div>"
      ],
      "text/plain": [
       "             mean  size\n",
       "cluster                \n",
       "0        0.924484  2132\n",
       "1        0.082192   365\n",
       "2        0.040498   642\n",
       "3        0.900459   653\n",
       "4        0.895753   259\n",
       "5        0.059809   418"
      ]
     },
     "execution_count": 16,
     "metadata": {},
     "output_type": "execute_result"
    }
   ],
   "source": [
    "fc_df.groupby('cluster')['employed'].agg([np.mean,np.size])"
   ]
  },
  {
   "cell_type": "code",
   "execution_count": null,
   "metadata": {
    "collapsed": true
   },
   "outputs": [],
   "source": []
  }
 ],
 "metadata": {
  "kernelspec": {
   "display_name": "Python 2",
   "language": "python",
   "name": "python2"
  },
  "language_info": {
   "codemirror_mode": {
    "name": "ipython",
    "version": 2
   },
   "file_extension": ".py",
   "mimetype": "text/x-python",
   "name": "python",
   "nbconvert_exporter": "python",
   "pygments_lexer": "ipython2",
   "version": "2.7.10"
  }
 },
 "nbformat": 4,
 "nbformat_minor": 0
}
