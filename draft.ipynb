{
 "cells": [
  {
   "cell_type": "code",
   "execution_count": 27,
   "metadata": {
    "collapsed": false
   },
   "outputs": [
    {
     "name": "stdout",
     "output_type": "stream",
     "text": [
      "The autoreload extension is already loaded. To reload it, use:\n",
      "  %reload_ext autoreload\n"
     ]
    }
   ],
   "source": [
    "from __future__ import division\n",
    "import pandas as pd\n",
    "import numpy as np \n",
    "import matplotlib.pylab as plt\n",
    "from code.organize import *\n",
    "from code.roughEDA import *\n",
    "from code.survey_processor_full import *\n",
    "from code.model_vis import *\n",
    "from code.fc import *\n",
    "\n",
    "\n",
    "\n",
    "from treeinterpreter import treeinterpreter as ti\n",
    "import matplotlib.cm as cm\n",
    "import cPickle as pickle\n",
    "%matplotlib inline\n",
    "%load_ext autoreload\n",
    "%autoreload 2"
   ]
  },
  {
   "cell_type": "code",
   "execution_count": 2,
   "metadata": {
    "collapsed": true
   },
   "outputs": [],
   "source": [
    "df = pd.read_pickle('data/redu_heat.pkl')"
   ]
  },
  {
   "cell_type": "code",
   "execution_count": 5,
   "metadata": {
    "collapsed": false
   },
   "outputs": [],
   "source": [
    "def cosine_distance(x,y):\n",
    "    dist_x = np.sqrt(sum(x**2))\n",
    "    dist_y = np.sqrt(sum(y**2))\n",
    "    in_prod = sum(x*y)\n",
    "    sim = in_prod/(dist_x*dist_y)\n",
    "    return 1-sim"
   ]
  },
  {
   "cell_type": "code",
   "execution_count": 24,
   "metadata": {
    "collapsed": true
   },
   "outputs": [],
   "source": [
    "cols = list(df.columns)"
   ]
  },
  {
   "cell_type": "code",
   "execution_count": 25,
   "metadata": {
    "collapsed": false
   },
   "outputs": [],
   "source": [
    "d = {}\n",
    "for i,j in enumerate(cols):\n",
    "    for x in range(i+1,len(cols)):\n",
    "        d[(j,cols[x])] = round(cosine_distance(df[j],df[cols[x]]),2)"
   ]
  },
  {
   "cell_type": "code",
   "execution_count": 26,
   "metadata": {
    "collapsed": false
   },
   "outputs": [
    {
     "data": {
      "text/plain": [
       "OrderedDict([((5, 4), 0.1),\n",
       "             ((2, 0), 0.11),\n",
       "             ((5, 3), 0.13),\n",
       "             ((1, 4), 0.14),\n",
       "             ((2, 5), 0.14),\n",
       "             ((0, 4), 0.15),\n",
       "             ((3, 4), 0.16),\n",
       "             ((1, 3), 0.17),\n",
       "             ((2, 4), 0.17),\n",
       "             ((0, 3), 0.17),\n",
       "             ((2, 3), 0.18),\n",
       "             ((5, 0), 0.18),\n",
       "             ((1, 5), 0.2),\n",
       "             ((1, 2), 0.26),\n",
       "             ((1, 0), 0.28)])"
      ]
     },
     "execution_count": 26,
     "metadata": {},
     "output_type": "execute_result"
    }
   ],
   "source": [
    "OrderedDict(sorted(d.items(),key = lambda x: x[1]))"
   ]
  },
  {
   "cell_type": "code",
   "execution_count": 28,
   "metadata": {
    "collapsed": false
   },
   "outputs": [
    {
     "data": {
      "text/plain": [
       "OrderedDict([((5, 4), 0.1),\n",
       "             ((2, 0), 0.11),\n",
       "             ((5, 3), 0.13),\n",
       "             ((1, 4), 0.14),\n",
       "             ((2, 5), 0.14),\n",
       "             ((0, 4), 0.15),\n",
       "             ((3, 4), 0.16),\n",
       "             ((1, 3), 0.17),\n",
       "             ((2, 4), 0.17),\n",
       "             ((0, 3), 0.17),\n",
       "             ((2, 3), 0.18),\n",
       "             ((5, 0), 0.18),\n",
       "             ((1, 5), 0.2),\n",
       "             ((1, 2), 0.26),\n",
       "             ((1, 0), 0.28)])"
      ]
     },
     "execution_count": 28,
     "metadata": {},
     "output_type": "execute_result"
    }
   ],
   "source": [
    "df_cosine_dist(df)"
   ]
  },
  {
   "cell_type": "code",
   "execution_count": null,
   "metadata": {
    "collapsed": true
   },
   "outputs": [],
   "source": []
  }
 ],
 "metadata": {
  "kernelspec": {
   "display_name": "Python 2",
   "language": "python",
   "name": "python2"
  },
  "language_info": {
   "codemirror_mode": {
    "name": "ipython",
    "version": 2
   },
   "file_extension": ".py",
   "mimetype": "text/x-python",
   "name": "python",
   "nbconvert_exporter": "python",
   "pygments_lexer": "ipython2",
   "version": "2.7.10"
  }
 },
 "nbformat": 4,
 "nbformat_minor": 0
}
