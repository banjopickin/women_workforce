{
 "cells": [
  {
   "cell_type": "code",
   "execution_count": 156,
   "metadata": {
    "collapsed": false
   },
   "outputs": [
    {
     "name": "stdout",
     "output_type": "stream",
     "text": [
      "The autoreload extension is already loaded. To reload it, use:\n",
      "  %reload_ext autoreload\n"
     ]
    }
   ],
   "source": [
    "from __future__ import division\n",
    "import pandas as pd\n",
    "import numpy as np \n",
    "import matplotlib.pylab as plt\n",
    "from code.organize import *\n",
    "from code.roughEDA import *\n",
    "#from code.survey_processor_full import *\n",
    "from code.tryout import *\n",
    "from code.model_vis import *\n",
    "from code.clusterEDA import *\n",
    "from code.fc import *\n",
    "\n",
    "from sklearn.preprocessing import scale\n",
    "\n",
    "from sklearn.cross_validation import train_test_split\n",
    "import plotly.plotly as py\n",
    "import plotly.graph_objs as go\n",
    "from treeinterpreter import treeinterpreter as ti\n",
    "import matplotlib.cm as cm\n",
    "import cPickle as pickle\n",
    "import seaborn as sns\n",
    "from sklearn.ensemble import RandomForestClassifier\n",
    "%matplotlib inline\n",
    "%load_ext autoreload\n",
    "%autoreload 2"
   ]
  },
  {
   "cell_type": "code",
   "execution_count": 157,
   "metadata": {
    "collapsed": false
   },
   "outputs": [],
   "source": [
    "sv = survey('data/survey2/')"
   ]
  },
  {
   "cell_type": "code",
   "execution_count": 158,
   "metadata": {
    "collapsed": false
   },
   "outputs": [],
   "source": [
    "sv.num_processor()"
   ]
  },
  {
   "cell_type": "code",
   "execution_count": 159,
   "metadata": {
    "collapsed": false
   },
   "outputs": [],
   "source": [
    "df = sv.fin_data"
   ]
  },
  {
   "cell_type": "code",
   "execution_count": 160,
   "metadata": {
    "collapsed": true
   },
   "outputs": [],
   "source": [
    "dfc = df.copy()\n",
    "\n",
    "y = dfc.pop('employed').values\n",
    "X = dfc.values\n",
    "X_train, X_test, y_train, y_test = train_test_split(X, y, test_size=0.3, random_state=90)"
   ]
  },
  {
   "cell_type": "code",
   "execution_count": 161,
   "metadata": {
    "collapsed": false
   },
   "outputs": [
    {
     "data": {
      "text/plain": [
       "RandomForestClassifier(bootstrap=True, class_weight=None, criterion='gini',\n",
       "            max_depth=None, max_features='auto', max_leaf_nodes=None,\n",
       "            min_samples_leaf=1, min_samples_split=2,\n",
       "            min_weight_fraction_leaf=0.0, n_estimators=10, n_jobs=-1,\n",
       "            oob_score=False, random_state=0, verbose=0, warm_start=False)"
      ]
     },
     "execution_count": 161,
     "metadata": {},
     "output_type": "execute_result"
    }
   ],
   "source": [
    "rf = RandomForestClassifier(n_jobs=-1,random_state=0)\n",
    "rf.fit(X_train,y_train)"
   ]
  },
  {
   "cell_type": "code",
   "execution_count": 147,
   "metadata": {
    "collapsed": false
   },
   "outputs": [
    {
     "name": "stdout",
     "output_type": "stream",
     "text": [
      "suicide2\n"
     ]
    },
    {
     "name": "stderr",
     "output_type": "stream",
     "text": [
      "/Users/yleng/anaconda/lib/python2.7/site-packages/ipykernel/__main__.py:2: FutureWarning:\n",
      "\n",
      "elementwise comparison failed; returning scalar instead, but in the future will perform elementwise comparison\n",
      "\n"
     ]
    }
   ],
   "source": [
    "for c in dfc.columns:\n",
    "    if \"Not applicable\" in dfc[c].values:\n",
    "        print c"
   ]
  },
  {
   "cell_type": "code",
   "execution_count": 155,
   "metadata": {
    "collapsed": false
   },
   "outputs": [
    {
     "data": {
      "text/plain": [
       "False"
      ]
     },
     "execution_count": 155,
     "metadata": {},
     "output_type": "execute_result"
    }
   ],
   "source": [
    "'suicide2' in sv.num_cols"
   ]
  },
  {
   "cell_type": "code",
   "execution_count": 152,
   "metadata": {
    "collapsed": false
   },
   "outputs": [
    {
     "data": {
      "text/plain": [
       "True"
      ]
     },
     "execution_count": 152,
     "metadata": {},
     "output_type": "execute_result"
    }
   ],
   "source": [
    "'suicide2' in set(sv.data.columns)"
   ]
  },
  {
   "cell_type": "code",
   "execution_count": 138,
   "metadata": {
    "collapsed": false
   },
   "outputs": [
    {
     "data": {
      "text/plain": [
       "defaultdict(int,\n",
       "            {\"Don't know\": 8,\n",
       "             'No': 2,\n",
       "             'No answer': 9,\n",
       "             'Not applicable': 0,\n",
       "             'Yes': 1})"
      ]
     },
     "execution_count": 138,
     "metadata": {},
     "output_type": "execute_result"
    }
   ],
   "source": [
    "set(sv.)"
   ]
  },
  {
   "cell_type": "code",
   "execution_count": 154,
   "metadata": {
    "collapsed": false
   },
   "outputs": [
    {
     "data": {
      "text/plain": [
       "True"
      ]
     },
     "execution_count": 154,
     "metadata": {},
     "output_type": "execute_result"
    }
   ],
   "source": [
    "'suicide2' in dictn"
   ]
  },
  {
   "cell_type": "code",
   "execution_count": 65,
   "metadata": {
    "collapsed": false
   },
   "outputs": [],
   "source": [
    "flag_process(df, bs, bs_flag)"
   ]
  },
  {
   "cell_type": "code",
   "execution_count": 52,
   "metadata": {
    "collapsed": false
   },
   "outputs": [],
   "source": [
    "colis = ['sphrs1','age','agekdbrn','chldidel']"
   ]
  },
  {
   "cell_type": "code",
   "execution_count": 139,
   "metadata": {
    "collapsed": false
   },
   "outputs": [
    {
     "data": {
      "text/plain": [
       "0        Not applicable\n",
       "3                   Yes\n",
       "4                   Yes\n",
       "5                    No\n",
       "6                    No\n",
       "8                    No\n",
       "10                   No\n",
       "11                   No\n",
       "13       Not applicable\n",
       "14       Not applicable\n",
       "16       Not applicable\n",
       "17                   No\n",
       "18                   No\n",
       "23                   No\n",
       "25                   No\n",
       "26       Not applicable\n",
       "29                   No\n",
       "31       Not applicable\n",
       "33       Not applicable\n",
       "35                   No\n",
       "39                   No\n",
       "40       Not applicable\n",
       "42                   No\n",
       "44       Not applicable\n",
       "48       Not applicable\n",
       "52                  Yes\n",
       "55       Not applicable\n",
       "56                   No\n",
       "59                   No\n",
       "61                   No\n",
       "              ...      \n",
       "13708                No\n",
       "13709    Not applicable\n",
       "13712                No\n",
       "13717    Not applicable\n",
       "13726                No\n",
       "13732                No\n",
       "13733                No\n",
       "13734                No\n",
       "13736                No\n",
       "13739                No\n",
       "13747    Not applicable\n",
       "13755                No\n",
       "13757    Not applicable\n",
       "13758    Not applicable\n",
       "13760                No\n",
       "13769                No\n",
       "13772                No\n",
       "13777                No\n",
       "13779    Not applicable\n",
       "13783                No\n",
       "13786    Not applicable\n",
       "13788                No\n",
       "13794                No\n",
       "13797    Not applicable\n",
       "13800                No\n",
       "13808    Not applicable\n",
       "13810    Not applicable\n",
       "13818                No\n",
       "13821                No\n",
       "13822                No\n",
       "Name: suicide2, dtype: object"
      ]
     },
     "execution_count": 139,
     "metadata": {},
     "output_type": "execute_result"
    }
   ],
   "source": [
    "dfc['suicide2']"
   ]
  },
  {
   "cell_type": "code",
   "execution_count": 59,
   "metadata": {
    "collapsed": false
   },
   "outputs": [
    {
     "data": {
      "text/plain": [
       "0    Not applicable\n",
       "3                50\n",
       "4                80\n",
       "5    Not applicable\n",
       "6    Not applicable\n",
       "Name: sphrs1, dtype: object"
      ]
     },
     "execution_count": 59,
     "metadata": {},
     "output_type": "execute_result"
    }
   ],
   "source": [
    "df['sphrs1'].head()"
   ]
  },
  {
   "cell_type": "code",
   "execution_count": null,
   "metadata": {
    "collapsed": false
   },
   "outputs": [],
   "source": [
    "one_pub_bar(df,1,'degree')"
   ]
  },
  {
   "cell_type": "code",
   "execution_count": null,
   "metadata": {
    "collapsed": true
   },
   "outputs": [],
   "source": []
  }
 ],
 "metadata": {
  "kernelspec": {
   "display_name": "Python 2",
   "language": "python",
   "name": "python2"
  },
  "language_info": {
   "codemirror_mode": {
    "name": "ipython",
    "version": 2
   },
   "file_extension": ".py",
   "mimetype": "text/x-python",
   "name": "python",
   "nbconvert_exporter": "python",
   "pygments_lexer": "ipython2",
   "version": "2.7.10"
  }
 },
 "nbformat": 4,
 "nbformat_minor": 0
}
