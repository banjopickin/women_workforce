{
 "cells": [
  {
   "cell_type": "code",
   "execution_count": 19,
   "metadata": {
    "collapsed": false
   },
   "outputs": [
    {
     "name": "stdout",
     "output_type": "stream",
     "text": [
      "The autoreload extension is already loaded. To reload it, use:\n",
      "  %reload_ext autoreload\n"
     ]
    }
   ],
   "source": [
    "from __future__ import division\n",
    "from code.organize import *\n",
    "from code.roughEDA import *\n",
    "from code.survey_processor import *\n",
    "\n",
    "import pandas as pd\n",
    "import numpy as np\n",
    "%load_ext autoreload\n",
    "%autoreload 2\n",
    "%matplotlib inline"
   ]
  },
  {
   "cell_type": "code",
   "execution_count": 20,
   "metadata": {
    "collapsed": false
   },
   "outputs": [],
   "source": [
    "sv = survey('data/survey/')"
   ]
  },
  {
   "cell_type": "code",
   "execution_count": 21,
   "metadata": {
    "collapsed": false
   },
   "outputs": [],
   "source": [
    "sv.processor()"
   ]
  },
  {
   "cell_type": "code",
   "execution_count": 22,
   "metadata": {
    "collapsed": true
   },
   "outputs": [],
   "source": [
    "sv.further_process()"
   ]
  },
  {
   "cell_type": "code",
   "execution_count": 23,
   "metadata": {
    "collapsed": false
   },
   "outputs": [
    {
     "data": {
      "text/plain": [
       "(4504, 290)"
      ]
     },
     "execution_count": 23,
     "metadata": {},
     "output_type": "execute_result"
    }
   ],
   "source": [
    "sv.fin_data.shape"
   ]
  },
  {
   "cell_type": "code",
   "execution_count": 14,
   "metadata": {
    "collapsed": false
   },
   "outputs": [],
   "source": [
    "a = df[[i for i in df.columns if i!= 'age']]"
   ]
  },
  {
   "cell_type": "code",
   "execution_count": 18,
   "metadata": {
    "collapsed": false
   },
   "outputs": [
    {
     "data": {
      "text/plain": [
       "0        42\n",
       "3        50\n",
       "4        80\n",
       "5        42\n",
       "6        42\n",
       "8        65\n",
       "10       40\n",
       "11       42\n",
       "13       42\n",
       "14       42\n",
       "16       70\n",
       "17       40\n",
       "18       50\n",
       "23       42\n",
       "25       40\n",
       "26       40\n",
       "29       42\n",
       "31       42\n",
       "33       42\n",
       "35       42\n",
       "39       42\n",
       "40       42\n",
       "42       42\n",
       "44       42\n",
       "48       42\n",
       "52       60\n",
       "55       42\n",
       "56       42\n",
       "59       42\n",
       "61       65\n",
       "         ..\n",
       "13726    55\n",
       "13728    42\n",
       "13732    40\n",
       "13733    40\n",
       "13735    42\n",
       "13744    65\n",
       "13746    42\n",
       "13747    42\n",
       "13748    42\n",
       "13749    42\n",
       "13751    42\n",
       "13755    42\n",
       "13760    42\n",
       "13764    45\n",
       "13765    70\n",
       "13766    48\n",
       "13771    42\n",
       "13775    42\n",
       "13778    30\n",
       "13780    35\n",
       "13781    42\n",
       "13782    50\n",
       "13790    42\n",
       "13802    50\n",
       "13805    42\n",
       "13806    44\n",
       "13807    48\n",
       "13808    40\n",
       "13809    40\n",
       "13816    42\n",
       "Name: sphrs1, dtype: float64"
      ]
     },
     "execution_count": 18,
     "metadata": {},
     "output_type": "execute_result"
    }
   ],
   "source": []
  },
  {
   "cell_type": "code",
   "execution_count": 20,
   "metadata": {
    "collapsed": false
   },
   "outputs": [
    {
     "data": {
      "text/plain": [
       "['fejobaff',\n",
       " 'discaffm',\n",
       " 'incom16',\n",
       " 'fechld',\n",
       " 'discaff',\n",
       " 'marital',\n",
       " 'fepresch',\n",
       " 'paeduc',\n",
       " 'wrkwayup',\n",
       " 'natpark',\n",
       " 'coneduc',\n",
       " 'getahead',\n",
       " 'hapmar',\n",
       " 'natfarey',\n",
       " 'age',\n",
       " 'sphrs1',\n",
       " 'richwork',\n",
       " 'spkhomo',\n",
       " 'colath',\n",
       " 'wrkstat',\n",
       " 'sphrs2',\n",
       " 'thnkself',\n",
       " 'satfin',\n",
       " 'preteen',\n",
       " 'natsoc',\n",
       " 'natspac',\n",
       " 'conbus',\n",
       " 'meovrwrk',\n",
       " 'discaffw',\n",
       " 'realinc',\n",
       " 'helpsick',\n",
       " 'class_',\n",
       " 'maeduc',\n",
       " 'mawrkgrw',\n",
       " 'workhard',\n",
       " 'babies',\n",
       " 'agekdbrn',\n",
       " 'fepol',\n",
       " 'degree',\n",
       " 'colcom',\n",
       " 'helpoth',\n",
       " 'nateduc',\n",
       " 'kidssol',\n",
       " 'eqwlth',\n",
       " 'conlabor',\n",
       " 'finrela',\n",
       " 'helpful',\n",
       " 'natarms',\n",
       " 'natfare',\n",
       " 'fefam',\n",
       " 'affrmact',\n",
       " 'speduc',\n",
       " 'satjob',\n",
       " 'goodlife']"
      ]
     },
     "execution_count": 20,
     "metadata": {},
     "output_type": "execute_result"
    }
   ],
   "source": [
    "[v.lower() for v in variables.values()]"
   ]
  },
  {
   "cell_type": "code",
   "execution_count": 54,
   "metadata": {
    "collapsed": false
   },
   "outputs": [],
   "source": [
    "s = 'data/survey'"
   ]
  },
  {
   "cell_type": "code",
   "execution_count": 60,
   "metadata": {
    "collapsed": false
   },
   "outputs": [
    {
     "data": {
      "text/plain": [
       "defaultdict(str,\n",
       "            {\"A man won't get a job or promotion  \": 'DISCAFFM',\n",
       "             \"A woman won't get a job or promotion             \": 'DISCAFFW',\n",
       "             'Age of respondent': 'AGE',\n",
       "             'Allow anti-religionist to teach': 'COLATH',\n",
       "             'Allow homosexual to speak': 'SPKHOMO',\n",
       "             'Assistance to the poor -- version y': 'NATFAREY',\n",
       "             'Better for man to work, woman tend home': 'FEFAM',\n",
       "             'Blacks overcome prejudice without favors ': 'WRKWAYUP',\n",
       "             'Confidence in education': 'CONEDUC',\n",
       "             'Confidence in major companies': 'CONBUS',\n",
       "             'Confidence in organized labor': 'CONLABOR',\n",
       "             'Family income in constant $': 'REALINC',\n",
       "             'Favor preference in hiring blacks': 'AFFRMACT',\n",
       "             'For or against preferential hiring of women      ': 'FEJOBAFF',\n",
       "             'Happiness of marriage': 'HAPMAR',\n",
       "             'Highest year school completed, father': 'PAEDUC',\n",
       "             'Highest year school completed, mother': 'MAEDUC',\n",
       "             'Highest year school completed, spouse': 'SPEDUC',\n",
       "             'Household members 6 thru 12 yrs old': 'PRETEEN',\n",
       "             'Household members less than 6 yrs old': 'BABIES',\n",
       "             'If rich, continue or stop working': 'RICHWORK',\n",
       "             'Improving nations education system': 'NATEDUC',\n",
       "             'Job or housework': 'SATJOB',\n",
       "             'Labor force status': 'WRKSTAT',\n",
       "             'Marital status': 'MARITAL',\n",
       "             'Men hurt family when focus on work too much': 'MEOVRWRK',\n",
       "             'Military, armaments, and defense': 'NATARMS',\n",
       "             \"Mother working doesn't hurt children\": 'FECHLD',\n",
       "             'Mothers employment when r was 16': 'MAWRKGRW',\n",
       "             'No. of hrs spouse usually works a week': 'SPHRS2',\n",
       "             'Number of hrs spouse worked last week': 'SPHRS1',\n",
       "             'Opinion of family income': 'FINRELA',\n",
       "             'Opinion of how people get ahead': 'GETAHEAD',\n",
       "             'Parks and recreation': 'NATPARK',\n",
       "             'People helpful or looking out for selves': 'HELPFUL',\n",
       "             'Preschool kids suffer if mother works': 'FEPRESCH',\n",
       "             \"R's age when 1st child born\": 'AGEKDBRN',\n",
       "             'Rs family income when 16 yrs old': 'INCOM16',\n",
       "             'Rs highest degree': 'DEGREE',\n",
       "             'Rs kids living standard compared to r': 'KIDSSOL',\n",
       "             'Satisfaction with financial situation': 'SATFIN',\n",
       "             'Should communist teacher be fired': 'COLCOM',\n",
       "             'Should govt help pay for medical care?': 'HELPSICK',\n",
       "             'Should govt reduce income differences': 'EQWLTH',\n",
       "             'Social security': 'NATSOC',\n",
       "             'Space exploration program': 'NATSPAC',\n",
       "             'Standard of living of r will improve': 'GOODLIFE',\n",
       "             'Subjective class identification': 'CLASS_',\n",
       "             'To help others': 'HELPOTH',\n",
       "             'To think for ones self': 'THNKSELF',\n",
       "             'To work hard': 'WORKHARD',\n",
       "             'Welfare': 'NATFARE',\n",
       "             'Whites hurt by aff. action': 'DISCAFF',\n",
       "             'Women not suited for politics': 'FEPOL'})"
      ]
     },
     "execution_count": 60,
     "metadata": {},
     "output_type": "execute_result"
    }
   ],
   "source": [
    "extract_variables(s + '/GSS.sps')"
   ]
  },
  {
   "cell_type": "code",
   "execution_count": null,
   "metadata": {
    "collapsed": false
   },
   "outputs": [],
   "source": [
    "temp = pd.crosstab(df.wrkstat,df.sex,dropna=False)\n",
    "temp"
   ]
  },
  {
   "cell_type": "code",
   "execution_count": null,
   "metadata": {
    "collapsed": false
   },
   "outputs": [],
   "source": [
    "import six\n",
    "from matplotlib import colors\n",
    "import random"
   ]
  },
  {
   "cell_type": "code",
   "execution_count": null,
   "metadata": {
    "collapsed": false
   },
   "outputs": [],
   "source": [
    "df.columns"
   ]
  },
  {
   "cell_type": "code",
   "execution_count": null,
   "metadata": {
    "collapsed": false
   },
   "outputs": [],
   "source": [
    "simple_bar(df.marital)"
   ]
  },
  {
   "cell_type": "code",
   "execution_count": null,
   "metadata": {
    "collapsed": false
   },
   "outputs": [],
   "source": [
    "stack_bar(df.happy,df.teens)"
   ]
  },
  {
   "cell_type": "code",
   "execution_count": null,
   "metadata": {
    "collapsed": false
   },
   "outputs": [],
   "source": [
    "temp.plot(kind = 'pie',subplots=True,figsize=(20,8),autopct='%.2f');\n",
    "\n",
    "#plt.legend(loc = (0.5, 0), ncol=5)"
   ]
  },
  {
   "cell_type": "code",
   "execution_count": null,
   "metadata": {
    "collapsed": false
   },
   "outputs": [],
   "source": [
    "h_bar(df.wrkstat,df.happy)"
   ]
  },
  {
   "cell_type": "code",
   "execution_count": null,
   "metadata": {
    "collapsed": false
   },
   "outputs": [],
   "source": [
    "temp.plot(kind = 'barh',figsize=(8,8))"
   ]
  },
  {
   "cell_type": "code",
   "execution_count": null,
   "metadata": {
    "collapsed": false
   },
   "outputs": [],
   "source": [
    "simple_bar(df.wrkstat, size = (20,10))"
   ]
  },
  {
   "cell_type": "code",
   "execution_count": null,
   "metadata": {
    "collapsed": false
   },
   "outputs": [],
   "source": [
    "pie_chart(df.wrkstat,df.marital,(20,20))"
   ]
  },
  {
   "cell_type": "code",
   "execution_count": null,
   "metadata": {
    "collapsed": false
   },
   "outputs": [],
   "source": [
    "h_bar(df.wrkstat,df.marital,(20,20))"
   ]
  },
  {
   "cell_type": "code",
   "execution_count": null,
   "metadata": {
    "collapsed": true
   },
   "outputs": [],
   "source": []
  }
 ],
 "metadata": {
  "kernelspec": {
   "display_name": "Python 2",
   "language": "python",
   "name": "python2"
  },
  "language_info": {
   "codemirror_mode": {
    "name": "ipython",
    "version": 2
   },
   "file_extension": ".py",
   "mimetype": "text/x-python",
   "name": "python",
   "nbconvert_exporter": "python",
   "pygments_lexer": "ipython2",
   "version": "2.7.10"
  }
 },
 "nbformat": 4,
 "nbformat_minor": 0
}
