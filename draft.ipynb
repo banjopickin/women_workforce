{
 "cells": [
  {
   "cell_type": "code",
   "execution_count": 1,
   "metadata": {
    "collapsed": false
   },
   "outputs": [
    {
     "name": "stdout",
     "output_type": "stream",
     "text": [
      "The autoreload extension is already loaded. To reload it, use:\n",
      "  %reload_ext autoreload\n"
     ]
    }
   ],
   "source": [
    "from code.organize import *\n",
    "\n",
    "from code.roughEDA import *\n",
    "\n",
    "import pandas as pd\n",
    "%load_ext autoreload\n",
    "%autoreload 2\n",
    "%matplotlib inline"
   ]
  },
  {
   "cell_type": "code",
   "execution_count": 20,
   "metadata": {
    "collapsed": false
   },
   "outputs": [],
   "source": [
    "df = pd.read_excel('data/survey/GSS.xls')"
   ]
  },
  {
   "cell_type": "code",
   "execution_count": 21,
   "metadata": {
    "collapsed": false
   },
   "outputs": [],
   "source": [
    "variables = extract_variables('data/survey/GSS.sps')"
   ]
  },
  {
   "cell_type": "code",
   "execution_count": 22,
   "metadata": {
    "collapsed": true
   },
   "outputs": [],
   "source": [
    "replace_variables(df,variables)"
   ]
  },
  {
   "cell_type": "code",
   "execution_count": 26,
   "metadata": {
    "collapsed": false
   },
   "outputs": [
    {
     "data": {
      "text/html": [
       "<div>\n",
       "<table border=\"1\" class=\"dataframe\">\n",
       "  <thead>\n",
       "    <tr style=\"text-align: right;\">\n",
       "      <th></th>\n",
       "      <th>0</th>\n",
       "      <th>1</th>\n",
       "      <th>2</th>\n",
       "    </tr>\n",
       "  </thead>\n",
       "  <tbody>\n",
       "    <tr>\n",
       "      <th>wrkstat</th>\n",
       "      <td>Working parttime</td>\n",
       "      <td>Working fulltime</td>\n",
       "      <td>Keeping house</td>\n",
       "    </tr>\n",
       "    <tr>\n",
       "      <th>marital</th>\n",
       "      <td>Never married</td>\n",
       "      <td>Never married</td>\n",
       "      <td>Never married</td>\n",
       "    </tr>\n",
       "    <tr>\n",
       "      <th>sphrs1</th>\n",
       "      <td>Not applicable</td>\n",
       "      <td>Not applicable</td>\n",
       "      <td>Not applicable</td>\n",
       "    </tr>\n",
       "    <tr>\n",
       "      <th>sphrs2</th>\n",
       "      <td>Not applicable</td>\n",
       "      <td>Not applicable</td>\n",
       "      <td>Not applicable</td>\n",
       "    </tr>\n",
       "    <tr>\n",
       "      <th>age</th>\n",
       "      <td>21</td>\n",
       "      <td>52</td>\n",
       "      <td>44</td>\n",
       "    </tr>\n",
       "    <tr>\n",
       "      <th>agekdbrn</th>\n",
       "      <td>Not applicable</td>\n",
       "      <td>Not applicable</td>\n",
       "      <td>14</td>\n",
       "    </tr>\n",
       "    <tr>\n",
       "      <th>paeduc</th>\n",
       "      <td>Not applicable</td>\n",
       "      <td>Not applicable</td>\n",
       "      <td>7</td>\n",
       "    </tr>\n",
       "    <tr>\n",
       "      <th>maeduc</th>\n",
       "      <td>12</td>\n",
       "      <td>20</td>\n",
       "      <td>0</td>\n",
       "    </tr>\n",
       "    <tr>\n",
       "      <th>speduc</th>\n",
       "      <td>Not applicable</td>\n",
       "      <td>Not applicable</td>\n",
       "      <td>Not applicable</td>\n",
       "    </tr>\n",
       "    <tr>\n",
       "      <th>degree</th>\n",
       "      <td>High school</td>\n",
       "      <td>Lt high school</td>\n",
       "      <td>Lt high school</td>\n",
       "    </tr>\n",
       "    <tr>\n",
       "      <th>mawrkgrw</th>\n",
       "      <td>No</td>\n",
       "      <td>No</td>\n",
       "      <td>No</td>\n",
       "    </tr>\n",
       "    <tr>\n",
       "      <th>incom16</th>\n",
       "      <td>Far below average</td>\n",
       "      <td>Not applicable</td>\n",
       "      <td>Not applicable</td>\n",
       "    </tr>\n",
       "    <tr>\n",
       "      <th>babies</th>\n",
       "      <td>0</td>\n",
       "      <td>0</td>\n",
       "      <td>0</td>\n",
       "    </tr>\n",
       "    <tr>\n",
       "      <th>preteen</th>\n",
       "      <td>1</td>\n",
       "      <td>0</td>\n",
       "      <td>0</td>\n",
       "    </tr>\n",
       "    <tr>\n",
       "      <th>natspac</th>\n",
       "      <td>About right</td>\n",
       "      <td>Not applicable</td>\n",
       "      <td>Not applicable</td>\n",
       "    </tr>\n",
       "    <tr>\n",
       "      <th>nateduc</th>\n",
       "      <td>Too little</td>\n",
       "      <td>Not applicable</td>\n",
       "      <td>Not applicable</td>\n",
       "    </tr>\n",
       "    <tr>\n",
       "      <th>natarms</th>\n",
       "      <td>Too much</td>\n",
       "      <td>Not applicable</td>\n",
       "      <td>Not applicable</td>\n",
       "    </tr>\n",
       "    <tr>\n",
       "      <th>natfare</th>\n",
       "      <td>Too much</td>\n",
       "      <td>Not applicable</td>\n",
       "      <td>Not applicable</td>\n",
       "    </tr>\n",
       "    <tr>\n",
       "      <th>natsoc</th>\n",
       "      <td>Too little</td>\n",
       "      <td>Too little</td>\n",
       "      <td>About right</td>\n",
       "    </tr>\n",
       "    <tr>\n",
       "      <th>natpark</th>\n",
       "      <td>Too little</td>\n",
       "      <td>About right</td>\n",
       "      <td>Too much</td>\n",
       "    </tr>\n",
       "    <tr>\n",
       "      <th>natfarey</th>\n",
       "      <td>Not applicable</td>\n",
       "      <td>Too much</td>\n",
       "      <td>Too little</td>\n",
       "    </tr>\n",
       "    <tr>\n",
       "      <th>eqwlth</th>\n",
       "      <td>3</td>\n",
       "      <td>4</td>\n",
       "      <td>Don't know</td>\n",
       "    </tr>\n",
       "    <tr>\n",
       "      <th>colath</th>\n",
       "      <td>Allowed</td>\n",
       "      <td>Not applicable</td>\n",
       "      <td>Not applicable</td>\n",
       "    </tr>\n",
       "    <tr>\n",
       "      <th>colcom</th>\n",
       "      <td>Not fired</td>\n",
       "      <td>Not applicable</td>\n",
       "      <td>Not applicable</td>\n",
       "    </tr>\n",
       "    <tr>\n",
       "      <th>spkhomo</th>\n",
       "      <td>Allowed</td>\n",
       "      <td>Not applicable</td>\n",
       "      <td>Not applicable</td>\n",
       "    </tr>\n",
       "    <tr>\n",
       "      <th>affrmact</th>\n",
       "      <td>Not applicable</td>\n",
       "      <td>Strongly oppose pref</td>\n",
       "      <td>Strongly support pref</td>\n",
       "    </tr>\n",
       "    <tr>\n",
       "      <th>wrkwayup</th>\n",
       "      <td>Not applicable</td>\n",
       "      <td>Agree somewhat</td>\n",
       "      <td>Disagree strongly</td>\n",
       "    </tr>\n",
       "    <tr>\n",
       "      <th>hapmar</th>\n",
       "      <td>Not applicable</td>\n",
       "      <td>Not applicable</td>\n",
       "      <td>Not applicable</td>\n",
       "    </tr>\n",
       "    <tr>\n",
       "      <th>helpful</th>\n",
       "      <td>Lookout for self</td>\n",
       "      <td>Helpful</td>\n",
       "      <td>Lookout for self</td>\n",
       "    </tr>\n",
       "    <tr>\n",
       "      <th>conbus</th>\n",
       "      <td>Only some</td>\n",
       "      <td>A great deal</td>\n",
       "      <td>Hardly any</td>\n",
       "    </tr>\n",
       "    <tr>\n",
       "      <th>coneduc</th>\n",
       "      <td>Only some</td>\n",
       "      <td>Hardly any</td>\n",
       "      <td>A great deal</td>\n",
       "    </tr>\n",
       "    <tr>\n",
       "      <th>conlabor</th>\n",
       "      <td>Only some</td>\n",
       "      <td>Only some</td>\n",
       "      <td>Hardly any</td>\n",
       "    </tr>\n",
       "    <tr>\n",
       "      <th>thnkself</th>\n",
       "      <td>Most important</td>\n",
       "      <td>4th important</td>\n",
       "      <td>Most important</td>\n",
       "    </tr>\n",
       "    <tr>\n",
       "      <th>workhard</th>\n",
       "      <td>2nd important</td>\n",
       "      <td>Least important</td>\n",
       "      <td>3rd important</td>\n",
       "    </tr>\n",
       "    <tr>\n",
       "      <th>helpoth</th>\n",
       "      <td>3rd important</td>\n",
       "      <td>Most important</td>\n",
       "      <td>4th important</td>\n",
       "    </tr>\n",
       "    <tr>\n",
       "      <th>satjob</th>\n",
       "      <td>Mod. satisfied</td>\n",
       "      <td>Mod. satisfied</td>\n",
       "      <td>Very satisfied</td>\n",
       "    </tr>\n",
       "    <tr>\n",
       "      <th>richwork</th>\n",
       "      <td>Continue working</td>\n",
       "      <td>Not applicable</td>\n",
       "      <td>Not applicable</td>\n",
       "    </tr>\n",
       "    <tr>\n",
       "      <th>class_</th>\n",
       "      <td>Lower class</td>\n",
       "      <td>Middle class</td>\n",
       "      <td>Middle class</td>\n",
       "    </tr>\n",
       "    <tr>\n",
       "      <th>satfin</th>\n",
       "      <td>Not at all sat</td>\n",
       "      <td>More or less</td>\n",
       "      <td>Not at all sat</td>\n",
       "    </tr>\n",
       "    <tr>\n",
       "      <th>finrela</th>\n",
       "      <td>Far below average</td>\n",
       "      <td>Below average</td>\n",
       "      <td>Below average</td>\n",
       "    </tr>\n",
       "    <tr>\n",
       "      <th>getahead</th>\n",
       "      <td>Hard work</td>\n",
       "      <td>Not applicable</td>\n",
       "      <td>Not applicable</td>\n",
       "    </tr>\n",
       "    <tr>\n",
       "      <th>kidssol</th>\n",
       "      <td>Not applicable</td>\n",
       "      <td>No children -volunteered-</td>\n",
       "      <td>Don't know</td>\n",
       "    </tr>\n",
       "    <tr>\n",
       "      <th>fepol</th>\n",
       "      <td>Not applicable</td>\n",
       "      <td>Disagree</td>\n",
       "      <td>Disagree</td>\n",
       "    </tr>\n",
       "    <tr>\n",
       "      <th>fechld</th>\n",
       "      <td>Not applicable</td>\n",
       "      <td>Agree</td>\n",
       "      <td>Agree</td>\n",
       "    </tr>\n",
       "    <tr>\n",
       "      <th>fepresch</th>\n",
       "      <td>Not applicable</td>\n",
       "      <td>Agree</td>\n",
       "      <td>Strongly disagree</td>\n",
       "    </tr>\n",
       "    <tr>\n",
       "      <th>fefam</th>\n",
       "      <td>Not applicable</td>\n",
       "      <td>Disagree</td>\n",
       "      <td>Agree</td>\n",
       "    </tr>\n",
       "    <tr>\n",
       "      <th>helpsick</th>\n",
       "      <td>Agree with both</td>\n",
       "      <td>2</td>\n",
       "      <td>2</td>\n",
       "    </tr>\n",
       "    <tr>\n",
       "      <th>discaff</th>\n",
       "      <td>Not applicable</td>\n",
       "      <td>Not applicable</td>\n",
       "      <td>Not applicable</td>\n",
       "    </tr>\n",
       "    <tr>\n",
       "      <th>fejobaff</th>\n",
       "      <td>Not applicable</td>\n",
       "      <td>Not applicable</td>\n",
       "      <td>Not applicable</td>\n",
       "    </tr>\n",
       "    <tr>\n",
       "      <th>discaffm</th>\n",
       "      <td>Not applicable</td>\n",
       "      <td>Not applicable</td>\n",
       "      <td>Not applicable</td>\n",
       "    </tr>\n",
       "    <tr>\n",
       "      <th>discaffw</th>\n",
       "      <td>Not applicable</td>\n",
       "      <td>Not applicable</td>\n",
       "      <td>Not applicable</td>\n",
       "    </tr>\n",
       "    <tr>\n",
       "      <th>goodlife</th>\n",
       "      <td>Not applicable</td>\n",
       "      <td>Agree</td>\n",
       "      <td>Neither</td>\n",
       "    </tr>\n",
       "    <tr>\n",
       "      <th>meovrwrk</th>\n",
       "      <td>Neither agree nor disagree</td>\n",
       "      <td>Not applicable</td>\n",
       "      <td>Not applicable</td>\n",
       "    </tr>\n",
       "    <tr>\n",
       "      <th>realinc</th>\n",
       "      <td>10505</td>\n",
       "      <td>0</td>\n",
       "      <td>2674</td>\n",
       "    </tr>\n",
       "  </tbody>\n",
       "</table>\n",
       "</div>"
      ],
      "text/plain": [
       "                                   0                          1  \\\n",
       "wrkstat             Working parttime           Working fulltime   \n",
       "marital                Never married              Never married   \n",
       "sphrs1                Not applicable             Not applicable   \n",
       "sphrs2                Not applicable             Not applicable   \n",
       "age                               21                         52   \n",
       "agekdbrn              Not applicable             Not applicable   \n",
       "paeduc                Not applicable             Not applicable   \n",
       "maeduc                            12                         20   \n",
       "speduc                Not applicable             Not applicable   \n",
       "degree                   High school             Lt high school   \n",
       "mawrkgrw                          No                         No   \n",
       "incom16            Far below average             Not applicable   \n",
       "babies                             0                          0   \n",
       "preteen                            1                          0   \n",
       "natspac                  About right             Not applicable   \n",
       "nateduc                   Too little             Not applicable   \n",
       "natarms                     Too much             Not applicable   \n",
       "natfare                     Too much             Not applicable   \n",
       "natsoc                    Too little                 Too little   \n",
       "natpark                   Too little                About right   \n",
       "natfarey              Not applicable                   Too much   \n",
       "eqwlth                             3                          4   \n",
       "colath                       Allowed             Not applicable   \n",
       "colcom                     Not fired             Not applicable   \n",
       "spkhomo                      Allowed             Not applicable   \n",
       "affrmact              Not applicable       Strongly oppose pref   \n",
       "wrkwayup              Not applicable             Agree somewhat   \n",
       "hapmar                Not applicable             Not applicable   \n",
       "helpful             Lookout for self                    Helpful   \n",
       "conbus                     Only some               A great deal   \n",
       "coneduc                    Only some                 Hardly any   \n",
       "conlabor                   Only some                  Only some   \n",
       "thnkself              Most important              4th important   \n",
       "workhard               2nd important            Least important   \n",
       "helpoth                3rd important             Most important   \n",
       "satjob                Mod. satisfied             Mod. satisfied   \n",
       "richwork            Continue working             Not applicable   \n",
       "class_                   Lower class               Middle class   \n",
       "satfin                Not at all sat               More or less   \n",
       "finrela            Far below average              Below average   \n",
       "getahead                   Hard work             Not applicable   \n",
       "kidssol               Not applicable  No children -volunteered-   \n",
       "fepol                 Not applicable                   Disagree   \n",
       "fechld                Not applicable                      Agree   \n",
       "fepresch              Not applicable                      Agree   \n",
       "fefam                 Not applicable                   Disagree   \n",
       "helpsick             Agree with both                          2   \n",
       "discaff               Not applicable             Not applicable   \n",
       "fejobaff              Not applicable             Not applicable   \n",
       "discaffm              Not applicable             Not applicable   \n",
       "discaffw              Not applicable             Not applicable   \n",
       "goodlife              Not applicable                      Agree   \n",
       "meovrwrk  Neither agree nor disagree             Not applicable   \n",
       "realinc                        10505                          0   \n",
       "\n",
       "                              2  \n",
       "wrkstat           Keeping house  \n",
       "marital           Never married  \n",
       "sphrs1           Not applicable  \n",
       "sphrs2           Not applicable  \n",
       "age                          44  \n",
       "agekdbrn                     14  \n",
       "paeduc                        7  \n",
       "maeduc                        0  \n",
       "speduc           Not applicable  \n",
       "degree           Lt high school  \n",
       "mawrkgrw                     No  \n",
       "incom16          Not applicable  \n",
       "babies                        0  \n",
       "preteen                       0  \n",
       "natspac          Not applicable  \n",
       "nateduc          Not applicable  \n",
       "natarms          Not applicable  \n",
       "natfare          Not applicable  \n",
       "natsoc              About right  \n",
       "natpark                Too much  \n",
       "natfarey             Too little  \n",
       "eqwlth               Don't know  \n",
       "colath           Not applicable  \n",
       "colcom           Not applicable  \n",
       "spkhomo          Not applicable  \n",
       "affrmact  Strongly support pref  \n",
       "wrkwayup      Disagree strongly  \n",
       "hapmar           Not applicable  \n",
       "helpful        Lookout for self  \n",
       "conbus               Hardly any  \n",
       "coneduc            A great deal  \n",
       "conlabor             Hardly any  \n",
       "thnkself         Most important  \n",
       "workhard          3rd important  \n",
       "helpoth           4th important  \n",
       "satjob           Very satisfied  \n",
       "richwork         Not applicable  \n",
       "class_             Middle class  \n",
       "satfin           Not at all sat  \n",
       "finrela           Below average  \n",
       "getahead         Not applicable  \n",
       "kidssol              Don't know  \n",
       "fepol                  Disagree  \n",
       "fechld                    Agree  \n",
       "fepresch      Strongly disagree  \n",
       "fefam                     Agree  \n",
       "helpsick                      2  \n",
       "discaff          Not applicable  \n",
       "fejobaff         Not applicable  \n",
       "discaffm         Not applicable  \n",
       "discaffw         Not applicable  \n",
       "goodlife                Neither  \n",
       "meovrwrk         Not applicable  \n",
       "realinc                    2674  "
      ]
     },
     "execution_count": 26,
     "metadata": {},
     "output_type": "execute_result"
    }
   ],
   "source": [
    "df.head(3).T"
   ]
  },
  {
   "cell_type": "code",
   "execution_count": 63,
   "metadata": {
    "collapsed": false
   },
   "outputs": [
    {
     "data": {
      "text/plain": [
       "1            1954\n",
       "0            1481\n",
       "2             868\n",
       "3             163\n",
       "No answer     107\n",
       "4              30\n",
       "5               4\n",
       "8 or more       1\n",
       "6               1\n",
       "Name: preteen, dtype: int64"
      ]
     },
     "execution_count": 63,
     "metadata": {},
     "output_type": "execute_result"
    }
   ],
   "source": [
    "df[(df.babies!=0) | (df.preteen !=0)].preteen.value_counts()"
   ]
  },
  {
   "cell_type": "code",
   "execution_count": 52,
   "metadata": {
    "collapsed": false
   },
   "outputs": [
    {
     "data": {
      "text/plain": [
       "(13826, 54)"
      ]
     },
     "execution_count": 52,
     "metadata": {},
     "output_type": "execute_result"
    }
   ],
   "source": [
    "df.shape"
   ]
  },
  {
   "cell_type": "code",
   "execution_count": 54,
   "metadata": {
    "collapsed": false
   },
   "outputs": [],
   "source": [
    "s = 'data/survey'"
   ]
  },
  {
   "cell_type": "code",
   "execution_count": 60,
   "metadata": {
    "collapsed": false
   },
   "outputs": [
    {
     "data": {
      "text/plain": [
       "defaultdict(str,\n",
       "            {\"A man won't get a job or promotion  \": 'DISCAFFM',\n",
       "             \"A woman won't get a job or promotion             \": 'DISCAFFW',\n",
       "             'Age of respondent': 'AGE',\n",
       "             'Allow anti-religionist to teach': 'COLATH',\n",
       "             'Allow homosexual to speak': 'SPKHOMO',\n",
       "             'Assistance to the poor -- version y': 'NATFAREY',\n",
       "             'Better for man to work, woman tend home': 'FEFAM',\n",
       "             'Blacks overcome prejudice without favors ': 'WRKWAYUP',\n",
       "             'Confidence in education': 'CONEDUC',\n",
       "             'Confidence in major companies': 'CONBUS',\n",
       "             'Confidence in organized labor': 'CONLABOR',\n",
       "             'Family income in constant $': 'REALINC',\n",
       "             'Favor preference in hiring blacks': 'AFFRMACT',\n",
       "             'For or against preferential hiring of women      ': 'FEJOBAFF',\n",
       "             'Happiness of marriage': 'HAPMAR',\n",
       "             'Highest year school completed, father': 'PAEDUC',\n",
       "             'Highest year school completed, mother': 'MAEDUC',\n",
       "             'Highest year school completed, spouse': 'SPEDUC',\n",
       "             'Household members 6 thru 12 yrs old': 'PRETEEN',\n",
       "             'Household members less than 6 yrs old': 'BABIES',\n",
       "             'If rich, continue or stop working': 'RICHWORK',\n",
       "             'Improving nations education system': 'NATEDUC',\n",
       "             'Job or housework': 'SATJOB',\n",
       "             'Labor force status': 'WRKSTAT',\n",
       "             'Marital status': 'MARITAL',\n",
       "             'Men hurt family when focus on work too much': 'MEOVRWRK',\n",
       "             'Military, armaments, and defense': 'NATARMS',\n",
       "             \"Mother working doesn't hurt children\": 'FECHLD',\n",
       "             'Mothers employment when r was 16': 'MAWRKGRW',\n",
       "             'No. of hrs spouse usually works a week': 'SPHRS2',\n",
       "             'Number of hrs spouse worked last week': 'SPHRS1',\n",
       "             'Opinion of family income': 'FINRELA',\n",
       "             'Opinion of how people get ahead': 'GETAHEAD',\n",
       "             'Parks and recreation': 'NATPARK',\n",
       "             'People helpful or looking out for selves': 'HELPFUL',\n",
       "             'Preschool kids suffer if mother works': 'FEPRESCH',\n",
       "             \"R's age when 1st child born\": 'AGEKDBRN',\n",
       "             'Rs family income when 16 yrs old': 'INCOM16',\n",
       "             'Rs highest degree': 'DEGREE',\n",
       "             'Rs kids living standard compared to r': 'KIDSSOL',\n",
       "             'Satisfaction with financial situation': 'SATFIN',\n",
       "             'Should communist teacher be fired': 'COLCOM',\n",
       "             'Should govt help pay for medical care?': 'HELPSICK',\n",
       "             'Should govt reduce income differences': 'EQWLTH',\n",
       "             'Social security': 'NATSOC',\n",
       "             'Space exploration program': 'NATSPAC',\n",
       "             'Standard of living of r will improve': 'GOODLIFE',\n",
       "             'Subjective class identification': 'CLASS_',\n",
       "             'To help others': 'HELPOTH',\n",
       "             'To think for ones self': 'THNKSELF',\n",
       "             'To work hard': 'WORKHARD',\n",
       "             'Welfare': 'NATFARE',\n",
       "             'Whites hurt by aff. action': 'DISCAFF',\n",
       "             'Women not suited for politics': 'FEPOL'})"
      ]
     },
     "execution_count": 60,
     "metadata": {},
     "output_type": "execute_result"
    }
   ],
   "source": [
    "extract_variables(s + '/GSS.sps')"
   ]
  },
  {
   "cell_type": "code",
   "execution_count": null,
   "metadata": {
    "collapsed": false
   },
   "outputs": [],
   "source": [
    "temp = pd.crosstab(df.wrkstat,df.sex,dropna=False)\n",
    "temp"
   ]
  },
  {
   "cell_type": "code",
   "execution_count": null,
   "metadata": {
    "collapsed": false
   },
   "outputs": [],
   "source": [
    "import six\n",
    "from matplotlib import colors\n",
    "import random"
   ]
  },
  {
   "cell_type": "code",
   "execution_count": null,
   "metadata": {
    "collapsed": false
   },
   "outputs": [],
   "source": [
    "df.columns"
   ]
  },
  {
   "cell_type": "code",
   "execution_count": null,
   "metadata": {
    "collapsed": false
   },
   "outputs": [],
   "source": [
    "simple_bar(df.marital)"
   ]
  },
  {
   "cell_type": "code",
   "execution_count": null,
   "metadata": {
    "collapsed": false
   },
   "outputs": [],
   "source": [
    "stack_bar(df.happy,df.teens)"
   ]
  },
  {
   "cell_type": "code",
   "execution_count": null,
   "metadata": {
    "collapsed": false
   },
   "outputs": [],
   "source": [
    "temp.plot(kind = 'pie',subplots=True,figsize=(20,8),autopct='%.2f');\n",
    "\n",
    "#plt.legend(loc = (0.5, 0), ncol=5)"
   ]
  },
  {
   "cell_type": "code",
   "execution_count": null,
   "metadata": {
    "collapsed": false
   },
   "outputs": [],
   "source": [
    "h_bar(df.wrkstat,df.happy)"
   ]
  },
  {
   "cell_type": "code",
   "execution_count": null,
   "metadata": {
    "collapsed": false
   },
   "outputs": [],
   "source": [
    "temp.plot(kind = 'barh',figsize=(8,8))"
   ]
  },
  {
   "cell_type": "code",
   "execution_count": null,
   "metadata": {
    "collapsed": false
   },
   "outputs": [],
   "source": [
    "simple_bar(df.wrkstat, size = (20,10))"
   ]
  },
  {
   "cell_type": "code",
   "execution_count": null,
   "metadata": {
    "collapsed": false
   },
   "outputs": [],
   "source": [
    "pie_chart(df.wrkstat,df.marital,(20,20))"
   ]
  },
  {
   "cell_type": "code",
   "execution_count": null,
   "metadata": {
    "collapsed": false
   },
   "outputs": [],
   "source": [
    "h_bar(df.wrkstat,df.marital,(20,20))"
   ]
  },
  {
   "cell_type": "code",
   "execution_count": null,
   "metadata": {
    "collapsed": true
   },
   "outputs": [],
   "source": []
  }
 ],
 "metadata": {
  "kernelspec": {
   "display_name": "Python 2",
   "language": "python",
   "name": "python2"
  },
  "language_info": {
   "codemirror_mode": {
    "name": "ipython",
    "version": 2
   },
   "file_extension": ".py",
   "mimetype": "text/x-python",
   "name": "python",
   "nbconvert_exporter": "python",
   "pygments_lexer": "ipython2",
   "version": "2.7.10"
  }
 },
 "nbformat": 4,
 "nbformat_minor": 0
}
