{
 "cells": [
  {
   "cell_type": "code",
   "execution_count": 1,
   "metadata": {
    "collapsed": false
   },
   "outputs": [],
   "source": [
    "from code.organize import *\n",
    "\n",
    "from code.roughEDA import *\n",
    "\n",
    "import pandas as pd\n",
    "%load_ext autoreload\n",
    "%autoreload 2\n",
    "%matplotlib inline"
   ]
  },
  {
   "cell_type": "code",
   "execution_count": 2,
   "metadata": {
    "collapsed": false
   },
   "outputs": [],
   "source": [
    "df = pd.read_excel('data/survey/GSS.xls')"
   ]
  },
  {
   "cell_type": "code",
   "execution_count": 16,
   "metadata": {
    "collapsed": false
   },
   "outputs": [],
   "source": [
    "variables = extract_variables('data/survey/GSS.sps')"
   ]
  },
  {
   "cell_type": "code",
   "execution_count": 4,
   "metadata": {
    "collapsed": true
   },
   "outputs": [],
   "source": [
    "replace_variables(df,variables)"
   ]
  },
  {
   "cell_type": "code",
   "execution_count": 13,
   "metadata": {
    "collapsed": false
   },
   "outputs": [],
   "source": [
    "lis = []\n",
    "with open ('data/survey/GSS.sps') as f:\n",
    "    content = f.readlines()\n",
    "\n",
    "for c in content:\n",
    "    if c.strip() == \"VALUE LABELS\":\n",
    "        ind = content.index(c)+1\n",
    "for i in xrange(ind,len(content)):\n",
    "    if content[i][0]!='.':\n",
    "        lis.append(content[i].strip())\n",
    "    else: break"
   ]
  },
  {
   "cell_type": "code",
   "execution_count": 30,
   "metadata": {
    "collapsed": false
   },
   "outputs": [
    {
     "data": {
      "text/plain": [
       "'0'"
      ]
     },
     "execution_count": 30,
     "metadata": {},
     "output_type": "execute_result"
    }
   ],
   "source": [
    "lis[10].strip('/').strip()[0]"
   ]
  },
  {
   "cell_type": "code",
   "execution_count": 20,
   "metadata": {
    "collapsed": false
   },
   "outputs": [
    {
     "data": {
      "text/plain": [
       "['fejobaff',\n",
       " 'discaffm',\n",
       " 'incom16',\n",
       " 'fechld',\n",
       " 'discaff',\n",
       " 'marital',\n",
       " 'fepresch',\n",
       " 'paeduc',\n",
       " 'wrkwayup',\n",
       " 'natpark',\n",
       " 'coneduc',\n",
       " 'getahead',\n",
       " 'hapmar',\n",
       " 'natfarey',\n",
       " 'age',\n",
       " 'sphrs1',\n",
       " 'richwork',\n",
       " 'spkhomo',\n",
       " 'colath',\n",
       " 'wrkstat',\n",
       " 'sphrs2',\n",
       " 'thnkself',\n",
       " 'satfin',\n",
       " 'preteen',\n",
       " 'natsoc',\n",
       " 'natspac',\n",
       " 'conbus',\n",
       " 'meovrwrk',\n",
       " 'discaffw',\n",
       " 'realinc',\n",
       " 'helpsick',\n",
       " 'class_',\n",
       " 'maeduc',\n",
       " 'mawrkgrw',\n",
       " 'workhard',\n",
       " 'babies',\n",
       " 'agekdbrn',\n",
       " 'fepol',\n",
       " 'degree',\n",
       " 'colcom',\n",
       " 'helpoth',\n",
       " 'nateduc',\n",
       " 'kidssol',\n",
       " 'eqwlth',\n",
       " 'conlabor',\n",
       " 'finrela',\n",
       " 'helpful',\n",
       " 'natarms',\n",
       " 'natfare',\n",
       " 'fefam',\n",
       " 'affrmact',\n",
       " 'speduc',\n",
       " 'satjob',\n",
       " 'goodlife']"
      ]
     },
     "execution_count": 20,
     "metadata": {},
     "output_type": "execute_result"
    }
   ],
   "source": [
    "[v.lower() for v in variables.values()]"
   ]
  },
  {
   "cell_type": "code",
   "execution_count": 54,
   "metadata": {
    "collapsed": false
   },
   "outputs": [],
   "source": [
    "s = 'data/survey'"
   ]
  },
  {
   "cell_type": "code",
   "execution_count": 60,
   "metadata": {
    "collapsed": false
   },
   "outputs": [
    {
     "data": {
      "text/plain": [
       "defaultdict(str,\n",
       "            {\"A man won't get a job or promotion  \": 'DISCAFFM',\n",
       "             \"A woman won't get a job or promotion             \": 'DISCAFFW',\n",
       "             'Age of respondent': 'AGE',\n",
       "             'Allow anti-religionist to teach': 'COLATH',\n",
       "             'Allow homosexual to speak': 'SPKHOMO',\n",
       "             'Assistance to the poor -- version y': 'NATFAREY',\n",
       "             'Better for man to work, woman tend home': 'FEFAM',\n",
       "             'Blacks overcome prejudice without favors ': 'WRKWAYUP',\n",
       "             'Confidence in education': 'CONEDUC',\n",
       "             'Confidence in major companies': 'CONBUS',\n",
       "             'Confidence in organized labor': 'CONLABOR',\n",
       "             'Family income in constant $': 'REALINC',\n",
       "             'Favor preference in hiring blacks': 'AFFRMACT',\n",
       "             'For or against preferential hiring of women      ': 'FEJOBAFF',\n",
       "             'Happiness of marriage': 'HAPMAR',\n",
       "             'Highest year school completed, father': 'PAEDUC',\n",
       "             'Highest year school completed, mother': 'MAEDUC',\n",
       "             'Highest year school completed, spouse': 'SPEDUC',\n",
       "             'Household members 6 thru 12 yrs old': 'PRETEEN',\n",
       "             'Household members less than 6 yrs old': 'BABIES',\n",
       "             'If rich, continue or stop working': 'RICHWORK',\n",
       "             'Improving nations education system': 'NATEDUC',\n",
       "             'Job or housework': 'SATJOB',\n",
       "             'Labor force status': 'WRKSTAT',\n",
       "             'Marital status': 'MARITAL',\n",
       "             'Men hurt family when focus on work too much': 'MEOVRWRK',\n",
       "             'Military, armaments, and defense': 'NATARMS',\n",
       "             \"Mother working doesn't hurt children\": 'FECHLD',\n",
       "             'Mothers employment when r was 16': 'MAWRKGRW',\n",
       "             'No. of hrs spouse usually works a week': 'SPHRS2',\n",
       "             'Number of hrs spouse worked last week': 'SPHRS1',\n",
       "             'Opinion of family income': 'FINRELA',\n",
       "             'Opinion of how people get ahead': 'GETAHEAD',\n",
       "             'Parks and recreation': 'NATPARK',\n",
       "             'People helpful or looking out for selves': 'HELPFUL',\n",
       "             'Preschool kids suffer if mother works': 'FEPRESCH',\n",
       "             \"R's age when 1st child born\": 'AGEKDBRN',\n",
       "             'Rs family income when 16 yrs old': 'INCOM16',\n",
       "             'Rs highest degree': 'DEGREE',\n",
       "             'Rs kids living standard compared to r': 'KIDSSOL',\n",
       "             'Satisfaction with financial situation': 'SATFIN',\n",
       "             'Should communist teacher be fired': 'COLCOM',\n",
       "             'Should govt help pay for medical care?': 'HELPSICK',\n",
       "             'Should govt reduce income differences': 'EQWLTH',\n",
       "             'Social security': 'NATSOC',\n",
       "             'Space exploration program': 'NATSPAC',\n",
       "             'Standard of living of r will improve': 'GOODLIFE',\n",
       "             'Subjective class identification': 'CLASS_',\n",
       "             'To help others': 'HELPOTH',\n",
       "             'To think for ones self': 'THNKSELF',\n",
       "             'To work hard': 'WORKHARD',\n",
       "             'Welfare': 'NATFARE',\n",
       "             'Whites hurt by aff. action': 'DISCAFF',\n",
       "             'Women not suited for politics': 'FEPOL'})"
      ]
     },
     "execution_count": 60,
     "metadata": {},
     "output_type": "execute_result"
    }
   ],
   "source": [
    "extract_variables(s + '/GSS.sps')"
   ]
  },
  {
   "cell_type": "code",
   "execution_count": null,
   "metadata": {
    "collapsed": false
   },
   "outputs": [],
   "source": [
    "temp = pd.crosstab(df.wrkstat,df.sex,dropna=False)\n",
    "temp"
   ]
  },
  {
   "cell_type": "code",
   "execution_count": null,
   "metadata": {
    "collapsed": false
   },
   "outputs": [],
   "source": [
    "import six\n",
    "from matplotlib import colors\n",
    "import random"
   ]
  },
  {
   "cell_type": "code",
   "execution_count": null,
   "metadata": {
    "collapsed": false
   },
   "outputs": [],
   "source": [
    "df.columns"
   ]
  },
  {
   "cell_type": "code",
   "execution_count": null,
   "metadata": {
    "collapsed": false
   },
   "outputs": [],
   "source": [
    "simple_bar(df.marital)"
   ]
  },
  {
   "cell_type": "code",
   "execution_count": null,
   "metadata": {
    "collapsed": false
   },
   "outputs": [],
   "source": [
    "stack_bar(df.happy,df.teens)"
   ]
  },
  {
   "cell_type": "code",
   "execution_count": null,
   "metadata": {
    "collapsed": false
   },
   "outputs": [],
   "source": [
    "temp.plot(kind = 'pie',subplots=True,figsize=(20,8),autopct='%.2f');\n",
    "\n",
    "#plt.legend(loc = (0.5, 0), ncol=5)"
   ]
  },
  {
   "cell_type": "code",
   "execution_count": null,
   "metadata": {
    "collapsed": false
   },
   "outputs": [],
   "source": [
    "h_bar(df.wrkstat,df.happy)"
   ]
  },
  {
   "cell_type": "code",
   "execution_count": null,
   "metadata": {
    "collapsed": false
   },
   "outputs": [],
   "source": [
    "temp.plot(kind = 'barh',figsize=(8,8))"
   ]
  },
  {
   "cell_type": "code",
   "execution_count": null,
   "metadata": {
    "collapsed": false
   },
   "outputs": [],
   "source": [
    "simple_bar(df.wrkstat, size = (20,10))"
   ]
  },
  {
   "cell_type": "code",
   "execution_count": null,
   "metadata": {
    "collapsed": false
   },
   "outputs": [],
   "source": [
    "pie_chart(df.wrkstat,df.marital,(20,20))"
   ]
  },
  {
   "cell_type": "code",
   "execution_count": null,
   "metadata": {
    "collapsed": false
   },
   "outputs": [],
   "source": [
    "h_bar(df.wrkstat,df.marital,(20,20))"
   ]
  },
  {
   "cell_type": "code",
   "execution_count": null,
   "metadata": {
    "collapsed": true
   },
   "outputs": [],
   "source": []
  }
 ],
 "metadata": {
  "kernelspec": {
   "display_name": "Python 2",
   "language": "python",
   "name": "python2"
  },
  "language_info": {
   "codemirror_mode": {
    "name": "ipython",
    "version": 2
   },
   "file_extension": ".py",
   "mimetype": "text/x-python",
   "name": "python",
   "nbconvert_exporter": "python",
   "pygments_lexer": "ipython2",
   "version": "2.7.10"
  }
 },
 "nbformat": 4,
 "nbformat_minor": 0
}
