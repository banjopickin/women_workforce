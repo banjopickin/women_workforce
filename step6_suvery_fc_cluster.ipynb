{
 "cells": [
  {
   "cell_type": "code",
   "execution_count": 2,
   "metadata": {
    "collapsed": false
   },
   "outputs": [],
   "source": [
    "from __future__ import division\n",
    "import pandas as pd\n",
    "import numpy as np \n",
    "import matplotlib.pylab as plt\n",
    "import seaborn as sns\n",
    "\n",
    "from code.organize import *\n",
    "from code.roughEDA import *\n",
    "from code.survey_processor_full import *\n",
    "from code.model_vis import *\n",
    "from code.fc import *\n",
    "from code.fc_cluster import *\n",
    "from collections import Counter,defaultdict,OrderedDict\n",
    "\n",
    "from sklearn.preprocessing import scale\n",
    "\n",
    "from treeinterpreter import treeinterpreter as ti\n",
    "import matplotlib.cm as cm\n",
    "import cPickle as pickle\n",
    "%matplotlib inline\n",
    "%load_ext autoreload\n",
    "%autoreload 2"
   ]
  },
  {
   "cell_type": "markdown",
   "metadata": {},
   "source": [
    "# Data Frame processing\n",
    "\n",
    "This file aims to process survey data based on feature contribution matrix and cluster id resulted from kmeans. \n",
    "\n",
    "Following data frames are going to be pickled and saved under data directory:\n",
    "\n",
    "1. Survey data had cluster column added\n",
    "\n",
    "2. Grouped survey data by cluster id.\n",
    "\n",
    "3. Numerical survey data goupby cluster id, summarise meaningful answer,reduce redundant features. \n",
    "\n",
    "\n",
    "\n",
    "## 1. Load feature contribution matrix and group by cluster id"
   ]
  },
  {
   "cell_type": "code",
   "execution_count": 3,
   "metadata": {
    "collapsed": false
   },
   "outputs": [],
   "source": [
    "fc = FeatureContribution('data/fc_df2.pkl')    # Load matrix\n",
    "fc_df = fc.cluster_processor(3,6)              # Generate cluster id by PCA and Kmeans"
   ]
  },
  {
   "cell_type": "markdown",
   "metadata": {},
   "source": [
    "To look into each cluster, group data by cluster then aggregate mean and sample size."
   ]
  },
  {
   "cell_type": "code",
   "execution_count": 4,
   "metadata": {
    "collapsed": false
   },
   "outputs": [
    {
     "data": {
      "text/html": [
       "<div>\n",
       "<table border=\"1\" class=\"dataframe\">\n",
       "  <thead>\n",
       "    <tr style=\"text-align: right;\">\n",
       "      <th></th>\n",
       "      <th>employment_rate</th>\n",
       "      <th>sample_size</th>\n",
       "    </tr>\n",
       "    <tr>\n",
       "      <th>cluster</th>\n",
       "      <th></th>\n",
       "      <th></th>\n",
       "    </tr>\n",
       "  </thead>\n",
       "  <tbody>\n",
       "    <tr>\n",
       "      <th>0</th>\n",
       "      <td>0.924484</td>\n",
       "      <td>2132</td>\n",
       "    </tr>\n",
       "    <tr>\n",
       "      <th>1</th>\n",
       "      <td>0.082192</td>\n",
       "      <td>365</td>\n",
       "    </tr>\n",
       "    <tr>\n",
       "      <th>2</th>\n",
       "      <td>0.040498</td>\n",
       "      <td>642</td>\n",
       "    </tr>\n",
       "    <tr>\n",
       "      <th>3</th>\n",
       "      <td>0.900459</td>\n",
       "      <td>653</td>\n",
       "    </tr>\n",
       "    <tr>\n",
       "      <th>4</th>\n",
       "      <td>0.895753</td>\n",
       "      <td>259</td>\n",
       "    </tr>\n",
       "    <tr>\n",
       "      <th>5</th>\n",
       "      <td>0.059809</td>\n",
       "      <td>418</td>\n",
       "    </tr>\n",
       "  </tbody>\n",
       "</table>\n",
       "</div>"
      ],
      "text/plain": [
       "         employment_rate  sample_size\n",
       "cluster                              \n",
       "0               0.924484         2132\n",
       "1               0.082192          365\n",
       "2               0.040498          642\n",
       "3               0.900459          653\n",
       "4               0.895753          259\n",
       "5               0.059809          418"
      ]
     },
     "execution_count": 4,
     "metadata": {},
     "output_type": "execute_result"
    }
   ],
   "source": [
    "summary = fc_df.groupby('cluster')['employed'].agg([np.mean,np.size])  \n",
    "summary.columns = ['employment_rate','sample_size']\n",
    "summary"
   ]
  },
  {
   "cell_type": "markdown",
   "metadata": {},
   "source": [
    "**Cluster 1,2,5** are unemployed groups. **Cluster 0,3,4** are employed groups. \n"
   ]
  },
  {
   "cell_type": "markdown",
   "metadata": {},
   "source": [
    "## 2.  Load original survey data"
   ]
  },
  {
   "cell_type": "code",
   "execution_count": 5,
   "metadata": {
    "collapsed": true
   },
   "outputs": [],
   "source": [
    "sv = survey('data/survey2')\n",
    "sv.num_processor()"
   ]
  },
  {
   "cell_type": "code",
   "execution_count": 6,
   "metadata": {
    "collapsed": false
   },
   "outputs": [],
   "source": [
    "# load suvery data, combine numerical and catigorical anwers\n",
    "df = pd.concat([sv.fin_data[sv.num_cols],sv.data[sv.sv_cols],sv.fin_data.employed],axis =1) \n",
    "\n",
    "# generate a list of 40 important features and cluster id\n",
    "cols = list(fc.features)\n",
    "cols.append('cluster')\n",
    "\n",
    "# subset 40 important features\n",
    "df = df[fc.features]\n",
    "\n",
    "#add cluster_id column\n",
    "df = pd.DataFrame(np.column_stack((df,fc.cluster_id)),columns =cols)\n",
    "df[sv.num_cols] = df[sv.num_cols].astype('float')"
   ]
  },
  {
   "cell_type": "markdown",
   "metadata": {
    "collapsed": false
   },
   "source": [
    "About half respondents did not answer spouse working hours or ideal number of kids. It's not accurate to take mean or median without removing the flag. Thereby, I'll remove respondents who didn't answer these two questions, then take median values. \n",
    "\n",
    "Age, agekdbrn and coninc maintain the median values. Educom uses mean because it further split the clusters. "
   ]
  },
  {
   "cell_type": "code",
   "execution_count": 7,
   "metadata": {
    "collapsed": false
   },
   "outputs": [],
   "source": [
    "dfn = df_num(df)"
   ]
  },
  {
   "cell_type": "code",
   "execution_count": 8,
   "metadata": {
    "collapsed": false
   },
   "outputs": [
    {
     "data": {
      "text/html": [
       "<div>\n",
       "<table border=\"1\" class=\"dataframe\">\n",
       "  <thead>\n",
       "    <tr style=\"text-align: right;\">\n",
       "      <th></th>\n",
       "      <th>sphrs1</th>\n",
       "      <th>chldidel</th>\n",
       "      <th>age</th>\n",
       "      <th>agekdbrn</th>\n",
       "      <th>coninc</th>\n",
       "      <th>educom</th>\n",
       "    </tr>\n",
       "    <tr>\n",
       "      <th>cluster</th>\n",
       "      <th></th>\n",
       "      <th></th>\n",
       "      <th></th>\n",
       "      <th></th>\n",
       "      <th></th>\n",
       "      <th></th>\n",
       "    </tr>\n",
       "  </thead>\n",
       "  <tbody>\n",
       "    <tr>\n",
       "      <th>0</th>\n",
       "      <td>42</td>\n",
       "      <td>2.0</td>\n",
       "      <td>36</td>\n",
       "      <td>25</td>\n",
       "      <td>49882.50</td>\n",
       "      <td>12.62</td>\n",
       "    </tr>\n",
       "    <tr>\n",
       "      <th>1</th>\n",
       "      <td>40</td>\n",
       "      <td>3.0</td>\n",
       "      <td>31</td>\n",
       "      <td>19</td>\n",
       "      <td>8617.50</td>\n",
       "      <td>10.80</td>\n",
       "    </tr>\n",
       "    <tr>\n",
       "      <th>2</th>\n",
       "      <td>50</td>\n",
       "      <td>2.5</td>\n",
       "      <td>35</td>\n",
       "      <td>25</td>\n",
       "      <td>52811.00</td>\n",
       "      <td>12.94</td>\n",
       "    </tr>\n",
       "    <tr>\n",
       "      <th>3</th>\n",
       "      <td>40</td>\n",
       "      <td>2.0</td>\n",
       "      <td>33</td>\n",
       "      <td>21</td>\n",
       "      <td>9033.75</td>\n",
       "      <td>12.28</td>\n",
       "    </tr>\n",
       "    <tr>\n",
       "      <th>4</th>\n",
       "      <td>40</td>\n",
       "      <td>3.0</td>\n",
       "      <td>34</td>\n",
       "      <td>19</td>\n",
       "      <td>18745.00</td>\n",
       "      <td>10.44</td>\n",
       "    </tr>\n",
       "    <tr>\n",
       "      <th>5</th>\n",
       "      <td>40</td>\n",
       "      <td>3.0</td>\n",
       "      <td>34</td>\n",
       "      <td>22</td>\n",
       "      <td>7124.00</td>\n",
       "      <td>12.08</td>\n",
       "    </tr>\n",
       "  </tbody>\n",
       "</table>\n",
       "</div>"
      ],
      "text/plain": [
       "         sphrs1  chldidel  age  agekdbrn    coninc  educom\n",
       "cluster                                                   \n",
       "0            42       2.0   36        25  49882.50   12.62\n",
       "1            40       3.0   31        19   8617.50   10.80\n",
       "2            50       2.5   35        25  52811.00   12.94\n",
       "3            40       2.0   33        21   9033.75   12.28\n",
       "4            40       3.0   34        19  18745.00   10.44\n",
       "5            40       3.0   34        22   7124.00   12.08"
      ]
     },
     "execution_count": 8,
     "metadata": {},
     "output_type": "execute_result"
    }
   ],
   "source": [
    "dfn"
   ]
  },
  {
   "cell_type": "markdown",
   "metadata": {},
   "source": [
    "**Categorical variables**\n",
    "\n",
    "Lots of \"Not applicable\" in mode answers. Use secondary mode answer instead if \"not applicable\" shows up."
   ]
  },
  {
   "cell_type": "code",
   "execution_count": 9,
   "metadata": {
    "collapsed": false
   },
   "outputs": [],
   "source": [
    "# categorical columns\n",
    "cat_cols = list(set(df.columns) - set(sv.num_cols) - set(['cluster']))"
   ]
  },
  {
   "cell_type": "code",
   "execution_count": 10,
   "metadata": {
    "collapsed": false
   },
   "outputs": [],
   "source": [
    "# groupby cluster, aggregate answers to take meaningful modes\n",
    "df_cat = df.groupby('cluster')[cat_cols].agg([mode_answer_cat])\n",
    "df_cat.columns = cat_cols"
   ]
  },
  {
   "cell_type": "code",
   "execution_count": 11,
   "metadata": {
    "collapsed": false
   },
   "outputs": [],
   "source": [
    "df_summary = pd.concat([dfn,df_cat],axis =1)"
   ]
  },
  {
   "cell_type": "code",
   "execution_count": 12,
   "metadata": {
    "collapsed": true
   },
   "outputs": [
    {
     "name": "stderr",
     "output_type": "stream",
     "text": [
      "/Users/yleng/anaconda/lib/python2.7/site-packages/ipykernel/__main__.py:1: FutureWarning: sort(columns=....) is deprecated, use sort_values(by=.....)\n",
      "  if __name__ == '__main__':\n"
     ]
    },
    {
     "data": {
      "text/html": [
       "<div>\n",
       "<table border=\"1\" class=\"dataframe\">\n",
       "  <thead>\n",
       "    <tr style=\"text-align: right;\">\n",
       "      <th>cluster</th>\n",
       "      <th>1</th>\n",
       "      <th>2</th>\n",
       "      <th>5</th>\n",
       "      <th>0</th>\n",
       "      <th>3</th>\n",
       "      <th>4</th>\n",
       "    </tr>\n",
       "  </thead>\n",
       "  <tbody>\n",
       "    <tr>\n",
       "      <th>sphrs1</th>\n",
       "      <td>40</td>\n",
       "      <td>50</td>\n",
       "      <td>40</td>\n",
       "      <td>42</td>\n",
       "      <td>40</td>\n",
       "      <td>40</td>\n",
       "    </tr>\n",
       "    <tr>\n",
       "      <th>chldidel</th>\n",
       "      <td>3</td>\n",
       "      <td>2.5</td>\n",
       "      <td>3</td>\n",
       "      <td>2</td>\n",
       "      <td>2</td>\n",
       "      <td>3</td>\n",
       "    </tr>\n",
       "    <tr>\n",
       "      <th>age</th>\n",
       "      <td>31</td>\n",
       "      <td>35</td>\n",
       "      <td>34</td>\n",
       "      <td>36</td>\n",
       "      <td>33</td>\n",
       "      <td>34</td>\n",
       "    </tr>\n",
       "    <tr>\n",
       "      <th>agekdbrn</th>\n",
       "      <td>19</td>\n",
       "      <td>25</td>\n",
       "      <td>22</td>\n",
       "      <td>25</td>\n",
       "      <td>21</td>\n",
       "      <td>19</td>\n",
       "    </tr>\n",
       "    <tr>\n",
       "      <th>coninc</th>\n",
       "      <td>8617.5</td>\n",
       "      <td>52811</td>\n",
       "      <td>7124</td>\n",
       "      <td>49882.5</td>\n",
       "      <td>9033.75</td>\n",
       "      <td>18745</td>\n",
       "    </tr>\n",
       "    <tr>\n",
       "      <th>educom</th>\n",
       "      <td>10.8</td>\n",
       "      <td>12.94</td>\n",
       "      <td>12.08</td>\n",
       "      <td>12.62</td>\n",
       "      <td>12.28</td>\n",
       "      <td>10.44</td>\n",
       "    </tr>\n",
       "    <tr>\n",
       "      <th>affrmact</th>\n",
       "      <td>Oppose pref</td>\n",
       "      <td>Strongly oppose pref</td>\n",
       "      <td>Strongly oppose pref</td>\n",
       "      <td>Strongly oppose pref</td>\n",
       "      <td>Strongly oppose pref</td>\n",
       "      <td>Strongly oppose pref</td>\n",
       "    </tr>\n",
       "    <tr>\n",
       "      <th>fechld</th>\n",
       "      <td>Agree</td>\n",
       "      <td>Agree</td>\n",
       "      <td>Agree</td>\n",
       "      <td>Strongly agree</td>\n",
       "      <td>Agree</td>\n",
       "      <td>Strongly agree</td>\n",
       "    </tr>\n",
       "    <tr>\n",
       "      <th>helpnot</th>\n",
       "      <td>Agree with both</td>\n",
       "      <td>Agree with both</td>\n",
       "      <td>Agree with both</td>\n",
       "      <td>Agree with both</td>\n",
       "      <td>Agree with both</td>\n",
       "      <td>Agree with both</td>\n",
       "    </tr>\n",
       "    <tr>\n",
       "      <th>spanking</th>\n",
       "      <td>Agree</td>\n",
       "      <td>Agree</td>\n",
       "      <td>Agree</td>\n",
       "      <td>Agree</td>\n",
       "      <td>Agree</td>\n",
       "      <td>Agree</td>\n",
       "    </tr>\n",
       "    <tr>\n",
       "      <th>mobile16</th>\n",
       "      <td>Same city</td>\n",
       "      <td>Different state</td>\n",
       "      <td>Same city</td>\n",
       "      <td>Same city</td>\n",
       "      <td>Same city</td>\n",
       "      <td>Same city</td>\n",
       "    </tr>\n",
       "    <tr>\n",
       "      <th>natrace</th>\n",
       "      <td>Too little</td>\n",
       "      <td>About right</td>\n",
       "      <td>Too little</td>\n",
       "      <td>About right</td>\n",
       "      <td>About right</td>\n",
       "      <td>About right</td>\n",
       "    </tr>\n",
       "    <tr>\n",
       "      <th>natspac</th>\n",
       "      <td>About right</td>\n",
       "      <td>About right</td>\n",
       "      <td>Too much</td>\n",
       "      <td>About right</td>\n",
       "      <td>Too much</td>\n",
       "      <td>Too much</td>\n",
       "    </tr>\n",
       "    <tr>\n",
       "      <th>dwelling</th>\n",
       "      <td>Detached 1-fam house</td>\n",
       "      <td>Detached 1-fam house</td>\n",
       "      <td>Detached 1-fam house</td>\n",
       "      <td>Detached 1-fam house</td>\n",
       "      <td>Detached 1-fam house</td>\n",
       "      <td>Detached 1-fam house</td>\n",
       "    </tr>\n",
       "    <tr>\n",
       "      <th>reliten</th>\n",
       "      <td>Not very strong</td>\n",
       "      <td>Strong</td>\n",
       "      <td>Not very strong</td>\n",
       "      <td>Not very strong</td>\n",
       "      <td>Strong</td>\n",
       "      <td>Not very strong</td>\n",
       "    </tr>\n",
       "    <tr>\n",
       "      <th>res16</th>\n",
       "      <td>Town lt 50000</td>\n",
       "      <td>Town lt 50000</td>\n",
       "      <td>Town lt 50000</td>\n",
       "      <td>Town lt 50000</td>\n",
       "      <td>Town lt 50000</td>\n",
       "      <td>Town lt 50000</td>\n",
       "    </tr>\n",
       "    <tr>\n",
       "      <th>natfare</th>\n",
       "      <td>Too little</td>\n",
       "      <td>Too much</td>\n",
       "      <td>Too little</td>\n",
       "      <td>Too much</td>\n",
       "      <td>Too much</td>\n",
       "      <td>About right</td>\n",
       "    </tr>\n",
       "    <tr>\n",
       "      <th>divorce</th>\n",
       "      <td>No</td>\n",
       "      <td>No</td>\n",
       "      <td>No</td>\n",
       "      <td>No</td>\n",
       "      <td>No</td>\n",
       "      <td>No</td>\n",
       "    </tr>\n",
       "    <tr>\n",
       "      <th>divlaw</th>\n",
       "      <td>Easier</td>\n",
       "      <td>More difficult</td>\n",
       "      <td>Easier</td>\n",
       "      <td>More difficult</td>\n",
       "      <td>More difficult</td>\n",
       "      <td>Easier</td>\n",
       "    </tr>\n",
       "    <tr>\n",
       "      <th>fefam</th>\n",
       "      <td>Disagree</td>\n",
       "      <td>Disagree</td>\n",
       "      <td>Disagree</td>\n",
       "      <td>Disagree</td>\n",
       "      <td>Disagree</td>\n",
       "      <td>Disagree</td>\n",
       "    </tr>\n",
       "    <tr>\n",
       "      <th>socbar</th>\n",
       "      <td>Never</td>\n",
       "      <td>Never</td>\n",
       "      <td>Never</td>\n",
       "      <td>Never</td>\n",
       "      <td>Never</td>\n",
       "      <td>Never</td>\n",
       "    </tr>\n",
       "    <tr>\n",
       "      <th>partyid</th>\n",
       "      <td>Independent</td>\n",
       "      <td>Not str republican</td>\n",
       "      <td>Independent</td>\n",
       "      <td>Not str democrat</td>\n",
       "      <td>Independent</td>\n",
       "      <td>Independent</td>\n",
       "    </tr>\n",
       "    <tr>\n",
       "      <th>employed</th>\n",
       "      <td>False</td>\n",
       "      <td>False</td>\n",
       "      <td>False</td>\n",
       "      <td>True</td>\n",
       "      <td>True</td>\n",
       "      <td>True</td>\n",
       "    </tr>\n",
       "    <tr>\n",
       "      <th>finrela</th>\n",
       "      <td>Below average</td>\n",
       "      <td>Average</td>\n",
       "      <td>Below average</td>\n",
       "      <td>Average</td>\n",
       "      <td>Average</td>\n",
       "      <td>Average</td>\n",
       "    </tr>\n",
       "    <tr>\n",
       "      <th>meovrwrk</th>\n",
       "      <td>Agree</td>\n",
       "      <td>Agree</td>\n",
       "      <td>Agree</td>\n",
       "      <td>Agree</td>\n",
       "      <td>Agree</td>\n",
       "      <td>Agree</td>\n",
       "    </tr>\n",
       "    <tr>\n",
       "      <th>helpoth</th>\n",
       "      <td>3rd important</td>\n",
       "      <td>3rd important</td>\n",
       "      <td>3rd important</td>\n",
       "      <td>3rd important</td>\n",
       "      <td>3rd important</td>\n",
       "      <td>3rd important</td>\n",
       "    </tr>\n",
       "    <tr>\n",
       "      <th>life</th>\n",
       "      <td>Routine</td>\n",
       "      <td>Routine</td>\n",
       "      <td>Routine</td>\n",
       "      <td>Routine</td>\n",
       "      <td>Routine</td>\n",
       "      <td>Routine</td>\n",
       "    </tr>\n",
       "    <tr>\n",
       "      <th>degree</th>\n",
       "      <td>Lt high school</td>\n",
       "      <td>High school</td>\n",
       "      <td>High school</td>\n",
       "      <td>High school</td>\n",
       "      <td>High school</td>\n",
       "      <td>Lt high school</td>\n",
       "    </tr>\n",
       "    <tr>\n",
       "      <th>socfrend</th>\n",
       "      <td>Never</td>\n",
       "      <td>Once a month</td>\n",
       "      <td>Sev times a week</td>\n",
       "      <td>Once a month</td>\n",
       "      <td>Sev times a week</td>\n",
       "      <td>Once a month</td>\n",
       "    </tr>\n",
       "    <tr>\n",
       "      <th>fund</th>\n",
       "      <td>Moderate</td>\n",
       "      <td>Moderate</td>\n",
       "      <td>Fundamentalist</td>\n",
       "      <td>Moderate</td>\n",
       "      <td>Moderate</td>\n",
       "      <td>Moderate</td>\n",
       "    </tr>\n",
       "    <tr>\n",
       "      <th>courts</th>\n",
       "      <td>Not harsh enough</td>\n",
       "      <td>Not harsh enough</td>\n",
       "      <td>Not harsh enough</td>\n",
       "      <td>Not harsh enough</td>\n",
       "      <td>Not harsh enough</td>\n",
       "      <td>Not harsh enough</td>\n",
       "    </tr>\n",
       "    <tr>\n",
       "      <th>workhard</th>\n",
       "      <td>2nd important</td>\n",
       "      <td>2nd important</td>\n",
       "      <td>2nd important</td>\n",
       "      <td>2nd important</td>\n",
       "      <td>2nd important</td>\n",
       "      <td>3rd important</td>\n",
       "    </tr>\n",
       "    <tr>\n",
       "      <th>marital</th>\n",
       "      <td>Never married</td>\n",
       "      <td>Married</td>\n",
       "      <td>Married</td>\n",
       "      <td>Married</td>\n",
       "      <td>Never married</td>\n",
       "      <td>Married</td>\n",
       "    </tr>\n",
       "    <tr>\n",
       "      <th>kidssol</th>\n",
       "      <td>Much better</td>\n",
       "      <td>Somewhat better</td>\n",
       "      <td>Much better</td>\n",
       "      <td>Somewhat better</td>\n",
       "      <td>Much better</td>\n",
       "      <td>Much better</td>\n",
       "    </tr>\n",
       "    <tr>\n",
       "      <th>incom16</th>\n",
       "      <td>Average</td>\n",
       "      <td>Average</td>\n",
       "      <td>Average</td>\n",
       "      <td>Average</td>\n",
       "      <td>Average</td>\n",
       "      <td>Average</td>\n",
       "    </tr>\n",
       "    <tr>\n",
       "      <th>natsoc</th>\n",
       "      <td>Too little</td>\n",
       "      <td>Too little</td>\n",
       "      <td>Too little</td>\n",
       "      <td>Too little</td>\n",
       "      <td>Too little</td>\n",
       "      <td>Too little</td>\n",
       "    </tr>\n",
       "    <tr>\n",
       "      <th>class_</th>\n",
       "      <td>Working class</td>\n",
       "      <td>Middle class</td>\n",
       "      <td>Working class</td>\n",
       "      <td>Working class</td>\n",
       "      <td>Working class</td>\n",
       "      <td>Working class</td>\n",
       "    </tr>\n",
       "    <tr>\n",
       "      <th>natroad</th>\n",
       "      <td>About right</td>\n",
       "      <td>About right</td>\n",
       "      <td>About right</td>\n",
       "      <td>About right</td>\n",
       "      <td>About right</td>\n",
       "      <td>About right</td>\n",
       "    </tr>\n",
       "    <tr>\n",
       "      <th>polviews</th>\n",
       "      <td>Moderate</td>\n",
       "      <td>Moderate</td>\n",
       "      <td>Moderate</td>\n",
       "      <td>Moderate</td>\n",
       "      <td>Moderate</td>\n",
       "      <td>Moderate</td>\n",
       "    </tr>\n",
       "    <tr>\n",
       "      <th>parsol</th>\n",
       "      <td>Somewhat better</td>\n",
       "      <td>Somewhat better</td>\n",
       "      <td>Somewhat better</td>\n",
       "      <td>Much better</td>\n",
       "      <td>Somewhat better</td>\n",
       "      <td>Much better</td>\n",
       "    </tr>\n",
       "    <tr>\n",
       "      <th>mawrkgrw</th>\n",
       "      <td>Yes</td>\n",
       "      <td>Yes</td>\n",
       "      <td>Yes</td>\n",
       "      <td>Yes</td>\n",
       "      <td>Yes</td>\n",
       "      <td>Yes</td>\n",
       "    </tr>\n",
       "  </tbody>\n",
       "</table>\n",
       "</div>"
      ],
      "text/plain": [
       "cluster                      1                     2                     5  \\\n",
       "sphrs1                      40                    50                    40   \n",
       "chldidel                     3                   2.5                     3   \n",
       "age                         31                    35                    34   \n",
       "agekdbrn                    19                    25                    22   \n",
       "coninc                  8617.5                 52811                  7124   \n",
       "educom                    10.8                 12.94                 12.08   \n",
       "affrmact           Oppose pref  Strongly oppose pref  Strongly oppose pref   \n",
       "fechld                   Agree                 Agree                 Agree   \n",
       "helpnot        Agree with both       Agree with both       Agree with both   \n",
       "spanking                 Agree                 Agree                 Agree   \n",
       "mobile16             Same city       Different state             Same city   \n",
       "natrace             Too little           About right            Too little   \n",
       "natspac            About right           About right              Too much   \n",
       "dwelling  Detached 1-fam house  Detached 1-fam house  Detached 1-fam house   \n",
       "reliten        Not very strong                Strong       Not very strong   \n",
       "res16            Town lt 50000         Town lt 50000         Town lt 50000   \n",
       "natfare             Too little              Too much            Too little   \n",
       "divorce                     No                    No                    No   \n",
       "divlaw                  Easier        More difficult                Easier   \n",
       "fefam                 Disagree              Disagree              Disagree   \n",
       "socbar                   Never                 Never                 Never   \n",
       "partyid            Independent    Not str republican           Independent   \n",
       "employed                 False                 False                 False   \n",
       "finrela          Below average               Average         Below average   \n",
       "meovrwrk                 Agree                 Agree                 Agree   \n",
       "helpoth          3rd important         3rd important         3rd important   \n",
       "life                   Routine               Routine               Routine   \n",
       "degree          Lt high school           High school           High school   \n",
       "socfrend                 Never          Once a month      Sev times a week   \n",
       "fund                  Moderate              Moderate        Fundamentalist   \n",
       "courts        Not harsh enough      Not harsh enough      Not harsh enough   \n",
       "workhard         2nd important         2nd important         2nd important   \n",
       "marital          Never married               Married               Married   \n",
       "kidssol            Much better       Somewhat better           Much better   \n",
       "incom16                Average               Average               Average   \n",
       "natsoc              Too little            Too little            Too little   \n",
       "class_           Working class          Middle class         Working class   \n",
       "natroad            About right           About right           About right   \n",
       "polviews              Moderate              Moderate              Moderate   \n",
       "parsol         Somewhat better       Somewhat better       Somewhat better   \n",
       "mawrkgrw                   Yes                   Yes                   Yes   \n",
       "\n",
       "cluster                      0                     3                     4  \n",
       "sphrs1                      42                    40                    40  \n",
       "chldidel                     2                     2                     3  \n",
       "age                         36                    33                    34  \n",
       "agekdbrn                    25                    21                    19  \n",
       "coninc                 49882.5               9033.75                 18745  \n",
       "educom                   12.62                 12.28                 10.44  \n",
       "affrmact  Strongly oppose pref  Strongly oppose pref  Strongly oppose pref  \n",
       "fechld          Strongly agree                 Agree        Strongly agree  \n",
       "helpnot        Agree with both       Agree with both       Agree with both  \n",
       "spanking                 Agree                 Agree                 Agree  \n",
       "mobile16             Same city             Same city             Same city  \n",
       "natrace            About right           About right           About right  \n",
       "natspac            About right              Too much              Too much  \n",
       "dwelling  Detached 1-fam house  Detached 1-fam house  Detached 1-fam house  \n",
       "reliten        Not very strong                Strong       Not very strong  \n",
       "res16            Town lt 50000         Town lt 50000         Town lt 50000  \n",
       "natfare               Too much              Too much           About right  \n",
       "divorce                     No                    No                    No  \n",
       "divlaw          More difficult        More difficult                Easier  \n",
       "fefam                 Disagree              Disagree              Disagree  \n",
       "socbar                   Never                 Never                 Never  \n",
       "partyid       Not str democrat           Independent           Independent  \n",
       "employed                  True                  True                  True  \n",
       "finrela                Average               Average               Average  \n",
       "meovrwrk                 Agree                 Agree                 Agree  \n",
       "helpoth          3rd important         3rd important         3rd important  \n",
       "life                   Routine               Routine               Routine  \n",
       "degree             High school           High school        Lt high school  \n",
       "socfrend          Once a month      Sev times a week          Once a month  \n",
       "fund                  Moderate              Moderate              Moderate  \n",
       "courts        Not harsh enough      Not harsh enough      Not harsh enough  \n",
       "workhard         2nd important         2nd important         3rd important  \n",
       "marital                Married         Never married               Married  \n",
       "kidssol        Somewhat better           Much better           Much better  \n",
       "incom16                Average               Average               Average  \n",
       "natsoc              Too little            Too little            Too little  \n",
       "class_           Working class         Working class         Working class  \n",
       "natroad            About right           About right           About right  \n",
       "polviews              Moderate              Moderate              Moderate  \n",
       "parsol             Much better       Somewhat better           Much better  \n",
       "mawrkgrw                   Yes                   Yes                   Yes  "
      ]
     },
     "execution_count": 12,
     "metadata": {},
     "output_type": "execute_result"
    }
   ],
   "source": [
    "df_summary.sort('employed').T"
   ]
  },
  {
   "cell_type": "markdown",
   "metadata": {},
   "source": [
    "### The summaried data frame is generated.  Pickle survey data frame with cluster id and summarized data for future study"
   ]
  },
  {
   "cell_type": "code",
   "execution_count": 13,
   "metadata": {
    "collapsed": true
   },
   "outputs": [],
   "source": [
    "with open('data/df_id.pkl','w') as f:\n",
    "    pickle.dump(df,f)"
   ]
  },
  {
   "cell_type": "code",
   "execution_count": 14,
   "metadata": {
    "collapsed": false
   },
   "outputs": [],
   "source": [
    "with open('data/df_summary.pkl','w') as f:\n",
    "    pickle.dump(df_summary,f)"
   ]
  },
  {
   "cell_type": "markdown",
   "metadata": {},
   "source": [
    "### Generate a heatmap\n",
    "\n",
    "To generate a heatmap of survy data. All the categorical features, such as suvery qestions asking opinions must be conveted to numbers. The final version which passed to random forest model will be used in that case. "
   ]
  },
  {
   "cell_type": "code",
   "execution_count": 15,
   "metadata": {
    "collapsed": true
   },
   "outputs": [],
   "source": [
    "# full-processed final matrix is used \n",
    "heat_df = sv.fin_data\n",
    "\n",
    "# 40 important features and cluster id\n",
    "cols = list(fc.features)\n",
    "cols.append('cluster')\n",
    "\n",
    "# subset 40 important features\n",
    "heat_df = heat_df[fc.features]\n",
    "\n",
    "#add cluster_id column\n",
    "heat_df = pd.DataFrame(np.column_stack((heat_df,fc.cluster_id)),columns =cols)"
   ]
  },
  {
   "cell_type": "code",
   "execution_count": 16,
   "metadata": {
    "collapsed": false
   },
   "outputs": [],
   "source": [
    "#Same process to treat numrical columns, but need to normalize it \n",
    "heat_df_n = pd.DataFrame(scale(df_num(heat_df)),columns=sv.num_cols)"
   ]
  },
  {
   "cell_type": "code",
   "execution_count": 17,
   "metadata": {
    "collapsed": false
   },
   "outputs": [],
   "source": [
    "#groupby cluster, then find mode and meaningful answers for each feature\n",
    "heat_df_cat = heat_df.groupby('cluster')[cat_cols].agg([mode_answer])\n",
    "heat_df_cat.columns = cat_cols\n",
    "\n",
    "# datatype = float\n",
    "heat_df_cat = heat_df_cat.apply(lambda x: x.astype('float'))"
   ]
  },
  {
   "cell_type": "code",
   "execution_count": 18,
   "metadata": {
    "collapsed": false
   },
   "outputs": [],
   "source": [
    "#concatenate \n",
    "heat_df_sum = pd.concat([heat_df_n,heat_df_cat],axis =1)\n",
    "# sort by employment status\n",
    "heat_df_sum.sort_values('employed',inplace=True)"
   ]
  },
  {
   "cell_type": "code",
   "execution_count": 23,
   "metadata": {
    "collapsed": false
   },
   "outputs": [
    {
     "data": {
      "text/plain": [
       "<matplotlib.axes._subplots.AxesSubplot at 0x10f14e710>"
      ]
     },
     "execution_count": 23,
     "metadata": {},
     "output_type": "execute_result"
    },
    {
     "data": {
      "image/png": "[encoded data removed]",
      "text/plain": [
       "<matplotlib.figure.Figure at 0x10e514650>"
      ]
     },
     "metadata": {},
     "output_type": "display_data"
    }
   ],
   "source": [
    "#heat map\n",
    "plt.figure(figsize=(10,10))\n",
    "sns.heatmap(heat_df_sum.T,annot=True)"
   ]
  },
  {
   "cell_type": "markdown",
   "metadata": {},
   "source": [
    "To distinguish clusters, we need to drop the features have the same values across clusters. \n",
    "\n",
    "The function, drop_feature, from fc.py is applied to drop redundant features"
   ]
  },
  {
   "cell_type": "code",
   "execution_count": 20,
   "metadata": {
    "collapsed": false
   },
   "outputs": [],
   "source": [
    "redu_heat_df = drop_feature(heat_df_sum).T\n",
    "redu_heat_df = redu_heat_df.reindex(['sphrs1','chldidel','age','agekdbrn','coninc','educom','affrmact',\n",
    "                                     'fechld','mobile16','natrace','natspac', 'reliten', 'natfare','divlaw',\n",
    "                                      'partyid', 'finrela', 'helpoth', 'degree','socfrend', 'fund', 'workhard',\n",
    "                                     'marital', 'kidssol', 'class_', 'parsol','employed'])"
   ]
  },
  {
   "cell_type": "code",
   "execution_count": 21,
   "metadata": {
    "collapsed": false
   },
   "outputs": [
    {
     "data": {
      "text/plain": [
       "<matplotlib.axes._subplots.AxesSubplot at 0x10e3cd090>"
      ]
     },
     "execution_count": 21,
     "metadata": {},
     "output_type": "execute_result"
    },
    {
     "data": {
      "image/png": "[encoded data removed]",
      "text/plain": [
       "<matplotlib.figure.Figure at 0x1039a24d0>"
      ]
     },
     "metadata": {},
     "output_type": "display_data"
    }
   ],
   "source": [
    "plt.figure(figsize=(10,10))\n",
    "sns.heatmap(redu_heat_df,annot=True)"
   ]
  },
  {
   "cell_type": "markdown",
   "metadata": {},
   "source": [
    "Now it is easier to check. \n",
    "## pickle dimension-reduced data frame, redu_heat_df."
   ]
  },
  {
   "cell_type": "code",
   "execution_count": 22,
   "metadata": {
    "collapsed": true
   },
   "outputs": [],
   "source": [
    "with open('data/redu_heat.pkl','w') as f:\n",
    "    pickle.dump(redu_heat_df,f)"
   ]
  },
  {
   "cell_type": "markdown",
   "metadata": {
    "collapsed": true
   },
   "source": [
    "## To do:\n",
    "\n",
    "1. write a function to compare the cosine similarities among clusters. Compare the similar cluster, one emp, one unemp. and see what makes them different. \n",
    "2. Use data visualization tools to visualize the main decision drivers for each cluster.\n"
   ]
  },
  {
   "cell_type": "code",
   "execution_count": null,
   "metadata": {
    "collapsed": true
   },
   "outputs": [],
   "source": []
  }
 ],
 "metadata": {
  "kernelspec": {
   "display_name": "Python 2",
   "language": "python",
   "name": "python2"
  },
  "language_info": {
   "codemirror_mode": {
    "name": "ipython",
    "version": 2
   },
   "file_extension": ".py",
   "mimetype": "text/x-python",
   "name": "python",
   "nbconvert_exporter": "python",
   "pygments_lexer": "ipython2",
   "version": "2.7.10"
  }
 },
 "nbformat": 4,
 "nbformat_minor": 0
}
