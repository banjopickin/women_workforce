{
 "cells": [
  {
   "cell_type": "markdown",
   "metadata": {},
   "source": [
    "# Grid and Feature Contribution\n",
    "\n",
    "This document shows the procedure of grid search and feature contribution investigation. "
   ]
  },
  {
   "cell_type": "code",
   "execution_count": 1,
   "metadata": {
    "collapsed": false
   },
   "outputs": [],
   "source": [
    "from __future__ import division\n",
    "import pandas as pd\n",
    "import numpy as np \n",
    "import matplotlib.pylab as plt\n",
    "from code.organize import *\n",
    "from code.roughEDA import *\n",
    "from code.survey_processor_full import *\n",
    "from code.model_vis import *\n",
    "\n",
    "from sklearn.cross_validation import train_test_split\n",
    "from sklearn.ensemble import RandomForestClassifier, GradientBoostingClassifier\n",
    "from sklearn.metrics import roc_auc_score, confusion_matrix,roc_curve\n",
    "from sklearn.grid_search import GridSearchCV\n",
    "from sklearn.cross_validation import cross_val_score\n",
    "from sklearn.metrics import silhouette_samples, silhouette_score\n",
    "from sklearn.decomposition import PCA\n",
    "\n",
    "from treeinterpreter import treeinterpreter as ti\n",
    "import matplotlib.cm as cm\n",
    "import cPickle as pickle\n",
    "%matplotlib inline\n",
    "%load_ext autoreload\n",
    "%autoreload 2"
   ]
  },
  {
   "cell_type": "code",
   "execution_count": 2,
   "metadata": {
    "collapsed": true
   },
   "outputs": [],
   "source": [
    "sv = survey('data/survey2/')"
   ]
  },
  {
   "cell_type": "code",
   "execution_count": 3,
   "metadata": {
    "collapsed": true
   },
   "outputs": [],
   "source": [
    "sv.num_processor()"
   ]
  },
  {
   "cell_type": "code",
   "execution_count": 4,
   "metadata": {
    "collapsed": true
   },
   "outputs": [],
   "source": [
    "df = sv.fin_data"
   ]
  },
  {
   "cell_type": "code",
   "execution_count": 5,
   "metadata": {
    "collapsed": true
   },
   "outputs": [],
   "source": [
    "dfc = df.copy()\n",
    "dfc['educom'] = (dfc.paeduc+dfc.maeduc+dfc.speduc)/3        \n",
    "dfc.drop(['paeduc','maeduc','speduc'], axis =1, inplace=True)\n",
    "y = dfc.pop('employed').values\n",
    "X = dfc.values\n",
    "X_train, X_test, y_train, y_test = train_test_split(X, y, test_size=0.3, random_state=90)"
   ]
  },
  {
   "cell_type": "markdown",
   "metadata": {},
   "source": [
    "### 1. Fit random forest model"
   ]
  },
  {
   "cell_type": "code",
   "execution_count": 6,
   "metadata": {
    "collapsed": false
   },
   "outputs": [
    {
     "data": {
      "text/plain": [
       "RandomForestClassifier(bootstrap=True, class_weight=None, criterion='gini',\n",
       "            max_depth=None, max_features='auto', max_leaf_nodes=None,\n",
       "            min_samples_leaf=1, min_samples_split=2,\n",
       "            min_weight_fraction_leaf=0.0, n_estimators=10, n_jobs=-1,\n",
       "            oob_score=False, random_state=0, verbose=0, warm_start=False)"
      ]
     },
     "execution_count": 6,
     "metadata": {},
     "output_type": "execute_result"
    }
   ],
   "source": [
    "rf = RandomForestClassifier(n_jobs=-1,random_state=0)\n",
    "rf.fit(X_train,y_train)"
   ]
  },
  {
   "cell_type": "markdown",
   "metadata": {},
   "source": [
    "#### Take first 30 important features to model"
   ]
  },
  {
   "cell_type": "code",
   "execution_count": 7,
   "metadata": {
    "collapsed": true
   },
   "outputs": [],
   "source": [
    "f30 = rf.feature_importances_.argsort()[::-1][:30]\n",
    "rf_redu = RandomForestClassifier(n_jobs=-1,random_state=0)\n",
    "slct=dfc.columns[f30]   #selected features\n",
    "X = dfc[slct].values\n",
    "X_train, X_test, y_train, y_test = train_test_split(X, y, test_size=0.3, random_state=90)"
   ]
  },
  {
   "cell_type": "code",
   "execution_count": 8,
   "metadata": {
    "collapsed": false
   },
   "outputs": [
    {
     "data": {
      "text/plain": [
       "RandomForestClassifier(bootstrap=True, class_weight=None, criterion='gini',\n",
       "            max_depth=None, max_features='auto', max_leaf_nodes=None,\n",
       "            min_samples_leaf=1, min_samples_split=2,\n",
       "            min_weight_fraction_leaf=0.0, n_estimators=10, n_jobs=-1,\n",
       "            oob_score=False, random_state=0, verbose=0, warm_start=False)"
      ]
     },
     "execution_count": 8,
     "metadata": {},
     "output_type": "execute_result"
    }
   ],
   "source": [
    "rf_redu.fit(X_train,y_train)"
   ]
  },
  {
   "cell_type": "markdown",
   "metadata": {},
   "source": [
    "## 2. Grid search"
   ]
  },
  {
   "cell_type": "code",
   "execution_count": 9,
   "metadata": {
    "collapsed": false
   },
   "outputs": [],
   "source": [
    "#1st round\n",
    "# rf_grid = {'max_depth': [3, None], \n",
    "#                       'max_features': ['sqrt', 'log2', None],\n",
    "#                       'min_samples_split': [1, 2, 4],\n",
    "#                       'min_samples_leaf': [1, 2, 4],\n",
    "#                       'bootstrap': [True, False],\n",
    "#                       'n_estimators': [10, 20, 40],\n",
    "#                       'random_state': [1]}\n",
    "\n",
    "#2nd\n",
    "rf_grid = {'max_depth': [None], \n",
    "           'criterion':['gini','entropy'],\n",
    "                      'max_features': ['log2', None],\n",
    "                      'min_samples_split': [1],\n",
    "                      'min_samples_leaf': [2],\n",
    "                      'bootstrap': [True, False],\n",
    "                      'n_estimators': [30, 40,80],\n",
    "                      'random_state': [1]}\n",
    "\n",
    "#3rd \n",
    "rf_grid = {'max_depth': [None], \n",
    "           'criterion':['gini'],\n",
    "                      'max_features': ['log2',None],\n",
    "                      'min_samples_split': [1],\n",
    "                      'min_samples_leaf': [2],\n",
    "                      'bootstrap': [False],\n",
    "                      'n_estimators': [60,80,100],\n",
    "                      'random_state': [1]}\n",
    "#last round\n",
    "rf_grid = {'max_depth': [None], \n",
    "           'criterion':['gini'],\n",
    "                      'max_features': ['log2',None],\n",
    "                      'min_samples_split': [1],\n",
    "                      'min_samples_leaf': [2],\n",
    "                      'bootstrap': [False],\n",
    "                      'n_estimators': [230,250,300],\n",
    "                      'random_state': [1]}"
   ]
  },
  {
   "cell_type": "code",
   "execution_count": 10,
   "metadata": {
    "collapsed": false
   },
   "outputs": [],
   "source": [
    "rf_gridsearch = GridSearchCV(RandomForestClassifier(),\n",
    "                             rf_grid,\n",
    "                             n_jobs=-1,\n",
    "                             verbose=True,\n",
    "                             scoring='roc_auc')"
   ]
  },
  {
   "cell_type": "code",
   "execution_count": 11,
   "metadata": {
    "collapsed": false
   },
   "outputs": [
    {
     "name": "stdout",
     "output_type": "stream",
     "text": [
      "Fitting 3 folds for each of 6 candidates, totalling 18 fits\n"
     ]
    },
    {
     "name": "stderr",
     "output_type": "stream",
     "text": [
      "[Parallel(n_jobs=-1)]: Done  18 out of  18 | elapsed:   23.2s finished\n"
     ]
    },
    {
     "data": {
      "text/plain": [
       "GridSearchCV(cv=None, error_score='raise',\n",
       "       estimator=RandomForestClassifier(bootstrap=True, class_weight=None, criterion='gini',\n",
       "            max_depth=None, max_features='auto', max_leaf_nodes=None,\n",
       "            min_samples_leaf=1, min_samples_split=2,\n",
       "            min_weight_fraction_leaf=0.0, n_estimators=10, n_jobs=1,\n",
       "            oob_score=False, random_state=None, verbose=0,\n",
       "            warm_start=False),\n",
       "       fit_params={}, iid=True, n_jobs=-1,\n",
       "       param_grid={'n_estimators': [230, 250, 300], 'min_samples_split': [1], 'random_state': [1], 'criterion': ['gini'], 'max_features': ['log2', None], 'bootstrap': [False], 'max_depth': [None], 'min_samples_leaf': [2]},\n",
       "       pre_dispatch='2*n_jobs', refit=True, scoring='roc_auc',\n",
       "       verbose=True)"
      ]
     },
     "execution_count": 11,
     "metadata": {},
     "output_type": "execute_result"
    }
   ],
   "source": [
    "rf_gridsearch.fit(X_train,y_train)"
   ]
  },
  {
   "cell_type": "code",
   "execution_count": 12,
   "metadata": {
    "collapsed": false
   },
   "outputs": [
    {
     "data": {
      "text/plain": [
       "{'bootstrap': False,\n",
       " 'criterion': 'gini',\n",
       " 'max_depth': None,\n",
       " 'max_features': 'log2',\n",
       " 'min_samples_leaf': 2,\n",
       " 'min_samples_split': 1,\n",
       " 'n_estimators': 300,\n",
       " 'random_state': 1}"
      ]
     },
     "execution_count": 12,
     "metadata": {},
     "output_type": "execute_result"
    }
   ],
   "source": [
    "rf_gridsearch.best_params_"
   ]
  },
  {
   "cell_type": "code",
   "execution_count": 13,
   "metadata": {
    "collapsed": false
   },
   "outputs": [],
   "source": [
    "best_rf = rf_gridsearch.best_estimator_"
   ]
  },
  {
   "cell_type": "code",
   "execution_count": 14,
   "metadata": {
    "collapsed": false
   },
   "outputs": [
    {
     "name": "stdout",
     "output_type": "stream",
     "text": [
      "roc_auc_score : 0.818305210155\n"
     ]
    },
    {
     "data": {
      "image/png": "[encoded data removed]",
      "text/plain": [
       "<matplotlib.figure.Figure at 0x104513950>"
      ]
     },
     "metadata": {},
     "output_type": "display_data"
    }
   ],
   "source": [
    "plot_roc(best_rf,X_test,y_test)"
   ]
  },
  {
   "cell_type": "markdown",
   "metadata": {},
   "source": [
    "### 3.  Tree Interpreter and Feature Contribution"
   ]
  },
  {
   "cell_type": "code",
   "execution_count": 15,
   "metadata": {
    "collapsed": false
   },
   "outputs": [],
   "source": [
    "prediction, bias, contributions = ti.predict(best_rf, X)"
   ]
  },
  {
   "cell_type": "markdown",
   "metadata": {},
   "source": [
    "#### make feature contribution data frame"
   ]
  },
  {
   "cell_type": "code",
   "execution_count": 16,
   "metadata": {
    "collapsed": false
   },
   "outputs": [],
   "source": [
    "fc_df = pd.DataFrame(contributions[:,:,1], columns=slct)"
   ]
  },
  {
   "cell_type": "code",
   "execution_count": 17,
   "metadata": {
    "collapsed": false
   },
   "outputs": [],
   "source": [
    "fc_df['predict'] = best_rf.predict(X)    # predicted result"
   ]
  },
  {
   "cell_type": "code",
   "execution_count": 18,
   "metadata": {
    "collapsed": true
   },
   "outputs": [],
   "source": [
    "fc_df['employed'] = y                   # true result"
   ]
  },
  {
   "cell_type": "code",
   "execution_count": 19,
   "metadata": {
    "collapsed": false
   },
   "outputs": [],
   "source": [
    "fc_df['correct'] = fc_df.predict == fc_df.employed      # check if the prediction is correct"
   ]
  },
  {
   "cell_type": "code",
   "execution_count": 20,
   "metadata": {
    "collapsed": false
   },
   "outputs": [],
   "source": [
    "fc_df.drop('predict',axis =1, inplace=True)               #subset correct instances"
   ]
  },
  {
   "cell_type": "markdown",
   "metadata": {},
   "source": [
    "## 4. Clustering Feature Contribution Matrix\n",
    "\n",
    "* pca\n",
    "* kmeans on principle components"
   ]
  },
  {
   "cell_type": "markdown",
   "metadata": {},
   "source": [
    "### PCA"
   ]
  },
  {
   "cell_type": "code",
   "execution_count": 21,
   "metadata": {
    "collapsed": false
   },
   "outputs": [],
   "source": [
    "fc_f_pca = fc_df.drop(['employed','correct'],axis =1)       #only pass feature columns to pca"
   ]
  },
  {
   "cell_type": "code",
   "execution_count": 22,
   "metadata": {
    "collapsed": false
   },
   "outputs": [
    {
     "data": {
      "text/plain": [
       "PCA(copy=True, n_components=10, whiten=False)"
      ]
     },
     "execution_count": 22,
     "metadata": {},
     "output_type": "execute_result"
    }
   ],
   "source": [
    "pca = PCA(n_components= 10)\n",
    "pca.fit(fc_f_pca.values)"
   ]
  },
  {
   "cell_type": "code",
   "execution_count": 23,
   "metadata": {
    "collapsed": false
   },
   "outputs": [
    {
     "data": {
      "text/plain": [
       "(array([ 0.28966923,  0.4192104 ,  0.52313406,  0.58592309,  0.64375447,\n",
       "         0.68285598,  0.71732429,  0.7477722 ,  0.77376263,  0.79738463]),\n",
       " array([ 0.28966923,  0.12954117,  0.10392366,  0.06278902,  0.05783138,\n",
       "         0.03910151,  0.03446832,  0.03044791,  0.02599043,  0.023622  ]))"
      ]
     },
     "execution_count": 23,
     "metadata": {},
     "output_type": "execute_result"
    }
   ],
   "source": [
    "np.cumsum(pca.explained_variance_ratio_),pca.explained_variance_ratio_"
   ]
  },
  {
   "cell_type": "code",
   "execution_count": 24,
   "metadata": {
    "collapsed": false
   },
   "outputs": [
    {
     "data": {
      "text/plain": [
       "[<matplotlib.lines.Line2D at 0x109e68ad0>]"
      ]
     },
     "execution_count": 24,
     "metadata": {},
     "output_type": "execute_result"
    },
    {
     "data": {
      "image/png": "[encoded data removed]",
      "text/plain": [
       "<matplotlib.figure.Figure at 0x10b5e7090>"
      ]
     },
     "metadata": {},
     "output_type": "display_data"
    }
   ],
   "source": [
    "plt.plot(range(1,11),pca.explained_variance_ratio_)"
   ]
  },
  {
   "cell_type": "markdown",
   "metadata": {},
   "source": [
    "** Three principle components will be fine **"
   ]
  },
  {
   "cell_type": "code",
   "execution_count": 25,
   "metadata": {
    "collapsed": true
   },
   "outputs": [],
   "source": [
    "pca = PCA(n_components=3)\n",
    "fc_pca = pca.fit_transform(fc_f_pca.values)"
   ]
  },
  {
   "cell_type": "markdown",
   "metadata": {},
   "source": [
    "### Kmeans\n",
    "\n",
    "To determine which k for kmeans. I wrote a function to check kmeans cluster performance. \n",
    "\n",
    "1. Take a range of Ks and make a for loop\n",
    "\n",
    "2. In each loop：\n",
    "  * Generate k clusters using kmeans. concatinate cluster id to 'employed' and 'correct' columns, as a new data frame.\n",
    "  * Group data frame by cluster id, calcuate employed rate and correct rate by taking means\n",
    "  * If the employed rate is higher than 0.7 or lower than 0.3, then we can say this cluster successfull group employed or unemployed population, so this cluster yields pure population.\n",
    "  * If the correct rate is higher than 0.7, we can say this cluter has high accuracy.\n",
    "  * The clusters with pure population and meantime with high accuracy are ones we want. \n",
    "  * Therefore, the percentage of good clusters is calculated.\n",
    "  * Print employed and correct rate of each good cluster, as well as the good cluster ratio.\n",
    "  \n",
    "3. plot total number of k against good cluster ratio"
   ]
  },
  {
   "cell_type": "code",
   "execution_count": 26,
   "metadata": {
    "collapsed": false,
    "scrolled": false
   },
   "outputs": [
    {
     "name": "stdout",
     "output_type": "stream",
     "text": [
      "4 clusters\n",
      "         employed   correct\n",
      "cluster                    \n",
      "0        0.330241  0.912801\n",
      "1        0.921673  0.925679\n",
      "2        0.019211  0.980789\n",
      "3        0.870317  0.873199\n",
      "---\n",
      "4 out of 4 clusters split the target ideally. Good cluster rate: 1.0\n",
      "********************\n",
      "5 clusters\n",
      "         employed   correct\n",
      "cluster                    \n",
      "0        0.920518  0.924214\n",
      "1        0.018219  0.981781\n",
      "2        0.889313  0.896947\n",
      "3        0.076712  0.934247\n",
      "4        0.871014  0.872464\n",
      "---\n",
      "5 out of 5 clusters split the target ideally. Good cluster rate: 1.0\n",
      "********************\n",
      "6 clusters\n",
      "         employed   correct\n",
      "cluster                    \n",
      "0        0.067839  0.937186\n",
      "1        0.058480  0.961988\n",
      "2        0.927992  0.928469\n",
      "3        0.077778  0.933333\n",
      "4        0.895210  0.896707\n",
      "5        0.889313  0.896947\n",
      "---\n",
      "6 out of 6 clusters split the target ideally. Good cluster rate: 1.0\n",
      "********************\n",
      "7 clusters\n",
      "         employed   correct\n",
      "cluster                    \n",
      "0        0.985832  0.985832\n",
      "1        0.077778  0.933333\n",
      "3        0.067500  0.937500\n",
      "4        0.913738  0.915335\n",
      "5        0.889313  0.896947\n",
      "6        0.006515  0.991857\n",
      "---\n",
      "6 out of 7 clusters split the target ideally. Good cluster rate: 0.857142857143\n",
      "********************\n",
      "8 clusters\n",
      "         employed   correct\n",
      "cluster                    \n",
      "0        0.985824  0.985824\n",
      "1        0.006504  0.991870\n",
      "2        0.873239  0.859155\n",
      "3        0.913600  0.915200\n",
      "5        0.033133  0.966867\n",
      "6        0.852349  0.865772\n",
      "7        0.067500  0.937500\n",
      "---\n",
      "7 out of 8 clusters split the target ideally. Good cluster rate: 0.875\n",
      "********************\n",
      "9 clusters\n",
      "         employed   correct\n",
      "cluster                    \n",
      "0        0.006579  0.991776\n",
      "1        0.985832  0.985832\n",
      "2        0.051661  0.952030\n",
      "3        0.067500  0.937500\n",
      "4        0.913600  0.915200\n",
      "5        0.098901  0.901099\n",
      "6        0.884058  0.876812\n",
      "8        0.900000  0.907692\n",
      "---\n",
      "8 out of 9 clusters split the target ideally. Good cluster rate: 0.888888888889\n",
      "********************\n"
     ]
    },
    {
     "data": {
      "image/png": "[encoded data removed]",
      "text/plain": [
       "<matplotlib.figure.Figure at 0x10a986a50>"
      ]
     },
     "metadata": {},
     "output_type": "display_data"
    }
   ],
   "source": [
    "km_emp_mean(fc_pca,10,fc_df.employed,fc_df.correct)"
   ]
  },
  {
   "cell_type": "code",
   "execution_count": 27,
   "metadata": {
    "collapsed": false
   },
   "outputs": [
    {
     "data": {
      "image/png": "[encoded data removed]",
      "text/plain": [
       "<matplotlib.figure.Figure at 0x10b5f2cd0>"
      ]
     },
     "metadata": {},
     "output_type": "display_data"
    }
   ],
   "source": [
    "plot_silhouette(fc_pca,10)"
   ]
  },
  {
   "cell_type": "code",
   "execution_count": 28,
   "metadata": {
    "collapsed": false
   },
   "outputs": [
    {
     "name": "stdout",
     "output_type": "stream",
     "text": [
      "('For n_clusters =', 6, 'The average silhouette_score is :', 0.51357348835786176)\n"
     ]
    },
    {
     "name": "stderr",
     "output_type": "stream",
     "text": [
      "/Users/yleng/anaconda/lib/python2.7/site-packages/matplotlib/collections.py:590: FutureWarning: elementwise comparison failed; returning scalar instead, but in the future will perform elementwise comparison\n",
      "  if self._edgecolors == str('face'):\n"
     ]
    },
    {
     "data": {
      "image/png": "[encoded data removed]",
      "text/plain": [
       "<matplotlib.figure.Figure at 0x10cd38550>"
      ]
     },
     "metadata": {},
     "output_type": "display_data"
    }
   ],
   "source": [
    "cluster_plot(fc_pca,6)"
   ]
  },
  {
   "cell_type": "markdown",
   "metadata": {},
   "source": [
    "According to the results, all the Kmeans cluster showed high good cluster ratios. When the number of cluster for kmeans is six, it has 100% good cluster ratio, 3 employed, 3 unemployed. Moreover, it exhibited very high silhouette score. Thus, n_cluster will be set to 6."
   ]
  },
  {
   "cell_type": "code",
   "execution_count": 29,
   "metadata": {
    "collapsed": true
   },
   "outputs": [],
   "source": [
    "km = KMeans(n_clusters=6)\n",
    "km.fit(fc_pca)\n",
    "fc_df['cluster'] = km.labels_"
   ]
  },
  {
   "cell_type": "markdown",
   "metadata": {},
   "source": [
    "## Next step:\n",
    "\n",
    "1. Pickle dfc[slct] and fc_df\n",
    "\n",
    "2. Analyse average feature contribution in each cluster\n",
    "\n"
   ]
  },
  {
   "cell_type": "code",
   "execution_count": 30,
   "metadata": {
    "collapsed": true
   },
   "outputs": [],
   "source": [
    "with open('data/df.pkl','w') as f:\n",
    "    pickle.dump(dfc[slct],f)\n",
    "\n",
    "with open('data/fc_df.pkl','w') as f:\n",
    "    pickle.dump(fc_df,f)"
   ]
  }
 ],
 "metadata": {
  "kernelspec": {
   "display_name": "Python 2",
   "language": "python",
   "name": "python2"
  },
  "language_info": {
   "codemirror_mode": {
    "name": "ipython",
    "version": 2
   },
   "file_extension": ".py",
   "mimetype": "text/x-python",
   "name": "python",
   "nbconvert_exporter": "python",
   "pygments_lexer": "ipython2",
   "version": "2.7.10"
  }
 },
 "nbformat": 4,
 "nbformat_minor": 0
}
