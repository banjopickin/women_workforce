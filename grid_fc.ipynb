{
 "cells": [
  {
   "cell_type": "markdown",
   "metadata": {},
   "source": [
    "# Grid and Feature Contribution\n",
    "\n",
    "This document shows the procedure of grid search and feature contribution investigation. "
   ]
  },
  {
   "cell_type": "code",
   "execution_count": 112,
   "metadata": {
    "collapsed": false
   },
   "outputs": [
    {
     "name": "stdout",
     "output_type": "stream",
     "text": [
      "The autoreload extension is already loaded. To reload it, use:\n",
      "  %reload_ext autoreload\n"
     ]
    }
   ],
   "source": [
    "from __future__ import division\n",
    "import pandas as pd\n",
    "import numpy as np \n",
    "import matplotlib.pylab as plt\n",
    "from code.organize import *\n",
    "from code.roughEDA import *\n",
    "from code.survey_processor_full import *\n",
    "from code.model_vis import *\n",
    "\n",
    "from sklearn.cross_validation import train_test_split\n",
    "from sklearn.ensemble import RandomForestClassifier, GradientBoostingClassifier\n",
    "from sklearn.metrics import roc_auc_score, confusion_matrix,roc_curve\n",
    "from sklearn.grid_search import GridSearchCV\n",
    "from sklearn.cross_validation import cross_val_score\n",
    "from sklearn.metrics import silhouette_samples, silhouette_score\n",
    "from sklearn.decomposition import PCA\n",
    "\n",
    "from treeinterpreter import treeinterpreter as ti\n",
    "import matplotlib.cm as cm\n",
    "%matplotlib inline\n",
    "%load_ext autoreload\n",
    "%autoreload 2"
   ]
  },
  {
   "cell_type": "code",
   "execution_count": 4,
   "metadata": {
    "collapsed": true
   },
   "outputs": [],
   "source": [
    "sv = survey('data/survey2/')"
   ]
  },
  {
   "cell_type": "code",
   "execution_count": 5,
   "metadata": {
    "collapsed": true
   },
   "outputs": [],
   "source": [
    "sv.num_processor()"
   ]
  },
  {
   "cell_type": "code",
   "execution_count": 6,
   "metadata": {
    "collapsed": true
   },
   "outputs": [],
   "source": [
    "df = sv.fin_data"
   ]
  },
  {
   "cell_type": "code",
   "execution_count": 7,
   "metadata": {
    "collapsed": true
   },
   "outputs": [],
   "source": [
    "dfc = df.copy()\n",
    "dfc['educom'] = (dfc.paeduc+dfc.maeduc+dfc.speduc)/3        \n",
    "dfc.drop(['paeduc','maeduc','speduc'], axis =1, inplace=True)\n",
    "y = dfc.pop('employed').values\n",
    "X = dfc.values\n",
    "X_train, X_test, y_train, y_test = train_test_split(X, y, test_size=0.3, random_state=90)"
   ]
  },
  {
   "cell_type": "markdown",
   "metadata": {},
   "source": [
    "### 1. Fit random forest model"
   ]
  },
  {
   "cell_type": "code",
   "execution_count": 8,
   "metadata": {
    "collapsed": false
   },
   "outputs": [
    {
     "data": {
      "text/plain": [
       "RandomForestClassifier(bootstrap=True, class_weight=None, criterion='gini',\n",
       "            max_depth=None, max_features='auto', max_leaf_nodes=None,\n",
       "            min_samples_leaf=1, min_samples_split=2,\n",
       "            min_weight_fraction_leaf=0.0, n_estimators=10, n_jobs=-1,\n",
       "            oob_score=False, random_state=0, verbose=0, warm_start=False)"
      ]
     },
     "execution_count": 8,
     "metadata": {},
     "output_type": "execute_result"
    }
   ],
   "source": [
    "rf = RandomForestClassifier(n_jobs=-1,random_state=0)\n",
    "rf.fit(X_train,y_train)"
   ]
  },
  {
   "cell_type": "markdown",
   "metadata": {},
   "source": [
    "#### Take first 30 important features to model"
   ]
  },
  {
   "cell_type": "code",
   "execution_count": 9,
   "metadata": {
    "collapsed": true
   },
   "outputs": [],
   "source": [
    "f30 = rf.feature_importances_.argsort()[::-1][:30]\n",
    "rf_redu = RandomForestClassifier(n_jobs=-1,random_state=0)\n",
    "slct=dfc.columns[f30]   #selected features\n",
    "X = dfc[slct].values\n",
    "X_train, X_test, y_train, y_test = train_test_split(X, y, test_size=0.3, random_state=90)"
   ]
  },
  {
   "cell_type": "code",
   "execution_count": 10,
   "metadata": {
    "collapsed": false
   },
   "outputs": [
    {
     "data": {
      "text/plain": [
       "RandomForestClassifier(bootstrap=True, class_weight=None, criterion='gini',\n",
       "            max_depth=None, max_features='auto', max_leaf_nodes=None,\n",
       "            min_samples_leaf=1, min_samples_split=2,\n",
       "            min_weight_fraction_leaf=0.0, n_estimators=10, n_jobs=-1,\n",
       "            oob_score=False, random_state=0, verbose=0, warm_start=False)"
      ]
     },
     "execution_count": 10,
     "metadata": {},
     "output_type": "execute_result"
    }
   ],
   "source": [
    "rf_redu.fit(X_train,y_train)"
   ]
  },
  {
   "cell_type": "markdown",
   "metadata": {},
   "source": [
    "## 2. Grid search"
   ]
  },
  {
   "cell_type": "code",
   "execution_count": 11,
   "metadata": {
    "collapsed": false
   },
   "outputs": [],
   "source": [
    "#1st round\n",
    "# rf_grid = {'max_depth': [3, None], \n",
    "#                       'max_features': ['sqrt', 'log2', None],\n",
    "#                       'min_samples_split': [1, 2, 4],\n",
    "#                       'min_samples_leaf': [1, 2, 4],\n",
    "#                       'bootstrap': [True, False],\n",
    "#                       'n_estimators': [10, 20, 40],\n",
    "#                       'random_state': [1]}\n",
    "\n",
    "#2nd\n",
    "rf_grid = {'max_depth': [None], \n",
    "           'criterion':['gini','entropy'],\n",
    "                      'max_features': ['log2', None],\n",
    "                      'min_samples_split': [1],\n",
    "                      'min_samples_leaf': [2],\n",
    "                      'bootstrap': [True, False],\n",
    "                      'n_estimators': [30, 40,80],\n",
    "                      'random_state': [1]}\n",
    "\n",
    "#3rd \n",
    "rf_grid = {'max_depth': [None], \n",
    "           'criterion':['gini'],\n",
    "                      'max_features': ['log2',None],\n",
    "                      'min_samples_split': [1],\n",
    "                      'min_samples_leaf': [2],\n",
    "                      'bootstrap': [False],\n",
    "                      'n_estimators': [60,80,100],\n",
    "                      'random_state': [1]}\n",
    "#last round\n",
    "rf_grid = {'max_depth': [None], \n",
    "           'criterion':['gini'],\n",
    "                      'max_features': ['log2',None],\n",
    "                      'min_samples_split': [1],\n",
    "                      'min_samples_leaf': [2],\n",
    "                      'bootstrap': [False],\n",
    "                      'n_estimators': [230,250,300],\n",
    "                      'random_state': [1]}"
   ]
  },
  {
   "cell_type": "code",
   "execution_count": 12,
   "metadata": {
    "collapsed": false
   },
   "outputs": [],
   "source": [
    "rf_gridsearch = GridSearchCV(RandomForestClassifier(),\n",
    "                             rf_grid,\n",
    "                             n_jobs=-1,\n",
    "                             verbose=True,\n",
    "                             scoring='roc_auc')"
   ]
  },
  {
   "cell_type": "code",
   "execution_count": 13,
   "metadata": {
    "collapsed": false
   },
   "outputs": [
    {
     "name": "stdout",
     "output_type": "stream",
     "text": [
      "Fitting 3 folds for each of 6 candidates, totalling 18 fits\n"
     ]
    },
    {
     "name": "stderr",
     "output_type": "stream",
     "text": [
      "[Parallel(n_jobs=-1)]: Done  18 out of  18 | elapsed:   22.8s finished\n"
     ]
    },
    {
     "data": {
      "text/plain": [
       "GridSearchCV(cv=None, error_score='raise',\n",
       "       estimator=RandomForestClassifier(bootstrap=True, class_weight=None, criterion='gini',\n",
       "            max_depth=None, max_features='auto', max_leaf_nodes=None,\n",
       "            min_samples_leaf=1, min_samples_split=2,\n",
       "            min_weight_fraction_leaf=0.0, n_estimators=10, n_jobs=1,\n",
       "            oob_score=False, random_state=None, verbose=0,\n",
       "            warm_start=False),\n",
       "       fit_params={}, iid=True, n_jobs=-1,\n",
       "       param_grid={'n_estimators': [230, 250, 300], 'min_samples_split': [1], 'random_state': [1], 'criterion': ['gini'], 'max_features': ['log2', None], 'bootstrap': [False], 'max_depth': [None], 'min_samples_leaf': [2]},\n",
       "       pre_dispatch='2*n_jobs', refit=True, scoring='roc_auc',\n",
       "       verbose=True)"
      ]
     },
     "execution_count": 13,
     "metadata": {},
     "output_type": "execute_result"
    }
   ],
   "source": [
    "rf_gridsearch.fit(X_train,y_train)"
   ]
  },
  {
   "cell_type": "code",
   "execution_count": 14,
   "metadata": {
    "collapsed": false
   },
   "outputs": [
    {
     "data": {
      "text/plain": [
       "{'bootstrap': False,\n",
       " 'criterion': 'gini',\n",
       " 'max_depth': None,\n",
       " 'max_features': 'log2',\n",
       " 'min_samples_leaf': 2,\n",
       " 'min_samples_split': 1,\n",
       " 'n_estimators': 300,\n",
       " 'random_state': 1}"
      ]
     },
     "execution_count": 14,
     "metadata": {},
     "output_type": "execute_result"
    }
   ],
   "source": [
    "rf_gridsearch.best_params_"
   ]
  },
  {
   "cell_type": "code",
   "execution_count": 15,
   "metadata": {
    "collapsed": false
   },
   "outputs": [],
   "source": [
    "best_rf = rf_gridsearch.best_estimator_"
   ]
  },
  {
   "cell_type": "code",
   "execution_count": 16,
   "metadata": {
    "collapsed": false
   },
   "outputs": [
    {
     "name": "stdout",
     "output_type": "stream",
     "text": [
      "roc_auc_score : 0.818305210155\n"
     ]
    },
    {
     "data": {
      "image/png": "[encoded data removed]",
      "text/plain": [
       "<matplotlib.figure.Figure at 0x109ce4510>"
      ]
     },
     "metadata": {},
     "output_type": "display_data"
    }
   ],
   "source": [
    "plot_roc(best_rf,X_test,y_test)"
   ]
  },
  {
   "cell_type": "markdown",
   "metadata": {},
   "source": [
    "### 3.  Tree Interpreter and Feature Contribution"
   ]
  },
  {
   "cell_type": "code",
   "execution_count": 17,
   "metadata": {
    "collapsed": true
   },
   "outputs": [],
   "source": [
    "prediction, bias, contributions = ti.predict(best_rf, X_test)"
   ]
  },
  {
   "cell_type": "markdown",
   "metadata": {},
   "source": [
    "#### make feature contribution data frame"
   ]
  },
  {
   "cell_type": "code",
   "execution_count": 37,
   "metadata": {
    "collapsed": false
   },
   "outputs": [],
   "source": [
    "fc_df = pd.DataFrame(contributions[:,:,1], columns=slct)"
   ]
  },
  {
   "cell_type": "code",
   "execution_count": 38,
   "metadata": {
    "collapsed": false
   },
   "outputs": [],
   "source": [
    "fc_df['predict'] = best_rf.predict(X_test)    # predicted result"
   ]
  },
  {
   "cell_type": "code",
   "execution_count": 39,
   "metadata": {
    "collapsed": true
   },
   "outputs": [],
   "source": [
    "fc_df['employed'] = y_test                   # true result"
   ]
  },
  {
   "cell_type": "code",
   "execution_count": 40,
   "metadata": {
    "collapsed": false
   },
   "outputs": [],
   "source": [
    "fc_df['correct'] = fc_df.predict == fc_df.employed      # check if the prediction is correct"
   ]
  },
  {
   "cell_type": "code",
   "execution_count": 41,
   "metadata": {
    "collapsed": false
   },
   "outputs": [],
   "source": [
    "fc_df.drop('predict',axis =1, inplace=True)               #subset correct instances"
   ]
  },
  {
   "cell_type": "markdown",
   "metadata": {},
   "source": [
    "## 4. Clustering Feature Contribution Matrix\n",
    "\n",
    "* pca\n",
    "* kmeans on principle components"
   ]
  },
  {
   "cell_type": "markdown",
   "metadata": {},
   "source": [
    "### PCA"
   ]
  },
  {
   "cell_type": "code",
   "execution_count": 42,
   "metadata": {
    "collapsed": false
   },
   "outputs": [],
   "source": [
    "fc_f_pca = fc_df.drop(['employed','correct'],axis =1)       #only pass feature columns to pca"
   ]
  },
  {
   "cell_type": "code",
   "execution_count": 43,
   "metadata": {
    "collapsed": false
   },
   "outputs": [
    {
     "data": {
      "text/plain": [
       "PCA(copy=True, n_components=10, whiten=False)"
      ]
     },
     "execution_count": 43,
     "metadata": {},
     "output_type": "execute_result"
    }
   ],
   "source": [
    "pca = PCA(n_components= 10)\n",
    "pca.fit(fc_f_pca.values)"
   ]
  },
  {
   "cell_type": "code",
   "execution_count": 44,
   "metadata": {
    "collapsed": false
   },
   "outputs": [
    {
     "data": {
      "text/plain": [
       "[<matplotlib.lines.Line2D at 0x10c14a6d0>]"
      ]
     },
     "execution_count": 44,
     "metadata": {},
     "output_type": "execute_result"
    },
    {
     "data": {
      "image/png": "[encoded data removed]",
      "text/plain": [
       "<matplotlib.figure.Figure at 0x10c053d10>"
      ]
     },
     "metadata": {},
     "output_type": "display_data"
    }
   ],
   "source": [
    "plt.plot(range(1,11),pca.explained_variance_ratio_)"
   ]
  },
  {
   "cell_type": "markdown",
   "metadata": {},
   "source": [
    "** Three principle components will be fine **"
   ]
  },
  {
   "cell_type": "code",
   "execution_count": 45,
   "metadata": {
    "collapsed": true
   },
   "outputs": [],
   "source": [
    "pca = PCA(n_components=4)\n",
    "fc_pca = pca.fit_transform(fc_f_pca.values)"
   ]
  },
  {
   "cell_type": "markdown",
   "metadata": {},
   "source": [
    "### Kmeans\n",
    "\n",
    "To determine which k for kmeans. I wrote a function to check kmeans cluster performance. \n",
    "\n",
    "1. Take a range of Ks and make a for loop\n",
    "\n",
    "2. In each loop：\n",
    "  * Generate k clusters using kmeans. concatinate cluster id to 'employed' and 'correct' columns, as a new data frame.\n",
    "  * Group data frame by cluster id, calcuate employed rate and correct rate by taking means\n",
    "  * If the employed rate is higher than 0.7 or lower than 0.3, then we can say this cluster successfull group employed or unemployed population, so this cluster yields pure population.\n",
    "  * If the correct rate is higher than 0.7, we can say this cluter has high accuracy.\n",
    "  * The clusters with pure population and meantime with high accuracy are ones we want. \n",
    "  * Therefore, the percentage of good clusters is calculated.\n",
    "  * Print employed and correct rate of each good cluster, as well as the good cluster ratio.\n",
    "  \n",
    "3. plot total number of k against good cluster ratio"
   ]
  },
  {
   "cell_type": "code",
   "execution_count": 170,
   "metadata": {
    "collapsed": false,
    "scrolled": false
   },
   "outputs": [
    {
     "name": "stdout",
     "output_type": "stream",
     "text": [
      "5 clusters\n",
      "         employed   correct\n",
      "cluster                    \n",
      "0        0.863158  0.863158\n",
      "---\n",
      "1 out of 5 clusters split the target ideally. Good cluster rate: 0.2\n",
      "********************\n",
      "6 clusters\n",
      "         employed   correct\n",
      "cluster                    \n",
      "1        0.305085  0.762712\n",
      "2        0.864583  0.864583\n",
      "---\n",
      "2 out of 6 clusters split the target ideally. Good cluster rate: 0.333333333333\n",
      "********************\n",
      "7 clusters\n",
      "         employed   correct\n",
      "cluster                    \n",
      "0        0.714592  0.725322\n",
      "1        0.305085  0.762712\n",
      "2        0.875000  0.875000\n",
      "3        0.256410  0.777778\n",
      "---\n",
      "4 out of 7 clusters split the target ideally. Good cluster rate: 0.571428571429\n",
      "********************\n",
      "8 clusters\n",
      "         employed   correct\n",
      "cluster                    \n",
      "1        0.709007  0.713626\n",
      "4        0.757576  0.803030\n",
      "5        0.254386  0.807018\n",
      "6        0.305085  0.762712\n",
      "7        0.869231  0.869231\n",
      "---\n",
      "5 out of 8 clusters split the target ideally. Good cluster rate: 0.625\n",
      "********************\n",
      "9 clusters\n",
      "         employed   correct\n",
      "cluster                    \n",
      "0        0.803279  0.803279\n",
      "1        0.809524  0.819048\n",
      "2        0.873469  0.873469\n",
      "3        0.305085  0.762712\n",
      "5        0.267857  0.803571\n",
      "6        0.703271  0.712617\n",
      "---\n",
      "6 out of 9 clusters split the target ideally. Good cluster rate: 0.666666666667\n",
      "********************\n",
      "10 clusters\n",
      "         employed   correct\n",
      "cluster                    \n",
      "0        0.871486  0.871486\n",
      "1        0.261261  0.810811\n",
      "3        0.735099  0.754967\n",
      "4        0.818182  0.854545\n",
      "5        0.181818  0.818182\n",
      "6        0.704918  0.714286\n",
      "8        0.340206  0.752577\n",
      "---\n",
      "7 out of 10 clusters split the target ideally. Good cluster rate: 0.7\n",
      "********************\n",
      "11 clusters\n",
      "         employed   correct\n",
      "cluster                    \n",
      "0        0.821782  0.831683\n",
      "1        0.340206  0.752577\n",
      "2        0.890000  0.890000\n",
      "3        0.799228  0.803089\n",
      "6        0.843137  0.862745\n",
      "8        0.164557  0.860759\n",
      "9        0.181818  0.818182\n",
      "---\n",
      "7 out of 11 clusters split the target ideally. Good cluster rate: 0.636363636364\n",
      "********************\n",
      "12 clusters\n",
      "         employed   correct\n",
      "cluster                    \n",
      "0        0.894737  0.894737\n",
      "2        0.340206  0.752577\n",
      "3        0.786517  0.790262\n",
      "6        0.125000  0.875000\n",
      "7        0.890547  0.890547\n",
      "8        0.181818  0.818182\n",
      "10       0.836735  0.836735\n",
      "---\n",
      "7 out of 12 clusters split the target ideally. Good cluster rate: 0.583333333333\n",
      "********************\n",
      "13 clusters\n",
      "         employed   correct\n",
      "cluster                    \n",
      "0        0.895000  0.895000\n",
      "1        0.340206  0.752577\n",
      "4        0.796154  0.800000\n",
      "6        0.181818  0.818182\n",
      "7        0.140625  0.843750\n",
      "9        0.894737  0.894737\n",
      "10       0.850575  0.850575\n",
      "---\n",
      "7 out of 13 clusters split the target ideally. Good cluster rate: 0.538461538462\n",
      "********************\n",
      "14 clusters\n",
      "         employed   correct\n",
      "cluster                    \n",
      "2        0.340206  0.752577\n",
      "4        0.142857  0.857143\n",
      "5        0.181818  0.818182\n",
      "6        0.801688  0.805907\n",
      "10       0.890000  0.890000\n",
      "11       0.894737  0.894737\n",
      "12       0.846154  0.846154\n",
      "---\n",
      "7 out of 14 clusters split the target ideally. Good cluster rate: 0.5\n",
      "********************\n"
     ]
    },
    {
     "data": {
      "image/png": "[encoded data removed]",
      "text/plain": [
       "<matplotlib.figure.Figure at 0x10d235390>"
      ]
     },
     "metadata": {},
     "output_type": "display_data"
    }
   ],
   "source": [
    "km_emp_mean(fc_pca,15,fc_df.employed,fc_df.correct)"
   ]
  },
  {
   "cell_type": "markdown",
   "metadata": {},
   "source": [
    "According to the result, when the number of cluster is 10, good cluster ratio is the highest.  "
   ]
  },
  {
   "cell_type": "code",
   "execution_count": 183,
   "metadata": {
    "collapsed": false
   },
   "outputs": [
    {
     "data": {
      "text/plain": [
       "KMeans(copy_x=True, init='k-means++', max_iter=300, n_clusters=10, n_init=10,\n",
       "    n_jobs=1, precompute_distances='auto', random_state=0, tol=0.0001,\n",
       "    verbose=0)"
      ]
     },
     "execution_count": 183,
     "metadata": {},
     "output_type": "execute_result"
    }
   ],
   "source": [
    "km = KMeans(n_clusters=10,random_state=0)\n",
    "km.fit(fc_pca)"
   ]
  },
  {
   "cell_type": "code",
   "execution_count": 184,
   "metadata": {
    "collapsed": true
   },
   "outputs": [],
   "source": [
    "fc_df['cluster'] = km.labels_"
   ]
  },
  {
   "cell_type": "code",
   "execution_count": 185,
   "metadata": {
    "collapsed": false
   },
   "outputs": [
    {
     "data": {
      "text/html": [
       "<div>\n",
       "<table border=\"1\" class=\"dataframe\">\n",
       "  <thead>\n",
       "    <tr>\n",
       "      <th></th>\n",
       "      <th colspan=\"2\" halign=\"left\">employed</th>\n",
       "      <th colspan=\"2\" halign=\"left\">correct</th>\n",
       "    </tr>\n",
       "    <tr>\n",
       "      <th></th>\n",
       "      <th>mean</th>\n",
       "      <th>size</th>\n",
       "      <th>mean</th>\n",
       "      <th>size</th>\n",
       "    </tr>\n",
       "    <tr>\n",
       "      <th>cluster</th>\n",
       "      <th></th>\n",
       "      <th></th>\n",
       "      <th></th>\n",
       "      <th></th>\n",
       "    </tr>\n",
       "  </thead>\n",
       "  <tbody>\n",
       "    <tr>\n",
       "      <th>0</th>\n",
       "      <td>0.871486</td>\n",
       "      <td>249</td>\n",
       "      <td>0.871486</td>\n",
       "      <td>249</td>\n",
       "    </tr>\n",
       "    <tr>\n",
       "      <th>1</th>\n",
       "      <td>0.261261</td>\n",
       "      <td>111</td>\n",
       "      <td>0.810811</td>\n",
       "      <td>111</td>\n",
       "    </tr>\n",
       "    <tr>\n",
       "      <th>2</th>\n",
       "      <td>0.600000</td>\n",
       "      <td>65</td>\n",
       "      <td>0.646154</td>\n",
       "      <td>65</td>\n",
       "    </tr>\n",
       "    <tr>\n",
       "      <th>3</th>\n",
       "      <td>0.735099</td>\n",
       "      <td>151</td>\n",
       "      <td>0.754967</td>\n",
       "      <td>151</td>\n",
       "    </tr>\n",
       "    <tr>\n",
       "      <th>4</th>\n",
       "      <td>0.818182</td>\n",
       "      <td>55</td>\n",
       "      <td>0.854545</td>\n",
       "      <td>55</td>\n",
       "    </tr>\n",
       "    <tr>\n",
       "      <th>5</th>\n",
       "      <td>0.181818</td>\n",
       "      <td>22</td>\n",
       "      <td>0.818182</td>\n",
       "      <td>22</td>\n",
       "    </tr>\n",
       "    <tr>\n",
       "      <th>6</th>\n",
       "      <td>0.704918</td>\n",
       "      <td>427</td>\n",
       "      <td>0.714286</td>\n",
       "      <td>427</td>\n",
       "    </tr>\n",
       "    <tr>\n",
       "      <th>7</th>\n",
       "      <td>0.534884</td>\n",
       "      <td>86</td>\n",
       "      <td>0.744186</td>\n",
       "      <td>86</td>\n",
       "    </tr>\n",
       "    <tr>\n",
       "      <th>8</th>\n",
       "      <td>0.340206</td>\n",
       "      <td>97</td>\n",
       "      <td>0.752577</td>\n",
       "      <td>97</td>\n",
       "    </tr>\n",
       "    <tr>\n",
       "      <th>9</th>\n",
       "      <td>0.358974</td>\n",
       "      <td>78</td>\n",
       "      <td>0.641026</td>\n",
       "      <td>78</td>\n",
       "    </tr>\n",
       "  </tbody>\n",
       "</table>\n",
       "</div>"
      ],
      "text/plain": [
       "         employed        correct     \n",
       "             mean size      mean size\n",
       "cluster                              \n",
       "0        0.871486  249  0.871486  249\n",
       "1        0.261261  111  0.810811  111\n",
       "2        0.600000   65  0.646154   65\n",
       "3        0.735099  151  0.754967  151\n",
       "4        0.818182   55  0.854545   55\n",
       "5        0.181818   22  0.818182   22\n",
       "6        0.704918  427  0.714286  427\n",
       "7        0.534884   86  0.744186   86\n",
       "8        0.340206   97  0.752577   97\n",
       "9        0.358974   78  0.641026   78"
      ]
     },
     "execution_count": 185,
     "metadata": {},
     "output_type": "execute_result"
    }
   ],
   "source": [
    "fc_df.groupby('cluster')['employed','correct'].agg([np.mean,np.size])"
   ]
  },
  {
   "cell_type": "code",
   "execution_count": 189,
   "metadata": {
    "collapsed": false
   },
   "outputs": [
    {
     "data": {
      "text/html": [
       "<div>\n",
       "<table border=\"1\" class=\"dataframe\">\n",
       "  <thead>\n",
       "    <tr>\n",
       "      <th></th>\n",
       "      <th>coninc</th>\n",
       "      <th>age</th>\n",
       "      <th>educom</th>\n",
       "      <th>degree</th>\n",
       "      <th>sphrs1</th>\n",
       "      <th>partyid</th>\n",
       "      <th>agekdbrn</th>\n",
       "      <th>class_</th>\n",
       "      <th>dwelling</th>\n",
       "      <th>polviews</th>\n",
       "      <th>...</th>\n",
       "      <th>natroad</th>\n",
       "      <th>fechld</th>\n",
       "      <th>helpoth</th>\n",
       "      <th>parsol</th>\n",
       "      <th>chldidel</th>\n",
       "      <th>workhard</th>\n",
       "      <th>mawrkgrw</th>\n",
       "      <th>meovrwrk</th>\n",
       "      <th>employed</th>\n",
       "      <th>correct</th>\n",
       "    </tr>\n",
       "    <tr>\n",
       "      <th></th>\n",
       "      <th>mean</th>\n",
       "      <th>mean</th>\n",
       "      <th>mean</th>\n",
       "      <th>mean</th>\n",
       "      <th>mean</th>\n",
       "      <th>mean</th>\n",
       "      <th>mean</th>\n",
       "      <th>mean</th>\n",
       "      <th>mean</th>\n",
       "      <th>mean</th>\n",
       "      <th>...</th>\n",
       "      <th>mean</th>\n",
       "      <th>mean</th>\n",
       "      <th>mean</th>\n",
       "      <th>mean</th>\n",
       "      <th>mean</th>\n",
       "      <th>mean</th>\n",
       "      <th>mean</th>\n",
       "      <th>mean</th>\n",
       "      <th>mean</th>\n",
       "      <th>mean</th>\n",
       "    </tr>\n",
       "    <tr>\n",
       "      <th>cluster</th>\n",
       "      <th></th>\n",
       "      <th></th>\n",
       "      <th></th>\n",
       "      <th></th>\n",
       "      <th></th>\n",
       "      <th></th>\n",
       "      <th></th>\n",
       "      <th></th>\n",
       "      <th></th>\n",
       "      <th></th>\n",
       "      <th></th>\n",
       "      <th></th>\n",
       "      <th></th>\n",
       "      <th></th>\n",
       "      <th></th>\n",
       "      <th></th>\n",
       "      <th></th>\n",
       "      <th></th>\n",
       "      <th></th>\n",
       "      <th></th>\n",
       "      <th></th>\n",
       "    </tr>\n",
       "  </thead>\n",
       "  <tbody>\n",
       "    <tr>\n",
       "      <th>0</th>\n",
       "      <td>0.044538</td>\n",
       "      <td>0.007846</td>\n",
       "      <td>0.006088</td>\n",
       "      <td>0.020328</td>\n",
       "      <td>0.017734</td>\n",
       "      <td>0.001732</td>\n",
       "      <td>0.003689</td>\n",
       "      <td>0.012218</td>\n",
       "      <td>0.001116</td>\n",
       "      <td>0.004272</td>\n",
       "      <td>...</td>\n",
       "      <td>0.001375</td>\n",
       "      <td>0.003063</td>\n",
       "      <td>0.001445</td>\n",
       "      <td>0.001670</td>\n",
       "      <td>0.001821</td>\n",
       "      <td>0.001663</td>\n",
       "      <td>0.000829</td>\n",
       "      <td>0.001026</td>\n",
       "      <td>0.871486</td>\n",
       "      <td>0.871486</td>\n",
       "    </tr>\n",
       "    <tr>\n",
       "      <th>1</th>\n",
       "      <td>-0.002975</td>\n",
       "      <td>-0.024710</td>\n",
       "      <td>-0.024161</td>\n",
       "      <td>0.011758</td>\n",
       "      <td>-0.044599</td>\n",
       "      <td>-0.010992</td>\n",
       "      <td>-0.008518</td>\n",
       "      <td>-0.006966</td>\n",
       "      <td>-0.007301</td>\n",
       "      <td>-0.010033</td>\n",
       "      <td>...</td>\n",
       "      <td>-0.006271</td>\n",
       "      <td>-0.008856</td>\n",
       "      <td>-0.004340</td>\n",
       "      <td>-0.005865</td>\n",
       "      <td>-0.005949</td>\n",
       "      <td>-0.003856</td>\n",
       "      <td>-0.005878</td>\n",
       "      <td>-0.005498</td>\n",
       "      <td>0.261261</td>\n",
       "      <td>0.810811</td>\n",
       "    </tr>\n",
       "    <tr>\n",
       "      <th>2</th>\n",
       "      <td>0.047625</td>\n",
       "      <td>0.003165</td>\n",
       "      <td>-0.002390</td>\n",
       "      <td>-0.117518</td>\n",
       "      <td>0.003392</td>\n",
       "      <td>0.001299</td>\n",
       "      <td>-0.005781</td>\n",
       "      <td>-0.004645</td>\n",
       "      <td>0.004059</td>\n",
       "      <td>-0.000498</td>\n",
       "      <td>...</td>\n",
       "      <td>0.000539</td>\n",
       "      <td>-0.000242</td>\n",
       "      <td>0.001983</td>\n",
       "      <td>0.002498</td>\n",
       "      <td>-0.002689</td>\n",
       "      <td>-0.000228</td>\n",
       "      <td>-0.000684</td>\n",
       "      <td>0.000853</td>\n",
       "      <td>0.600000</td>\n",
       "      <td>0.646154</td>\n",
       "    </tr>\n",
       "    <tr>\n",
       "      <th>3</th>\n",
       "      <td>-0.043331</td>\n",
       "      <td>0.001126</td>\n",
       "      <td>0.003951</td>\n",
       "      <td>0.026251</td>\n",
       "      <td>0.006255</td>\n",
       "      <td>0.003418</td>\n",
       "      <td>0.002001</td>\n",
       "      <td>0.018991</td>\n",
       "      <td>0.002855</td>\n",
       "      <td>0.001482</td>\n",
       "      <td>...</td>\n",
       "      <td>0.001147</td>\n",
       "      <td>0.003813</td>\n",
       "      <td>0.000913</td>\n",
       "      <td>0.001368</td>\n",
       "      <td>0.002348</td>\n",
       "      <td>0.001282</td>\n",
       "      <td>0.000038</td>\n",
       "      <td>0.000561</td>\n",
       "      <td>0.735099</td>\n",
       "      <td>0.754967</td>\n",
       "    </tr>\n",
       "    <tr>\n",
       "      <th>4</th>\n",
       "      <td>0.046685</td>\n",
       "      <td>0.004159</td>\n",
       "      <td>0.001208</td>\n",
       "      <td>0.021664</td>\n",
       "      <td>0.012205</td>\n",
       "      <td>-0.002540</td>\n",
       "      <td>-0.003899</td>\n",
       "      <td>-0.064452</td>\n",
       "      <td>-0.002820</td>\n",
       "      <td>0.004251</td>\n",
       "      <td>...</td>\n",
       "      <td>-0.000127</td>\n",
       "      <td>-0.000036</td>\n",
       "      <td>-0.000608</td>\n",
       "      <td>0.000713</td>\n",
       "      <td>0.000658</td>\n",
       "      <td>0.001044</td>\n",
       "      <td>-0.003424</td>\n",
       "      <td>-0.000519</td>\n",
       "      <td>0.818182</td>\n",
       "      <td>0.854545</td>\n",
       "    </tr>\n",
       "    <tr>\n",
       "      <th>5</th>\n",
       "      <td>-0.071624</td>\n",
       "      <td>-0.002385</td>\n",
       "      <td>-0.008138</td>\n",
       "      <td>-0.106335</td>\n",
       "      <td>-0.000748</td>\n",
       "      <td>-0.005279</td>\n",
       "      <td>-0.012832</td>\n",
       "      <td>-0.084109</td>\n",
       "      <td>-0.003161</td>\n",
       "      <td>-0.007878</td>\n",
       "      <td>...</td>\n",
       "      <td>-0.004069</td>\n",
       "      <td>0.000856</td>\n",
       "      <td>-0.001546</td>\n",
       "      <td>-0.005323</td>\n",
       "      <td>-0.002996</td>\n",
       "      <td>-0.006091</td>\n",
       "      <td>-0.002166</td>\n",
       "      <td>-0.000940</td>\n",
       "      <td>0.181818</td>\n",
       "      <td>0.818182</td>\n",
       "    </tr>\n",
       "    <tr>\n",
       "      <th>6</th>\n",
       "      <td>0.030061</td>\n",
       "      <td>0.003783</td>\n",
       "      <td>-0.001435</td>\n",
       "      <td>0.016236</td>\n",
       "      <td>-0.008468</td>\n",
       "      <td>0.001539</td>\n",
       "      <td>0.002260</td>\n",
       "      <td>0.007125</td>\n",
       "      <td>-0.000200</td>\n",
       "      <td>0.002393</td>\n",
       "      <td>...</td>\n",
       "      <td>0.000698</td>\n",
       "      <td>0.002618</td>\n",
       "      <td>0.000737</td>\n",
       "      <td>0.000746</td>\n",
       "      <td>0.001167</td>\n",
       "      <td>0.000589</td>\n",
       "      <td>0.001084</td>\n",
       "      <td>-0.000431</td>\n",
       "      <td>0.704918</td>\n",
       "      <td>0.714286</td>\n",
       "    </tr>\n",
       "    <tr>\n",
       "      <th>7</th>\n",
       "      <td>-0.096938</td>\n",
       "      <td>-0.011172</td>\n",
       "      <td>-0.000813</td>\n",
       "      <td>0.027381</td>\n",
       "      <td>0.003058</td>\n",
       "      <td>-0.001701</td>\n",
       "      <td>-0.005469</td>\n",
       "      <td>0.016767</td>\n",
       "      <td>-0.004319</td>\n",
       "      <td>-0.005329</td>\n",
       "      <td>...</td>\n",
       "      <td>-0.003876</td>\n",
       "      <td>-0.006361</td>\n",
       "      <td>-0.002977</td>\n",
       "      <td>-0.005831</td>\n",
       "      <td>-0.002882</td>\n",
       "      <td>-0.001770</td>\n",
       "      <td>-0.003534</td>\n",
       "      <td>-0.002655</td>\n",
       "      <td>0.534884</td>\n",
       "      <td>0.744186</td>\n",
       "    </tr>\n",
       "    <tr>\n",
       "      <th>8</th>\n",
       "      <td>-0.068234</td>\n",
       "      <td>-0.004192</td>\n",
       "      <td>-0.005234</td>\n",
       "      <td>-0.128507</td>\n",
       "      <td>0.001716</td>\n",
       "      <td>-0.000650</td>\n",
       "      <td>-0.006765</td>\n",
       "      <td>0.014405</td>\n",
       "      <td>-0.002781</td>\n",
       "      <td>-0.001351</td>\n",
       "      <td>...</td>\n",
       "      <td>-0.001901</td>\n",
       "      <td>-0.000736</td>\n",
       "      <td>0.000842</td>\n",
       "      <td>-0.001853</td>\n",
       "      <td>-0.003138</td>\n",
       "      <td>0.000468</td>\n",
       "      <td>-0.000796</td>\n",
       "      <td>-0.000947</td>\n",
       "      <td>0.340206</td>\n",
       "      <td>0.752577</td>\n",
       "    </tr>\n",
       "    <tr>\n",
       "      <th>9</th>\n",
       "      <td>-0.082611</td>\n",
       "      <td>-0.007386</td>\n",
       "      <td>-0.002124</td>\n",
       "      <td>0.028921</td>\n",
       "      <td>0.002034</td>\n",
       "      <td>0.000113</td>\n",
       "      <td>-0.003685</td>\n",
       "      <td>-0.092489</td>\n",
       "      <td>-0.000835</td>\n",
       "      <td>-0.005081</td>\n",
       "      <td>...</td>\n",
       "      <td>-0.003575</td>\n",
       "      <td>-0.001544</td>\n",
       "      <td>-0.000646</td>\n",
       "      <td>-0.002150</td>\n",
       "      <td>-0.001272</td>\n",
       "      <td>-0.000757</td>\n",
       "      <td>-0.002412</td>\n",
       "      <td>-0.001923</td>\n",
       "      <td>0.358974</td>\n",
       "      <td>0.641026</td>\n",
       "    </tr>\n",
       "  </tbody>\n",
       "</table>\n",
       "<p>10 rows × 32 columns</p>\n",
       "</div>"
      ],
      "text/plain": [
       "           coninc       age    educom    degree    sphrs1   partyid  agekdbrn  \\\n",
       "             mean      mean      mean      mean      mean      mean      mean   \n",
       "cluster                                                                         \n",
       "0        0.044538  0.007846  0.006088  0.020328  0.017734  0.001732  0.003689   \n",
       "1       -0.002975 -0.024710 -0.024161  0.011758 -0.044599 -0.010992 -0.008518   \n",
       "2        0.047625  0.003165 -0.002390 -0.117518  0.003392  0.001299 -0.005781   \n",
       "3       -0.043331  0.001126  0.003951  0.026251  0.006255  0.003418  0.002001   \n",
       "4        0.046685  0.004159  0.001208  0.021664  0.012205 -0.002540 -0.003899   \n",
       "5       -0.071624 -0.002385 -0.008138 -0.106335 -0.000748 -0.005279 -0.012832   \n",
       "6        0.030061  0.003783 -0.001435  0.016236 -0.008468  0.001539  0.002260   \n",
       "7       -0.096938 -0.011172 -0.000813  0.027381  0.003058 -0.001701 -0.005469   \n",
       "8       -0.068234 -0.004192 -0.005234 -0.128507  0.001716 -0.000650 -0.006765   \n",
       "9       -0.082611 -0.007386 -0.002124  0.028921  0.002034  0.000113 -0.003685   \n",
       "\n",
       "           class_  dwelling  polviews    ...      natroad    fechld   helpoth  \\\n",
       "             mean      mean      mean    ...         mean      mean      mean   \n",
       "cluster                                  ...                                    \n",
       "0        0.012218  0.001116  0.004272    ...     0.001375  0.003063  0.001445   \n",
       "1       -0.006966 -0.007301 -0.010033    ...    -0.006271 -0.008856 -0.004340   \n",
       "2       -0.004645  0.004059 -0.000498    ...     0.000539 -0.000242  0.001983   \n",
       "3        0.018991  0.002855  0.001482    ...     0.001147  0.003813  0.000913   \n",
       "4       -0.064452 -0.002820  0.004251    ...    -0.000127 -0.000036 -0.000608   \n",
       "5       -0.084109 -0.003161 -0.007878    ...    -0.004069  0.000856 -0.001546   \n",
       "6        0.007125 -0.000200  0.002393    ...     0.000698  0.002618  0.000737   \n",
       "7        0.016767 -0.004319 -0.005329    ...    -0.003876 -0.006361 -0.002977   \n",
       "8        0.014405 -0.002781 -0.001351    ...    -0.001901 -0.000736  0.000842   \n",
       "9       -0.092489 -0.000835 -0.005081    ...    -0.003575 -0.001544 -0.000646   \n",
       "\n",
       "           parsol  chldidel  workhard  mawrkgrw  meovrwrk  employed   correct  \n",
       "             mean      mean      mean      mean      mean      mean      mean  \n",
       "cluster                                                                        \n",
       "0        0.001670  0.001821  0.001663  0.000829  0.001026  0.871486  0.871486  \n",
       "1       -0.005865 -0.005949 -0.003856 -0.005878 -0.005498  0.261261  0.810811  \n",
       "2        0.002498 -0.002689 -0.000228 -0.000684  0.000853  0.600000  0.646154  \n",
       "3        0.001368  0.002348  0.001282  0.000038  0.000561  0.735099  0.754967  \n",
       "4        0.000713  0.000658  0.001044 -0.003424 -0.000519  0.818182  0.854545  \n",
       "5       -0.005323 -0.002996 -0.006091 -0.002166 -0.000940  0.181818  0.818182  \n",
       "6        0.000746  0.001167  0.000589  0.001084 -0.000431  0.704918  0.714286  \n",
       "7       -0.005831 -0.002882 -0.001770 -0.003534 -0.002655  0.534884  0.744186  \n",
       "8       -0.001853 -0.003138  0.000468 -0.000796 -0.000947  0.340206  0.752577  \n",
       "9       -0.002150 -0.001272 -0.000757 -0.002412 -0.001923  0.358974  0.641026  \n",
       "\n",
       "[10 rows x 32 columns]"
      ]
     },
     "execution_count": 189,
     "metadata": {},
     "output_type": "execute_result"
    }
   ],
   "source": [
    "fc_df.groupby('cluster').agg([np.mean])"
   ]
  }
 ],
 "metadata": {
  "kernelspec": {
   "display_name": "Python 2",
   "language": "python",
   "name": "python2"
  },
  "language_info": {
   "codemirror_mode": {
    "name": "ipython",
    "version": 2
   },
   "file_extension": ".py",
   "mimetype": "text/x-python",
   "name": "python",
   "nbconvert_exporter": "python",
   "pygments_lexer": "ipython2",
   "version": "2.7.10"
  }
 },
 "nbformat": 4,
 "nbformat_minor": 0
}
