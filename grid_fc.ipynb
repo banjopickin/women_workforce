{
 "cells": [
  {
   "cell_type": "markdown",
   "metadata": {},
   "source": [
    "# Grid and Feature Contribution\n",
    "\n",
    "This document shows the procedure of grid search and feature contribution investigation. "
   ]
  },
  {
   "cell_type": "code",
   "execution_count": 252,
   "metadata": {
    "collapsed": false
   },
   "outputs": [
    {
     "name": "stdout",
     "output_type": "stream",
     "text": [
      "The autoreload extension is already loaded. To reload it, use:\n",
      "  %reload_ext autoreload\n"
     ]
    }
   ],
   "source": [
    "from __future__ import division\n",
    "import pandas as pd\n",
    "import numpy as np \n",
    "import matplotlib.pylab as plt\n",
    "from code.organize import *\n",
    "from code.roughEDA import *\n",
    "from code.survey_processor_full import *\n",
    "from code.model_vis import *\n",
    "\n",
    "from sklearn.cross_validation import train_test_split\n",
    "from sklearn.ensemble import RandomForestClassifier, GradientBoostingClassifier\n",
    "from sklearn.metrics import roc_auc_score, confusion_matrix,roc_curve\n",
    "from sklearn.grid_search import GridSearchCV\n",
    "from sklearn.cross_validation import cross_val_score\n",
    "from sklearn.metrics import silhouette_samples, silhouette_score\n",
    "from sklearn.decomposition import PCA\n",
    "\n",
    "from treeinterpreter import treeinterpreter as ti\n",
    "import matplotlib.cm as cm\n",
    "%matplotlib inline\n",
    "%load_ext autoreload\n",
    "%autoreload 2"
   ]
  },
  {
   "cell_type": "code",
   "execution_count": 2,
   "metadata": {
    "collapsed": true
   },
   "outputs": [],
   "source": [
    "sv = survey('data/survey2/')"
   ]
  },
  {
   "cell_type": "code",
   "execution_count": 3,
   "metadata": {
    "collapsed": true
   },
   "outputs": [],
   "source": [
    "sv.num_processor()"
   ]
  },
  {
   "cell_type": "code",
   "execution_count": 4,
   "metadata": {
    "collapsed": true
   },
   "outputs": [],
   "source": [
    "df = sv.fin_data"
   ]
  },
  {
   "cell_type": "code",
   "execution_count": 6,
   "metadata": {
    "collapsed": true
   },
   "outputs": [],
   "source": [
    "dfc = df.copy()\n",
    "dfc['educom'] = (dfc.paeduc+dfc.maeduc+dfc.speduc)/3        \n",
    "dfc.drop(['paeduc','maeduc','speduc'], axis =1, inplace=True)\n",
    "y = dfc.pop('employed').values\n",
    "X = dfc.values\n",
    "X_train, X_test, y_train, y_test = train_test_split(X, y, test_size=0.3, random_state=90)"
   ]
  },
  {
   "cell_type": "markdown",
   "metadata": {},
   "source": [
    "### 1. Fit random forest model"
   ]
  },
  {
   "cell_type": "code",
   "execution_count": 8,
   "metadata": {
    "collapsed": false
   },
   "outputs": [
    {
     "data": {
      "text/plain": [
       "RandomForestClassifier(bootstrap=True, class_weight=None, criterion='gini',\n",
       "            max_depth=None, max_features='auto', max_leaf_nodes=None,\n",
       "            min_samples_leaf=1, min_samples_split=2,\n",
       "            min_weight_fraction_leaf=0.0, n_estimators=10, n_jobs=-1,\n",
       "            oob_score=False, random_state=0, verbose=0, warm_start=False)"
      ]
     },
     "execution_count": 8,
     "metadata": {},
     "output_type": "execute_result"
    }
   ],
   "source": [
    "rf = RandomForestClassifier(n_jobs=-1,random_state=0)\n",
    "rf.fit(X_train,y_train)"
   ]
  },
  {
   "cell_type": "markdown",
   "metadata": {},
   "source": [
    "#### Take first 30 important features to model"
   ]
  },
  {
   "cell_type": "code",
   "execution_count": 9,
   "metadata": {
    "collapsed": true
   },
   "outputs": [],
   "source": [
    "f30 = rf.feature_importances_.argsort()[::-1][:30]\n",
    "rf_redu = RandomForestClassifier(n_jobs=-1,random_state=0)\n",
    "slct=dfc.columns[f30]   #selected features\n",
    "X = dfc[slct].values\n",
    "X_train, X_test, y_train, y_test = train_test_split(X, y, test_size=0.3, random_state=90)"
   ]
  },
  {
   "cell_type": "code",
   "execution_count": 11,
   "metadata": {
    "collapsed": false
   },
   "outputs": [
    {
     "data": {
      "text/plain": [
       "RandomForestClassifier(bootstrap=True, class_weight=None, criterion='gini',\n",
       "            max_depth=None, max_features='auto', max_leaf_nodes=None,\n",
       "            min_samples_leaf=1, min_samples_split=2,\n",
       "            min_weight_fraction_leaf=0.0, n_estimators=10, n_jobs=-1,\n",
       "            oob_score=False, random_state=0, verbose=0, warm_start=False)"
      ]
     },
     "execution_count": 11,
     "metadata": {},
     "output_type": "execute_result"
    }
   ],
   "source": [
    "rf_redu.fit(X_train,y_train)"
   ]
  },
  {
   "cell_type": "markdown",
   "metadata": {},
   "source": [
    "## 2. Grid search"
   ]
  },
  {
   "cell_type": "code",
   "execution_count": 44,
   "metadata": {
    "collapsed": false
   },
   "outputs": [],
   "source": [
    "#1st round\n",
    "# rf_grid = {'max_depth': [3, None], \n",
    "#                       'max_features': ['sqrt', 'log2', None],\n",
    "#                       'min_samples_split': [1, 2, 4],\n",
    "#                       'min_samples_leaf': [1, 2, 4],\n",
    "#                       'bootstrap': [True, False],\n",
    "#                       'n_estimators': [10, 20, 40],\n",
    "#                       'random_state': [1]}\n",
    "\n",
    "#2nd\n",
    "rf_grid = {'max_depth': [None], \n",
    "           'criterion':['gini','entropy'],\n",
    "                      'max_features': ['log2', None],\n",
    "                      'min_samples_split': [1],\n",
    "                      'min_samples_leaf': [2],\n",
    "                      'bootstrap': [True, False],\n",
    "                      'n_estimators': [30, 40,80],\n",
    "                      'random_state': [1]}\n",
    "\n",
    "#3rd \n",
    "rf_grid = {'max_depth': [None], \n",
    "           'criterion':['gini'],\n",
    "                      'max_features': ['log2',None],\n",
    "                      'min_samples_split': [1],\n",
    "                      'min_samples_leaf': [2],\n",
    "                      'bootstrap': [False],\n",
    "                      'n_estimators': [60,80,100],\n",
    "                      'random_state': [1]}\n",
    "#last round\n",
    "rf_grid = {'max_depth': [None], \n",
    "           'criterion':['gini'],\n",
    "                      'max_features': ['log2',None],\n",
    "                      'min_samples_split': [1],\n",
    "                      'min_samples_leaf': [2],\n",
    "                      'bootstrap': [False],\n",
    "                      'n_estimators': [230,250,300],\n",
    "                      'random_state': [1]}"
   ]
  },
  {
   "cell_type": "code",
   "execution_count": 45,
   "metadata": {
    "collapsed": false
   },
   "outputs": [],
   "source": [
    "rf_gridsearch = GridSearchCV(RandomForestClassifier(),\n",
    "                             rf_grid,\n",
    "                             n_jobs=-1,\n",
    "                             verbose=True,\n",
    "                             scoring='roc_auc')"
   ]
  },
  {
   "cell_type": "code",
   "execution_count": 46,
   "metadata": {
    "collapsed": false
   },
   "outputs": [
    {
     "name": "stdout",
     "output_type": "stream",
     "text": [
      "Fitting 3 folds for each of 6 candidates, totalling 18 fits\n"
     ]
    },
    {
     "name": "stderr",
     "output_type": "stream",
     "text": [
      "[Parallel(n_jobs=-1)]: Done  18 out of  18 | elapsed:   29.9s finished\n"
     ]
    },
    {
     "data": {
      "text/plain": [
       "GridSearchCV(cv=None, error_score='raise',\n",
       "       estimator=RandomForestClassifier(bootstrap=True, class_weight=None, criterion='gini',\n",
       "            max_depth=None, max_features='auto', max_leaf_nodes=None,\n",
       "            min_samples_leaf=1, min_samples_split=2,\n",
       "            min_weight_fraction_leaf=0.0, n_estimators=10, n_jobs=1,\n",
       "            oob_score=False, random_state=None, verbose=0,\n",
       "            warm_start=False),\n",
       "       fit_params={}, iid=True, n_jobs=-1,\n",
       "       param_grid={'n_estimators': [230, 250, 300], 'min_samples_split': [1], 'random_state': [1], 'criterion': ['gini'], 'max_features': ['log2', None], 'bootstrap': [False], 'max_depth': [None], 'min_samples_leaf': [2]},\n",
       "       pre_dispatch='2*n_jobs', refit=True, scoring='roc_auc',\n",
       "       verbose=True)"
      ]
     },
     "execution_count": 46,
     "metadata": {},
     "output_type": "execute_result"
    }
   ],
   "source": [
    "rf_gridsearch.fit(X_train,y_train)"
   ]
  },
  {
   "cell_type": "code",
   "execution_count": 47,
   "metadata": {
    "collapsed": false
   },
   "outputs": [
    {
     "data": {
      "text/plain": [
       "{'bootstrap': False,\n",
       " 'criterion': 'gini',\n",
       " 'max_depth': None,\n",
       " 'max_features': 'log2',\n",
       " 'min_samples_leaf': 2,\n",
       " 'min_samples_split': 1,\n",
       " 'n_estimators': 300,\n",
       " 'random_state': 1}"
      ]
     },
     "execution_count": 47,
     "metadata": {},
     "output_type": "execute_result"
    }
   ],
   "source": [
    "rf_gridsearch.best_params_"
   ]
  },
  {
   "cell_type": "code",
   "execution_count": 49,
   "metadata": {
    "collapsed": false
   },
   "outputs": [],
   "source": [
    "best_rf = rf_gridsearch.best_estimator_"
   ]
  },
  {
   "cell_type": "code",
   "execution_count": 51,
   "metadata": {
    "collapsed": false
   },
   "outputs": [
    {
     "name": "stdout",
     "output_type": "stream",
     "text": [
      "roc_auc_score : 0.818305210155\n"
     ]
    },
    {
     "data": {
      "image/png": "[encoded data removed]",
      "text/plain": [
       "<matplotlib.figure.Figure at 0x7f0085cdf650>"
      ]
     },
     "metadata": {},
     "output_type": "display_data"
    }
   ],
   "source": [
    "plot_roc(best_rf,X_test,y_test)"
   ]
  },
  {
   "cell_type": "markdown",
   "metadata": {},
   "source": [
    "### 3.  Tree Interpreter and Feature Contribution"
   ]
  },
  {
   "cell_type": "code",
   "execution_count": null,
   "metadata": {
    "collapsed": true
   },
   "outputs": [],
   "source": [
    "prediction, bias, contributions = ti.predict(best_rf, X_test)"
   ]
  },
  {
   "cell_type": "markdown",
   "metadata": {},
   "source": [
    "#### make feature contribution data frame"
   ]
  },
  {
   "cell_type": "code",
   "execution_count": 283,
   "metadata": {
    "collapsed": false
   },
   "outputs": [],
   "source": [
    "fc_df = pd.DataFrame(contributions[:,:,1], columns=slct)"
   ]
  },
  {
   "cell_type": "code",
   "execution_count": 284,
   "metadata": {
    "collapsed": false
   },
   "outputs": [],
   "source": [
    "fc_df['predict'] = best_rf.predict(X_test)    # predicted result"
   ]
  },
  {
   "cell_type": "code",
   "execution_count": 285,
   "metadata": {
    "collapsed": true
   },
   "outputs": [],
   "source": [
    "fc_df['employed'] = y_test                   # true result"
   ]
  },
  {
   "cell_type": "code",
   "execution_count": 286,
   "metadata": {
    "collapsed": false
   },
   "outputs": [],
   "source": [
    "fc_df['correct'] = fc_df.predict == fc_df.employed      # check if the prediction is correct"
   ]
  },
  {
   "cell_type": "code",
   "execution_count": 287,
   "metadata": {
    "collapsed": false
   },
   "outputs": [],
   "source": [
    "fc_df.drop('predict',axis =1, inplace=True)               #subset correct instances"
   ]
  },
  {
   "cell_type": "markdown",
   "metadata": {},
   "source": [
    "## Clustering Feature Contribution Matrix\n",
    "\n",
    "* pca\n",
    "* kmeans on principle components"
   ]
  },
  {
   "cell_type": "markdown",
   "metadata": {},
   "source": [
    "### PCA"
   ]
  },
  {
   "cell_type": "code",
   "execution_count": 323,
   "metadata": {
    "collapsed": false
   },
   "outputs": [],
   "source": [
    "fc_pca = fc_df.drop(['employed','correct'],axis =1)       #only pass feature columns to pca"
   ]
  },
  {
   "cell_type": "code",
   "execution_count": 289,
   "metadata": {
    "collapsed": false
   },
   "outputs": [
    {
     "data": {
      "text/plain": [
       "PCA(copy=True, n_components=10, whiten=False)"
      ]
     },
     "execution_count": 289,
     "metadata": {},
     "output_type": "execute_result"
    }
   ],
   "source": [
    "pca = PCA(n_components= 10)\n",
    "pca.fit(fc_pca.values)"
   ]
  },
  {
   "cell_type": "code",
   "execution_count": 290,
   "metadata": {
    "collapsed": false
   },
   "outputs": [
    {
     "data": {
      "text/plain": [
       "[<matplotlib.lines.Line2D at 0x7f0060abb110>]"
      ]
     },
     "execution_count": 290,
     "metadata": {},
     "output_type": "execute_result"
    },
    {
     "data": {
      "image/png": "[encoded data removed]",
      "text/plain": [
       "<matplotlib.figure.Figure at 0x7f0060e529d0>"
      ]
     },
     "metadata": {},
     "output_type": "display_data"
    }
   ],
   "source": [
    "plt.plot(range(1,11),pca.explained_variance_ratio_)"
   ]
  },
  {
   "cell_type": "markdown",
   "metadata": {},
   "source": [
    "** Three principle components will be fine **"
   ]
  },
  {
   "cell_type": "code",
   "execution_count": 325,
   "metadata": {
    "collapsed": true
   },
   "outputs": [],
   "source": [
    "pca = PCA(n_components=3)\n",
    "fc_pca = pca.fit_transform(fc_pca.values)"
   ]
  },
  {
   "cell_type": "markdown",
   "metadata": {},
   "source": [
    "### Kmeans"
   ]
  },
  {
   "cell_type": "code",
   "execution_count": 326,
   "metadata": {
    "collapsed": false
   },
   "outputs": [
    {
     "data": {
      "image/png": "[encoded data removed]",
      "text/plain": [
       "<matplotlib.figure.Figure at 0x7f0060c84750>"
      ]
     },
     "metadata": {},
     "output_type": "display_data"
    }
   ],
   "source": [
    "plot_kmean(fc_pca,10)"
   ]
  },
  {
   "cell_type": "code",
   "execution_count": 327,
   "metadata": {
    "collapsed": false
   },
   "outputs": [
    {
     "data": {
      "image/png": "[encoded data removed]",
      "text/plain": [
       "<matplotlib.figure.Figure at 0x7f0060d75e10>"
      ]
     },
     "metadata": {},
     "output_type": "display_data"
    }
   ],
   "source": [
    "plot_silhouette(fc_pca, 10)"
   ]
  },
  {
   "cell_type": "code",
   "execution_count": 328,
   "metadata": {
    "collapsed": false
   },
   "outputs": [
    {
     "name": "stdout",
     "output_type": "stream",
     "text": [
      "('For n_clusters =', 3, 'The average silhouette_score is :', 0.46521484253716905)\n"
     ]
    },
    {
     "data": {
      "image/png": "[encoded data removed]",
      "text/plain": [
       "<matplotlib.figure.Figure at 0x7f0060d2a150>"
      ]
     },
     "metadata": {},
     "output_type": "display_data"
    }
   ],
   "source": [
    "cluster_plot(fc_pca,3)"
   ]
  },
  {
   "cell_type": "markdown",
   "metadata": {},
   "source": [
    "** Three clusters will be fine**"
   ]
  },
  {
   "cell_type": "code",
   "execution_count": 386,
   "metadata": {
    "collapsed": false
   },
   "outputs": [
    {
     "data": {
      "text/plain": [
       "KMeans(copy_x=True, init='k-means++', max_iter=300, n_clusters=3, n_init=10,\n",
       "    n_jobs=1, precompute_distances='auto', random_state=None, tol=0.0001,\n",
       "    verbose=0)"
      ]
     },
     "execution_count": 386,
     "metadata": {},
     "output_type": "execute_result"
    }
   ],
   "source": [
    "km = KMeans(n_clusters= 3)\n",
    "km.fit(fc_pca)"
   ]
  },
  {
   "cell_type": "code",
   "execution_count": 387,
   "metadata": {
    "collapsed": false
   },
   "outputs": [
    {
     "data": {
      "text/plain": [
       "array([1, 1, 2, ..., 1, 0, 2], dtype=int32)"
      ]
     },
     "execution_count": 387,
     "metadata": {},
     "output_type": "execute_result"
    }
   ],
   "source": [
    "km.labels_"
   ]
  },
  {
   "cell_type": "code",
   "execution_count": 388,
   "metadata": {
    "collapsed": false
   },
   "outputs": [],
   "source": [
    "fc_df['cluster'] = km.labels_"
   ]
  },
  {
   "cell_type": "markdown",
   "metadata": {},
   "source": [
    "## Group feature contribution matrix by cluster id"
   ]
  },
  {
   "cell_type": "code",
   "execution_count": 389,
   "metadata": {
    "collapsed": false
   },
   "outputs": [
    {
     "data": {
      "text/html": [
       "<div>\n",
       "<table border=\"1\" class=\"dataframe\">\n",
       "  <thead>\n",
       "    <tr style=\"text-align: right;\">\n",
       "      <th></th>\n",
       "      <th>cluster</th>\n",
       "      <th>0</th>\n",
       "      <th>1</th>\n",
       "      <th>2</th>\n",
       "    </tr>\n",
       "  </thead>\n",
       "  <tbody>\n",
       "    <tr>\n",
       "      <th rowspan=\"3\" valign=\"top\">coninc</th>\n",
       "      <th>mean</th>\n",
       "      <td>-0.0678244</td>\n",
       "      <td>0.032144</td>\n",
       "      <td>-0.0292512</td>\n",
       "    </tr>\n",
       "    <tr>\n",
       "      <th>max_abs</th>\n",
       "      <td>0.175683</td>\n",
       "      <td>0.119609</td>\n",
       "      <td>0.161206</td>\n",
       "    </tr>\n",
       "    <tr>\n",
       "      <th>std</th>\n",
       "      <td>0.0342012</td>\n",
       "      <td>0.0228691</td>\n",
       "      <td>0.0609985</td>\n",
       "    </tr>\n",
       "    <tr>\n",
       "      <th rowspan=\"3\" valign=\"top\">age</th>\n",
       "      <th>mean</th>\n",
       "      <td>-0.00791387</td>\n",
       "      <td>0.00274242</td>\n",
       "      <td>-0.00171767</td>\n",
       "    </tr>\n",
       "    <tr>\n",
       "      <th>max_abs</th>\n",
       "      <td>0.151892</td>\n",
       "      <td>0.186369</td>\n",
       "      <td>0.0760458</td>\n",
       "    </tr>\n",
       "    <tr>\n",
       "      <th>std</th>\n",
       "      <td>0.0313777</td>\n",
       "      <td>0.0264785</td>\n",
       "      <td>0.028573</td>\n",
       "    </tr>\n",
       "    <tr>\n",
       "      <th rowspan=\"3\" valign=\"top\">educom</th>\n",
       "      <th>mean</th>\n",
       "      <td>-0.00367282</td>\n",
       "      <td>-0.000187733</td>\n",
       "      <td>-0.00469164</td>\n",
       "    </tr>\n",
       "    <tr>\n",
       "      <th>max_abs</th>\n",
       "      <td>0.157037</td>\n",
       "      <td>0.168044</td>\n",
       "      <td>0.0520578</td>\n",
       "    </tr>\n",
       "    <tr>\n",
       "      <th>std</th>\n",
       "      <td>0.0281173</td>\n",
       "      <td>0.0270807</td>\n",
       "      <td>0.0152616</td>\n",
       "    </tr>\n",
       "    <tr>\n",
       "      <th rowspan=\"3\" valign=\"top\">degree</th>\n",
       "      <th>mean</th>\n",
       "      <td>0.025556</td>\n",
       "      <td>0.0175088</td>\n",
       "      <td>-0.122316</td>\n",
       "    </tr>\n",
       "    <tr>\n",
       "      <th>max_abs</th>\n",
       "      <td>0.110804</td>\n",
       "      <td>0.0910336</td>\n",
       "      <td>0.176064</td>\n",
       "    </tr>\n",
       "    <tr>\n",
       "      <th>std</th>\n",
       "      <td>0.0175884</td>\n",
       "      <td>0.0143265</td>\n",
       "      <td>0.0195184</td>\n",
       "    </tr>\n",
       "    <tr>\n",
       "      <th rowspan=\"3\" valign=\"top\">sphrs1</th>\n",
       "      <th>mean</th>\n",
       "      <td>0.000336066</td>\n",
       "      <td>-0.00263207</td>\n",
       "      <td>0.00193583</td>\n",
       "    </tr>\n",
       "    <tr>\n",
       "      <th>max_abs</th>\n",
       "      <td>0.113086</td>\n",
       "      <td>0.179839</td>\n",
       "      <td>0.0492054</td>\n",
       "    </tr>\n",
       "    <tr>\n",
       "      <th>std</th>\n",
       "      <td>0.0172102</td>\n",
       "      <td>0.0310552</td>\n",
       "      <td>0.0117554</td>\n",
       "    </tr>\n",
       "    <tr>\n",
       "      <th rowspan=\"3\" valign=\"top\">partyid</th>\n",
       "      <th>mean</th>\n",
       "      <td>-0.000806001</td>\n",
       "      <td>0.000447565</td>\n",
       "      <td>-0.000563196</td>\n",
       "    </tr>\n",
       "    <tr>\n",
       "      <th>max_abs</th>\n",
       "      <td>0.111773</td>\n",
       "      <td>0.0932283</td>\n",
       "      <td>0.0463949</td>\n",
       "    </tr>\n",
       "    <tr>\n",
       "      <th>std</th>\n",
       "      <td>0.0155948</td>\n",
       "      <td>0.0140957</td>\n",
       "      <td>0.0102503</td>\n",
       "    </tr>\n",
       "    <tr>\n",
       "      <th rowspan=\"3\" valign=\"top\">agekdbrn</th>\n",
       "      <th>mean</th>\n",
       "      <td>-0.00316526</td>\n",
       "      <td>0.00150882</td>\n",
       "      <td>-0.00708701</td>\n",
       "    </tr>\n",
       "    <tr>\n",
       "      <th>max_abs</th>\n",
       "      <td>0.0639196</td>\n",
       "      <td>0.0605912</td>\n",
       "      <td>0.0702904</td>\n",
       "    </tr>\n",
       "    <tr>\n",
       "      <th>std</th>\n",
       "      <td>0.020562</td>\n",
       "      <td>0.0148418</td>\n",
       "      <td>0.0156605</td>\n",
       "    </tr>\n",
       "    <tr>\n",
       "      <th rowspan=\"3\" valign=\"top\">class_</th>\n",
       "      <th>mean</th>\n",
       "      <td>-0.0126399</td>\n",
       "      <td>0.00331849</td>\n",
       "      <td>-0.00329847</td>\n",
       "    </tr>\n",
       "    <tr>\n",
       "      <th>max_abs</th>\n",
       "      <td>0.14648</td>\n",
       "      <td>0.123616</td>\n",
       "      <td>0.100077</td>\n",
       "    </tr>\n",
       "    <tr>\n",
       "      <th>std</th>\n",
       "      <td>0.050896</td>\n",
       "      <td>0.0246601</td>\n",
       "      <td>0.0385891</td>\n",
       "    </tr>\n",
       "    <tr>\n",
       "      <th rowspan=\"3\" valign=\"top\">dwelling</th>\n",
       "      <th>mean</th>\n",
       "      <td>-0.00145018</td>\n",
       "      <td>-0.000347825</td>\n",
       "      <td>-0.000526779</td>\n",
       "    </tr>\n",
       "    <tr>\n",
       "      <th>max_abs</th>\n",
       "      <td>0.0593772</td>\n",
       "      <td>0.121962</td>\n",
       "      <td>0.0632611</td>\n",
       "    </tr>\n",
       "    <tr>\n",
       "      <th>std</th>\n",
       "      <td>0.0138436</td>\n",
       "      <td>0.0125141</td>\n",
       "      <td>0.0135401</td>\n",
       "    </tr>\n",
       "    <tr>\n",
       "      <th rowspan=\"3\" valign=\"top\">polviews</th>\n",
       "      <th>mean</th>\n",
       "      <td>-0.00354245</td>\n",
       "      <td>0.00205056</td>\n",
       "      <td>-0.00185383</td>\n",
       "    </tr>\n",
       "    <tr>\n",
       "      <th>max_abs</th>\n",
       "      <td>0.0787063</td>\n",
       "      <td>0.101109</td>\n",
       "      <td>0.042202</td>\n",
       "    </tr>\n",
       "    <tr>\n",
       "      <th>std</th>\n",
       "      <td>0.0180568</td>\n",
       "      <td>0.0131027</td>\n",
       "      <td>0.0143291</td>\n",
       "    </tr>\n",
       "    <tr>\n",
       "      <th>...</th>\n",
       "      <th>...</th>\n",
       "      <td>...</td>\n",
       "      <td>...</td>\n",
       "      <td>...</td>\n",
       "    </tr>\n",
       "    <tr>\n",
       "      <th rowspan=\"3\" valign=\"top\">natroad</th>\n",
       "      <th>mean</th>\n",
       "      <td>-0.00279954</td>\n",
       "      <td>0.000477758</td>\n",
       "      <td>-0.00131353</td>\n",
       "    </tr>\n",
       "    <tr>\n",
       "      <th>max_abs</th>\n",
       "      <td>0.0886006</td>\n",
       "      <td>0.032921</td>\n",
       "      <td>0.0645758</td>\n",
       "    </tr>\n",
       "    <tr>\n",
       "      <th>std</th>\n",
       "      <td>0.0120836</td>\n",
       "      <td>0.00722224</td>\n",
       "      <td>0.0102251</td>\n",
       "    </tr>\n",
       "    <tr>\n",
       "      <th rowspan=\"3\" valign=\"top\">fechld</th>\n",
       "      <th>mean</th>\n",
       "      <td>-0.00209006</td>\n",
       "      <td>0.0017948</td>\n",
       "      <td>-0.00051546</td>\n",
       "    </tr>\n",
       "    <tr>\n",
       "      <th>max_abs</th>\n",
       "      <td>0.0789947</td>\n",
       "      <td>0.110124</td>\n",
       "      <td>0.0597555</td>\n",
       "    </tr>\n",
       "    <tr>\n",
       "      <th>std</th>\n",
       "      <td>0.0208179</td>\n",
       "      <td>0.0224656</td>\n",
       "      <td>0.0141526</td>\n",
       "    </tr>\n",
       "    <tr>\n",
       "      <th rowspan=\"3\" valign=\"top\">helpoth</th>\n",
       "      <th>mean</th>\n",
       "      <td>-0.00150512</td>\n",
       "      <td>0.000562746</td>\n",
       "      <td>0.000994</td>\n",
       "    </tr>\n",
       "    <tr>\n",
       "      <th>max_abs</th>\n",
       "      <td>0.0707782</td>\n",
       "      <td>0.0709016</td>\n",
       "      <td>0.0538471</td>\n",
       "    </tr>\n",
       "    <tr>\n",
       "      <th>std</th>\n",
       "      <td>0.00907535</td>\n",
       "      <td>0.00843138</td>\n",
       "      <td>0.0104328</td>\n",
       "    </tr>\n",
       "    <tr>\n",
       "      <th rowspan=\"3\" valign=\"top\">parsol</th>\n",
       "      <th>mean</th>\n",
       "      <td>-0.00252975</td>\n",
       "      <td>0.000575583</td>\n",
       "      <td>-0.000779246</td>\n",
       "    </tr>\n",
       "    <tr>\n",
       "      <th>max_abs</th>\n",
       "      <td>0.0546431</td>\n",
       "      <td>0.0623145</td>\n",
       "      <td>0.0352899</td>\n",
       "    </tr>\n",
       "    <tr>\n",
       "      <th>std</th>\n",
       "      <td>0.0116114</td>\n",
       "      <td>0.00946843</td>\n",
       "      <td>0.0107236</td>\n",
       "    </tr>\n",
       "    <tr>\n",
       "      <th rowspan=\"3\" valign=\"top\">chldidel</th>\n",
       "      <th>mean</th>\n",
       "      <td>-0.0014928</td>\n",
       "      <td>0.00099291</td>\n",
       "      <td>-0.00307842</td>\n",
       "    </tr>\n",
       "    <tr>\n",
       "      <th>max_abs</th>\n",
       "      <td>0.0648203</td>\n",
       "      <td>0.0609397</td>\n",
       "      <td>0.0587859</td>\n",
       "    </tr>\n",
       "    <tr>\n",
       "      <th>std</th>\n",
       "      <td>0.0130283</td>\n",
       "      <td>0.0135615</td>\n",
       "      <td>0.0106522</td>\n",
       "    </tr>\n",
       "    <tr>\n",
       "      <th rowspan=\"3\" valign=\"top\">workhard</th>\n",
       "      <th>mean</th>\n",
       "      <td>-0.000856762</td>\n",
       "      <td>0.000654263</td>\n",
       "      <td>-0.00053763</td>\n",
       "    </tr>\n",
       "    <tr>\n",
       "      <th>max_abs</th>\n",
       "      <td>0.07284</td>\n",
       "      <td>0.0490836</td>\n",
       "      <td>0.0459969</td>\n",
       "    </tr>\n",
       "    <tr>\n",
       "      <th>std</th>\n",
       "      <td>0.0117517</td>\n",
       "      <td>0.008147</td>\n",
       "      <td>0.00939058</td>\n",
       "    </tr>\n",
       "    <tr>\n",
       "      <th rowspan=\"3\" valign=\"top\">mawrkgrw</th>\n",
       "      <th>mean</th>\n",
       "      <td>-0.00227269</td>\n",
       "      <td>0.000109342</td>\n",
       "      <td>-0.00102558</td>\n",
       "    </tr>\n",
       "    <tr>\n",
       "      <th>max_abs</th>\n",
       "      <td>0.0650753</td>\n",
       "      <td>0.05481</td>\n",
       "      <td>0.0340096</td>\n",
       "    </tr>\n",
       "    <tr>\n",
       "      <th>std</th>\n",
       "      <td>0.0130874</td>\n",
       "      <td>0.0118969</td>\n",
       "      <td>0.00808428</td>\n",
       "    </tr>\n",
       "    <tr>\n",
       "      <th rowspan=\"3\" valign=\"top\">meovrwrk</th>\n",
       "      <th>mean</th>\n",
       "      <td>-0.00185824</td>\n",
       "      <td>-0.000268989</td>\n",
       "      <td>-0.000519502</td>\n",
       "    </tr>\n",
       "    <tr>\n",
       "      <th>max_abs</th>\n",
       "      <td>0.0499894</td>\n",
       "      <td>0.0559554</td>\n",
       "      <td>0.0317791</td>\n",
       "    </tr>\n",
       "    <tr>\n",
       "      <th>std</th>\n",
       "      <td>0.00884867</td>\n",
       "      <td>0.00830982</td>\n",
       "      <td>0.00864207</td>\n",
       "    </tr>\n",
       "    <tr>\n",
       "      <th rowspan=\"3\" valign=\"top\">employed</th>\n",
       "      <th>mean</th>\n",
       "      <td>0.518634</td>\n",
       "      <td>0.729988</td>\n",
       "      <td>0.412088</td>\n",
       "    </tr>\n",
       "    <tr>\n",
       "      <th>max_abs</th>\n",
       "      <td>True</td>\n",
       "      <td>True</td>\n",
       "      <td>True</td>\n",
       "    </tr>\n",
       "    <tr>\n",
       "      <th>std</th>\n",
       "      <td>0.50043</td>\n",
       "      <td>0.444231</td>\n",
       "      <td>0.493569</td>\n",
       "    </tr>\n",
       "    <tr>\n",
       "      <th rowspan=\"3\" valign=\"top\">correct</th>\n",
       "      <th>mean</th>\n",
       "      <td>0.723602</td>\n",
       "      <td>0.782557</td>\n",
       "      <td>0.725275</td>\n",
       "    </tr>\n",
       "    <tr>\n",
       "      <th>max_abs</th>\n",
       "      <td>True</td>\n",
       "      <td>True</td>\n",
       "      <td>True</td>\n",
       "    </tr>\n",
       "    <tr>\n",
       "      <th>std</th>\n",
       "      <td>0.447912</td>\n",
       "      <td>0.412753</td>\n",
       "      <td>0.447607</td>\n",
       "    </tr>\n",
       "  </tbody>\n",
       "</table>\n",
       "<p>96 rows × 3 columns</p>\n",
       "</div>"
      ],
      "text/plain": [
       "cluster                     0            1            2\n",
       "coninc   mean      -0.0678244     0.032144   -0.0292512\n",
       "         max_abs     0.175683     0.119609     0.161206\n",
       "         std        0.0342012    0.0228691    0.0609985\n",
       "age      mean     -0.00791387   0.00274242  -0.00171767\n",
       "         max_abs     0.151892     0.186369    0.0760458\n",
       "         std        0.0313777    0.0264785     0.028573\n",
       "educom   mean     -0.00367282 -0.000187733  -0.00469164\n",
       "         max_abs     0.157037     0.168044    0.0520578\n",
       "         std        0.0281173    0.0270807    0.0152616\n",
       "degree   mean        0.025556    0.0175088    -0.122316\n",
       "         max_abs     0.110804    0.0910336     0.176064\n",
       "         std        0.0175884    0.0143265    0.0195184\n",
       "sphrs1   mean     0.000336066  -0.00263207   0.00193583\n",
       "         max_abs     0.113086     0.179839    0.0492054\n",
       "         std        0.0172102    0.0310552    0.0117554\n",
       "partyid  mean    -0.000806001  0.000447565 -0.000563196\n",
       "         max_abs     0.111773    0.0932283    0.0463949\n",
       "         std        0.0155948    0.0140957    0.0102503\n",
       "agekdbrn mean     -0.00316526   0.00150882  -0.00708701\n",
       "         max_abs    0.0639196    0.0605912    0.0702904\n",
       "         std         0.020562    0.0148418    0.0156605\n",
       "class_   mean      -0.0126399   0.00331849  -0.00329847\n",
       "         max_abs      0.14648     0.123616     0.100077\n",
       "         std         0.050896    0.0246601    0.0385891\n",
       "dwelling mean     -0.00145018 -0.000347825 -0.000526779\n",
       "         max_abs    0.0593772     0.121962    0.0632611\n",
       "         std        0.0138436    0.0125141    0.0135401\n",
       "polviews mean     -0.00354245   0.00205056  -0.00185383\n",
       "         max_abs    0.0787063     0.101109     0.042202\n",
       "         std        0.0180568    0.0131027    0.0143291\n",
       "...                       ...          ...          ...\n",
       "natroad  mean     -0.00279954  0.000477758  -0.00131353\n",
       "         max_abs    0.0886006     0.032921    0.0645758\n",
       "         std        0.0120836   0.00722224    0.0102251\n",
       "fechld   mean     -0.00209006    0.0017948  -0.00051546\n",
       "         max_abs    0.0789947     0.110124    0.0597555\n",
       "         std        0.0208179    0.0224656    0.0141526\n",
       "helpoth  mean     -0.00150512  0.000562746     0.000994\n",
       "         max_abs    0.0707782    0.0709016    0.0538471\n",
       "         std       0.00907535   0.00843138    0.0104328\n",
       "parsol   mean     -0.00252975  0.000575583 -0.000779246\n",
       "         max_abs    0.0546431    0.0623145    0.0352899\n",
       "         std        0.0116114   0.00946843    0.0107236\n",
       "chldidel mean      -0.0014928   0.00099291  -0.00307842\n",
       "         max_abs    0.0648203    0.0609397    0.0587859\n",
       "         std        0.0130283    0.0135615    0.0106522\n",
       "workhard mean    -0.000856762  0.000654263  -0.00053763\n",
       "         max_abs      0.07284    0.0490836    0.0459969\n",
       "         std        0.0117517     0.008147   0.00939058\n",
       "mawrkgrw mean     -0.00227269  0.000109342  -0.00102558\n",
       "         max_abs    0.0650753      0.05481    0.0340096\n",
       "         std        0.0130874    0.0118969   0.00808428\n",
       "meovrwrk mean     -0.00185824 -0.000268989 -0.000519502\n",
       "         max_abs    0.0499894    0.0559554    0.0317791\n",
       "         std       0.00884867   0.00830982   0.00864207\n",
       "employed mean        0.518634     0.729988     0.412088\n",
       "         max_abs         True         True         True\n",
       "         std          0.50043     0.444231     0.493569\n",
       "correct  mean        0.723602     0.782557     0.725275\n",
       "         max_abs         True         True         True\n",
       "         std         0.447912     0.412753     0.447607\n",
       "\n",
       "[96 rows x 3 columns]"
      ]
     },
     "execution_count": 389,
     "metadata": {},
     "output_type": "execute_result"
    }
   ],
   "source": [
    "def max_abs(v):\n",
    "    return max(abs(v))\n",
    "\n",
    "fc_df.groupby('cluster').agg([np.mean, max_abs, np.std]).T"
   ]
  },
  {
   "cell_type": "code",
   "execution_count": 345,
   "metadata": {
    "collapsed": false
   },
   "outputs": [
    {
     "data": {
      "text/plain": [
       "116"
      ]
     },
     "execution_count": 345,
     "metadata": {},
     "output_type": "execute_result"
    }
   ],
   "source": [
    "(fc_df.cluster == 5).sum()"
   ]
  },
  {
   "cell_type": "code",
   "execution_count": 370,
   "metadata": {
    "collapsed": false
   },
   "outputs": [
    {
     "data": {
      "text/plain": [
       "array([[-0.06012309,  0.00086694,  0.04642241],\n",
       "       [ 0.00436181, -0.01727396, -0.04863599],\n",
       "       [ 0.13105441,  0.09862601,  0.01602734],\n",
       "       ..., \n",
       "       [-0.03183517, -0.0116922 ,  0.00670359],\n",
       "       [ 0.01833089, -0.0727856 , -0.00126729],\n",
       "       [ 0.13974817,  0.06555088,  0.00876117]])"
      ]
     },
     "execution_count": 370,
     "metadata": {},
     "output_type": "execute_result"
    }
   ],
   "source": [
    "fc_pca"
   ]
  },
  {
   "cell_type": "code",
   "execution_count": 390,
   "metadata": {
    "collapsed": false
   },
   "outputs": [
    {
     "data": {
      "text/plain": [
       "<matplotlib.collections.PathCollection at 0x7f0084557850>"
      ]
     },
     "execution_count": 390,
     "metadata": {},
     "output_type": "execute_result"
    },
    {
     "data": {
      "image/png": "[encoded data removed]",
      "text/plain": [
       "<matplotlib.figure.Figure at 0x7f0080abddd0>"
      ]
     },
     "metadata": {},
     "output_type": "display_data"
    }
   ],
   "source": [
    "plt.scatter(km.labels_, fc_pca[:, 0])"
   ]
  },
  {
   "cell_type": "code",
   "execution_count": 381,
   "metadata": {
    "collapsed": false
   },
   "outputs": [
    {
     "data": {
      "text/plain": [
       "array([[-0.06012309,  0.00086694,  0.04642241],\n",
       "       [ 0.00436181, -0.01727396, -0.04863599],\n",
       "       [ 0.13105441,  0.09862601,  0.01602734],\n",
       "       ..., \n",
       "       [-0.03183517, -0.0116922 ,  0.00670359],\n",
       "       [ 0.01833089, -0.0727856 , -0.00126729],\n",
       "       [ 0.13974817,  0.06555088,  0.00876117]])"
      ]
     },
     "execution_count": 381,
     "metadata": {},
     "output_type": "execute_result"
    }
   ],
   "source": [
    "fc_pca"
   ]
  },
  {
   "cell_type": "code",
   "execution_count": null,
   "metadata": {
    "collapsed": true
   },
   "outputs": [],
   "source": []
  }
 ],
 "metadata": {
  "kernelspec": {
   "display_name": "Python 2",
   "language": "python",
   "name": "python2"
  },
  "language_info": {
   "codemirror_mode": {
    "name": "ipython",
    "version": 2
   },
   "file_extension": ".py",
   "mimetype": "text/x-python",
   "name": "python",
   "nbconvert_exporter": "python",
   "pygments_lexer": "ipython2",
   "version": "2.7.10"
  }
 },
 "nbformat": 4,
 "nbformat_minor": 0
}
