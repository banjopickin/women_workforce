{
 "cells": [
  {
   "cell_type": "code",
   "execution_count": 62,
   "metadata": {
    "collapsed": false
   },
   "outputs": [
    {
     "name": "stdout",
     "output_type": "stream",
     "text": [
      "The autoreload extension is already loaded. To reload it, use:\n",
      "  %reload_ext autoreload\n"
     ]
    }
   ],
   "source": [
    "from __future__ import division\n",
    "import pandas as pd\n",
    "import numpy as np \n",
    "import matplotlib.pylab as plt\n",
    "from code.organize import *\n",
    "from code.roughEDA import *\n",
    "from code.survey_processor_full import *\n",
    "from code.model_vis import *\n",
    "from code.fc import *\n",
    "from collections import Counter,defaultdict,OrderedDict\n",
    "\n",
    "from sklearn.cross_validation import train_test_split\n",
    "from sklearn.ensemble import RandomForestClassifier, GradientBoostingClassifier\n",
    "from sklearn.metrics import roc_auc_score, confusion_matrix,roc_curve\n",
    "from sklearn.grid_search import GridSearchCV\n",
    "from sklearn.cross_validation import cross_val_score\n",
    "from sklearn.metrics import silhouette_samples, silhouette_score\n",
    "from sklearn.decomposition import PCA\n",
    "\n",
    "from treeinterpreter import treeinterpreter as ti\n",
    "import matplotlib.cm as cm\n",
    "import cPickle as pickle\n",
    "%matplotlib inline\n",
    "%load_ext autoreload\n",
    "%autoreload 2"
   ]
  },
  {
   "cell_type": "markdown",
   "metadata": {},
   "source": [
    "# Feature Contribution Analysis\n",
    "\n",
    "In this session, how does each feature contribute to random forest decision making will be analysed. \n",
    "## 1. Load feature contribution matrix and group by cluster id"
   ]
  },
  {
   "cell_type": "code",
   "execution_count": 2,
   "metadata": {
    "collapsed": false
   },
   "outputs": [],
   "source": [
    "fc_df = pd.read_pickle('data/fc_df.pkl')"
   ]
  },
  {
   "cell_type": "code",
   "execution_count": 3,
   "metadata": {
    "collapsed": false
   },
   "outputs": [
    {
     "data": {
      "text/html": [
       "<div>\n",
       "<table border=\"1\" class=\"dataframe\">\n",
       "  <thead>\n",
       "    <tr style=\"text-align: right;\">\n",
       "      <th></th>\n",
       "      <th>employment_rate</th>\n",
       "      <th>sample_size</th>\n",
       "    </tr>\n",
       "    <tr>\n",
       "      <th>cluster</th>\n",
       "      <th></th>\n",
       "      <th></th>\n",
       "    </tr>\n",
       "  </thead>\n",
       "  <tbody>\n",
       "    <tr>\n",
       "      <th>0</th>\n",
       "      <td>0.067839</td>\n",
       "      <td>398</td>\n",
       "    </tr>\n",
       "    <tr>\n",
       "      <th>1</th>\n",
       "      <td>0.058480</td>\n",
       "      <td>684</td>\n",
       "    </tr>\n",
       "    <tr>\n",
       "      <th>2</th>\n",
       "      <td>0.927992</td>\n",
       "      <td>2097</td>\n",
       "    </tr>\n",
       "    <tr>\n",
       "      <th>3</th>\n",
       "      <td>0.077778</td>\n",
       "      <td>360</td>\n",
       "    </tr>\n",
       "    <tr>\n",
       "      <th>4</th>\n",
       "      <td>0.895210</td>\n",
       "      <td>668</td>\n",
       "    </tr>\n",
       "    <tr>\n",
       "      <th>5</th>\n",
       "      <td>0.889313</td>\n",
       "      <td>262</td>\n",
       "    </tr>\n",
       "  </tbody>\n",
       "</table>\n",
       "</div>"
      ],
      "text/plain": [
       "         employment_rate  sample_size\n",
       "cluster                              \n",
       "0               0.067839          398\n",
       "1               0.058480          684\n",
       "2               0.927992         2097\n",
       "3               0.077778          360\n",
       "4               0.895210          668\n",
       "5               0.889313          262"
      ]
     },
     "execution_count": 3,
     "metadata": {},
     "output_type": "execute_result"
    }
   ],
   "source": [
    "summary = fc_df.groupby('cluster')['employed'].agg([np.mean,np.size])\n",
    "summary.columns = ['employment_rate','sample_size']\n",
    "summary"
   ]
  },
  {
   "cell_type": "markdown",
   "metadata": {},
   "source": [
    "**Cluster 0,1,3** are unemployed groups. **Cluster 2,4,5** are employed groups. \n"
   ]
  },
  {
   "cell_type": "markdown",
   "metadata": {},
   "source": [
    "## 2.  Load original survey data"
   ]
  },
  {
   "cell_type": "code",
   "execution_count": 4,
   "metadata": {
    "collapsed": true
   },
   "outputs": [],
   "source": [
    "sv = survey('data/survey2')\n",
    "sv.num_processor()"
   ]
  },
  {
   "cell_type": "code",
   "execution_count": 56,
   "metadata": {
    "collapsed": false
   },
   "outputs": [],
   "source": [
    "df = pd.concat([sv.fin_data[sv.num_cols],sv.data[sv.sv_cols],sv.fin_data.employed],axis =1)\n",
    "\n",
    "f31 = fc_df.columns[:31]\n",
    "df31= df[f31]\n",
    "l = list(df31.columns)\n",
    "l.append('cluster')\n",
    "\n",
    "new = np.column_stack((df31.values,fc_df.cluster))\n",
    "df = pd.DataFrame(new,columns=l)"
   ]
  },
  {
   "cell_type": "markdown",
   "metadata": {},
   "source": [
    "### Group by cluster. Take medians for numeric variables. Take mode for categorical variables."
   ]
  },
  {
   "cell_type": "code",
   "execution_count": 6,
   "metadata": {
    "collapsed": false
   },
   "outputs": [],
   "source": [
    "df[sv.num_cols] = df[sv.num_cols].astype('float')"
   ]
  },
  {
   "cell_type": "code",
   "execution_count": 7,
   "metadata": {
    "collapsed": false
   },
   "outputs": [],
   "source": [
    "df_num = df.groupby('cluster')[sv.num_cols].agg([np.median])"
   ]
  },
  {
   "cell_type": "code",
   "execution_count": 8,
   "metadata": {
    "collapsed": false
   },
   "outputs": [],
   "source": [
    "bs_dict = {k:v for (k,v) in zip(sv.bs_flag,sv.bs)}"
   ]
  },
  {
   "cell_type": "code",
   "execution_count": 9,
   "metadata": {
    "collapsed": false
   },
   "outputs": [],
   "source": [
    "df_num.iloc[0,0] = bs_dict[98]\n",
    "df_num.iloc[3:,0] = bs_dict[98]\n",
    "df_num.iloc[1,3] = bs_dict[8]"
   ]
  },
  {
   "cell_type": "code",
   "execution_count": 10,
   "metadata": {
    "collapsed": false
   },
   "outputs": [
    {
     "data": {
      "text/html": [
       "<div>\n",
       "<table border=\"1\" class=\"dataframe\">\n",
       "  <thead>\n",
       "    <tr>\n",
       "      <th></th>\n",
       "      <th>sphrs1</th>\n",
       "      <th>age</th>\n",
       "      <th>agekdbrn</th>\n",
       "      <th>chldidel</th>\n",
       "      <th>coninc</th>\n",
       "      <th>educom</th>\n",
       "    </tr>\n",
       "    <tr>\n",
       "      <th></th>\n",
       "      <th>median</th>\n",
       "      <th>median</th>\n",
       "      <th>median</th>\n",
       "      <th>median</th>\n",
       "      <th>median</th>\n",
       "      <th>median</th>\n",
       "    </tr>\n",
       "    <tr>\n",
       "      <th>cluster</th>\n",
       "      <th></th>\n",
       "      <th></th>\n",
       "      <th></th>\n",
       "      <th></th>\n",
       "      <th></th>\n",
       "      <th></th>\n",
       "    </tr>\n",
       "  </thead>\n",
       "  <tbody>\n",
       "    <tr>\n",
       "      <th>0</th>\n",
       "      <td>Not applicable</td>\n",
       "      <td>34</td>\n",
       "      <td>22</td>\n",
       "      <td>4.5</td>\n",
       "      <td>6633.5000</td>\n",
       "      <td>12.333333</td>\n",
       "    </tr>\n",
       "    <tr>\n",
       "      <th>1</th>\n",
       "      <td>51</td>\n",
       "      <td>35</td>\n",
       "      <td>25</td>\n",
       "      <td>As many as want</td>\n",
       "      <td>51705.0000</td>\n",
       "      <td>12.666667</td>\n",
       "    </tr>\n",
       "    <tr>\n",
       "      <th>2</th>\n",
       "      <td>60</td>\n",
       "      <td>36</td>\n",
       "      <td>25</td>\n",
       "      <td>4</td>\n",
       "      <td>49882.5000</td>\n",
       "      <td>12.333333</td>\n",
       "    </tr>\n",
       "    <tr>\n",
       "      <th>3</th>\n",
       "      <td>Not applicable</td>\n",
       "      <td>31</td>\n",
       "      <td>19</td>\n",
       "      <td>5</td>\n",
       "      <td>8313.7500</td>\n",
       "      <td>12.000000</td>\n",
       "    </tr>\n",
       "    <tr>\n",
       "      <th>4</th>\n",
       "      <td>Not applicable</td>\n",
       "      <td>33</td>\n",
       "      <td>22</td>\n",
       "      <td>4</td>\n",
       "      <td>9486.5625</td>\n",
       "      <td>12.333333</td>\n",
       "    </tr>\n",
       "    <tr>\n",
       "      <th>5</th>\n",
       "      <td>Not applicable</td>\n",
       "      <td>34</td>\n",
       "      <td>19</td>\n",
       "      <td>4</td>\n",
       "      <td>18745.0000</td>\n",
       "      <td>11.666667</td>\n",
       "    </tr>\n",
       "  </tbody>\n",
       "</table>\n",
       "</div>"
      ],
      "text/plain": [
       "                 sphrs1    age agekdbrn         chldidel      coninc  \\\n",
       "                 median median   median           median      median   \n",
       "cluster                                                                \n",
       "0        Not applicable     34       22              4.5   6633.5000   \n",
       "1                    51     35       25  As many as want  51705.0000   \n",
       "2                    60     36       25                4  49882.5000   \n",
       "3        Not applicable     31       19                5   8313.7500   \n",
       "4        Not applicable     33       22                4   9486.5625   \n",
       "5        Not applicable     34       19                4  18745.0000   \n",
       "\n",
       "            educom  \n",
       "            median  \n",
       "cluster             \n",
       "0        12.333333  \n",
       "1        12.666667  \n",
       "2        12.333333  \n",
       "3        12.000000  \n",
       "4        12.333333  \n",
       "5        11.666667  "
      ]
     },
     "execution_count": 10,
     "metadata": {},
     "output_type": "execute_result"
    }
   ],
   "source": [
    "df_num"
   ]
  },
  {
   "cell_type": "code",
   "execution_count": 11,
   "metadata": {
    "collapsed": false
   },
   "outputs": [],
   "source": [
    "cat_cols = list(set(df.columns) - set(sv.num_cols) - set(['cluster']))"
   ]
  },
  {
   "cell_type": "code",
   "execution_count": 29,
   "metadata": {
    "collapsed": false
   },
   "outputs": [],
   "source": [
    "df_cat = df.groupby('cluster')[cat_cols].agg([mode_answer,percent])"
   ]
  },
  {
   "cell_type": "code",
   "execution_count": 31,
   "metadata": {
    "collapsed": false
   },
   "outputs": [],
   "source": [
    "df_summary = pd.concat([df_num,df_cat],axis =1)"
   ]
  },
  {
   "cell_type": "markdown",
   "metadata": {},
   "source": [
    "## 3. Unemployed Clusters\n",
    "\n",
    "### Cluster 0"
   ]
  },
  {
   "cell_type": "code",
   "execution_count": 12,
   "metadata": {
    "collapsed": false
   },
   "outputs": [],
   "source": [
    "c0 = fc_df[fc_df.cluster == 0]"
   ]
  },
  {
   "cell_type": "markdown",
   "metadata": {},
   "source": [
    "These features are the top 10 features driving the decision."
   ]
  },
  {
   "cell_type": "code",
   "execution_count": 94,
   "metadata": {
    "collapsed": false
   },
   "outputs": [
    {
     "data": {
      "text/plain": [
       "[(-0.10317363862869754, 'coninc'),\n",
       " (-0.03392890421279629, 'age'),\n",
       " (-0.027697984375685748, 'class_'),\n",
       " (-0.023296867668049392, 'agekdbrn'),\n",
       " (-0.019737805836251204, 'polviews'),\n",
       " (-0.019515172650691602, 'educom'),\n",
       " (0.018331218255143, 'degree'),\n",
       " (-0.01765954711605959, 'finrela'),\n",
       " (-0.016752126734590513, 'partyid'),\n",
       " (-0.014696917162165184, 'dwelling')]"
      ]
     },
     "execution_count": 94,
     "metadata": {},
     "output_type": "execute_result"
    }
   ],
   "source": [
    "sort_feature_means(c0,10)"
   ]
  },
  {
   "cell_type": "markdown",
   "metadata": {},
   "source": [
    "#### Details in their answers"
   ]
  },
  {
   "cell_type": "code",
   "execution_count": 14,
   "metadata": {
    "collapsed": false,
    "scrolled": true
   },
   "outputs": [],
   "source": [
    "df_c0 = df[df.cluster ==0]"
   ]
  },
  {
   "cell_type": "code",
   "execution_count": 97,
   "metadata": {
    "collapsed": false
   },
   "outputs": [
    {
     "data": {
      "text/plain": [
       "sphrs1    median    Not applicable\n",
       "age       median                34\n",
       "agekdbrn  median                22\n",
       "chldidel  median               4.5\n",
       "coninc    median            6633.5\n",
       "educom    median           12.3333\n",
       "Name: 0, dtype: object"
      ]
     },
     "execution_count": 97,
     "metadata": {},
     "output_type": "execute_result"
    }
   ],
   "source": [
    "df_summary.ix[0][:6]"
   ]
  },
  {
   "cell_type": "code",
   "execution_count": 90,
   "metadata": {
    "collapsed": false
   },
   "outputs": [
    {
     "data": {
      "text/html": [
       "<div>\n",
       "<table border=\"1\" class=\"dataframe\">\n",
       "  <thead>\n",
       "    <tr style=\"text-align: right;\">\n",
       "      <th></th>\n",
       "      <th>first</th>\n",
       "      <th>second</th>\n",
       "    </tr>\n",
       "  </thead>\n",
       "  <tbody>\n",
       "    <tr>\n",
       "      <th>fechld</th>\n",
       "      <td>(Not applicable, 0.37)</td>\n",
       "      <td>(Agree, 0.3)</td>\n",
       "    </tr>\n",
       "    <tr>\n",
       "      <th>natrace</th>\n",
       "      <td>(Not applicable, 0.54)</td>\n",
       "      <td>(Too little, 0.19)</td>\n",
       "    </tr>\n",
       "    <tr>\n",
       "      <th>socfrend</th>\n",
       "      <td>(Not applicable, 0.39)</td>\n",
       "      <td>(Sev times a week, 0.14)</td>\n",
       "    </tr>\n",
       "    <tr>\n",
       "      <th>reliten</th>\n",
       "      <td>(Not very strong, 0.41)</td>\n",
       "      <td>(Strong, 0.32)</td>\n",
       "    </tr>\n",
       "    <tr>\n",
       "      <th>res16</th>\n",
       "      <td>(Town lt 50000, 0.32)</td>\n",
       "      <td>(50000 to 250000, 0.18)</td>\n",
       "    </tr>\n",
       "    <tr>\n",
       "      <th>divorce</th>\n",
       "      <td>(Not applicable, 0.62)</td>\n",
       "      <td>(No, 0.31)</td>\n",
       "    </tr>\n",
       "    <tr>\n",
       "      <th>polviews</th>\n",
       "      <td>(Moderate, 0.36)</td>\n",
       "      <td>(Slghtly conservative, 0.12)</td>\n",
       "    </tr>\n",
       "    <tr>\n",
       "      <th>fefam</th>\n",
       "      <td>(Not applicable, 0.37)</td>\n",
       "      <td>(Disagree, 0.29)</td>\n",
       "    </tr>\n",
       "    <tr>\n",
       "      <th>socbar</th>\n",
       "      <td>(Not applicable, 0.39)</td>\n",
       "      <td>(Never, 0.33)</td>\n",
       "    </tr>\n",
       "    <tr>\n",
       "      <th>partyid</th>\n",
       "      <td>(Independent, 0.29)</td>\n",
       "      <td>(Not str democrat, 0.21)</td>\n",
       "    </tr>\n",
       "    <tr>\n",
       "      <th>employed</th>\n",
       "      <td>(False, 0.93)</td>\n",
       "      <td>(True, 0.07)</td>\n",
       "    </tr>\n",
       "    <tr>\n",
       "      <th>finrela</th>\n",
       "      <td>(Below average, 0.33)</td>\n",
       "      <td>(Average, 0.24)</td>\n",
       "    </tr>\n",
       "    <tr>\n",
       "      <th>meovrwrk</th>\n",
       "      <td>(Not applicable, 0.5)</td>\n",
       "      <td>(Agree, 0.18)</td>\n",
       "    </tr>\n",
       "    <tr>\n",
       "      <th>helpoth</th>\n",
       "      <td>(Not applicable, 0.47)</td>\n",
       "      <td>(3rd important, 0.18)</td>\n",
       "    </tr>\n",
       "    <tr>\n",
       "      <th>degree</th>\n",
       "      <td>(High school, 0.82)</td>\n",
       "      <td>(Junior college, 0.09)</td>\n",
       "    </tr>\n",
       "    <tr>\n",
       "      <th>class_</th>\n",
       "      <td>(Working class, 0.4)</td>\n",
       "      <td>(Lower class, 0.26)</td>\n",
       "    </tr>\n",
       "    <tr>\n",
       "      <th>courts</th>\n",
       "      <td>(Not harsh enough, 0.55)</td>\n",
       "      <td>(Not applicable, 0.14)</td>\n",
       "    </tr>\n",
       "    <tr>\n",
       "      <th>workhard</th>\n",
       "      <td>(Not applicable, 0.47)</td>\n",
       "      <td>(2nd important, 0.18)</td>\n",
       "    </tr>\n",
       "    <tr>\n",
       "      <th>incom16</th>\n",
       "      <td>(Not applicable, 0.47)</td>\n",
       "      <td>(Average, 0.22)</td>\n",
       "    </tr>\n",
       "    <tr>\n",
       "      <th>dwelling</th>\n",
       "      <td>(Detached 1-fam house, 0.44)</td>\n",
       "      <td>(Apartment house, 0.21)</td>\n",
       "    </tr>\n",
       "    <tr>\n",
       "      <th>natsoc</th>\n",
       "      <td>(Too little, 0.52)</td>\n",
       "      <td>(About right, 0.31)</td>\n",
       "    </tr>\n",
       "    <tr>\n",
       "      <th>fund</th>\n",
       "      <td>(Fundamentalist, 0.37)</td>\n",
       "      <td>(Moderate, 0.34)</td>\n",
       "    </tr>\n",
       "    <tr>\n",
       "      <th>natroad</th>\n",
       "      <td>(About right, 0.41)</td>\n",
       "      <td>(Too little, 0.28)</td>\n",
       "    </tr>\n",
       "    <tr>\n",
       "      <th>parsol</th>\n",
       "      <td>(Not applicable, 0.46)</td>\n",
       "      <td>(Somewhat better, 0.15)</td>\n",
       "    </tr>\n",
       "    <tr>\n",
       "      <th>mawrkgrw</th>\n",
       "      <td>(Yes, 0.61)</td>\n",
       "      <td>(No, 0.24)</td>\n",
       "    </tr>\n",
       "  </tbody>\n",
       "</table>\n",
       "</div>"
      ],
      "text/plain": [
       "                                 first                        second\n",
       "fechld          (Not applicable, 0.37)                  (Agree, 0.3)\n",
       "natrace         (Not applicable, 0.54)            (Too little, 0.19)\n",
       "socfrend        (Not applicable, 0.39)      (Sev times a week, 0.14)\n",
       "reliten        (Not very strong, 0.41)                (Strong, 0.32)\n",
       "res16            (Town lt 50000, 0.32)       (50000 to 250000, 0.18)\n",
       "divorce         (Not applicable, 0.62)                    (No, 0.31)\n",
       "polviews              (Moderate, 0.36)  (Slghtly conservative, 0.12)\n",
       "fefam           (Not applicable, 0.37)              (Disagree, 0.29)\n",
       "socbar          (Not applicable, 0.39)                 (Never, 0.33)\n",
       "partyid            (Independent, 0.29)      (Not str democrat, 0.21)\n",
       "employed                 (False, 0.93)                  (True, 0.07)\n",
       "finrela          (Below average, 0.33)               (Average, 0.24)\n",
       "meovrwrk         (Not applicable, 0.5)                 (Agree, 0.18)\n",
       "helpoth         (Not applicable, 0.47)         (3rd important, 0.18)\n",
       "degree             (High school, 0.82)        (Junior college, 0.09)\n",
       "class_            (Working class, 0.4)           (Lower class, 0.26)\n",
       "courts        (Not harsh enough, 0.55)        (Not applicable, 0.14)\n",
       "workhard        (Not applicable, 0.47)         (2nd important, 0.18)\n",
       "incom16         (Not applicable, 0.47)               (Average, 0.22)\n",
       "dwelling  (Detached 1-fam house, 0.44)       (Apartment house, 0.21)\n",
       "natsoc              (Too little, 0.52)           (About right, 0.31)\n",
       "fund            (Fundamentalist, 0.37)              (Moderate, 0.34)\n",
       "natroad            (About right, 0.41)            (Too little, 0.28)\n",
       "parsol          (Not applicable, 0.46)       (Somewhat better, 0.15)\n",
       "mawrkgrw                   (Yes, 0.61)                    (No, 0.24)"
      ]
     },
     "execution_count": 90,
     "metadata": {},
     "output_type": "execute_result"
    }
   ],
   "source": [
    "cluster_summary(df_c0,cat_cols)"
   ]
  },
  {
   "cell_type": "markdown",
   "metadata": {},
   "source": [
    "## Women in cluster 0 have following characteristics:\n",
    "  * They are from poor family. Their median family income are below that in population median.\n",
    "  * They consider themselves are in working class or lower class. They think their family income is below average. \n",
    "  * They and their family don't have higher education. About high school degree. \n",
    "  * They are fundamentalist. \n",
    "  * Their political views are moderate or slightly conservative."
   ]
  },
  {
   "cell_type": "markdown",
   "metadata": {},
   "source": [
    "### Cluster 1"
   ]
  },
  {
   "cell_type": "code",
   "execution_count": 108,
   "metadata": {
    "collapsed": false
   },
   "outputs": [],
   "source": [
    "c1 = fc_df[fc_df.cluster ==1]"
   ]
  },
  {
   "cell_type": "markdown",
   "metadata": {},
   "source": [
    "Top 10 driving features"
   ]
  },
  {
   "cell_type": "code",
   "execution_count": 109,
   "metadata": {
    "collapsed": false
   },
   "outputs": [
    {
     "data": {
      "text/plain": [
       "[(-0.037288764073244045, 'age'),\n",
       " (-0.035791882617825718, 'educom'),\n",
       " (-0.03210500848705275, 'sphrs1'),\n",
       " (-0.024466323673248431, 'agekdbrn'),\n",
       " (-0.021262571466462623, 'divorce'),\n",
       " (-0.019488294487885846, 'partyid'),\n",
       " (-0.016983742743410898, 'polviews'),\n",
       " (-0.016794016402045482, 'res16'),\n",
       " (-0.016444082678220302, 'incom16'),\n",
       " (-0.013788524842692908, 'reliten')]"
      ]
     },
     "execution_count": 109,
     "metadata": {},
     "output_type": "execute_result"
    }
   ],
   "source": [
    "sort_feature_means(c1,10)"
   ]
  },
  {
   "cell_type": "code",
   "execution_count": 110,
   "metadata": {
    "collapsed": true
   },
   "outputs": [],
   "source": [
    "df_c1 = df[df.cluster ==1]"
   ]
  },
  {
   "cell_type": "code",
   "execution_count": 111,
   "metadata": {
    "collapsed": false
   },
   "outputs": [
    {
     "data": {
      "text/plain": [
       "sphrs1    median                 51\n",
       "age       median                 35\n",
       "agekdbrn  median                 25\n",
       "chldidel  median    As many as want\n",
       "coninc    median              51705\n",
       "educom    median            12.6667\n",
       "Name: 1, dtype: object"
      ]
     },
     "execution_count": 111,
     "metadata": {},
     "output_type": "execute_result"
    }
   ],
   "source": [
    "df_summary.ix[1][:6]"
   ]
  },
  {
   "cell_type": "code",
   "execution_count": 112,
   "metadata": {
    "collapsed": false
   },
   "outputs": [
    {
     "data": {
      "text/html": [
       "<div>\n",
       "<table border=\"1\" class=\"dataframe\">\n",
       "  <thead>\n",
       "    <tr style=\"text-align: right;\">\n",
       "      <th></th>\n",
       "      <th>first</th>\n",
       "      <th>second</th>\n",
       "    </tr>\n",
       "  </thead>\n",
       "  <tbody>\n",
       "    <tr>\n",
       "      <th>fechld</th>\n",
       "      <td>(Not applicable, 0.43)</td>\n",
       "      <td>(Agree, 0.25)</td>\n",
       "    </tr>\n",
       "    <tr>\n",
       "      <th>natrace</th>\n",
       "      <td>(Not applicable, 0.54)</td>\n",
       "      <td>(About right, 0.2)</td>\n",
       "    </tr>\n",
       "    <tr>\n",
       "      <th>socfrend</th>\n",
       "      <td>(Not applicable, 0.44)</td>\n",
       "      <td>(Once a month, 0.14)</td>\n",
       "    </tr>\n",
       "    <tr>\n",
       "      <th>reliten</th>\n",
       "      <td>(Strong, 0.45)</td>\n",
       "      <td>(Not very strong, 0.31)</td>\n",
       "    </tr>\n",
       "    <tr>\n",
       "      <th>res16</th>\n",
       "      <td>(Town lt 50000, 0.29)</td>\n",
       "      <td>(50000 to 250000, 0.21)</td>\n",
       "    </tr>\n",
       "    <tr>\n",
       "      <th>divorce</th>\n",
       "      <td>(No, 0.73)</td>\n",
       "      <td>(Not applicable, 0.14)</td>\n",
       "    </tr>\n",
       "    <tr>\n",
       "      <th>polviews</th>\n",
       "      <td>(Moderate, 0.34)</td>\n",
       "      <td>(Conservative, 0.14)</td>\n",
       "    </tr>\n",
       "    <tr>\n",
       "      <th>fefam</th>\n",
       "      <td>(Not applicable, 0.43)</td>\n",
       "      <td>(Disagree, 0.25)</td>\n",
       "    </tr>\n",
       "    <tr>\n",
       "      <th>socbar</th>\n",
       "      <td>(Not applicable, 0.44)</td>\n",
       "      <td>(Never, 0.29)</td>\n",
       "    </tr>\n",
       "    <tr>\n",
       "      <th>partyid</th>\n",
       "      <td>(Not str democrat, 0.19)</td>\n",
       "      <td>(Not str republican, 0.18)</td>\n",
       "    </tr>\n",
       "    <tr>\n",
       "      <th>employed</th>\n",
       "      <td>(False, 0.94)</td>\n",
       "      <td>(True, 0.06)</td>\n",
       "    </tr>\n",
       "    <tr>\n",
       "      <th>finrela</th>\n",
       "      <td>(Average, 0.41)</td>\n",
       "      <td>(Above average, 0.18)</td>\n",
       "    </tr>\n",
       "    <tr>\n",
       "      <th>meovrwrk</th>\n",
       "      <td>(Not applicable, 0.53)</td>\n",
       "      <td>(Agree, 0.21)</td>\n",
       "    </tr>\n",
       "    <tr>\n",
       "      <th>helpoth</th>\n",
       "      <td>(Not applicable, 0.46)</td>\n",
       "      <td>(3rd important, 0.2)</td>\n",
       "    </tr>\n",
       "    <tr>\n",
       "      <th>degree</th>\n",
       "      <td>(High school, 0.58)</td>\n",
       "      <td>(Bachelor, 0.24)</td>\n",
       "    </tr>\n",
       "    <tr>\n",
       "      <th>class_</th>\n",
       "      <td>(Middle class, 0.47)</td>\n",
       "      <td>(Working class, 0.38)</td>\n",
       "    </tr>\n",
       "    <tr>\n",
       "      <th>courts</th>\n",
       "      <td>(Not harsh enough, 0.57)</td>\n",
       "      <td>(Not applicable, 0.18)</td>\n",
       "    </tr>\n",
       "    <tr>\n",
       "      <th>workhard</th>\n",
       "      <td>(Not applicable, 0.46)</td>\n",
       "      <td>(2nd important, 0.2)</td>\n",
       "    </tr>\n",
       "    <tr>\n",
       "      <th>incom16</th>\n",
       "      <td>(Not applicable, 0.49)</td>\n",
       "      <td>(Average, 0.25)</td>\n",
       "    </tr>\n",
       "    <tr>\n",
       "      <th>dwelling</th>\n",
       "      <td>(Detached 1-fam house, 0.72)</td>\n",
       "      <td>(Apartment house, 0.06)</td>\n",
       "    </tr>\n",
       "    <tr>\n",
       "      <th>natsoc</th>\n",
       "      <td>(Too little, 0.53)</td>\n",
       "      <td>(About right, 0.28)</td>\n",
       "    </tr>\n",
       "    <tr>\n",
       "      <th>fund</th>\n",
       "      <td>(Moderate, 0.43)</td>\n",
       "      <td>(Fundamentalist, 0.29)</td>\n",
       "    </tr>\n",
       "    <tr>\n",
       "      <th>natroad</th>\n",
       "      <td>(About right, 0.52)</td>\n",
       "      <td>(Too little, 0.27)</td>\n",
       "    </tr>\n",
       "    <tr>\n",
       "      <th>parsol</th>\n",
       "      <td>(Not applicable, 0.45)</td>\n",
       "      <td>(Somewhat better, 0.18)</td>\n",
       "    </tr>\n",
       "    <tr>\n",
       "      <th>mawrkgrw</th>\n",
       "      <td>(Yes, 0.64)</td>\n",
       "      <td>(No, 0.26)</td>\n",
       "    </tr>\n",
       "  </tbody>\n",
       "</table>\n",
       "</div>"
      ],
      "text/plain": [
       "                                 first                      second\n",
       "fechld          (Not applicable, 0.43)               (Agree, 0.25)\n",
       "natrace         (Not applicable, 0.54)          (About right, 0.2)\n",
       "socfrend        (Not applicable, 0.44)        (Once a month, 0.14)\n",
       "reliten                 (Strong, 0.45)     (Not very strong, 0.31)\n",
       "res16            (Town lt 50000, 0.29)     (50000 to 250000, 0.21)\n",
       "divorce                     (No, 0.73)      (Not applicable, 0.14)\n",
       "polviews              (Moderate, 0.34)        (Conservative, 0.14)\n",
       "fefam           (Not applicable, 0.43)            (Disagree, 0.25)\n",
       "socbar          (Not applicable, 0.44)               (Never, 0.29)\n",
       "partyid       (Not str democrat, 0.19)  (Not str republican, 0.18)\n",
       "employed                 (False, 0.94)                (True, 0.06)\n",
       "finrela                (Average, 0.41)       (Above average, 0.18)\n",
       "meovrwrk        (Not applicable, 0.53)               (Agree, 0.21)\n",
       "helpoth         (Not applicable, 0.46)        (3rd important, 0.2)\n",
       "degree             (High school, 0.58)            (Bachelor, 0.24)\n",
       "class_            (Middle class, 0.47)       (Working class, 0.38)\n",
       "courts        (Not harsh enough, 0.57)      (Not applicable, 0.18)\n",
       "workhard        (Not applicable, 0.46)        (2nd important, 0.2)\n",
       "incom16         (Not applicable, 0.49)             (Average, 0.25)\n",
       "dwelling  (Detached 1-fam house, 0.72)     (Apartment house, 0.06)\n",
       "natsoc              (Too little, 0.53)         (About right, 0.28)\n",
       "fund                  (Moderate, 0.43)      (Fundamentalist, 0.29)\n",
       "natroad            (About right, 0.52)          (Too little, 0.27)\n",
       "parsol          (Not applicable, 0.45)     (Somewhat better, 0.18)\n",
       "mawrkgrw                   (Yes, 0.64)                  (No, 0.26)"
      ]
     },
     "execution_count": 112,
     "metadata": {},
     "output_type": "execute_result"
    }
   ],
   "source": [
    "cluster_summary(df_c1,cat_cols)"
   ]
  },
  {
   "cell_type": "markdown",
   "metadata": {},
   "source": [
    "### Women in cluster 1 have flowing characteristics:\n",
    "  * Their husbands work full time.\n",
    "  * Their median family incomes are higher than population.\n",
    "  * They consider they are in middle class\n",
    "  * They have high shool or college degrees\n",
    "  * They are religious and moderate to conservatve political views\n",
    "  * Their ideal number of children is as many as possible"
   ]
  },
  {
   "cell_type": "markdown",
   "metadata": {},
   "source": [
    "## Cluster 3"
   ]
  },
  {
   "cell_type": "code",
   "execution_count": 115,
   "metadata": {
    "collapsed": true
   },
   "outputs": [],
   "source": [
    "c3 = fc_df[fc_df.cluster ==3]"
   ]
  },
  {
   "cell_type": "code",
   "execution_count": 116,
   "metadata": {
    "collapsed": false
   },
   "outputs": [
    {
     "data": {
      "text/plain": [
       "[(-0.12603459366189285, 'degree'),\n",
       " (-0.070144543585678884, 'coninc'),\n",
       " (-0.023950349809438023, 'age'),\n",
       " (-0.019658434958345537, 'agekdbrn'),\n",
       " (-0.018318692565157935, 'educom'),\n",
       " (-0.014832189604645, 'class_'),\n",
       " (-0.012873632435843718, 'polviews'),\n",
       " (-0.01259424547771343, 'incom16'),\n",
       " (-0.011545633902283959, 'dwelling'),\n",
       " (-0.01122178542760326, 'socfrend')]"
      ]
     },
     "execution_count": 116,
     "metadata": {},
     "output_type": "execute_result"
    }
   ],
   "source": [
    "sort_feature_means(c3,10)"
   ]
  },
  {
   "cell_type": "code",
   "execution_count": 117,
   "metadata": {
    "collapsed": true
   },
   "outputs": [],
   "source": [
    "df_c3 = df[df.cluster ==3]"
   ]
  },
  {
   "cell_type": "code",
   "execution_count": 118,
   "metadata": {
    "collapsed": false
   },
   "outputs": [
    {
     "data": {
      "text/plain": [
       "sphrs1    median    Not applicable\n",
       "age       median                31\n",
       "agekdbrn  median                19\n",
       "chldidel  median                 5\n",
       "coninc    median           8313.75\n",
       "educom    median                12\n",
       "Name: 3, dtype: object"
      ]
     },
     "execution_count": 118,
     "metadata": {},
     "output_type": "execute_result"
    }
   ],
   "source": [
    "df_summary.ix[3][:6]"
   ]
  },
  {
   "cell_type": "code",
   "execution_count": 122,
   "metadata": {
    "collapsed": false
   },
   "outputs": [
    {
     "data": {
      "text/html": [
       "<div>\n",
       "<table border=\"1\" class=\"dataframe\">\n",
       "  <thead>\n",
       "    <tr style=\"text-align: right;\">\n",
       "      <th></th>\n",
       "      <th>rank_first</th>\n",
       "      <th>rank_second</th>\n",
       "    </tr>\n",
       "  </thead>\n",
       "  <tbody>\n",
       "    <tr>\n",
       "      <th>fechld</th>\n",
       "      <td>(Not applicable, 0.41)</td>\n",
       "      <td>(Agree, 0.23)</td>\n",
       "    </tr>\n",
       "    <tr>\n",
       "      <th>natrace</th>\n",
       "      <td>(Not applicable, 0.54)</td>\n",
       "      <td>(Too little, 0.17)</td>\n",
       "    </tr>\n",
       "    <tr>\n",
       "      <th>socfrend</th>\n",
       "      <td>(Not applicable, 0.42)</td>\n",
       "      <td>(Never, 0.15)</td>\n",
       "    </tr>\n",
       "    <tr>\n",
       "      <th>reliten</th>\n",
       "      <td>(Not very strong, 0.42)</td>\n",
       "      <td>(Strong, 0.26)</td>\n",
       "    </tr>\n",
       "    <tr>\n",
       "      <th>res16</th>\n",
       "      <td>(Town lt 50000, 0.34)</td>\n",
       "      <td>(City gt 250000, 0.21)</td>\n",
       "    </tr>\n",
       "    <tr>\n",
       "      <th>divorce</th>\n",
       "      <td>(Not applicable, 0.62)</td>\n",
       "      <td>(No, 0.3)</td>\n",
       "    </tr>\n",
       "    <tr>\n",
       "      <th>polviews</th>\n",
       "      <td>(Moderate, 0.35)</td>\n",
       "      <td>(Don't know, 0.13)</td>\n",
       "    </tr>\n",
       "    <tr>\n",
       "      <th>fefam</th>\n",
       "      <td>(Not applicable, 0.41)</td>\n",
       "      <td>(Disagree, 0.21)</td>\n",
       "    </tr>\n",
       "    <tr>\n",
       "      <th>socbar</th>\n",
       "      <td>(Not applicable, 0.42)</td>\n",
       "      <td>(Never, 0.38)</td>\n",
       "    </tr>\n",
       "    <tr>\n",
       "      <th>partyid</th>\n",
       "      <td>(Independent, 0.39)</td>\n",
       "      <td>(Not str democrat, 0.16)</td>\n",
       "    </tr>\n",
       "    <tr>\n",
       "      <th>employed</th>\n",
       "      <td>(False, 0.92)</td>\n",
       "      <td>(True, 0.08)</td>\n",
       "    </tr>\n",
       "    <tr>\n",
       "      <th>finrela</th>\n",
       "      <td>(Below average, 0.37)</td>\n",
       "      <td>(Average, 0.31)</td>\n",
       "    </tr>\n",
       "    <tr>\n",
       "      <th>meovrwrk</th>\n",
       "      <td>(Not applicable, 0.52)</td>\n",
       "      <td>(Agree, 0.17)</td>\n",
       "    </tr>\n",
       "    <tr>\n",
       "      <th>helpoth</th>\n",
       "      <td>(Not applicable, 0.41)</td>\n",
       "      <td>(3rd important, 0.2)</td>\n",
       "    </tr>\n",
       "    <tr>\n",
       "      <th>degree</th>\n",
       "      <td>(Lt high school, 0.99)</td>\n",
       "      <td>(Bachelor, 0.01)</td>\n",
       "    </tr>\n",
       "    <tr>\n",
       "      <th>class_</th>\n",
       "      <td>(Working class, 0.44)</td>\n",
       "      <td>(Middle class, 0.26)</td>\n",
       "    </tr>\n",
       "    <tr>\n",
       "      <th>courts</th>\n",
       "      <td>(Not harsh enough, 0.53)</td>\n",
       "      <td>(Too harsh, 0.19)</td>\n",
       "    </tr>\n",
       "    <tr>\n",
       "      <th>workhard</th>\n",
       "      <td>(Not applicable, 0.41)</td>\n",
       "      <td>(2nd important, 0.18)</td>\n",
       "    </tr>\n",
       "    <tr>\n",
       "      <th>incom16</th>\n",
       "      <td>(Not applicable, 0.47)</td>\n",
       "      <td>(Average, 0.18)</td>\n",
       "    </tr>\n",
       "    <tr>\n",
       "      <th>dwelling</th>\n",
       "      <td>(Detached 1-fam house, 0.36)</td>\n",
       "      <td>(Apartment house, 0.18)</td>\n",
       "    </tr>\n",
       "    <tr>\n",
       "      <th>natsoc</th>\n",
       "      <td>(Too little, 0.54)</td>\n",
       "      <td>(About right, 0.3)</td>\n",
       "    </tr>\n",
       "    <tr>\n",
       "      <th>fund</th>\n",
       "      <td>(Moderate, 0.44)</td>\n",
       "      <td>(Fundamentalist, 0.31)</td>\n",
       "    </tr>\n",
       "    <tr>\n",
       "      <th>natroad</th>\n",
       "      <td>(About right, 0.43)</td>\n",
       "      <td>(Too little, 0.24)</td>\n",
       "    </tr>\n",
       "    <tr>\n",
       "      <th>parsol</th>\n",
       "      <td>(Not applicable, 0.39)</td>\n",
       "      <td>(Somewhat better, 0.23)</td>\n",
       "    </tr>\n",
       "    <tr>\n",
       "      <th>mawrkgrw</th>\n",
       "      <td>(Yes, 0.56)</td>\n",
       "      <td>(No, 0.27)</td>\n",
       "    </tr>\n",
       "  </tbody>\n",
       "</table>\n",
       "</div>"
      ],
      "text/plain": [
       "                            rank_first               rank_second\n",
       "fechld          (Not applicable, 0.41)             (Agree, 0.23)\n",
       "natrace         (Not applicable, 0.54)        (Too little, 0.17)\n",
       "socfrend        (Not applicable, 0.42)             (Never, 0.15)\n",
       "reliten        (Not very strong, 0.42)            (Strong, 0.26)\n",
       "res16            (Town lt 50000, 0.34)    (City gt 250000, 0.21)\n",
       "divorce         (Not applicable, 0.62)                 (No, 0.3)\n",
       "polviews              (Moderate, 0.35)        (Don't know, 0.13)\n",
       "fefam           (Not applicable, 0.41)          (Disagree, 0.21)\n",
       "socbar          (Not applicable, 0.42)             (Never, 0.38)\n",
       "partyid            (Independent, 0.39)  (Not str democrat, 0.16)\n",
       "employed                 (False, 0.92)              (True, 0.08)\n",
       "finrela          (Below average, 0.37)           (Average, 0.31)\n",
       "meovrwrk        (Not applicable, 0.52)             (Agree, 0.17)\n",
       "helpoth         (Not applicable, 0.41)      (3rd important, 0.2)\n",
       "degree          (Lt high school, 0.99)          (Bachelor, 0.01)\n",
       "class_           (Working class, 0.44)      (Middle class, 0.26)\n",
       "courts        (Not harsh enough, 0.53)         (Too harsh, 0.19)\n",
       "workhard        (Not applicable, 0.41)     (2nd important, 0.18)\n",
       "incom16         (Not applicable, 0.47)           (Average, 0.18)\n",
       "dwelling  (Detached 1-fam house, 0.36)   (Apartment house, 0.18)\n",
       "natsoc              (Too little, 0.54)        (About right, 0.3)\n",
       "fund                  (Moderate, 0.44)    (Fundamentalist, 0.31)\n",
       "natroad            (About right, 0.43)        (Too little, 0.24)\n",
       "parsol          (Not applicable, 0.39)   (Somewhat better, 0.23)\n",
       "mawrkgrw                   (Yes, 0.56)                (No, 0.27)"
      ]
     },
     "execution_count": 122,
     "metadata": {},
     "output_type": "execute_result"
    }
   ],
   "source": [
    "cluster_summary(df_c3,cat_cols)"
   ]
  },
  {
   "cell_type": "markdown",
   "metadata": {},
   "source": [
    "### Women in cluster 3 have flowing characteristics:\n",
    "  * They don't have high degree. 99% of them have less than high school degree. \n",
    "  * Their median age of giving birth to their first child is 19, way lower than the entire population (23)\n",
    "  * They are not religous and have moderate political views\n",
    "  * They are either from small towns or from big cities\n",
    "  * Their median family income is below population median and they consider their finanicial situations are below average."
   ]
  },
  {
   "cell_type": "markdown",
   "metadata": {},
   "source": [
    "## 4. Employed Class\n",
    "\n",
    "### Cluster 2"
   ]
  },
  {
   "cell_type": "code",
   "execution_count": 126,
   "metadata": {
    "collapsed": false
   },
   "outputs": [],
   "source": [
    "c2 = fc_df[fc_df.cluster ==2]"
   ]
  },
  {
   "cell_type": "code",
   "execution_count": 127,
   "metadata": {
    "collapsed": false
   },
   "outputs": [
    {
     "data": {
      "text/plain": [
       "[(0.045328848585600608, 'coninc'),\n",
       " (0.02123034015335842, 'degree'),\n",
       " (0.015127970950966903, 'age'),\n",
       " (0.011355628720333138, 'educom'),\n",
       " (0.010236085512343585, 'agekdbrn'),\n",
       " (0.0080189575014816203, 'sphrs1'),\n",
       " (0.0074831555803240154, 'polviews'),\n",
       " (0.0069228323390354389, 'partyid'),\n",
       " (0.0067388232864081842, 'class_'),\n",
       " (0.0065550122755228708, 'finrela')]"
      ]
     },
     "execution_count": 127,
     "metadata": {},
     "output_type": "execute_result"
    }
   ],
   "source": [
    "sort_feature_means(c2,10)"
   ]
  },
  {
   "cell_type": "code",
   "execution_count": 128,
   "metadata": {
    "collapsed": true
   },
   "outputs": [],
   "source": [
    "df_c2 = df[df.cluster==2]"
   ]
  },
  {
   "cell_type": "code",
   "execution_count": 130,
   "metadata": {
    "collapsed": false
   },
   "outputs": [
    {
     "data": {
      "text/plain": [
       "sphrs1    median         60\n",
       "age       median         36\n",
       "agekdbrn  median         25\n",
       "chldidel  median          4\n",
       "coninc    median    49882.5\n",
       "educom    median    12.3333\n",
       "Name: 2, dtype: object"
      ]
     },
     "execution_count": 130,
     "metadata": {},
     "output_type": "execute_result"
    }
   ],
   "source": [
    "df_summary.ix[2][:6]"
   ]
  },
  {
   "cell_type": "code",
   "execution_count": 131,
   "metadata": {
    "collapsed": false
   },
   "outputs": [
    {
     "data": {
      "text/html": [
       "<div>\n",
       "<table border=\"1\" class=\"dataframe\">\n",
       "  <thead>\n",
       "    <tr style=\"text-align: right;\">\n",
       "      <th></th>\n",
       "      <th>rank_first</th>\n",
       "      <th>rank_second</th>\n",
       "    </tr>\n",
       "  </thead>\n",
       "  <tbody>\n",
       "    <tr>\n",
       "      <th>fechld</th>\n",
       "      <td>(Not applicable, 0.39)</td>\n",
       "      <td>(Strongly agree, 0.25)</td>\n",
       "    </tr>\n",
       "    <tr>\n",
       "      <th>natrace</th>\n",
       "      <td>(Not applicable, 0.53)</td>\n",
       "      <td>(About right, 0.17)</td>\n",
       "    </tr>\n",
       "    <tr>\n",
       "      <th>socfrend</th>\n",
       "      <td>(Not applicable, 0.4)</td>\n",
       "      <td>(Once a month, 0.17)</td>\n",
       "    </tr>\n",
       "    <tr>\n",
       "      <th>reliten</th>\n",
       "      <td>(Not very strong, 0.38)</td>\n",
       "      <td>(Strong, 0.37)</td>\n",
       "    </tr>\n",
       "    <tr>\n",
       "      <th>res16</th>\n",
       "      <td>(Town lt 50000, 0.28)</td>\n",
       "      <td>(50000 to 250000, 0.21)</td>\n",
       "    </tr>\n",
       "    <tr>\n",
       "      <th>divorce</th>\n",
       "      <td>(No, 0.52)</td>\n",
       "      <td>(Not applicable, 0.33)</td>\n",
       "    </tr>\n",
       "    <tr>\n",
       "      <th>polviews</th>\n",
       "      <td>(Moderate, 0.36)</td>\n",
       "      <td>(Slghtly conservative, 0.13)</td>\n",
       "    </tr>\n",
       "    <tr>\n",
       "      <th>fefam</th>\n",
       "      <td>(Not applicable, 0.39)</td>\n",
       "      <td>(Disagree, 0.3)</td>\n",
       "    </tr>\n",
       "    <tr>\n",
       "      <th>socbar</th>\n",
       "      <td>(Not applicable, 0.4)</td>\n",
       "      <td>(Never, 0.23)</td>\n",
       "    </tr>\n",
       "    <tr>\n",
       "      <th>partyid</th>\n",
       "      <td>(Not str democrat, 0.22)</td>\n",
       "      <td>(Independent, 0.18)</td>\n",
       "    </tr>\n",
       "    <tr>\n",
       "      <th>employed</th>\n",
       "      <td>(True, 0.93)</td>\n",
       "      <td>(False, 0.07)</td>\n",
       "    </tr>\n",
       "    <tr>\n",
       "      <th>finrela</th>\n",
       "      <td>(Average, 0.5)</td>\n",
       "      <td>(Below average, 0.18)</td>\n",
       "    </tr>\n",
       "    <tr>\n",
       "      <th>meovrwrk</th>\n",
       "      <td>(Not applicable, 0.53)</td>\n",
       "      <td>(Agree, 0.18)</td>\n",
       "    </tr>\n",
       "    <tr>\n",
       "      <th>helpoth</th>\n",
       "      <td>(Not applicable, 0.47)</td>\n",
       "      <td>(3rd important, 0.19)</td>\n",
       "    </tr>\n",
       "    <tr>\n",
       "      <th>degree</th>\n",
       "      <td>(High school, 0.57)</td>\n",
       "      <td>(Bachelor, 0.22)</td>\n",
       "    </tr>\n",
       "    <tr>\n",
       "      <th>class_</th>\n",
       "      <td>(Working class, 0.51)</td>\n",
       "      <td>(Middle class, 0.41)</td>\n",
       "    </tr>\n",
       "    <tr>\n",
       "      <th>courts</th>\n",
       "      <td>(Not harsh enough, 0.66)</td>\n",
       "      <td>(Not applicable, 0.14)</td>\n",
       "    </tr>\n",
       "    <tr>\n",
       "      <th>workhard</th>\n",
       "      <td>(Not applicable, 0.47)</td>\n",
       "      <td>(2nd important, 0.19)</td>\n",
       "    </tr>\n",
       "    <tr>\n",
       "      <th>incom16</th>\n",
       "      <td>(Not applicable, 0.44)</td>\n",
       "      <td>(Average, 0.28)</td>\n",
       "    </tr>\n",
       "    <tr>\n",
       "      <th>dwelling</th>\n",
       "      <td>(Detached 1-fam house, 0.66)</td>\n",
       "      <td>(Apartment house, 0.1)</td>\n",
       "    </tr>\n",
       "    <tr>\n",
       "      <th>natsoc</th>\n",
       "      <td>(Too little, 0.62)</td>\n",
       "      <td>(About right, 0.25)</td>\n",
       "    </tr>\n",
       "    <tr>\n",
       "      <th>fund</th>\n",
       "      <td>(Moderate, 0.41)</td>\n",
       "      <td>(Fundamentalist, 0.31)</td>\n",
       "    </tr>\n",
       "    <tr>\n",
       "      <th>natroad</th>\n",
       "      <td>(About right, 0.53)</td>\n",
       "      <td>(Too little, 0.28)</td>\n",
       "    </tr>\n",
       "    <tr>\n",
       "      <th>parsol</th>\n",
       "      <td>(Not applicable, 0.47)</td>\n",
       "      <td>(Much better, 0.16)</td>\n",
       "    </tr>\n",
       "    <tr>\n",
       "      <th>mawrkgrw</th>\n",
       "      <td>(Yes, 0.71)</td>\n",
       "      <td>(No, 0.2)</td>\n",
       "    </tr>\n",
       "  </tbody>\n",
       "</table>\n",
       "</div>"
      ],
      "text/plain": [
       "                            rank_first                   rank_second\n",
       "fechld          (Not applicable, 0.39)        (Strongly agree, 0.25)\n",
       "natrace         (Not applicable, 0.53)           (About right, 0.17)\n",
       "socfrend         (Not applicable, 0.4)          (Once a month, 0.17)\n",
       "reliten        (Not very strong, 0.38)                (Strong, 0.37)\n",
       "res16            (Town lt 50000, 0.28)       (50000 to 250000, 0.21)\n",
       "divorce                     (No, 0.52)        (Not applicable, 0.33)\n",
       "polviews              (Moderate, 0.36)  (Slghtly conservative, 0.13)\n",
       "fefam           (Not applicable, 0.39)               (Disagree, 0.3)\n",
       "socbar           (Not applicable, 0.4)                 (Never, 0.23)\n",
       "partyid       (Not str democrat, 0.22)           (Independent, 0.18)\n",
       "employed                  (True, 0.93)                 (False, 0.07)\n",
       "finrela                 (Average, 0.5)         (Below average, 0.18)\n",
       "meovrwrk        (Not applicable, 0.53)                 (Agree, 0.18)\n",
       "helpoth         (Not applicable, 0.47)         (3rd important, 0.19)\n",
       "degree             (High school, 0.57)              (Bachelor, 0.22)\n",
       "class_           (Working class, 0.51)          (Middle class, 0.41)\n",
       "courts        (Not harsh enough, 0.66)        (Not applicable, 0.14)\n",
       "workhard        (Not applicable, 0.47)         (2nd important, 0.19)\n",
       "incom16         (Not applicable, 0.44)               (Average, 0.28)\n",
       "dwelling  (Detached 1-fam house, 0.66)        (Apartment house, 0.1)\n",
       "natsoc              (Too little, 0.62)           (About right, 0.25)\n",
       "fund                  (Moderate, 0.41)        (Fundamentalist, 0.31)\n",
       "natroad            (About right, 0.53)            (Too little, 0.28)\n",
       "parsol          (Not applicable, 0.47)           (Much better, 0.16)\n",
       "mawrkgrw                   (Yes, 0.71)                     (No, 0.2)"
      ]
     },
     "execution_count": 131,
     "metadata": {},
     "output_type": "execute_result"
    }
   ],
   "source": [
    "cluster_summary(df_c2,cat_cols)"
   ]
  },
  {
   "cell_type": "code",
   "execution_count": 132,
   "metadata": {
    "collapsed": false
   },
   "outputs": [
    {
     "data": {
      "image/png": "[encoded data removed]",
      "text/plain": [
       "<matplotlib.figure.Figure at 0x7f87b0950550>"
      ]
     },
     "metadata": {},
     "output_type": "display_data"
    }
   ],
   "source": [
    "simple_pie(df.mawrkgrw)"
   ]
  },
  {
   "cell_type": "code",
   "execution_count": 135,
   "metadata": {
    "collapsed": false
   },
   "outputs": [
    {
     "data": {
      "image/png": "[encoded data removed]",
      "text/plain": [
       "<matplotlib.figure.Figure at 0x7f87b5afa550>"
      ]
     },
     "metadata": {},
     "output_type": "display_data"
    }
   ],
   "source": [
    "simple_pie(df_c3.mawrkgrw)"
   ]
  },
  {
   "cell_type": "code",
   "execution_count": null,
   "metadata": {
    "collapsed": true
   },
   "outputs": [],
   "source": []
  }
 ],
 "metadata": {
  "kernelspec": {
   "display_name": "Python 2",
   "language": "python",
   "name": "python2"
  },
  "language_info": {
   "codemirror_mode": {
    "name": "ipython",
    "version": 2
   },
   "file_extension": ".py",
   "mimetype": "text/x-python",
   "name": "python",
   "nbconvert_exporter": "python",
   "pygments_lexer": "ipython2",
   "version": "2.7.10"
  }
 },
 "nbformat": 4,
 "nbformat_minor": 0
}
