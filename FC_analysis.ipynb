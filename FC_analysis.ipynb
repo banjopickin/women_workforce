{
 "cells": [
  {
   "cell_type": "code",
   "execution_count": 106,
   "metadata": {
    "collapsed": false
   },
   "outputs": [
    {
     "name": "stdout",
     "output_type": "stream",
     "text": [
      "The autoreload extension is already loaded. To reload it, use:\n",
      "  %reload_ext autoreload\n"
     ]
    }
   ],
   "source": [
    "from __future__ import division\n",
    "import pandas as pd\n",
    "import numpy as np \n",
    "import matplotlib.pylab as plt\n",
    "from code.organize import *\n",
    "from code.roughEDA import *\n",
    "from code.survey_processor_full import *\n",
    "from code.model_vis import *\n",
    "from code.fc import *\n",
    "from collections import Counter,defaultdict,OrderedDict\n",
    "\n",
    "from sklearn.cross_validation import train_test_split\n",
    "from sklearn.ensemble import RandomForestClassifier, GradientBoostingClassifier\n",
    "from sklearn.metrics import roc_auc_score, confusion_matrix,roc_curve\n",
    "from sklearn.grid_search import GridSearchCV\n",
    "from sklearn.cross_validation import cross_val_score\n",
    "from sklearn.metrics import silhouette_samples, silhouette_score\n",
    "from sklearn.decomposition import PCA\n",
    "\n",
    "from treeinterpreter import treeinterpreter as ti\n",
    "import matplotlib.cm as cm\n",
    "import cPickle as pickle\n",
    "%matplotlib inline\n",
    "%load_ext autoreload\n",
    "%autoreload 2"
   ]
  },
  {
   "cell_type": "markdown",
   "metadata": {},
   "source": [
    "# Feature Contribution Analysis\n",
    "\n",
    "In this session, how does each feature contribute to random forest decision making will be analysed. \n",
    "## 1. Load feature contribution matrix and group by cluster id"
   ]
  },
  {
   "cell_type": "code",
   "execution_count": 2,
   "metadata": {
    "collapsed": false
   },
   "outputs": [],
   "source": [
    "fc_df = pd.read_pickle('data/fc_df.pkl')"
   ]
  },
  {
   "cell_type": "code",
   "execution_count": 3,
   "metadata": {
    "collapsed": false
   },
   "outputs": [
    {
     "data": {
      "text/html": [
       "<div>\n",
       "<table border=\"1\" class=\"dataframe\">\n",
       "  <thead>\n",
       "    <tr style=\"text-align: right;\">\n",
       "      <th></th>\n",
       "      <th>employment_rate</th>\n",
       "      <th>sample_size</th>\n",
       "    </tr>\n",
       "    <tr>\n",
       "      <th>cluster</th>\n",
       "      <th></th>\n",
       "      <th></th>\n",
       "    </tr>\n",
       "  </thead>\n",
       "  <tbody>\n",
       "    <tr>\n",
       "      <th>0</th>\n",
       "      <td>0.067839</td>\n",
       "      <td>398</td>\n",
       "    </tr>\n",
       "    <tr>\n",
       "      <th>1</th>\n",
       "      <td>0.058480</td>\n",
       "      <td>684</td>\n",
       "    </tr>\n",
       "    <tr>\n",
       "      <th>2</th>\n",
       "      <td>0.927992</td>\n",
       "      <td>2097</td>\n",
       "    </tr>\n",
       "    <tr>\n",
       "      <th>3</th>\n",
       "      <td>0.077778</td>\n",
       "      <td>360</td>\n",
       "    </tr>\n",
       "    <tr>\n",
       "      <th>4</th>\n",
       "      <td>0.895210</td>\n",
       "      <td>668</td>\n",
       "    </tr>\n",
       "    <tr>\n",
       "      <th>5</th>\n",
       "      <td>0.889313</td>\n",
       "      <td>262</td>\n",
       "    </tr>\n",
       "  </tbody>\n",
       "</table>\n",
       "</div>"
      ],
      "text/plain": [
       "         employment_rate  sample_size\n",
       "cluster                              \n",
       "0               0.067839          398\n",
       "1               0.058480          684\n",
       "2               0.927992         2097\n",
       "3               0.077778          360\n",
       "4               0.895210          668\n",
       "5               0.889313          262"
      ]
     },
     "execution_count": 3,
     "metadata": {},
     "output_type": "execute_result"
    }
   ],
   "source": [
    "summary = fc_df.groupby('cluster')['employed'].agg([np.mean,np.size])\n",
    "summary.columns = ['employment_rate','sample_size']\n",
    "summary"
   ]
  },
  {
   "cell_type": "markdown",
   "metadata": {},
   "source": [
    "**Cluster 0,1,3** are unemployed groups. **Cluster 2,4,5** are employed groups. \n"
   ]
  },
  {
   "cell_type": "markdown",
   "metadata": {},
   "source": [
    "## 2.  Load original survey data"
   ]
  },
  {
   "cell_type": "code",
   "execution_count": 20,
   "metadata": {
    "collapsed": true
   },
   "outputs": [],
   "source": [
    "sv = survey('data/survey2')\n",
    "sv.num_processor()"
   ]
  },
  {
   "cell_type": "code",
   "execution_count": 5,
   "metadata": {
    "collapsed": false
   },
   "outputs": [],
   "source": [
    "df = pd.concat([sv.fin_data[sv.num_cols],sv.data[sv.sv_cols],sv.fin_data.employed],axis =1)\n",
    "\n",
    "f31 = fc_df.columns[:31]\n",
    "df31= df[f31]\n",
    "l = list(df31.columns)\n",
    "l.append('cluster')\n",
    "\n",
    "new = np.column_stack((df31.values,fc_df.cluster))\n",
    "df = pd.DataFrame(new,columns=l)"
   ]
  },
  {
   "cell_type": "markdown",
   "metadata": {},
   "source": [
    "### Group by cluster. Take medians for numeric variables. Take mode for categorical variables."
   ]
  },
  {
   "cell_type": "code",
   "execution_count": 23,
   "metadata": {
    "collapsed": false
   },
   "outputs": [],
   "source": [
    "df_num = df.groupby('cluster')[sv.num_cols].agg([np.median])"
   ]
  },
  {
   "cell_type": "code",
   "execution_count": 25,
   "metadata": {
    "collapsed": false
   },
   "outputs": [],
   "source": [
    "bs_dict = {k:v for (k,v) in zip(sv.bs_flag,sv.bs)}"
   ]
  },
  {
   "cell_type": "code",
   "execution_count": 61,
   "metadata": {
    "collapsed": false
   },
   "outputs": [],
   "source": [
    "df_num.iloc[0,0] = bs_dict[98]\n",
    "df_num.iloc[3:,0] = bs_dict[98]\n",
    "df_num.iloc[1,3] = bs_dict[8]"
   ]
  },
  {
   "cell_type": "code",
   "execution_count": 62,
   "metadata": {
    "collapsed": false
   },
   "outputs": [
    {
     "data": {
      "text/html": [
       "<div>\n",
       "<table border=\"1\" class=\"dataframe\">\n",
       "  <thead>\n",
       "    <tr>\n",
       "      <th></th>\n",
       "      <th>sphrs1</th>\n",
       "      <th>age</th>\n",
       "      <th>agekdbrn</th>\n",
       "      <th>chldidel</th>\n",
       "      <th>coninc</th>\n",
       "      <th>educom</th>\n",
       "    </tr>\n",
       "    <tr>\n",
       "      <th></th>\n",
       "      <th>median</th>\n",
       "      <th>median</th>\n",
       "      <th>median</th>\n",
       "      <th>median</th>\n",
       "      <th>median</th>\n",
       "      <th>median</th>\n",
       "    </tr>\n",
       "    <tr>\n",
       "      <th>cluster</th>\n",
       "      <th></th>\n",
       "      <th></th>\n",
       "      <th></th>\n",
       "      <th></th>\n",
       "      <th></th>\n",
       "      <th></th>\n",
       "    </tr>\n",
       "  </thead>\n",
       "  <tbody>\n",
       "    <tr>\n",
       "      <th>0</th>\n",
       "      <td>Not applicable</td>\n",
       "      <td>34</td>\n",
       "      <td>22</td>\n",
       "      <td>4.5</td>\n",
       "      <td>6633.5000</td>\n",
       "      <td>12.333333</td>\n",
       "    </tr>\n",
       "    <tr>\n",
       "      <th>1</th>\n",
       "      <td>51</td>\n",
       "      <td>35</td>\n",
       "      <td>25</td>\n",
       "      <td>As many as want</td>\n",
       "      <td>51705.0000</td>\n",
       "      <td>12.666667</td>\n",
       "    </tr>\n",
       "    <tr>\n",
       "      <th>2</th>\n",
       "      <td>60</td>\n",
       "      <td>36</td>\n",
       "      <td>25</td>\n",
       "      <td>4</td>\n",
       "      <td>49882.5000</td>\n",
       "      <td>12.333333</td>\n",
       "    </tr>\n",
       "    <tr>\n",
       "      <th>3</th>\n",
       "      <td>Not applicable</td>\n",
       "      <td>31</td>\n",
       "      <td>19</td>\n",
       "      <td>5</td>\n",
       "      <td>8313.7500</td>\n",
       "      <td>12.000000</td>\n",
       "    </tr>\n",
       "    <tr>\n",
       "      <th>4</th>\n",
       "      <td>Not applicable</td>\n",
       "      <td>33</td>\n",
       "      <td>22</td>\n",
       "      <td>4</td>\n",
       "      <td>9486.5625</td>\n",
       "      <td>12.333333</td>\n",
       "    </tr>\n",
       "    <tr>\n",
       "      <th>5</th>\n",
       "      <td>Not applicable</td>\n",
       "      <td>34</td>\n",
       "      <td>19</td>\n",
       "      <td>4</td>\n",
       "      <td>18745.0000</td>\n",
       "      <td>11.666667</td>\n",
       "    </tr>\n",
       "  </tbody>\n",
       "</table>\n",
       "</div>"
      ],
      "text/plain": [
       "                 sphrs1    age agekdbrn         chldidel      coninc  \\\n",
       "                 median median   median           median      median   \n",
       "cluster                                                                \n",
       "0        Not applicable     34       22              4.5   6633.5000   \n",
       "1                    51     35       25  As many as want  51705.0000   \n",
       "2                    60     36       25                4  49882.5000   \n",
       "3        Not applicable     31       19                5   8313.7500   \n",
       "4        Not applicable     33       22                4   9486.5625   \n",
       "5        Not applicable     34       19                4  18745.0000   \n",
       "\n",
       "            educom  \n",
       "            median  \n",
       "cluster             \n",
       "0        12.333333  \n",
       "1        12.666667  \n",
       "2        12.333333  \n",
       "3        12.000000  \n",
       "4        12.333333  \n",
       "5        11.666667  "
      ]
     },
     "execution_count": 62,
     "metadata": {},
     "output_type": "execute_result"
    }
   ],
   "source": [
    "df_num"
   ]
  },
  {
   "cell_type": "code",
   "execution_count": 237,
   "metadata": {
    "collapsed": false
   },
   "outputs": [],
   "source": [
    "cat_cols = list(set(df.columns) - set(sv.num_cols) - set(['cluster']))"
   ]
  },
  {
   "cell_type": "code",
   "execution_count": 102,
   "metadata": {
    "collapsed": false
   },
   "outputs": [
    {
     "data": {
      "text/plain": [
       "<pandas.core.groupby.DataFrameGroupBy object at 0x10b1d3b90>"
      ]
     },
     "execution_count": 102,
     "metadata": {},
     "output_type": "execute_result"
    }
   ],
   "source": [
    "from scipy.stats.mstats import mode\n",
    "df.groupby('cluster')[cat_cols]"
   ]
  },
  {
   "cell_type": "code",
   "execution_count": 103,
   "metadata": {
    "collapsed": false
   },
   "outputs": [
    {
     "data": {
      "text/plain": [
       "Counter({u'No': 2113, u'No answer': 8, u'Not applicable': 1840, u'Yes': 508})"
      ]
     },
     "execution_count": 103,
     "metadata": {},
     "output_type": "execute_result"
    }
   ],
   "source": [
    "Counter(df.divorce)"
   ]
  },
  {
   "cell_type": "markdown",
   "metadata": {},
   "source": [
    "## Unemployed Clusters\n",
    "\n",
    "### Cluster 0"
   ]
  },
  {
   "cell_type": "code",
   "execution_count": 6,
   "metadata": {
    "collapsed": false
   },
   "outputs": [],
   "source": [
    "c0 = fc_df[fc_df.cluster == 0]"
   ]
  },
  {
   "cell_type": "code",
   "execution_count": 7,
   "metadata": {
    "collapsed": false
   },
   "outputs": [
    {
     "data": {
      "text/plain": [
       "[(-0.10317363862869754, 'coninc'),\n",
       " (-0.03392890421279629, 'age'),\n",
       " (-0.027697984375685748, 'class_'),\n",
       " (-0.023296867668049392, 'agekdbrn'),\n",
       " (-0.019737805836251204, 'polviews'),\n",
       " (-0.019515172650691602, 'educom'),\n",
       " (0.018331218255143, 'degree'),\n",
       " (-0.01765954711605959, 'finrela'),\n",
       " (-0.016752126734590513, 'partyid'),\n",
       " (-0.014696917162165184, 'dwelling')]"
      ]
     },
     "execution_count": 7,
     "metadata": {},
     "output_type": "execute_result"
    }
   ],
   "source": [
    "sort_feature_means(c0,10)"
   ]
  },
  {
   "cell_type": "code",
   "execution_count": 125,
   "metadata": {
    "collapsed": false,
    "scrolled": true
   },
   "outputs": [],
   "source": [
    "df_c0 = df[df.cluster ==0]"
   ]
  },
  {
   "cell_type": "code",
   "execution_count": 309,
   "metadata": {
    "collapsed": false
   },
   "outputs": [
    {
     "name": "stdout",
     "output_type": "stream",
     "text": [
      "fechld\n",
      "----------\n",
      "Not applicable       0.371859\n",
      "Agree                0.304020\n",
      "Strongly agree       0.158291\n",
      "Disagree             0.138191\n",
      "Strongly disagree    0.025126\n",
      "Don't know           0.002513\n",
      "Name: fechld, dtype: float64\n",
      "********************\n",
      "natrace\n",
      "----------\n",
      "Not applicable    0.537688\n",
      "Too little        0.193467\n",
      "About right       0.158291\n",
      "Don't know        0.050251\n",
      "Too much          0.047739\n",
      "No answer         0.012563\n",
      "Name: natrace, dtype: float64\n",
      "********************\n",
      "socfrend\n",
      "----------\n",
      "Not applicable      0.391960\n",
      "Sev times a week    0.143216\n",
      "Once a month        0.110553\n",
      "Sev times a year    0.092965\n",
      "Sev times a mnth    0.092965\n",
      "Never               0.085427\n",
      "Once a year         0.065327\n",
      "Almost daily        0.017588\n",
      "Name: socfrend, dtype: float64\n",
      "********************\n",
      "reliten\n",
      "----------\n",
      "Not very strong    0.409548\n",
      "Strong             0.319095\n",
      "No religion        0.123116\n",
      "Somewhat strong    0.118090\n",
      "No answer          0.030151\n",
      "Name: reliten, dtype: float64\n",
      "********************\n",
      "res16\n",
      "----------\n",
      "Town lt 50000      0.316583\n",
      "City gt 250000     0.178392\n",
      "50000 to 250000    0.178392\n",
      "Country,nonfarm    0.110553\n",
      "Big-city suburb    0.097990\n",
      "Not applicable     0.060302\n",
      "Farm               0.057789\n",
      "Name: res16, dtype: float64\n",
      "********************\n",
      "divorce\n",
      "----------\n",
      "Not applicable    0.623116\n",
      "No                0.311558\n",
      "Yes               0.065327\n",
      "Name: divorce, dtype: float64\n",
      "********************\n",
      "polviews\n",
      "----------\n",
      "Moderate                0.361809\n",
      "Slghtly conservative    0.118090\n",
      "Conservative            0.113065\n",
      "Slightly liberal        0.087940\n",
      "Not applicable          0.080402\n",
      "Don't know              0.077889\n",
      "Liberal                 0.067839\n",
      "Extrmly conservative    0.047739\n",
      "Extremely liberal       0.037688\n",
      "No answer               0.007538\n",
      "Name: polviews, dtype: float64\n",
      "********************\n",
      "fefam\n",
      "----------\n",
      "Not applicable       0.371859\n",
      "Disagree             0.291457\n",
      "Agree                0.158291\n",
      "Strongly disagree    0.095477\n",
      "Strongly agree       0.060302\n",
      "Don't know           0.022613\n",
      "Name: fefam, dtype: float64\n",
      "********************\n",
      "socbar\n",
      "----------\n",
      "Not applicable      0.391960\n",
      "Never               0.329146\n",
      "Sev times a year    0.080402\n",
      "Once a month        0.077889\n",
      "Once a year         0.075377\n",
      "Sev times a mnth    0.022613\n",
      "Sev times a week    0.015075\n",
      "Almost daily        0.005025\n",
      "Don't know          0.002513\n",
      "Name: socbar, dtype: float64\n",
      "********************\n",
      "partyid\n",
      "----------\n",
      "Independent           0.291457\n",
      "Not str democrat      0.213568\n",
      "Strong democrat       0.125628\n",
      "Ind,near dem          0.110553\n",
      "Not str republican    0.087940\n",
      "Strong republican     0.075377\n",
      "Ind,near rep          0.067839\n",
      "Other party           0.017588\n",
      "No answer             0.010050\n",
      "Name: partyid, dtype: float64\n",
      "********************\n",
      "employed\n",
      "----------\n",
      "False    0.932161\n",
      "True     0.067839\n",
      "Name: employed, dtype: float64\n",
      "********************\n",
      "finrela\n",
      "----------\n",
      "Below average        0.334171\n",
      "Average              0.243719\n",
      "Far below average    0.183417\n",
      "Not applicable       0.140704\n",
      "Above average        0.055276\n",
      "Far above average    0.027638\n",
      "Don't know           0.012563\n",
      "No answer            0.002513\n",
      "Name: finrela, dtype: float64\n",
      "********************\n",
      "meovrwrk\n",
      "----------\n",
      "Not applicable                0.497487\n",
      "Agree                         0.180905\n",
      "Disagree                      0.135678\n",
      "Neither agree nor disagree    0.090452\n",
      "Strongly agree                0.060302\n",
      "Strongly disagree             0.022613\n",
      "Can't choose                  0.010050\n",
      "No answer                     0.002513\n",
      "Name: meovrwrk, dtype: float64\n",
      "********************\n",
      "helpoth\n",
      "----------\n",
      "Not applicable     0.467337\n",
      "3rd important      0.175879\n",
      "2nd important      0.145729\n",
      "4th important      0.108040\n",
      "Most important     0.075377\n",
      "Least important    0.022613\n",
      "No answer          0.005025\n",
      "Name: helpoth, dtype: float64\n",
      "********************\n",
      "degree\n",
      "----------\n",
      "High school       0.824121\n",
      "Junior college    0.085427\n",
      "Bachelor          0.072864\n",
      "Graduate          0.012563\n",
      "No answer         0.005025\n",
      "Name: degree, dtype: float64\n",
      "********************\n",
      "class_\n",
      "----------\n",
      "Working class     0.402010\n",
      "Lower class       0.263819\n",
      "Middle class      0.226131\n",
      "Not applicable    0.060302\n",
      "Upper class       0.040201\n",
      "Don't know        0.007538\n",
      "Name: class_, dtype: float64\n",
      "********************\n",
      "courts\n",
      "----------\n",
      "Not harsh enough    0.552764\n",
      "Not applicable      0.140704\n",
      "About right         0.118090\n",
      "Too harsh           0.115578\n",
      "Don't know          0.067839\n",
      "No answer           0.005025\n",
      "Name: courts, dtype: float64\n",
      "********************\n",
      "workhard\n",
      "----------\n",
      "Not applicable     0.467337\n",
      "2nd important      0.180905\n",
      "Most important     0.130653\n",
      "3rd important      0.130653\n",
      "4th important      0.075377\n",
      "Least important    0.010050\n",
      "No answer          0.005025\n",
      "Name: workhard, dtype: float64\n",
      "********************\n",
      "incom16\n",
      "----------\n",
      "Not applicable       0.467337\n",
      "Average              0.216080\n",
      "Below average        0.155779\n",
      "Above average        0.075377\n",
      "Far below average    0.050251\n",
      "Far above average    0.020101\n",
      "Don't know           0.010050\n",
      "No answer            0.005025\n",
      "Name: incom16, dtype: float64\n",
      "********************\n",
      "dwelling\n",
      "----------\n",
      "Detached 1-fam house    0.442211\n",
      "Apartment house         0.213568\n",
      "Row house               0.077889\n",
      "Apartment-4 stories     0.072864\n",
      "Trailer                 0.070352\n",
      "2 units side by side    0.040201\n",
      "2 units-one above       0.027638\n",
      "3-4 fam house           0.022613\n",
      "Other                   0.012563\n",
      "Apartment-commercial    0.007538\n",
      "Don't know              0.007538\n",
      "No answer               0.005025\n",
      "Name: dwelling, dtype: float64\n",
      "********************\n",
      "natsoc\n",
      "----------\n",
      "Too little        0.515075\n",
      "About right       0.314070\n",
      "Don't know        0.067839\n",
      "Not applicable    0.060302\n",
      "Too much          0.040201\n",
      "No answer         0.002513\n",
      "Name: natsoc, dtype: float64\n",
      "********************\n",
      "fund\n",
      "----------\n",
      "Fundamentalist    0.369347\n",
      "Moderate          0.344221\n",
      "Liberal           0.243719\n",
      "Na-excluded       0.042714\n",
      "Name: fund, dtype: float64\n",
      "********************\n",
      "natroad\n",
      "----------\n",
      "About right       0.414573\n",
      "Too little        0.276382\n",
      "Too much          0.183417\n",
      "Don't know        0.065327\n",
      "Not applicable    0.060302\n",
      "Name: natroad, dtype: float64\n",
      "********************\n",
      "parsol\n",
      "----------\n",
      "Not applicable     0.459799\n",
      "Somewhat better    0.153266\n",
      "Much better        0.135678\n",
      "Somewhat worse     0.108040\n",
      "About the same     0.072864\n",
      "Much worse         0.035176\n",
      "Don't know         0.032663\n",
      "No answer          0.002513\n",
      "Name: parsol, dtype: float64\n",
      "********************\n",
      "mawrkgrw\n",
      "----------\n",
      "Yes               0.608040\n",
      "No                0.236181\n",
      "Not applicable    0.123116\n",
      "Don't know        0.030151\n",
      "No answer         0.002513\n",
      "Name: mawrkgrw, dtype: float64\n",
      "********************\n"
     ]
    }
   ],
   "source": [
    "for c in cat_cols:\n",
    "    print c\n",
    "    print '-'*10\n",
    "    print df_c0[c].value_counts()/df_c0.shape[0]\n",
    "    print \"*\"*20"
   ]
  },
  {
   "cell_type": "code",
   "execution_count": 313,
   "metadata": {
    "collapsed": false
   },
   "outputs": [
    {
     "data": {
      "text/plain": [
       "sphrs1    median    Not applicable\n",
       "age       median                34\n",
       "agekdbrn  median                22\n",
       "chldidel  median               4.5\n",
       "coninc    median            6633.5\n",
       "educom    median           12.3333\n",
       "Name: 0, dtype: object"
      ]
     },
     "execution_count": 313,
     "metadata": {},
     "output_type": "execute_result"
    }
   ],
   "source": [
    "df_num.loc[0,:]"
   ]
  },
  {
   "cell_type": "code",
   "execution_count": null,
   "metadata": {
    "collapsed": true
   },
   "outputs": [],
   "source": []
  }
 ],
 "metadata": {
  "kernelspec": {
   "display_name": "Python 2",
   "language": "python",
   "name": "python2"
  },
  "language_info": {
   "codemirror_mode": {
    "name": "ipython",
    "version": 2
   },
   "file_extension": ".py",
   "mimetype": "text/x-python",
   "name": "python",
   "nbconvert_exporter": "python",
   "pygments_lexer": "ipython2",
   "version": "2.7.10"
  }
 },
 "nbformat": 4,
 "nbformat_minor": 0
}
