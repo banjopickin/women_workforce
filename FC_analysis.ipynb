{
 "cells": [
  {
   "cell_type": "code",
   "execution_count": 45,
   "metadata": {
    "collapsed": false
   },
   "outputs": [
    {
     "name": "stdout",
     "output_type": "stream",
     "text": [
      "The autoreload extension is already loaded. To reload it, use:\n",
      "  %reload_ext autoreload\n"
     ]
    }
   ],
   "source": [
    "from __future__ import division\n",
    "import pandas as pd\n",
    "import numpy as np \n",
    "import matplotlib.pylab as plt\n",
    "from code.organize import *\n",
    "from code.roughEDA import *\n",
    "from code.survey_processor_full import *\n",
    "from code.model_vis import *\n",
    "from code.fc import *\n",
    "from collections import Counter,defaultdict,OrderedDict\n",
    "\n",
    "from sklearn.cross_validation import train_test_split\n",
    "from sklearn.ensemble import RandomForestClassifier, GradientBoostingClassifier\n",
    "from sklearn.metrics import roc_auc_score, confusion_matrix,roc_curve\n",
    "from sklearn.grid_search import GridSearchCV\n",
    "from sklearn.cross_validation import cross_val_score\n",
    "from sklearn.metrics import silhouette_samples, silhouette_score\n",
    "from sklearn.decomposition import PCA\n",
    "\n",
    "from treeinterpreter import treeinterpreter as ti\n",
    "import matplotlib.cm as cm\n",
    "import cPickle as pickle\n",
    "%matplotlib inline\n",
    "%load_ext autoreload\n",
    "%autoreload 2"
   ]
  },
  {
   "cell_type": "markdown",
   "metadata": {},
   "source": [
    "# Feature Contribution Analysis\n",
    "\n",
    "In this session, how does each feature contribute to random forest decision making will be analysed. \n",
    "## 1. Load feature contribution matrix and group by cluster id"
   ]
  },
  {
   "cell_type": "code",
   "execution_count": 2,
   "metadata": {
    "collapsed": false
   },
   "outputs": [],
   "source": [
    "fc_df = pd.read_pickle('data/fc_df.pkl')"
   ]
  },
  {
   "cell_type": "code",
   "execution_count": 3,
   "metadata": {
    "collapsed": false
   },
   "outputs": [
    {
     "data": {
      "text/html": [
       "<div>\n",
       "<table border=\"1\" class=\"dataframe\">\n",
       "  <thead>\n",
       "    <tr style=\"text-align: right;\">\n",
       "      <th></th>\n",
       "      <th>employment_rate</th>\n",
       "      <th>sample_size</th>\n",
       "    </tr>\n",
       "    <tr>\n",
       "      <th>cluster</th>\n",
       "      <th></th>\n",
       "      <th></th>\n",
       "    </tr>\n",
       "  </thead>\n",
       "  <tbody>\n",
       "    <tr>\n",
       "      <th>0</th>\n",
       "      <td>0.067839</td>\n",
       "      <td>398</td>\n",
       "    </tr>\n",
       "    <tr>\n",
       "      <th>1</th>\n",
       "      <td>0.058480</td>\n",
       "      <td>684</td>\n",
       "    </tr>\n",
       "    <tr>\n",
       "      <th>2</th>\n",
       "      <td>0.927992</td>\n",
       "      <td>2097</td>\n",
       "    </tr>\n",
       "    <tr>\n",
       "      <th>3</th>\n",
       "      <td>0.077778</td>\n",
       "      <td>360</td>\n",
       "    </tr>\n",
       "    <tr>\n",
       "      <th>4</th>\n",
       "      <td>0.895210</td>\n",
       "      <td>668</td>\n",
       "    </tr>\n",
       "    <tr>\n",
       "      <th>5</th>\n",
       "      <td>0.889313</td>\n",
       "      <td>262</td>\n",
       "    </tr>\n",
       "  </tbody>\n",
       "</table>\n",
       "</div>"
      ],
      "text/plain": [
       "         employment_rate  sample_size\n",
       "cluster                              \n",
       "0               0.067839          398\n",
       "1               0.058480          684\n",
       "2               0.927992         2097\n",
       "3               0.077778          360\n",
       "4               0.895210          668\n",
       "5               0.889313          262"
      ]
     },
     "execution_count": 3,
     "metadata": {},
     "output_type": "execute_result"
    }
   ],
   "source": [
    "summary = fc_df.groupby('cluster')['employed'].agg([np.mean,np.size])\n",
    "summary.columns = ['employment_rate','sample_size']\n",
    "summary"
   ]
  },
  {
   "cell_type": "markdown",
   "metadata": {},
   "source": [
    "**Cluster 0,1,3** are unemployed groups. **Cluster 2,4,5** are employed groups. \n"
   ]
  },
  {
   "cell_type": "markdown",
   "metadata": {},
   "source": [
    "## 2.  Load original survey data"
   ]
  },
  {
   "cell_type": "code",
   "execution_count": 4,
   "metadata": {
    "collapsed": true
   },
   "outputs": [],
   "source": [
    "sv = survey('data/survey2')\n",
    "sv.num_processor()"
   ]
  },
  {
   "cell_type": "code",
   "execution_count": 5,
   "metadata": {
    "collapsed": false
   },
   "outputs": [],
   "source": [
    "df = pd.concat([sv.fin_data[sv.num_cols],sv.data[sv.sv_cols],sv.fin_data.employed],axis =1)\n",
    "\n",
    "f31 = fc_df.columns[:31]\n",
    "df31= df[f31]\n",
    "l = list(df31.columns)\n",
    "l.append('cluster')\n",
    "\n",
    "new = np.column_stack((df31.values,fc_df.cluster))\n",
    "df = pd.DataFrame(new,columns=l)"
   ]
  },
  {
   "cell_type": "markdown",
   "metadata": {},
   "source": [
    "### Group by cluster. Take medians for numeric variables. Take mode for categorical variables."
   ]
  },
  {
   "cell_type": "code",
   "execution_count": 12,
   "metadata": {
    "collapsed": false
   },
   "outputs": [],
   "source": [
    "df[sv.num_cols] = df[sv.num_cols].astype('float')"
   ]
  },
  {
   "cell_type": "code",
   "execution_count": 17,
   "metadata": {
    "collapsed": false
   },
   "outputs": [],
   "source": [
    "df_num = df.groupby('cluster')[sv.num_cols].agg([np.median])"
   ]
  },
  {
   "cell_type": "code",
   "execution_count": 18,
   "metadata": {
    "collapsed": false
   },
   "outputs": [],
   "source": [
    "bs_dict = {k:v for (k,v) in zip(sv.bs_flag,sv.bs)}"
   ]
  },
  {
   "cell_type": "code",
   "execution_count": 19,
   "metadata": {
    "collapsed": false
   },
   "outputs": [],
   "source": [
    "df_num.iloc[0,0] = bs_dict[98]\n",
    "df_num.iloc[3:,0] = bs_dict[98]\n",
    "df_num.iloc[1,3] = bs_dict[8]"
   ]
  },
  {
   "cell_type": "code",
   "execution_count": 20,
   "metadata": {
    "collapsed": false
   },
   "outputs": [
    {
     "data": {
      "text/html": [
       "<div>\n",
       "<table border=\"1\" class=\"dataframe\">\n",
       "  <thead>\n",
       "    <tr>\n",
       "      <th></th>\n",
       "      <th>sphrs1</th>\n",
       "      <th>age</th>\n",
       "      <th>agekdbrn</th>\n",
       "      <th>chldidel</th>\n",
       "      <th>coninc</th>\n",
       "      <th>educom</th>\n",
       "    </tr>\n",
       "    <tr>\n",
       "      <th></th>\n",
       "      <th>median</th>\n",
       "      <th>median</th>\n",
       "      <th>median</th>\n",
       "      <th>median</th>\n",
       "      <th>median</th>\n",
       "      <th>median</th>\n",
       "    </tr>\n",
       "    <tr>\n",
       "      <th>cluster</th>\n",
       "      <th></th>\n",
       "      <th></th>\n",
       "      <th></th>\n",
       "      <th></th>\n",
       "      <th></th>\n",
       "      <th></th>\n",
       "    </tr>\n",
       "  </thead>\n",
       "  <tbody>\n",
       "    <tr>\n",
       "      <th>0</th>\n",
       "      <td>Not applicable</td>\n",
       "      <td>34</td>\n",
       "      <td>22</td>\n",
       "      <td>4.5</td>\n",
       "      <td>6633.5000</td>\n",
       "      <td>12.333333</td>\n",
       "    </tr>\n",
       "    <tr>\n",
       "      <th>1</th>\n",
       "      <td>51</td>\n",
       "      <td>35</td>\n",
       "      <td>25</td>\n",
       "      <td>As many as want</td>\n",
       "      <td>51705.0000</td>\n",
       "      <td>12.666667</td>\n",
       "    </tr>\n",
       "    <tr>\n",
       "      <th>2</th>\n",
       "      <td>60</td>\n",
       "      <td>36</td>\n",
       "      <td>25</td>\n",
       "      <td>4</td>\n",
       "      <td>49882.5000</td>\n",
       "      <td>12.333333</td>\n",
       "    </tr>\n",
       "    <tr>\n",
       "      <th>3</th>\n",
       "      <td>Not applicable</td>\n",
       "      <td>31</td>\n",
       "      <td>19</td>\n",
       "      <td>5</td>\n",
       "      <td>8313.7500</td>\n",
       "      <td>12.000000</td>\n",
       "    </tr>\n",
       "    <tr>\n",
       "      <th>4</th>\n",
       "      <td>Not applicable</td>\n",
       "      <td>33</td>\n",
       "      <td>22</td>\n",
       "      <td>4</td>\n",
       "      <td>9486.5625</td>\n",
       "      <td>12.333333</td>\n",
       "    </tr>\n",
       "    <tr>\n",
       "      <th>5</th>\n",
       "      <td>Not applicable</td>\n",
       "      <td>34</td>\n",
       "      <td>19</td>\n",
       "      <td>4</td>\n",
       "      <td>18745.0000</td>\n",
       "      <td>11.666667</td>\n",
       "    </tr>\n",
       "  </tbody>\n",
       "</table>\n",
       "</div>"
      ],
      "text/plain": [
       "                 sphrs1    age agekdbrn         chldidel      coninc  \\\n",
       "                 median median   median           median      median   \n",
       "cluster                                                                \n",
       "0        Not applicable     34       22              4.5   6633.5000   \n",
       "1                    51     35       25  As many as want  51705.0000   \n",
       "2                    60     36       25                4  49882.5000   \n",
       "3        Not applicable     31       19                5   8313.7500   \n",
       "4        Not applicable     33       22                4   9486.5625   \n",
       "5        Not applicable     34       19                4  18745.0000   \n",
       "\n",
       "            educom  \n",
       "            median  \n",
       "cluster             \n",
       "0        12.333333  \n",
       "1        12.666667  \n",
       "2        12.333333  \n",
       "3        12.000000  \n",
       "4        12.333333  \n",
       "5        11.666667  "
      ]
     },
     "execution_count": 20,
     "metadata": {},
     "output_type": "execute_result"
    }
   ],
   "source": [
    "df_num"
   ]
  },
  {
   "cell_type": "code",
   "execution_count": 21,
   "metadata": {
    "collapsed": false
   },
   "outputs": [],
   "source": [
    "cat_cols = list(set(df.columns) - set(sv.num_cols) - set(['cluster']))"
   ]
  },
  {
   "cell_type": "markdown",
   "metadata": {},
   "source": [
    "## Unemployed Clusters\n",
    "\n",
    "### Cluster 0"
   ]
  },
  {
   "cell_type": "code",
   "execution_count": 22,
   "metadata": {
    "collapsed": false
   },
   "outputs": [],
   "source": [
    "c0 = fc_df[fc_df.cluster == 0]"
   ]
  },
  {
   "cell_type": "code",
   "execution_count": 23,
   "metadata": {
    "collapsed": false
   },
   "outputs": [
    {
     "data": {
      "text/plain": [
       "[(-0.10317363862869754, 'coninc'),\n",
       " (-0.03392890421279629, 'age'),\n",
       " (-0.027697984375685748, 'class_'),\n",
       " (-0.023296867668049392, 'agekdbrn'),\n",
       " (-0.019737805836251204, 'polviews'),\n",
       " (-0.019515172650691602, 'educom'),\n",
       " (0.018331218255143, 'degree'),\n",
       " (-0.01765954711605959, 'finrela'),\n",
       " (-0.016752126734590513, 'partyid'),\n",
       " (-0.014696917162165184, 'dwelling')]"
      ]
     },
     "execution_count": 23,
     "metadata": {},
     "output_type": "execute_result"
    }
   ],
   "source": [
    "sort_feature_means(c0,10)"
   ]
  },
  {
   "cell_type": "code",
   "execution_count": 24,
   "metadata": {
    "collapsed": false,
    "scrolled": true
   },
   "outputs": [],
   "source": [
    "df_c0 = df[df.cluster ==0]"
   ]
  },
  {
   "cell_type": "code",
   "execution_count": 77,
   "metadata": {
    "collapsed": false
   },
   "outputs": [],
   "source": [
    "a = df_c0[cat_cols].apply(lambda x: rank_1st(x))"
   ]
  },
  {
   "cell_type": "code",
   "execution_count": 78,
   "metadata": {
    "collapsed": false
   },
   "outputs": [],
   "source": [
    "b= df_c0[cat_cols].apply(lambda x: rank_2nd(x))"
   ]
  },
  {
   "cell_type": "code",
   "execution_count": 95,
   "metadata": {
    "collapsed": false
   },
   "outputs": [],
   "source": [
    "d = pd.DataFrame(pd.concat([a,b],axis=1))"
   ]
  },
  {
   "cell_type": "code",
   "execution_count": 97,
   "metadata": {
    "collapsed": false
   },
   "outputs": [],
   "source": [
    "d.columns = ['first','second/']"
   ]
  },
  {
   "cell_type": "code",
   "execution_count": 98,
   "metadata": {
    "collapsed": false
   },
   "outputs": [
    {
     "data": {
      "text/html": [
       "<div>\n",
       "<table border=\"1\" class=\"dataframe\">\n",
       "  <thead>\n",
       "    <tr style=\"text-align: right;\">\n",
       "      <th></th>\n",
       "      <th>first</th>\n",
       "      <th>second/</th>\n",
       "    </tr>\n",
       "  </thead>\n",
       "  <tbody>\n",
       "    <tr>\n",
       "      <th>fechld</th>\n",
       "      <td>(Not applicable, 0.37)</td>\n",
       "      <td>(Agree, 0.3)</td>\n",
       "    </tr>\n",
       "    <tr>\n",
       "      <th>natrace</th>\n",
       "      <td>(Not applicable, 0.54)</td>\n",
       "      <td>(Too little, 0.19)</td>\n",
       "    </tr>\n",
       "    <tr>\n",
       "      <th>socfrend</th>\n",
       "      <td>(Not applicable, 0.39)</td>\n",
       "      <td>(Sev times a week, 0.14)</td>\n",
       "    </tr>\n",
       "    <tr>\n",
       "      <th>reliten</th>\n",
       "      <td>(Not very strong, 0.41)</td>\n",
       "      <td>(Strong, 0.32)</td>\n",
       "    </tr>\n",
       "    <tr>\n",
       "      <th>res16</th>\n",
       "      <td>(Town lt 50000, 0.32)</td>\n",
       "      <td>(50000 to 250000, 0.18)</td>\n",
       "    </tr>\n",
       "    <tr>\n",
       "      <th>divorce</th>\n",
       "      <td>(Not applicable, 0.62)</td>\n",
       "      <td>(No, 0.31)</td>\n",
       "    </tr>\n",
       "    <tr>\n",
       "      <th>polviews</th>\n",
       "      <td>(Moderate, 0.36)</td>\n",
       "      <td>(Slghtly conservative, 0.12)</td>\n",
       "    </tr>\n",
       "    <tr>\n",
       "      <th>fefam</th>\n",
       "      <td>(Not applicable, 0.37)</td>\n",
       "      <td>(Disagree, 0.29)</td>\n",
       "    </tr>\n",
       "    <tr>\n",
       "      <th>socbar</th>\n",
       "      <td>(Not applicable, 0.39)</td>\n",
       "      <td>(Never, 0.33)</td>\n",
       "    </tr>\n",
       "    <tr>\n",
       "      <th>partyid</th>\n",
       "      <td>(Independent, 0.29)</td>\n",
       "      <td>(Not str democrat, 0.21)</td>\n",
       "    </tr>\n",
       "    <tr>\n",
       "      <th>employed</th>\n",
       "      <td>(False, 0.93)</td>\n",
       "      <td>(True, 0.07)</td>\n",
       "    </tr>\n",
       "    <tr>\n",
       "      <th>finrela</th>\n",
       "      <td>(Below average, 0.33)</td>\n",
       "      <td>(Average, 0.24)</td>\n",
       "    </tr>\n",
       "    <tr>\n",
       "      <th>meovrwrk</th>\n",
       "      <td>(Not applicable, 0.5)</td>\n",
       "      <td>(Agree, 0.18)</td>\n",
       "    </tr>\n",
       "    <tr>\n",
       "      <th>helpoth</th>\n",
       "      <td>(Not applicable, 0.47)</td>\n",
       "      <td>(3rd important, 0.18)</td>\n",
       "    </tr>\n",
       "    <tr>\n",
       "      <th>degree</th>\n",
       "      <td>(High school, 0.82)</td>\n",
       "      <td>(Junior college, 0.09)</td>\n",
       "    </tr>\n",
       "    <tr>\n",
       "      <th>class_</th>\n",
       "      <td>(Working class, 0.4)</td>\n",
       "      <td>(Lower class, 0.26)</td>\n",
       "    </tr>\n",
       "    <tr>\n",
       "      <th>courts</th>\n",
       "      <td>(Not harsh enough, 0.55)</td>\n",
       "      <td>(Not applicable, 0.14)</td>\n",
       "    </tr>\n",
       "    <tr>\n",
       "      <th>workhard</th>\n",
       "      <td>(Not applicable, 0.47)</td>\n",
       "      <td>(2nd important, 0.18)</td>\n",
       "    </tr>\n",
       "    <tr>\n",
       "      <th>incom16</th>\n",
       "      <td>(Not applicable, 0.47)</td>\n",
       "      <td>(Average, 0.22)</td>\n",
       "    </tr>\n",
       "    <tr>\n",
       "      <th>dwelling</th>\n",
       "      <td>(Detached 1-fam house, 0.44)</td>\n",
       "      <td>(Apartment house, 0.21)</td>\n",
       "    </tr>\n",
       "    <tr>\n",
       "      <th>natsoc</th>\n",
       "      <td>(Too little, 0.52)</td>\n",
       "      <td>(About right, 0.31)</td>\n",
       "    </tr>\n",
       "    <tr>\n",
       "      <th>fund</th>\n",
       "      <td>(Fundamentalist, 0.37)</td>\n",
       "      <td>(Moderate, 0.34)</td>\n",
       "    </tr>\n",
       "    <tr>\n",
       "      <th>natroad</th>\n",
       "      <td>(About right, 0.41)</td>\n",
       "      <td>(Too little, 0.28)</td>\n",
       "    </tr>\n",
       "    <tr>\n",
       "      <th>parsol</th>\n",
       "      <td>(Not applicable, 0.46)</td>\n",
       "      <td>(Somewhat better, 0.15)</td>\n",
       "    </tr>\n",
       "    <tr>\n",
       "      <th>mawrkgrw</th>\n",
       "      <td>(Yes, 0.61)</td>\n",
       "      <td>(No, 0.24)</td>\n",
       "    </tr>\n",
       "  </tbody>\n",
       "</table>\n",
       "</div>"
      ],
      "text/plain": [
       "                                 first                       second/\n",
       "fechld          (Not applicable, 0.37)                  (Agree, 0.3)\n",
       "natrace         (Not applicable, 0.54)            (Too little, 0.19)\n",
       "socfrend        (Not applicable, 0.39)      (Sev times a week, 0.14)\n",
       "reliten        (Not very strong, 0.41)                (Strong, 0.32)\n",
       "res16            (Town lt 50000, 0.32)       (50000 to 250000, 0.18)\n",
       "divorce         (Not applicable, 0.62)                    (No, 0.31)\n",
       "polviews              (Moderate, 0.36)  (Slghtly conservative, 0.12)\n",
       "fefam           (Not applicable, 0.37)              (Disagree, 0.29)\n",
       "socbar          (Not applicable, 0.39)                 (Never, 0.33)\n",
       "partyid            (Independent, 0.29)      (Not str democrat, 0.21)\n",
       "employed                 (False, 0.93)                  (True, 0.07)\n",
       "finrela          (Below average, 0.33)               (Average, 0.24)\n",
       "meovrwrk         (Not applicable, 0.5)                 (Agree, 0.18)\n",
       "helpoth         (Not applicable, 0.47)         (3rd important, 0.18)\n",
       "degree             (High school, 0.82)        (Junior college, 0.09)\n",
       "class_            (Working class, 0.4)           (Lower class, 0.26)\n",
       "courts        (Not harsh enough, 0.55)        (Not applicable, 0.14)\n",
       "workhard        (Not applicable, 0.47)         (2nd important, 0.18)\n",
       "incom16         (Not applicable, 0.47)               (Average, 0.22)\n",
       "dwelling  (Detached 1-fam house, 0.44)       (Apartment house, 0.21)\n",
       "natsoc              (Too little, 0.52)           (About right, 0.31)\n",
       "fund            (Fundamentalist, 0.37)              (Moderate, 0.34)\n",
       "natroad            (About right, 0.41)            (Too little, 0.28)\n",
       "parsol          (Not applicable, 0.46)       (Somewhat better, 0.15)\n",
       "mawrkgrw                   (Yes, 0.61)                    (No, 0.24)"
      ]
     },
     "execution_count": 98,
     "metadata": {},
     "output_type": "execute_result"
    }
   ],
   "source": [
    "d"
   ]
  },
  {
   "cell_type": "code",
   "execution_count": null,
   "metadata": {
    "collapsed": true
   },
   "outputs": [],
   "source": []
  }
 ],
 "metadata": {
  "kernelspec": {
   "display_name": "Python 2",
   "language": "python",
   "name": "python2"
  },
  "language_info": {
   "codemirror_mode": {
    "name": "ipython",
    "version": 2
   },
   "file_extension": ".py",
   "mimetype": "text/x-python",
   "name": "python",
   "nbconvert_exporter": "python",
   "pygments_lexer": "ipython2",
   "version": "2.7.10"
  }
 },
 "nbformat": 4,
 "nbformat_minor": 0
}
