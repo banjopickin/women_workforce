{
 "cells": [
  {
   "cell_type": "code",
   "execution_count": 1,
   "metadata": {
    "collapsed": true
   },
   "outputs": [],
   "source": [
    "from __future__ import division\n",
    "import pandas as pd\n",
    "import numpy as np \n",
    "import matplotlib.pylab as plt\n",
    "from code.organize import *\n",
    "from code.roughEDA import *\n",
    "from code.survey_processor_full import *\n",
    "from code.model_vis import *\n",
    "\n",
    "from sklearn.cross_validation import train_test_split\n",
    "from sklearn.ensemble import RandomForestClassifier, GradientBoostingClassifier\n",
    "from sklearn.metrics import roc_auc_score, confusion_matrix,roc_curve\n",
    "from sklearn.grid_search import GridSearchCV\n",
    "from sklearn.cross_validation import cross_val_score\n",
    "from sklearn.metrics import silhouette_samples, silhouette_score\n",
    "from sklearn.decomposition import PCA\n",
    "\n",
    "from treeinterpreter import treeinterpreter as ti\n",
    "import matplotlib.cm as cm\n",
    "import cPickle as pickle\n",
    "%matplotlib inline\n",
    "%load_ext autoreload\n",
    "%autoreload 2"
   ]
  },
  {
   "cell_type": "markdown",
   "metadata": {},
   "source": [
    "## Clustering Feature Contribution Matrix\n",
    "\n",
    "* pca\n",
    "* kmeans on principle components"
   ]
  },
  {
   "cell_type": "markdown",
   "metadata": {},
   "source": [
    "To further classify employed and unemployed women, more studies are needed on feature contribution matrix. To see how random forest classified samples, we need to find out common contribution paths among samples. Kmeans clustering is a good method to proceed. However, the matrix has 40 columns, so before clustering, PCA is necessary to reduce the dimension.  "
   ]
  },
  {
   "cell_type": "code",
   "execution_count": 2,
   "metadata": {
    "collapsed": true
   },
   "outputs": [],
   "source": [
    "fc_df = pd.read_pickle('data/fc_df2.pkl')"
   ]
  },
  {
   "cell_type": "markdown",
   "metadata": {},
   "source": [
    "### PCA"
   ]
  },
  {
   "cell_type": "code",
   "execution_count": 6,
   "metadata": {
    "collapsed": false
   },
   "outputs": [
    {
     "data": {
      "text/plain": [
       "PCA(copy=True, n_components=10, whiten=False)"
      ]
     },
     "execution_count": 6,
     "metadata": {},
     "output_type": "execute_result"
    }
   ],
   "source": [
    "fc_f_pca = fc_df.drop(['employed','correct'],axis =1)       #only pass feature columns to pca\n",
    "\n",
    "pca = PCA(n_components = 10)\n",
    "pca.fit(fc_f_pca.values)"
   ]
  },
  {
   "cell_type": "code",
   "execution_count": 7,
   "metadata": {
    "collapsed": false
   },
   "outputs": [
    {
     "data": {
      "text/plain": [
       "(array([ 0.27067104,  0.40572749,  0.50527836,  0.56708616,  0.61551024,\n",
       "         0.65216206,  0.68350593,  0.70979973,  0.73464959,  0.75635671]),\n",
       " array([ 0.27067104,  0.13505645,  0.09955087,  0.0618078 ,  0.04842407,\n",
       "         0.03665183,  0.03134387,  0.0262938 ,  0.02484986,  0.02170712]))"
      ]
     },
     "execution_count": 7,
     "metadata": {},
     "output_type": "execute_result"
    }
   ],
   "source": [
    "np.cumsum(pca.explained_variance_ratio_),pca.explained_variance_ratio_"
   ]
  },
  {
   "cell_type": "code",
   "execution_count": 8,
   "metadata": {
    "collapsed": false
   },
   "outputs": [
    {
     "data": {
      "text/plain": [
       "[<matplotlib.lines.Line2D at 0x10a8f2290>]"
      ]
     },
     "execution_count": 8,
     "metadata": {},
     "output_type": "execute_result"
    },
    {
     "data": {
      "image/png": "[encoded data removed]",
      "text/plain": [
       "<matplotlib.figure.Figure at 0x10b145390>"
      ]
     },
     "metadata": {},
     "output_type": "display_data"
    }
   ],
   "source": [
    "plt.plot(range(1,11),pca.explained_variance_ratio_)"
   ]
  },
  {
   "cell_type": "code",
   "execution_count": null,
   "metadata": {
    "collapsed": true
   },
   "outputs": [],
   "source": [
    "** Three principle components will be fine **\n",
    "\n",
    "pca = PCA(n_components=3)\n",
    "fc_pca = pca.fit_transform(fc_f_pca.values)"
   ]
  },
  {
   "cell_type": "code",
   "execution_count": null,
   "metadata": {
    "collapsed": true
   },
   "outputs": [],
   "source": [
    "### Kmeans\n",
    "\n",
    "To determine which k for kmeans. I wrote a function to check kmeans cluster performance. \n",
    "\n",
    "1. Take a range of Ks and make a for loop\n",
    "\n",
    "2. In each loop：\n",
    "  * Generate k clusters using kmeans. concatinate cluster id to 'employed' and 'correct' columns, as a new data frame.\n",
    "  * Group data frame by cluster id, calcuate employed rate and correct rate by taking means\n",
    "  * If the employed rate is higher than 0.7 or lower than 0.3, then we can say this cluster successfull group employed or unemployed population, so this cluster yields pure population.\n",
    "  * If the correct rate is higher than 0.7, we can say this cluter has high accuracy.\n",
    "  * The clusters with pure population and meantime with high accuracy are ones we want. \n",
    "  * Therefore, the percentage of good clusters is calculated.\n",
    "  * Print employed and correct rate of each good cluster, as well as the good cluster ratio.\n",
    "  \n",
    "3. plot total number of k against good cluster ratio\n",
    "\n",
    "km_emp_mean(fc_pca,10,fc_df.employed,fc_df.correct)\n",
    "\n",
    "plot_silhouette(fc_pca,10)\n",
    "\n",
    "cluster_plot(fc_pca,6)\n",
    "\n",
    "According to the results, all the Kmeans cluster showed high good cluster ratios. When the number of cluster for kmeans is six, it has 100% good cluster ratio, 3 employed, 3 unemployed. Moreover, it exhibited very high silhouette score. Thus, n_cluster will be set to 6.\n",
    "\n",
    "km = KMeans(n_clusters=6,random_state=0)\n",
    "km.fit(fc_pca)\n",
    "fc_df['cluster'] = km.labels_\n",
    "\n",
    "## Next step:\n",
    "\n",
    "1. Pickle dfc[slct] and fc_df\n",
    "\n",
    "2. Analyse average feature contribution in each cluster"
   ]
  }
 ],
 "metadata": {
  "kernelspec": {
   "display_name": "Python 2",
   "language": "python",
   "name": "python2"
  },
  "language_info": {
   "codemirror_mode": {
    "name": "ipython",
    "version": 2
   },
   "file_extension": ".py",
   "mimetype": "text/x-python",
   "name": "python",
   "nbconvert_exporter": "python",
   "pygments_lexer": "ipython2",
   "version": "2.7.10"
  }
 },
 "nbformat": 4,
 "nbformat_minor": 0
}
