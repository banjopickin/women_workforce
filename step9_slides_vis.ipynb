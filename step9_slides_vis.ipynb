{
 "cells": [
  {
   "cell_type": "code",
   "execution_count": 115,
   "metadata": {
    "collapsed": false
   },
   "outputs": [
    {
     "name": "stdout",
     "output_type": "stream",
     "text": [
      "The autoreload extension is already loaded. To reload it, use:\n",
      "  %reload_ext autoreload\n"
     ]
    }
   ],
   "source": [
    "from __future__ import division\n",
    "import pandas as pd\n",
    "import numpy as np \n",
    "import matplotlib.pylab as plt\n",
    "import seaborn as sns\n",
    "from sklearn.preprocessing import scale\n",
    "\n",
    "from code.organize import *\n",
    "from code.roughEDA import *\n",
    "from code.survey_processor_full import *\n",
    "from code.model_vis import *\n",
    "from code.fc import *\n",
    "from code.fc_cluster import *\n",
    "from code.clusterEDA import *\n",
    "\n",
    "\n",
    "import plotly.plotly as py\n",
    "from plotly.tools import FigureFactory as FF\n",
    "import plotly.graph_objs as go\n",
    "\n",
    "%matplotlib inline\n",
    "%load_ext autoreload\n",
    "%autoreload 2"
   ]
  },
  {
   "cell_type": "markdown",
   "metadata": {},
   "source": [
    "In this file, I will wrapp up the clusions from step7_cluster_study and more concise graphs. "
   ]
  },
  {
   "cell_type": "code",
   "execution_count": 3,
   "metadata": {
    "collapsed": true
   },
   "outputs": [],
   "source": [
    "df = pd.read_pickle('data/df_id.pkl')       # Load survey data with cluster_id\n",
    "fc = FeatureContribution('data/fc_df2.pkl')  # Load feature contribution data\n",
    "fc_df = fc.cluster_processor(3,6)            # generate cluster"
   ]
  },
  {
   "cell_type": "markdown",
   "metadata": {},
   "source": [
    "# Cluster 1\n",
    "\n",
    "Main contributors\n",
    "* agekdbrn: historgram and median. Median is easier to interpret and I will use to for presentation slide."
   ]
  },
  {
   "cell_type": "code",
   "execution_count": 14,
   "metadata": {
    "collapsed": true
   },
   "outputs": [],
   "source": [
    "c1 =df[df.cluster==1]"
   ]
  },
  {
   "cell_type": "code",
   "execution_count": 12,
   "metadata": {
    "collapsed": false
   },
   "outputs": [
    {
     "data": {
      "image/png": "[encoded data removed]",
      "text/plain": [
       "<matplotlib.figure.Figure at 0x10a129250>"
      ]
     },
     "metadata": {},
     "output_type": "display_data"
    }
   ],
   "source": [
    "plt.figure(figsize=(7,5))\n",
    "one_res_hist_mat(df,1,'agekdbrn')"
   ]
  },
  {
   "cell_type": "code",
   "execution_count": 15,
   "metadata": {
    "collapsed": false
   },
   "outputs": [
    {
     "data": {
      "text/plain": [
       "19.0"
      ]
     },
     "execution_count": 15,
     "metadata": {},
     "output_type": "execute_result"
    }
   ],
   "source": [
    "c1.agekdbrn.median()"
   ]
  },
  {
   "cell_type": "markdown",
   "metadata": {},
   "source": [
    "* degree: Respondents' degree in this cluster is very speciall. All less than high school. So I can just write a sentence or use an icon to summerize it. "
   ]
  },
  {
   "cell_type": "markdown",
   "metadata": {},
   "source": [
    "* dwelling, class_ and incom16"
   ]
  },
  {
   "cell_type": "code",
   "execution_count": 117,
   "metadata": {
    "collapsed": false
   },
   "outputs": [],
   "source": [
    "all_try = subset_all(df,1,['dwelling','class_','incom16'],[['Row house','Trailer'],['Lower class'],\n",
    "                                                 ['Far below average','Below average']])"
   ]
  },
  {
   "cell_type": "code",
   "execution_count": 120,
   "metadata": {
    "collapsed": false
   },
   "outputs": [
    {
     "data": {
      "text/html": [
       "<iframe id=\"igraph\" scrolling=\"no\" style=\"border:none;\"seamless=\"seamless\" src=\"https://plot.ly/~yihua/102.embed\" height=\"525px\" width=\"100%\"></iframe>"
      ],
      "text/plain": [
       "<plotly.tools.PlotlyDisplay object>"
      ]
     },
     "execution_count": 120,
     "metadata": {},
     "output_type": "execute_result"
    }
   ],
   "source": [
    "trace0 = go.Bar(\n",
    "    x = all_try.columns,\n",
    "    y = all_try.iloc[0,:].values,\n",
    "    name = 'rest',\n",
    "    marker = dict(\n",
    "        color = 'rgb(10, 97, 142)'#, 'rgb(10, 97, 142)', 'rgb(6, 80, 177)','rgb(7, 87, 197)','rgb(7, 87, 197)']\n",
    "    )\n",
    ")\n",
    "trace1 = go.Bar(\n",
    "    x = all_try.columns,\n",
    "    y = all_try.iloc[1,:].values,\n",
    "    name = 'cluster1',\n",
    "    marker = dict(\n",
    "        color = 'rgb(245, 111, 136)'#,'rgb(245, 111, 136)','rgb(248, 32, 113)','rgb(248, 80, 58)', 'rgb(248, 80, 58)']\n",
    "    )\n",
    ")\n",
    "data = [trace0,trace1]\n",
    "\n",
    "    \n",
    "fig = go.Figure(data=data)\n",
    "py.iplot(fig, filename = \"cluster1\")"
   ]
  },
  {
   "cell_type": "code",
   "execution_count": null,
   "metadata": {
    "collapsed": true
   },
   "outputs": [],
   "source": []
  }
 ],
 "metadata": {
  "kernelspec": {
   "display_name": "Python 2",
   "language": "python",
   "name": "python2"
  },
  "language_info": {
   "codemirror_mode": {
    "name": "ipython",
    "version": 2
   },
   "file_extension": ".py",
   "mimetype": "text/x-python",
   "name": "python",
   "nbconvert_exporter": "python",
   "pygments_lexer": "ipython2",
   "version": "2.7.10"
  }
 },
 "nbformat": 4,
 "nbformat_minor": 0
}
